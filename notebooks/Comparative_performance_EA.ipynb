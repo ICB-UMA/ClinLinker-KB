{
 "cells": [
  {
   "cell_type": "code",
   "execution_count": null,
   "metadata": {},
   "outputs": [
    {
     "name": "stderr",
     "output_type": "stream",
     "text": [
      "/home/fernandogd/Documents/Investigacion/Transformers/Repositories/ClinLinker-KB/venv/lib/python3.10/site-packages/tqdm/auto.py:21: TqdmWarning: IProgress not found. Please update jupyter and ipywidgets. See https://ipywidgets.readthedocs.io/en/stable/user_install.html\n",
      "  from .autonotebook import tqdm as notebook_tqdm\n"
     ]
    }
   ],
   "source": [
    "import sys\n",
    "import os\n",
    "import pandas as pd\n",
    "import seaborn as sns\n",
    "import matplotlib.pyplot as plt\n",
    "import numpy as np\n",
    "from itertools import combinations\n",
    "import textwrap\n",
    "\n",
    "sys.path.append(os.path.join(os.getcwd(), '../src'))\n",
    "from utils import load_corpus_data\n",
    "from metrics import calculate_topk_accuracy\n",
    "import faissEncoder as faiss_enc\n"
   ]
  },
  {
   "cell_type": "code",
   "execution_count": null,
   "metadata": {},
   "outputs": [],
   "source": [
    "def compare_predictions(results, models):\n",
    "    def compare_positions(row, df2):\n",
    "        code = row['code']\n",
    "        codes1 = row['codes']\n",
    "        codes2 = df2.at[row.name, 'codes']\n",
    "\n",
    "        position_df1 = codes1.index(code) if code in codes1 else float('inf')\n",
    "        position_df2 = codes2.index(code) if code in codes2 else float('inf')\n",
    "\n",
    "        return position_df1, position_df2\n",
    "    N = len(models)\n",
    "    comparison_matrix = np.zeros((N, N), dtype=int)\n",
    "\n",
    "    for (i, j) in combinations(range(N), 2):\n",
    "        df1, df2 = results[i], results[j]\n",
    "\n",
    "        positions = df1.apply(compare_positions, df2=df2, axis=1)\n",
    "        model1_earlier_count = np.sum(positions.apply(lambda x: x[0] < x[1]))\n",
    "        model2_earlier_count = np.sum(positions.apply(lambda x: x[1] < x[0]))\n",
    "\n",
    "        comparison_matrix[i, j] = model1_earlier_count\n",
    "        comparison_matrix[j, i] = model2_earlier_count\n",
    "\n",
    "    return pd.DataFrame(comparison_matrix, index=models, columns=models)\n",
    "\n",
    "def plot_heatmap(\n",
    "    comparisons_df: 'pd.DataFrame',\n",
    "    corpus: str\n",
    ") -> None:\n",
    "    \"\"\"\n",
    "    This function generates and saves a heatmap based on the given DataFrame.\n",
    "    \n",
    "    Parameters:\n",
    "    comparisons_df (pd.DataFrame): DataFrame with the data for the heatmap.\n",
    "    corpus (str): Name of the corpus for naming the saved file.\n",
    "    \"\"\"\n",
    "    plt.figure(figsize=(10, 8))\n",
    "\n",
    "    ax = sns.heatmap(\n",
    "        comparisons_df,\n",
    "        annot=True,\n",
    "        fmt='d',\n",
    "        cmap='coolwarm',\n",
    "        cbar=False,\n",
    "        annot_kws={'size': 16}\n",
    "    )\n",
    "\n",
    "    ax.set_title(\n",
    "        'Cleaned gold standard comparison',\n",
    "        fontsize=20,\n",
    "        fontweight='bold'\n",
    "    )\n",
    "\n",
    "    ax.set_xlabel('')\n",
    "    ax.set_ylabel('')\n",
    "\n",
    "    # Envolver etiquetas largas en X\n",
    "    wrapped_x = ['\\n'.join(textwrap.wrap(label, 10)) for label in comparisons_df.columns]\n",
    "    ax.set_xticklabels(wrapped_x, rotation=0, ha='center', fontsize=14)\n",
    "\n",
    "    # Envolver etiquetas largas en Y\n",
    "    wrapped_y = ['\\n'.join(textwrap.wrap(label, 10)) for label in comparisons_df.index]\n",
    "    ax.set_yticklabels(wrapped_y, rotation=0, fontsize=14)\n",
    "\n",
    "    plt.tight_layout()\n",
    "    plt.savefig(\n",
    "        f'../figures/{corpus}_cleaned_gold_standard_comparison.pdf',\n",
    "        bbox_inches='tight'\n",
    "    )\n",
    "    plt.show()"
   ]
  },
  {
   "cell_type": "code",
   "execution_count": 3,
   "metadata": {},
   "outputs": [],
   "source": [
    "CORPUS = \"DisTEMIST\"\n",
    "DATA_PATH = \"/scratch/data/\"\n",
    "models = []\n",
    "results = []\n",
    "F_TYPE = \"FlatIP\"\n",
    "MAX_LENGTH = 256\n",
    "TOP_N = 2\n",
    "TOP_K_VALUES = [1,5,25,50,100,200]"
   ]
  },
  {
   "cell_type": "code",
   "execution_count": 4,
   "metadata": {},
   "outputs": [
    {
     "name": "stdout",
     "output_type": "stream",
     "text": [
      "Number of NO_CODE: 0\n",
      "Number of composite(+): 91\n"
     ]
    }
   ],
   "source": [
    "test_df, train_df, gaz_df = load_corpus_data(DATA_PATH, CORPUS)\n",
    "link_gaz_df = pd.concat([train_df[['code', 'term']], gaz_df[['code', 'term']]], ignore_index=True) \n",
    "no_code_count = test_df['code'].str.contains('NO_CODE').sum()\n",
    "composite_count = test_df['code'].str.contains(r'\\+').sum()\n",
    "print(f\"Number of NO_CODE: {no_code_count}\")\n",
    "print(f\"Number of composite(+): {composite_count}\")\n",
    "test_df = test_df[~test_df['code'].str.contains('NO_CODE|\\+', regex=True)]"
   ]
  },
  {
   "cell_type": "code",
   "execution_count": 5,
   "metadata": {},
   "outputs": [
    {
     "data": {
      "application/vnd.microsoft.datawrangler.viewer.v0+json": {
       "columns": [
        {
         "name": "index",
         "rawType": "int64",
         "type": "integer"
        },
        {
         "name": "code",
         "rawType": "object",
         "type": "string"
        },
        {
         "name": "language",
         "rawType": "object",
         "type": "string"
        },
        {
         "name": "term",
         "rawType": "object",
         "type": "string"
        },
        {
         "name": "semantic_tag",
         "rawType": "object",
         "type": "string"
        },
        {
         "name": "mainterm",
         "rawType": "int64",
         "type": "integer"
        }
       ],
       "conversionMethod": "pd.DataFrame",
       "ref": "c3df97d8-323c-4d41-859f-823a7f91b817",
       "rows": [
        [
         "0",
         "9989000",
         "es",
         "anomalía congénita de dedo del pie",
         "disorder",
         "1"
        ],
        [
         "1",
         "9989000",
         "es",
         "malformación congénita de dedo del pie",
         "disorder",
         "0"
        ],
        [
         "2",
         "9984005",
         "es",
         "exfoliación de dientes por enfermedad sistémica",
         "disorder",
         "1"
        ],
        [
         "3",
         "9982009",
         "es",
         "intoxicación causada por cocaína",
         "disorder",
         "1"
        ],
        [
         "4",
         "998008",
         "es",
         "enfermedad de Chagas con compromiso del corazón",
         "disorder",
         "1"
        ]
       ],
       "shape": {
        "columns": 5,
        "rows": 5
       }
      },
      "text/html": [
       "<div>\n",
       "<style scoped>\n",
       "    .dataframe tbody tr th:only-of-type {\n",
       "        vertical-align: middle;\n",
       "    }\n",
       "\n",
       "    .dataframe tbody tr th {\n",
       "        vertical-align: top;\n",
       "    }\n",
       "\n",
       "    .dataframe thead th {\n",
       "        text-align: right;\n",
       "    }\n",
       "</style>\n",
       "<table border=\"1\" class=\"dataframe\">\n",
       "  <thead>\n",
       "    <tr style=\"text-align: right;\">\n",
       "      <th></th>\n",
       "      <th>code</th>\n",
       "      <th>language</th>\n",
       "      <th>term</th>\n",
       "      <th>semantic_tag</th>\n",
       "      <th>mainterm</th>\n",
       "    </tr>\n",
       "  </thead>\n",
       "  <tbody>\n",
       "    <tr>\n",
       "      <th>0</th>\n",
       "      <td>9989000</td>\n",
       "      <td>es</td>\n",
       "      <td>anomalía congénita de dedo del pie</td>\n",
       "      <td>disorder</td>\n",
       "      <td>1</td>\n",
       "    </tr>\n",
       "    <tr>\n",
       "      <th>1</th>\n",
       "      <td>9989000</td>\n",
       "      <td>es</td>\n",
       "      <td>malformación congénita de dedo del pie</td>\n",
       "      <td>disorder</td>\n",
       "      <td>0</td>\n",
       "    </tr>\n",
       "    <tr>\n",
       "      <th>2</th>\n",
       "      <td>9984005</td>\n",
       "      <td>es</td>\n",
       "      <td>exfoliación de dientes por enfermedad sistémica</td>\n",
       "      <td>disorder</td>\n",
       "      <td>1</td>\n",
       "    </tr>\n",
       "    <tr>\n",
       "      <th>3</th>\n",
       "      <td>9982009</td>\n",
       "      <td>es</td>\n",
       "      <td>intoxicación causada por cocaína</td>\n",
       "      <td>disorder</td>\n",
       "      <td>1</td>\n",
       "    </tr>\n",
       "    <tr>\n",
       "      <th>4</th>\n",
       "      <td>998008</td>\n",
       "      <td>es</td>\n",
       "      <td>enfermedad de Chagas con compromiso del corazón</td>\n",
       "      <td>disorder</td>\n",
       "      <td>1</td>\n",
       "    </tr>\n",
       "  </tbody>\n",
       "</table>\n",
       "</div>"
      ],
      "text/plain": [
       "      code language                                             term  \\\n",
       "0  9989000       es               anomalía congénita de dedo del pie   \n",
       "1  9989000       es           malformación congénita de dedo del pie   \n",
       "2  9984005       es  exfoliación de dientes por enfermedad sistémica   \n",
       "3  9982009       es                 intoxicación causada por cocaína   \n",
       "4   998008       es  enfermedad de Chagas con compromiso del corazón   \n",
       "\n",
       "  semantic_tag  mainterm  \n",
       "0     disorder         1  \n",
       "1     disorder         0  \n",
       "2     disorder         1  \n",
       "3     disorder         1  \n",
       "4     disorder         1  "
      ]
     },
     "execution_count": 5,
     "metadata": {},
     "output_type": "execute_result"
    }
   ],
   "source": [
    "gaz_df.head()"
   ]
  },
  {
   "cell_type": "code",
   "execution_count": 6,
   "metadata": {},
   "outputs": [
    {
     "name": "stdout",
     "output_type": "stream",
     "text": [
      "2025-04-15 10:11:14,742 - INFO - Vocabulary initialized successfully. (faissEncoder.py:76)\n",
      "2025-04-15 10:12:19,053 - INFO - FAISS index fitted successfully. (faissEncoder.py:154)\n"
     ]
    }
   ],
   "source": [
    "faiss_encoder = faiss_enc.FaissEncoder(\"ICB-UMA/ClinLinker-KB-GP\", F_TYPE, MAX_LENGTH, link_gaz_df)\n",
    "faiss_encoder.fit_faiss()\n",
    "candidates, codes, _ = faiss_encoder.get_candidates(test_df[\"term\"].tolist(), k=200)\n",
    "clinlinker_granparent_preds = test_df.copy()\n",
    "clinlinker_granparent_preds[\"candidates\"] = candidates\n",
    "clinlinker_granparent_preds[\"codes\"] = codes\n",
    "models.append(\"ClinLinker-KB-GP\")\n",
    "results.append(clinlinker_granparent_preds)\n",
    "del faiss_encoder"
   ]
  },
  {
   "cell_type": "code",
   "execution_count": 7,
   "metadata": {},
   "outputs": [
    {
     "name": "stdout",
     "output_type": "stream",
     "text": [
      "2025-04-15 10:12:32,444 - INFO - Vocabulary initialized successfully. (faissEncoder.py:76)\n",
      "2025-04-15 10:13:38,349 - INFO - FAISS index fitted successfully. (faissEncoder.py:154)\n"
     ]
    }
   ],
   "source": [
    "faiss_encoder = faiss_enc.FaissEncoder(\"ICB-UMA/ClinLinker-KB-P\", F_TYPE, MAX_LENGTH, link_gaz_df)\n",
    "faiss_encoder.fit_faiss()\n",
    "candidates, codes, _ = faiss_encoder.get_candidates(test_df[\"term\"].tolist(), k=200)\n",
    "clinlinker_parent_preds = test_df.copy()\n",
    "clinlinker_parent_preds[\"candidates\"] = candidates\n",
    "clinlinker_parent_preds[\"codes\"] = codes\n",
    "models.append(\"ClinLinker-KB-P\")\n",
    "results.append(clinlinker_parent_preds)\n",
    "del faiss_encoder"
   ]
  },
  {
   "cell_type": "code",
   "execution_count": 8,
   "metadata": {},
   "outputs": [
    {
     "name": "stdout",
     "output_type": "stream",
     "text": [
      "2025-04-15 10:13:51,168 - INFO - Vocabulary initialized successfully. (faissEncoder.py:76)\n",
      "2025-04-15 10:14:59,473 - INFO - FAISS index fitted successfully. (faissEncoder.py:154)\n"
     ]
    }
   ],
   "source": [
    "faiss_encoder = faiss_enc.FaissEncoder(\"ICB-UMA/ClinLinker\", F_TYPE, MAX_LENGTH, link_gaz_df)\n",
    "faiss_encoder.fit_faiss()\n",
    "candidates, codes, _ = faiss_encoder.get_candidates(test_df[\"term\"].tolist(), k=200)\n",
    "clinlinker_preds = test_df.copy()\n",
    "clinlinker_preds[\"candidates\"] = candidates\n",
    "clinlinker_preds[\"codes\"] = codes\n",
    "models.append(\"ClinLinker\")\n",
    "results.append(clinlinker_preds)\n",
    "del faiss_encoder"
   ]
  },
  {
   "cell_type": "code",
   "execution_count": 9,
   "metadata": {},
   "outputs": [
    {
     "name": "stdout",
     "output_type": "stream",
     "text": [
      "2025-04-15 10:15:26,933 - INFO - Vocabulary initialized successfully. (faissEncoder.py:76)\n",
      "2025-04-15 10:20:36,027 - INFO - FAISS index fitted successfully. (faissEncoder.py:154)\n"
     ]
    }
   ],
   "source": [
    "faiss_encoder = faiss_enc.FaissEncoder(\"cambridgeltl/SapBERT-UMLS-2020AB-all-lang-from-XLMR-large\", F_TYPE, MAX_LENGTH, link_gaz_df)\n",
    "faiss_encoder.fit_faiss()\n",
    "candidates, codes, _ = faiss_encoder.get_candidates(test_df[\"term\"].tolist(), k=200)\n",
    "baseline_preds = test_df.copy()\n",
    "baseline_preds[\"candidates\"] = candidates\n",
    "baseline_preds[\"codes\"] = codes\n",
    "models.append(\"SapBERT-XLM-R-large\")\n",
    "results.append(baseline_preds)\n",
    "del faiss_encoder"
   ]
  },
  {
   "cell_type": "code",
   "execution_count": 10,
   "metadata": {},
   "outputs": [
    {
     "data": {
      "application/vnd.microsoft.datawrangler.viewer.v0+json": {
       "columns": [
        {
         "name": "index",
         "rawType": "object",
         "type": "string"
        },
        {
         "name": "ClinLinker-KB-GP",
         "rawType": "int64",
         "type": "integer"
        },
        {
         "name": "ClinLinker-KB-P",
         "rawType": "int64",
         "type": "integer"
        },
        {
         "name": "ClinLinker",
         "rawType": "int64",
         "type": "integer"
        },
        {
         "name": "SapBERT-XLM-R-large",
         "rawType": "int64",
         "type": "integer"
        }
       ],
       "conversionMethod": "pd.DataFrame",
       "ref": "59cb0211-5aa5-45c6-b4d1-338b90ece8f5",
       "rows": [
        [
         "ClinLinker-KB-GP",
         "0",
         "361",
         "429",
         "481"
        ],
        [
         "ClinLinker-KB-P",
         "320",
         "0",
         "393",
         "452"
        ],
        [
         "ClinLinker",
         "327",
         "336",
         "0",
         "412"
        ],
        [
         "SapBERT-XLM-R-large",
         "373",
         "379",
         "358",
         "0"
        ]
       ],
       "shape": {
        "columns": 4,
        "rows": 4
       }
      },
      "text/html": [
       "<div>\n",
       "<style scoped>\n",
       "    .dataframe tbody tr th:only-of-type {\n",
       "        vertical-align: middle;\n",
       "    }\n",
       "\n",
       "    .dataframe tbody tr th {\n",
       "        vertical-align: top;\n",
       "    }\n",
       "\n",
       "    .dataframe thead th {\n",
       "        text-align: right;\n",
       "    }\n",
       "</style>\n",
       "<table border=\"1\" class=\"dataframe\">\n",
       "  <thead>\n",
       "    <tr style=\"text-align: right;\">\n",
       "      <th></th>\n",
       "      <th>ClinLinker-KB-GP</th>\n",
       "      <th>ClinLinker-KB-P</th>\n",
       "      <th>ClinLinker</th>\n",
       "      <th>SapBERT-XLM-R-large</th>\n",
       "    </tr>\n",
       "  </thead>\n",
       "  <tbody>\n",
       "    <tr>\n",
       "      <th>ClinLinker-KB-GP</th>\n",
       "      <td>0</td>\n",
       "      <td>361</td>\n",
       "      <td>429</td>\n",
       "      <td>481</td>\n",
       "    </tr>\n",
       "    <tr>\n",
       "      <th>ClinLinker-KB-P</th>\n",
       "      <td>320</td>\n",
       "      <td>0</td>\n",
       "      <td>393</td>\n",
       "      <td>452</td>\n",
       "    </tr>\n",
       "    <tr>\n",
       "      <th>ClinLinker</th>\n",
       "      <td>327</td>\n",
       "      <td>336</td>\n",
       "      <td>0</td>\n",
       "      <td>412</td>\n",
       "    </tr>\n",
       "    <tr>\n",
       "      <th>SapBERT-XLM-R-large</th>\n",
       "      <td>373</td>\n",
       "      <td>379</td>\n",
       "      <td>358</td>\n",
       "      <td>0</td>\n",
       "    </tr>\n",
       "  </tbody>\n",
       "</table>\n",
       "</div>"
      ],
      "text/plain": [
       "                     ClinLinker-KB-GP  ClinLinker-KB-P  ClinLinker  \\\n",
       "ClinLinker-KB-GP                    0              361         429   \n",
       "ClinLinker-KB-P                   320                0         393   \n",
       "ClinLinker                        327              336           0   \n",
       "SapBERT-XLM-R-large               373              379         358   \n",
       "\n",
       "                     SapBERT-XLM-R-large  \n",
       "ClinLinker-KB-GP                     481  \n",
       "ClinLinker-KB-P                      452  \n",
       "ClinLinker                           412  \n",
       "SapBERT-XLM-R-large                    0  "
      ]
     },
     "execution_count": 10,
     "metadata": {},
     "output_type": "execute_result"
    }
   ],
   "source": [
    "comparisons_df = compare_predictions(results, models)\n",
    "comparisons_df.head()"
   ]
  },
  {
   "cell_type": "code",
   "execution_count": 19,
   "metadata": {},
   "outputs": [
    {
     "data": {
      "image/png": "[encoded data removed]",
      "text/plain": [
       "<Figure size 1000x800 with 1 Axes>"
      ]
     },
     "metadata": {},
     "output_type": "display_data"
    }
   ],
   "source": [
    "plot_heatmap(comparisons_df, CORPUS)\n"
   ]
  }
 ],
 "metadata": {
  "kernelspec": {
   "display_name": "venv",
   "language": "python",
   "name": "python3"
  },
  "language_info": {
   "codemirror_mode": {
    "name": "ipython",
    "version": 3
   },
   "file_extension": ".py",
   "mimetype": "text/x-python",
   "name": "python",
   "nbconvert_exporter": "python",
   "pygments_lexer": "ipython3",
   "version": "3.10.16"
  }
 },
 "nbformat": 4,
 "nbformat_minor": 2
}
