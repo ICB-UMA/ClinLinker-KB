{
 "cells": [
  {
   "cell_type": "code",
   "execution_count": 1,
   "metadata": {},
   "outputs": [],
   "source": [
    "import sys\n",
    "import os\n",
    "import pandas as pd\n",
    "import seaborn as sns\n",
    "import matplotlib.pyplot as plt\n",
    "import numpy as np\n",
    "from itertools import combinations\n",
    "\n",
    "sys.path.append(os.path.join(os.getcwd(), '../src'))\n",
    "from metrics import calculate_topk_accuracy\n",
    "import faissEncoder as faiss_enc\n",
    "import utils\n",
    "from logger import setup_custom_logger  "
   ]
  },
  {
   "cell_type": "code",
   "execution_count": 2,
   "metadata": {},
   "outputs": [],
   "source": [
    "def compare_predictions(results, models):\n",
    "    def compare_positions(row, df2):\n",
    "        code = row['code']\n",
    "        codes1 = row['codes']\n",
    "        codes2 = df2.at[row.name, 'codes']\n",
    "\n",
    "        position_df1 = codes1.index(code) if code in codes1 else float('inf')\n",
    "        position_df2 = codes2.index(code) if code in codes2 else float('inf')\n",
    "\n",
    "        return position_df1, position_df2\n",
    "    N = len(models)\n",
    "    comparison_matrix = np.zeros((N, N), dtype=int)\n",
    "\n",
    "    for (i, j) in combinations(range(N), 2):\n",
    "        df1, df2 = results[i], results[j]\n",
    "\n",
    "        positions = df1.apply(compare_positions, df2=df2, axis=1)\n",
    "        model1_earlier_count = np.sum(positions.apply(lambda x: x[0] < x[1]))\n",
    "        model2_earlier_count = np.sum(positions.apply(lambda x: x[1] < x[0]))\n",
    "\n",
    "        comparison_matrix[i, j] = model1_earlier_count\n",
    "        comparison_matrix[j, i] = model2_earlier_count\n",
    "\n",
    "    return pd.DataFrame(comparison_matrix, index=models, columns=models)\n",
    "\n",
    "def plot_heatmap(comparisons_df, corpus):\n",
    "    \"\"\"\n",
    "    This function generates and saves a heatmap based on the given DataFrame.\n",
    "    \n",
    "    Parameters:\n",
    "    comparisons_df (pd.DataFrame): DataFrame with the data for the heatmap.\n",
    "    corpus (str): Name of the corpus for naming the saved file.\n",
    "    \"\"\"\n",
    "    plt.figure(figsize=(10, 8))\n",
    "    \n",
    "    sns.heatmap(comparisons_df, annot=True, fmt='d', cmap='coolwarm', cbar=True)\n",
    "    \n",
    "    plt.title('Cleaned gold standard comparison', fontsize=12, fontweight='bold')\n",
    "    \n",
    "    plt.xlabel('')\n",
    "    plt.ylabel('')\n",
    "    \n",
    "    plt.xticks(rotation=0, ha='center')\n",
    "    plt.yticks(rotation=0)\n",
    "    \n",
    "    plt.savefig(f'../pdf/{corpus}_cleaned_gold_standard_comparison.pdf', bbox_inches='tight')\n",
    "    plt.show()"
   ]
  },
  {
   "cell_type": "code",
   "execution_count": 3,
   "metadata": {},
   "outputs": [],
   "source": [
    "CORPUS = \"DisTEMIST\"\n",
    "models = []\n",
    "results = []\n",
    "F_TYPE = \"FlatIP\"\n",
    "MAX_LENGTH = 256\n",
    "TOP_N = 2\n",
    "TOP_K_VALUES = [1,5,25,50,100,200]"
   ]
  },
  {
   "cell_type": "code",
   "execution_count": 4,
   "metadata": {},
   "outputs": [
    {
     "name": "stdout",
     "output_type": "stream",
     "text": [
      "Number of NO_CODE: 0\n",
      "Number of composite(+): 91\n"
     ]
    }
   ],
   "source": [
    "test_df, train_df, gaz_df = utils.load_corpus_data(CORPUS)\n",
    "link_gaz_df = pd.concat([train_df[['code', 'term']], gaz_df[['code', 'term']]], ignore_index=True) \n",
    "no_code_count = test_df['code'].str.contains('NO_CODE').sum()\n",
    "composite_count = test_df['code'].str.contains(r'\\+').sum()\n",
    "print(f\"Number of NO_CODE: {no_code_count}\")\n",
    "print(f\"Number of composite(+): {composite_count}\")\n",
    "test_df = test_df[~test_df['code'].str.contains('NO_CODE|\\+', regex=True)]"
   ]
  },
  {
   "cell_type": "code",
   "execution_count": 5,
   "metadata": {},
   "outputs": [
    {
     "data": {
      "text/html": [
       "<div>\n",
       "<style scoped>\n",
       "    .dataframe tbody tr th:only-of-type {\n",
       "        vertical-align: middle;\n",
       "    }\n",
       "\n",
       "    .dataframe tbody tr th {\n",
       "        vertical-align: top;\n",
       "    }\n",
       "\n",
       "    .dataframe thead th {\n",
       "        text-align: right;\n",
       "    }\n",
       "</style>\n",
       "<table border=\"1\" class=\"dataframe\">\n",
       "  <thead>\n",
       "    <tr style=\"text-align: right;\">\n",
       "      <th></th>\n",
       "      <th>code</th>\n",
       "      <th>language</th>\n",
       "      <th>term</th>\n",
       "      <th>semantic_tag</th>\n",
       "      <th>mainterm</th>\n",
       "    </tr>\n",
       "  </thead>\n",
       "  <tbody>\n",
       "    <tr>\n",
       "      <th>0</th>\n",
       "      <td>9989000</td>\n",
       "      <td>es</td>\n",
       "      <td>anomalía congénita de dedo del pie</td>\n",
       "      <td>disorder</td>\n",
       "      <td>1</td>\n",
       "    </tr>\n",
       "    <tr>\n",
       "      <th>1</th>\n",
       "      <td>9989000</td>\n",
       "      <td>es</td>\n",
       "      <td>malformación congénita de dedo del pie</td>\n",
       "      <td>disorder</td>\n",
       "      <td>0</td>\n",
       "    </tr>\n",
       "    <tr>\n",
       "      <th>2</th>\n",
       "      <td>9984005</td>\n",
       "      <td>es</td>\n",
       "      <td>exfoliación de dientes por enfermedad sistémica</td>\n",
       "      <td>disorder</td>\n",
       "      <td>1</td>\n",
       "    </tr>\n",
       "    <tr>\n",
       "      <th>3</th>\n",
       "      <td>9982009</td>\n",
       "      <td>es</td>\n",
       "      <td>intoxicación causada por cocaína</td>\n",
       "      <td>disorder</td>\n",
       "      <td>1</td>\n",
       "    </tr>\n",
       "    <tr>\n",
       "      <th>4</th>\n",
       "      <td>998008</td>\n",
       "      <td>es</td>\n",
       "      <td>enfermedad de Chagas con compromiso del corazón</td>\n",
       "      <td>disorder</td>\n",
       "      <td>1</td>\n",
       "    </tr>\n",
       "  </tbody>\n",
       "</table>\n",
       "</div>"
      ],
      "text/plain": [
       "      code language                                             term   \n",
       "0  9989000       es               anomalía congénita de dedo del pie  \\\n",
       "1  9989000       es           malformación congénita de dedo del pie   \n",
       "2  9984005       es  exfoliación de dientes por enfermedad sistémica   \n",
       "3  9982009       es                 intoxicación causada por cocaína   \n",
       "4   998008       es  enfermedad de Chagas con compromiso del corazón   \n",
       "\n",
       "  semantic_tag  mainterm  \n",
       "0     disorder         1  \n",
       "1     disorder         0  \n",
       "2     disorder         1  \n",
       "3     disorder         1  \n",
       "4     disorder         1  "
      ]
     },
     "execution_count": 5,
     "metadata": {},
     "output_type": "execute_result"
    }
   ],
   "source": [
    "gaz_df.head()"
   ]
  },
  {
   "cell_type": "code",
   "execution_count": 6,
   "metadata": {},
   "outputs": [
    {
     "name": "stderr",
     "output_type": "stream",
     "text": [
      "/home/fernandogd/.conda/envs/kg_env/lib/python3.10/site-packages/torch/_utils.py:776: UserWarning: TypedStorage is deprecated. It will be removed in the future and UntypedStorage will be the only storage class. This should only matter to you if you are using storages directly.  To access UntypedStorage directly, use tensor.untyped_storage() instead of tensor.storage()\n",
      "  return self.fget.__get__(instance, owner)()\n"
     ]
    },
    {
     "data": {
      "application/vnd.jupyter.widget-view+json": {
       "model_id": "59d411e4ce4b48f0a124a62fab16ec3f",
       "version_major": 2,
       "version_minor": 0
      },
      "text/plain": [
       "Encoding:   0%|          | 0/4716 [00:00<?, ?it/s]"
      ]
     },
     "metadata": {},
     "output_type": "display_data"
    },
    {
     "data": {
      "application/vnd.jupyter.widget-view+json": {
       "model_id": "30951e287ba14686bf2a54096fdd1ccf",
       "version_major": 2,
       "version_minor": 0
      },
      "text/plain": [
       "Encoding:   0%|          | 0/40 [00:00<?, ?it/s]"
      ]
     },
     "metadata": {},
     "output_type": "display_data"
    }
   ],
   "source": [
    "faiss_encoder = faiss_enc.FaissEncoder(\"../../../models/NEL/spanish_sapbert_models/sapbert_15_grandparents_1epoch\", F_TYPE, MAX_LENGTH, link_gaz_df)\n",
    "faiss_encoder.fitFaiss()\n",
    "candidates, codes, _ = faiss_encoder.getCandidates(test_df[\"term\"].tolist(), k=200)\n",
    "clinlinker_granparent_preds = test_df.copy()\n",
    "clinlinker_granparent_preds[\"candidates\"] = candidates\n",
    "clinlinker_granparent_preds[\"codes\"] = codes\n",
    "models.append(\"ClinLinker-KB-GP\")\n",
    "results.append(clinlinker_granparent_preds)\n",
    "del faiss_encoder"
   ]
  },
  {
   "cell_type": "code",
   "execution_count": 7,
   "metadata": {},
   "outputs": [
    {
     "data": {
      "application/vnd.jupyter.widget-view+json": {
       "model_id": "21aadee69da944f59a68e239b9494895",
       "version_major": 2,
       "version_minor": 0
      },
      "text/plain": [
       "Encoding:   0%|          | 0/4716 [00:00<?, ?it/s]"
      ]
     },
     "metadata": {},
     "output_type": "display_data"
    },
    {
     "data": {
      "application/vnd.jupyter.widget-view+json": {
       "model_id": "b1998b55051e49f8ab5b9ffd7546a48a",
       "version_major": 2,
       "version_minor": 0
      },
      "text/plain": [
       "Encoding:   0%|          | 0/40 [00:00<?, ?it/s]"
      ]
     },
     "metadata": {},
     "output_type": "display_data"
    }
   ],
   "source": [
    "faiss_encoder = faiss_enc.FaissEncoder(\"../../../models/NEL/spanish_sapbert_models/sapbert_15_parents_1epoch\", F_TYPE, MAX_LENGTH, link_gaz_df)\n",
    "faiss_encoder.fitFaiss()\n",
    "candidates, codes, _ = faiss_encoder.getCandidates(test_df[\"term\"].tolist(), k=200)\n",
    "clinlinker_parent_preds = test_df.copy()\n",
    "clinlinker_parent_preds[\"candidates\"] = candidates\n",
    "clinlinker_parent_preds[\"codes\"] = codes\n",
    "models.append(\"ClinLinker-KB-P\")\n",
    "results.append(clinlinker_parent_preds)\n",
    "del faiss_encoder"
   ]
  },
  {
   "cell_type": "code",
   "execution_count": 8,
   "metadata": {},
   "outputs": [
    {
     "data": {
      "application/vnd.jupyter.widget-view+json": {
       "model_id": "64fe24cbbc2d409f8154cd1ed691fcb4",
       "version_major": 2,
       "version_minor": 0
      },
      "text/plain": [
       "Encoding:   0%|          | 0/4716 [00:00<?, ?it/s]"
      ]
     },
     "metadata": {},
     "output_type": "display_data"
    },
    {
     "data": {
      "application/vnd.jupyter.widget-view+json": {
       "model_id": "dc97a699105443f0a26d69f369a1450b",
       "version_major": 2,
       "version_minor": 0
      },
      "text/plain": [
       "Encoding:   0%|          | 0/40 [00:00<?, ?it/s]"
      ]
     },
     "metadata": {},
     "output_type": "display_data"
    }
   ],
   "source": [
    "faiss_encoder = faiss_enc.FaissEncoder(\"../../../models/NEL/spanish_sapbert_models/sapbert_15_noparents_1epoch\", F_TYPE, MAX_LENGTH, link_gaz_df)\n",
    "faiss_encoder.fitFaiss()\n",
    "candidates, codes, _ = faiss_encoder.getCandidates(test_df[\"term\"].tolist(), k=200)\n",
    "clinlinker_preds = test_df.copy()\n",
    "clinlinker_preds[\"candidates\"] = candidates\n",
    "clinlinker_preds[\"codes\"] = codes\n",
    "models.append(\"ClinLinker\")\n",
    "results.append(clinlinker_preds)\n",
    "del faiss_encoder"
   ]
  },
  {
   "cell_type": "code",
   "execution_count": 9,
   "metadata": {},
   "outputs": [
    {
     "name": "stderr",
     "output_type": "stream",
     "text": [
      "/home/fernandogd/.conda/envs/kg_env/lib/python3.10/site-packages/huggingface_hub/file_download.py:1150: FutureWarning: `resume_download` is deprecated and will be removed in version 1.0.0. Downloads always resume when possible. If you want to force a new download, use `force_download=True`.\n",
      "  warnings.warn(\n"
     ]
    },
    {
     "data": {
      "application/vnd.jupyter.widget-view+json": {
       "model_id": "cc058f6f396843028d025cceab3fd248",
       "version_major": 2,
       "version_minor": 0
      },
      "text/plain": [
       "Encoding:   0%|          | 0/4716 [00:00<?, ?it/s]"
      ]
     },
     "metadata": {},
     "output_type": "display_data"
    },
    {
     "data": {
      "application/vnd.jupyter.widget-view+json": {
       "model_id": "d0f4eda3cd084a5c8e14df007fa35e50",
       "version_major": 2,
       "version_minor": 0
      },
      "text/plain": [
       "Encoding:   0%|          | 0/40 [00:00<?, ?it/s]"
      ]
     },
     "metadata": {},
     "output_type": "display_data"
    }
   ],
   "source": [
    "faiss_encoder = faiss_enc.FaissEncoder(\"cambridgeltl/SapBERT-UMLS-2020AB-all-lang-from-XLMR-large\", F_TYPE, MAX_LENGTH, link_gaz_df)\n",
    "faiss_encoder.fitFaiss()\n",
    "candidates, codes, _ = faiss_encoder.getCandidates(test_df[\"term\"].tolist(), k=200)\n",
    "baseline_preds = test_df.copy()\n",
    "baseline_preds[\"candidates\"] = candidates\n",
    "baseline_preds[\"codes\"] = codes\n",
    "models.append(\"SapBERT-XLM-R-large\")\n",
    "results.append(baseline_preds)\n",
    "del faiss_encoder"
   ]
  },
  {
   "cell_type": "code",
   "execution_count": 10,
   "metadata": {},
   "outputs": [
    {
     "data": {
      "text/html": [
       "<div>\n",
       "<style scoped>\n",
       "    .dataframe tbody tr th:only-of-type {\n",
       "        vertical-align: middle;\n",
       "    }\n",
       "\n",
       "    .dataframe tbody tr th {\n",
       "        vertical-align: top;\n",
       "    }\n",
       "\n",
       "    .dataframe thead th {\n",
       "        text-align: right;\n",
       "    }\n",
       "</style>\n",
       "<table border=\"1\" class=\"dataframe\">\n",
       "  <thead>\n",
       "    <tr style=\"text-align: right;\">\n",
       "      <th></th>\n",
       "      <th>ClinLinker-KB-GP</th>\n",
       "      <th>ClinLinker-KB-P</th>\n",
       "      <th>ClinLinker</th>\n",
       "      <th>SapBERT-XLM-R-large</th>\n",
       "    </tr>\n",
       "  </thead>\n",
       "  <tbody>\n",
       "    <tr>\n",
       "      <th>ClinLinker-KB-GP</th>\n",
       "      <td>0</td>\n",
       "      <td>373</td>\n",
       "      <td>444</td>\n",
       "      <td>488</td>\n",
       "    </tr>\n",
       "    <tr>\n",
       "      <th>ClinLinker-KB-P</th>\n",
       "      <td>319</td>\n",
       "      <td>0</td>\n",
       "      <td>396</td>\n",
       "      <td>457</td>\n",
       "    </tr>\n",
       "    <tr>\n",
       "      <th>ClinLinker</th>\n",
       "      <td>326</td>\n",
       "      <td>337</td>\n",
       "      <td>0</td>\n",
       "      <td>415</td>\n",
       "    </tr>\n",
       "    <tr>\n",
       "      <th>SapBERT-XLM-R-large</th>\n",
       "      <td>379</td>\n",
       "      <td>395</td>\n",
       "      <td>373</td>\n",
       "      <td>0</td>\n",
       "    </tr>\n",
       "  </tbody>\n",
       "</table>\n",
       "</div>"
      ],
      "text/plain": [
       "                     ClinLinker-KB-GP  ClinLinker-KB-P  ClinLinker   \n",
       "ClinLinker-KB-GP                    0              373         444  \\\n",
       "ClinLinker-KB-P                   319                0         396   \n",
       "ClinLinker                        326              337           0   \n",
       "SapBERT-XLM-R-large               379              395         373   \n",
       "\n",
       "                     SapBERT-XLM-R-large  \n",
       "ClinLinker-KB-GP                     488  \n",
       "ClinLinker-KB-P                      457  \n",
       "ClinLinker                           415  \n",
       "SapBERT-XLM-R-large                    0  "
      ]
     },
     "execution_count": 10,
     "metadata": {},
     "output_type": "execute_result"
    }
   ],
   "source": [
    "comparisons_df = compare_predictions(results, models)\n",
    "comparisons_df.head()"
   ]
  },
  {
   "cell_type": "code",
   "execution_count": 11,
   "metadata": {},
   "outputs": [
    {
     "data": {
      "image/png": "[encoded data removed]",
      "text/plain": [
       "<Figure size 1000x800 with 2 Axes>"
      ]
     },
     "metadata": {},
     "output_type": "display_data"
    }
   ],
   "source": [
    "plot_heatmap(comparisons_df, CORPUS)\n"
   ]
  }
 ],
 "metadata": {
  "kernelspec": {
   "display_name": "venv",
   "language": "python",
   "name": "python3"
  },
  "language_info": {
   "codemirror_mode": {
    "name": "ipython",
    "version": 3
   },
   "file_extension": ".py",
   "mimetype": "text/x-python",
   "name": "python",
   "nbconvert_exporter": "python",
   "pygments_lexer": "ipython3",
   "version": "3.10.14"
  }
 },
 "nbformat": 4,
 "nbformat_minor": 2
}
