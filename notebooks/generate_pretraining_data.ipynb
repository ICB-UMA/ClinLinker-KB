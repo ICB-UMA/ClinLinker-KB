{
 "cells": [
  {
   "cell_type": "code",
   "execution_count": 13,
   "metadata": {},
   "outputs": [
    {
     "data": {
      "text/plain": [
       "'\\nAuthor: Fernando Gallego\\nAffiliation: Researcher at the Computational Intelligence (ICB) Group, University of Málaga\\nCode adapted from https://github.com/cambridgeltl/sapbert/blob/main/training_data/generate_pretraining_data.ipynb\\n'"
      ]
     },
     "execution_count": 13,
     "metadata": {},
     "output_type": "execute_result"
    }
   ],
   "source": [
    "import os\n",
    "import sys\n",
    "import pandas as pd\n",
    "\n",
    "sys.path.append(os.path.join(os.getcwd(), '../src'))\n",
    "import utils\n",
    "from logger import setup_custom_logger  \n",
    "\n",
    "\"\"\"\n",
    "Author: Fernando Gallego\n",
    "Affiliation: Researcher at the Computational Intelligence (ICB) Group, University of Málaga\n",
    "Code adapted from https://github.com/cambridgeltl/sapbert/blob/main/training_data/generate_pretraining_data.ipynb\n",
    "\"\"\""
   ]
  },
  {
   "cell_type": "code",
   "execution_count": 14,
   "metadata": {},
   "outputs": [],
   "source": [
    "UMLS_PATH = \"../../../data/UMLS/2023AA/META/\"\n",
    "CHUNK_SIZE = 250000\n",
    "CORPUS = \"DisTEMIST\"\n",
    "logger = setup_custom_logger('data generation')"
   ]
  },
  {
   "cell_type": "code",
   "execution_count": 15,
   "metadata": {},
   "outputs": [],
   "source": [
    "_, train_df, gaz_df = utils.load_corpus_data(CORPUS)\n",
    "gaz_df['term'] = gaz_df['term'].replace({'«': '', '»': ''}, regex=True)\n",
    "train_df['term'] = train_df['term'].replace({'«': '', '»': ''}, regex=True)\n",
    "train_df = train_df[~train_df['code'].str.contains(\"NO_CODE|\\+\", regex=True)]"
   ]
  },
  {
   "cell_type": "code",
   "execution_count": 16,
   "metadata": {},
   "outputs": [
    {
     "data": {
      "text/html": [
       "<div>\n",
       "<style scoped>\n",
       "    .dataframe tbody tr th:only-of-type {\n",
       "        vertical-align: middle;\n",
       "    }\n",
       "\n",
       "    .dataframe tbody tr th {\n",
       "        vertical-align: top;\n",
       "    }\n",
       "\n",
       "    .dataframe thead th {\n",
       "        text-align: right;\n",
       "    }\n",
       "</style>\n",
       "<table border=\"1\" class=\"dataframe\">\n",
       "  <thead>\n",
       "    <tr style=\"text-align: right;\">\n",
       "      <th></th>\n",
       "      <th>filename</th>\n",
       "      <th>mark</th>\n",
       "      <th>label</th>\n",
       "      <th>off0</th>\n",
       "      <th>off1</th>\n",
       "      <th>term</th>\n",
       "      <th>code</th>\n",
       "      <th>semantic_rel</th>\n",
       "    </tr>\n",
       "  </thead>\n",
       "  <tbody>\n",
       "    <tr>\n",
       "      <th>0</th>\n",
       "      <td>es-S0210-56912007000900007-3</td>\n",
       "      <td>T1</td>\n",
       "      <td>ENFERMEDAD</td>\n",
       "      <td>164</td>\n",
       "      <td>166</td>\n",
       "      <td>DM</td>\n",
       "      <td>73211009</td>\n",
       "      <td>EXACT</td>\n",
       "    </tr>\n",
       "    <tr>\n",
       "      <th>1</th>\n",
       "      <td>es-S0210-56912007000900007-3</td>\n",
       "      <td>T2</td>\n",
       "      <td>ENFERMEDAD</td>\n",
       "      <td>362</td>\n",
       "      <td>376</td>\n",
       "      <td>deshidratación</td>\n",
       "      <td>34095006</td>\n",
       "      <td>EXACT</td>\n",
       "    </tr>\n",
       "    <tr>\n",
       "      <th>2</th>\n",
       "      <td>es-S0210-56912007000900007-3</td>\n",
       "      <td>T3</td>\n",
       "      <td>ENFERMEDAD</td>\n",
       "      <td>575</td>\n",
       "      <td>590</td>\n",
       "      <td>hiperamilasemia</td>\n",
       "      <td>275739007</td>\n",
       "      <td>EXACT</td>\n",
       "    </tr>\n",
       "    <tr>\n",
       "      <th>3</th>\n",
       "      <td>es-S0210-56912007000900007-3</td>\n",
       "      <td>T4</td>\n",
       "      <td>ENFERMEDAD</td>\n",
       "      <td>715</td>\n",
       "      <td>733</td>\n",
       "      <td>pancreatitis aguda</td>\n",
       "      <td>197456007</td>\n",
       "      <td>EXACT</td>\n",
       "    </tr>\n",
       "    <tr>\n",
       "      <th>4</th>\n",
       "      <td>es-S0210-56912007000900007-3</td>\n",
       "      <td>T5</td>\n",
       "      <td>ENFERMEDAD</td>\n",
       "      <td>1402</td>\n",
       "      <td>1459</td>\n",
       "      <td>formación polipoidea sésil situada junto al es...</td>\n",
       "      <td>88580009</td>\n",
       "      <td>EXACT</td>\n",
       "    </tr>\n",
       "  </tbody>\n",
       "</table>\n",
       "</div>"
      ],
      "text/plain": [
       "                       filename mark       label  off0  off1   \n",
       "0  es-S0210-56912007000900007-3   T1  ENFERMEDAD   164   166  \\\n",
       "1  es-S0210-56912007000900007-3   T2  ENFERMEDAD   362   376   \n",
       "2  es-S0210-56912007000900007-3   T3  ENFERMEDAD   575   590   \n",
       "3  es-S0210-56912007000900007-3   T4  ENFERMEDAD   715   733   \n",
       "4  es-S0210-56912007000900007-3   T5  ENFERMEDAD  1402  1459   \n",
       "\n",
       "                                                term       code semantic_rel  \n",
       "0                                                 DM   73211009        EXACT  \n",
       "1                                     deshidratación   34095006        EXACT  \n",
       "2                                    hiperamilasemia  275739007        EXACT  \n",
       "3                                 pancreatitis aguda  197456007        EXACT  \n",
       "4  formación polipoidea sésil situada junto al es...   88580009        EXACT  "
      ]
     },
     "execution_count": 16,
     "metadata": {},
     "output_type": "execute_result"
    }
   ],
   "source": [
    "train_df.head()"
   ]
  },
  {
   "cell_type": "code",
   "execution_count": 17,
   "metadata": {},
   "outputs": [
    {
     "data": {
      "text/html": [
       "<div>\n",
       "<style scoped>\n",
       "    .dataframe tbody tr th:only-of-type {\n",
       "        vertical-align: middle;\n",
       "    }\n",
       "\n",
       "    .dataframe tbody tr th {\n",
       "        vertical-align: top;\n",
       "    }\n",
       "\n",
       "    .dataframe thead th {\n",
       "        text-align: right;\n",
       "    }\n",
       "</style>\n",
       "<table border=\"1\" class=\"dataframe\">\n",
       "  <thead>\n",
       "    <tr style=\"text-align: right;\">\n",
       "      <th></th>\n",
       "      <th>code</th>\n",
       "      <th>language</th>\n",
       "      <th>term</th>\n",
       "      <th>semantic_tag</th>\n",
       "      <th>mainterm</th>\n",
       "    </tr>\n",
       "  </thead>\n",
       "  <tbody>\n",
       "    <tr>\n",
       "      <th>0</th>\n",
       "      <td>9989000</td>\n",
       "      <td>es</td>\n",
       "      <td>anomalía congénita de dedo del pie</td>\n",
       "      <td>disorder</td>\n",
       "      <td>1</td>\n",
       "    </tr>\n",
       "    <tr>\n",
       "      <th>1</th>\n",
       "      <td>9989000</td>\n",
       "      <td>es</td>\n",
       "      <td>malformación congénita de dedo del pie</td>\n",
       "      <td>disorder</td>\n",
       "      <td>0</td>\n",
       "    </tr>\n",
       "    <tr>\n",
       "      <th>2</th>\n",
       "      <td>9984005</td>\n",
       "      <td>es</td>\n",
       "      <td>exfoliación de dientes por enfermedad sistémica</td>\n",
       "      <td>disorder</td>\n",
       "      <td>1</td>\n",
       "    </tr>\n",
       "    <tr>\n",
       "      <th>3</th>\n",
       "      <td>9982009</td>\n",
       "      <td>es</td>\n",
       "      <td>intoxicación causada por cocaína</td>\n",
       "      <td>disorder</td>\n",
       "      <td>1</td>\n",
       "    </tr>\n",
       "    <tr>\n",
       "      <th>4</th>\n",
       "      <td>998008</td>\n",
       "      <td>es</td>\n",
       "      <td>enfermedad de Chagas con compromiso del corazón</td>\n",
       "      <td>disorder</td>\n",
       "      <td>1</td>\n",
       "    </tr>\n",
       "  </tbody>\n",
       "</table>\n",
       "</div>"
      ],
      "text/plain": [
       "      code language                                             term   \n",
       "0  9989000       es               anomalía congénita de dedo del pie  \\\n",
       "1  9989000       es           malformación congénita de dedo del pie   \n",
       "2  9984005       es  exfoliación de dientes por enfermedad sistémica   \n",
       "3  9982009       es                 intoxicación causada por cocaína   \n",
       "4   998008       es  enfermedad de Chagas con compromiso del corazón   \n",
       "\n",
       "  semantic_tag  mainterm  \n",
       "0     disorder         1  \n",
       "1     disorder         0  \n",
       "2     disorder         1  \n",
       "3     disorder         1  \n",
       "4     disorder         1  "
      ]
     },
     "execution_count": 17,
     "metadata": {},
     "output_type": "execute_result"
    }
   ],
   "source": [
    "gaz_df.head()"
   ]
  },
  {
   "cell_type": "code",
   "execution_count": 18,
   "metadata": {},
   "outputs": [
    {
     "data": {
      "application/vnd.jupyter.widget-view+json": {
       "model_id": "51e2adb9f176401c8b6c16ee22e9fb79",
       "version_major": 2,
       "version_minor": 0
      },
      "text/plain": [
       "Processing:   0%|          | 0/13609918 [00:00<?, ?line/s]"
      ]
     },
     "metadata": {},
     "output_type": "display_data"
    },
    {
     "name": "stdout",
     "output_type": "stream",
     "text": [
      "2024-07-19 13:17:29,367 - INFO - Processed MRCONSO.RRF (2933879257.py:3)\n",
      "2024-07-19 13:17:29,367 - INFO - Processed MRCONSO.RRF (2933879257.py:3)\n"
     ]
    }
   ],
   "source": [
    "colnames = utils.extract_column_names_from_ctl_file(os.path.join(UMLS_PATH, \"MRCONSO.ctl\"))\n",
    "df_conso = utils.read_rrf_file_in_chunks(os.path.join(UMLS_PATH, \"MRCONSO.RRF\"), CHUNK_SIZE, colnames, dtype_dict={\"CUI\": str})\n",
    "logger.info(\"Processed MRCONSO.RRF\")"
   ]
  },
  {
   "cell_type": "code",
   "execution_count": 19,
   "metadata": {},
   "outputs": [],
   "source": [
    "df_conso_sn = df_conso[df_conso['SAB'].isin([\"SCTSPA\"])]\n",
    "scui_to_cui_dict = df_conso_sn.groupby('SCUI')['CUI'].agg(lambda x: list(set(x))).to_dict()"
   ]
  },
  {
   "cell_type": "code",
   "execution_count": 20,
   "metadata": {},
   "outputs": [],
   "source": [
    "train_df['CUI'] = train_df['code'].map(scui_to_cui_dict)\n",
    "train_df['CUI'] = train_df['CUI'].apply(lambda x: x[0] if isinstance(x, list) else x)"
   ]
  },
  {
   "cell_type": "code",
   "execution_count": 21,
   "metadata": {},
   "outputs": [],
   "source": [
    "merged_df = pd.merge(train_df, gaz_df, on='code')"
   ]
  },
  {
   "cell_type": "code",
   "execution_count": 22,
   "metadata": {},
   "outputs": [],
   "source": [
    "triplets = merged_df.apply(lambda row: f\"{row['CUI']}||{row['term_x']}||{row['term_y']}\", axis=1).tolist()"
   ]
  },
  {
   "cell_type": "code",
   "execution_count": 23,
   "metadata": {},
   "outputs": [
    {
     "data": {
      "text/plain": [
       "['C0011849||DM||diabetes mellitus',\n",
       " 'C0011849||DM||diabetes sacarina',\n",
       " 'C0011849||diabético||diabetes mellitus']"
      ]
     },
     "execution_count": 23,
     "metadata": {},
     "output_type": "execute_result"
    }
   ],
   "source": [
    "triplets[0:3]"
   ]
  },
  {
   "cell_type": "code",
   "execution_count": 24,
   "metadata": {},
   "outputs": [
    {
     "name": "stdout",
     "output_type": "stream",
     "text": [
      "Pairs saved in ../data/training_file_umls2023aa_esp_uncased_distemist.txt\n"
     ]
    }
   ],
   "source": [
    "output_file_path = f'../data/training_file_umls2023aa_esp_uncased_{CORPUS.lower()}.txt'\n",
    "\n",
    "with open(output_file_path, 'w') as f:\n",
    "    for triplet in triplets:\n",
    "        f.write(\"%s\\n\" % triplet)\n",
    "\n",
    "print(f\"Pairs saved in {output_file_path}\")\n"
   ]
  }
 ],
 "metadata": {
  "kernelspec": {
   "display_name": "tf-torch-nel",
   "language": "python",
   "name": "python3"
  },
  "language_info": {
   "codemirror_mode": {
    "name": "ipython",
    "version": 3
   },
   "file_extension": ".py",
   "mimetype": "text/x-python",
   "name": "python",
   "nbconvert_exporter": "python",
   "pygments_lexer": "ipython3",
   "version": "3.10.12"
  }
 },
 "nbformat": 4,
 "nbformat_minor": 2
}
