{
 "cells": [
  {
   "cell_type": "code",
   "execution_count": 1,
   "metadata": {},
   "outputs": [
    {
     "name": "stderr",
     "output_type": "stream",
     "text": [
      "/home/fernandogd/Documents/Investigacion/Transformers/Repositories/ClinLinker-KB/venv/lib/python3.10/site-packages/tqdm/auto.py:21: TqdmWarning: IProgress not found. Please update jupyter and ipywidgets. See https://ipywidgets.readthedocs.io/en/stable/user_install.html\n",
      "  from .autonotebook import tqdm as notebook_tqdm\n"
     ]
    }
   ],
   "source": [
    "import pandas as pd\n",
    "from itertools import combinations\n",
    "import os\n",
    "import sys\n",
    "\n",
    "sys.path.append(os.path.join(os.getcwd(), '../src'))\n",
    "from utils import load_corpus_data\n",
    "\n"
   ]
  },
  {
   "cell_type": "code",
   "execution_count": 2,
   "metadata": {},
   "outputs": [],
   "source": [
    "CORPORA = [\"DisTEMIST\", \"MedProcNER\", \"SympTEMIST\"]"
   ]
  },
  {
   "cell_type": "code",
   "execution_count": 3,
   "metadata": {},
   "outputs": [
    {
     "name": "stdout",
     "output_type": "stream",
     "text": [
      "Archivo guardado en: ../data/DisTEMIST_corpus_specific_pairs.txt\n",
      "Archivo guardado en: ../data/MedProcNER_corpus_specific_pairs.txt\n",
      "Archivo guardado en: ../data/SympTEMIST_corpus_specific_pairs.txt\n"
     ]
    }
   ],
   "source": [
    "for corpus in CORPORA:\n",
    "    output_path = f\"../data/{corpus}_corpus_specific_pairs.txt\"\n",
    "    _, _, gaz_df = load_corpus_data(base_path=\"/scratch/data/\", corpus=corpus)\n",
    "    gaz_df.head()\n",
    "    with open(output_path, \"w\", encoding=\"utf-8\") as f:\n",
    "        for code, group in gaz_df.groupby(\"code\"):\n",
    "            terms = group[\"term\"].tolist()\n",
    "            for term1, term2 in combinations(terms, 2):\n",
    "                f.write(f\"{code}||{term1}||{term2}\\n\")\n",
    "\n",
    "    print(f\"File saved in: {output_path}\")"
   ]
  }
 ],
 "metadata": {
  "kernelspec": {
   "display_name": "venv",
   "language": "python",
   "name": "python3"
  },
  "language_info": {
   "codemirror_mode": {
    "name": "ipython",
    "version": 3
   },
   "file_extension": ".py",
   "mimetype": "text/x-python",
   "name": "python",
   "nbconvert_exporter": "python",
   "pygments_lexer": "ipython3",
   "version": "3.10.16"
  }
 },
 "nbformat": 4,
 "nbformat_minor": 2
}
