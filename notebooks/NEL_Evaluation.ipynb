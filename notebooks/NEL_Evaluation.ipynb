{
 "cells": [
  {
   "cell_type": "code",
   "execution_count": 43,
   "metadata": {},
   "outputs": [],
   "source": [
    "import os\n",
    "import sys\n",
    "import warnings\n",
    "import re\n",
    "warnings.filterwarnings(\"ignore\")\n",
    "import pandas as pd\n",
    "\n",
    "sys.path.append(os.path.join(os.getcwd(), '../src'))\n",
    "from crossEncoder import CrossEncoderReranker\n",
    "import faissEncoder as faiss_enc\n",
    "import utils\n",
    "from logger import setup_custom_logger  "
   ]
  },
  {
   "cell_type": "code",
   "execution_count": 44,
   "metadata": {},
   "outputs": [],
   "source": [
    "CORPUS = \"SympTEMIST\"\n",
    "TOP_K_VALUES = [1,5,25,50,100,200]\n",
    "F_TYPE = \"FlatIP\"\n",
    "MAX_LENGTH = 256\n",
    "\n",
    "res_gs, res_uc, res_um = [], [], [] "
   ]
  },
  {
   "cell_type": "code",
   "execution_count": 45,
   "metadata": {},
   "outputs": [],
   "source": [
    "test_df, train_df, gaz_df = utils.load_corpus_data(CORPUS)\n",
    "link_gaz_df = pd.concat([train_df[['code', 'term']], gaz_df[['code', 'term']]], ignore_index=True)"
   ]
  },
  {
   "cell_type": "code",
   "execution_count": 46,
   "metadata": {},
   "outputs": [
    {
     "data": {
      "application/vnd.jupyter.widget-view+json": {
       "model_id": "845eeae9c6904806b1a171da8bfb5c37",
       "version_major": 2,
       "version_minor": 0
      },
      "text/plain": [
       "Encoding:   0%|          | 0/5410 [00:00<?, ?it/s]"
      ]
     },
     "metadata": {},
     "output_type": "display_data"
    }
   ],
   "source": [
    "faiss_encoder = faiss_enc.FaissEncoder(\"../../../models/NEL/spanish_sapbert_models/sapbert_15_grandparents_1epoch\", F_TYPE, MAX_LENGTH, link_gaz_df)\n",
    "faiss_encoder.fitFaiss()"
   ]
  },
  {
   "cell_type": "code",
   "execution_count": 47,
   "metadata": {},
   "outputs": [
    {
     "data": {
      "application/vnd.jupyter.widget-view+json": {
       "model_id": "32e3a1b13f5140ec87f0bc107b05c48a",
       "version_major": 2,
       "version_minor": 0
      },
      "text/plain": [
       "Encoding:   0%|          | 0/45 [00:00<?, ?it/s]"
      ]
     },
     "metadata": {},
     "output_type": "display_data"
    }
   ],
   "source": [
    "candidates, codes, _ = faiss_encoder.getCandidates(test_df[\"term\"].tolist(), k=200)\n",
    "clinlinker_granparent_preds = test_df.copy()\n",
    "clinlinker_granparent_preds[\"candidates\"] = candidates\n",
    "clinlinker_granparent_preds[\"codes\"] = codes\n",
    "gs_aux, uc_aux, um_aux = utils.evaluate_model(\"ClinLinker-KB-GP\", clinlinker_granparent_preds, train_df, gaz_df, TOP_K_VALUES)\n",
    "res_gs.append(gs_aux)\n",
    "res_uc.append(uc_aux)\n",
    "res_um.append(um_aux)"
   ]
  },
  {
   "cell_type": "code",
   "execution_count": 48,
   "metadata": {},
   "outputs": [
    {
     "data": {
      "application/vnd.jupyter.widget-view+json": {
       "model_id": "6e91e8e3a4d84c90a33f4c31dbbeb0d5",
       "version_major": 2,
       "version_minor": 0
      },
      "text/plain": [
       "Encoding:   0%|          | 0/5410 [00:00<?, ?it/s]"
      ]
     },
     "metadata": {},
     "output_type": "display_data"
    }
   ],
   "source": [
    "faiss_encoder = faiss_enc.FaissEncoder(\"../../../models/NEL/spanish_sapbert_models/sapbert_15_parents_1epoch\", F_TYPE, MAX_LENGTH, link_gaz_df)\n",
    "faiss_encoder.fitFaiss()"
   ]
  },
  {
   "cell_type": "code",
   "execution_count": 49,
   "metadata": {},
   "outputs": [
    {
     "data": {
      "application/vnd.jupyter.widget-view+json": {
       "model_id": "c5b39d4e212545458a0c9eaf61fc1076",
       "version_major": 2,
       "version_minor": 0
      },
      "text/plain": [
       "Encoding:   0%|          | 0/45 [00:00<?, ?it/s]"
      ]
     },
     "metadata": {},
     "output_type": "display_data"
    }
   ],
   "source": [
    "candidates, codes, _ = faiss_encoder.getCandidates(test_df[\"term\"].tolist(), k=200)\n",
    "clinlinker_parent_preds = test_df.copy()\n",
    "clinlinker_parent_preds[\"candidates\"] = candidates\n",
    "clinlinker_parent_preds[\"codes\"] = codes\n",
    "gs_aux, uc_aux, um_aux = utils.evaluate_model(\"ClinLinker-KB-P\", clinlinker_parent_preds, train_df, gaz_df, TOP_K_VALUES)\n",
    "res_gs.append(gs_aux)\n",
    "res_uc.append(uc_aux)\n",
    "res_um.append(um_aux)"
   ]
  },
  {
   "cell_type": "code",
   "execution_count": 50,
   "metadata": {},
   "outputs": [
    {
     "data": {
      "application/vnd.jupyter.widget-view+json": {
       "model_id": "868ab5ffb7d448dfbaf3965af04e1cef",
       "version_major": 2,
       "version_minor": 0
      },
      "text/plain": [
       "Encoding:   0%|          | 0/5410 [00:00<?, ?it/s]"
      ]
     },
     "metadata": {},
     "output_type": "display_data"
    }
   ],
   "source": [
    "faiss_encoder = faiss_enc.FaissEncoder(\"../../../models/NEL/spanish_sapbert_models/sapbert_15_noparents_1epoch\", F_TYPE, MAX_LENGTH, link_gaz_df)\n",
    "faiss_encoder.fitFaiss()"
   ]
  },
  {
   "cell_type": "code",
   "execution_count": 51,
   "metadata": {},
   "outputs": [
    {
     "data": {
      "application/vnd.jupyter.widget-view+json": {
       "model_id": "8c57fa1053544cfa821e6a3692ad4989",
       "version_major": 2,
       "version_minor": 0
      },
      "text/plain": [
       "Encoding:   0%|          | 0/45 [00:00<?, ?it/s]"
      ]
     },
     "metadata": {},
     "output_type": "display_data"
    }
   ],
   "source": [
    "candidates, codes, _ = faiss_encoder.getCandidates(test_df[\"term\"].tolist(), k=200)\n",
    "clinlinker_preds = test_df.copy()\n",
    "clinlinker_preds[\"candidates\"] = candidates\n",
    "clinlinker_preds[\"codes\"] = codes\n",
    "gs_aux, uc_aux, um_aux = utils.evaluate_model(\"ClinLinker\", clinlinker_preds, train_df, gaz_df, TOP_K_VALUES)\n",
    "res_gs.append(gs_aux)\n",
    "res_uc.append(uc_aux)\n",
    "res_um.append(um_aux)"
   ]
  },
  {
   "cell_type": "code",
   "execution_count": 52,
   "metadata": {},
   "outputs": [
    {
     "data": {
      "application/vnd.jupyter.widget-view+json": {
       "model_id": "e53ef5d59d3e4655a314b5e9c3e4d449",
       "version_major": 2,
       "version_minor": 0
      },
      "text/plain": [
       "Encoding:   0%|          | 0/5410 [00:00<?, ?it/s]"
      ]
     },
     "metadata": {},
     "output_type": "display_data"
    }
   ],
   "source": [
    "faiss_encoder = faiss_enc.FaissEncoder(f\"../../../models/NEL/corpus-specific_bi-encoders/{CORPUS.lower()}-biencoder\", F_TYPE, MAX_LENGTH, link_gaz_df)\n",
    "faiss_encoder.fitFaiss()"
   ]
  },
  {
   "cell_type": "code",
   "execution_count": 53,
   "metadata": {},
   "outputs": [
    {
     "data": {
      "application/vnd.jupyter.widget-view+json": {
       "model_id": "0975302e63c345eda46d2467d2de42ed",
       "version_major": 2,
       "version_minor": 0
      },
      "text/plain": [
       "Encoding:   0%|          | 0/45 [00:00<?, ?it/s]"
      ]
     },
     "metadata": {},
     "output_type": "display_data"
    }
   ],
   "source": [
    "candidates, codes, _ = faiss_encoder.getCandidates(test_df[\"term\"].tolist(), k=200)\n",
    "corpus_specific_preds = test_df.copy()\n",
    "corpus_specific_preds[\"candidates\"] = candidates\n",
    "corpus_specific_preds[\"codes\"] = codes\n",
    "gs_aux, uc_aux, um_aux = utils.evaluate_model(f\"{CORPUS}-bi-encoder\", corpus_specific_preds, train_df, gaz_df, TOP_K_VALUES)\n",
    "res_gs.append(gs_aux)\n",
    "res_uc.append(uc_aux)\n",
    "res_um.append(um_aux)"
   ]
  },
  {
   "cell_type": "code",
   "execution_count": 54,
   "metadata": {},
   "outputs": [
    {
     "data": {
      "application/vnd.jupyter.widget-view+json": {
       "model_id": "7389f42893f34f7689c0b069548e02ff",
       "version_major": 2,
       "version_minor": 0
      },
      "text/plain": [
       "Encoding:   0%|          | 0/5410 [00:00<?, ?it/s]"
      ]
     },
     "metadata": {},
     "output_type": "display_data"
    }
   ],
   "source": [
    "faiss_encoder = faiss_enc.FaissEncoder(\"cambridgeltl/SapBERT-UMLS-2020AB-all-lang-from-XLMR-large\", F_TYPE, MAX_LENGTH, link_gaz_df)\n",
    "faiss_encoder.fitFaiss()"
   ]
  },
  {
   "cell_type": "code",
   "execution_count": 55,
   "metadata": {},
   "outputs": [
    {
     "data": {
      "application/vnd.jupyter.widget-view+json": {
       "model_id": "1dfb0d05568141c98d6747580cfcab36",
       "version_major": 2,
       "version_minor": 0
      },
      "text/plain": [
       "Encoding:   0%|          | 0/45 [00:00<?, ?it/s]"
      ]
     },
     "metadata": {},
     "output_type": "display_data"
    }
   ],
   "source": [
    "candidates, codes, _ = faiss_encoder.getCandidates(test_df[\"term\"].tolist(), k=200)\n",
    "baseline_preds = test_df.copy()\n",
    "baseline_preds[\"candidates\"] = candidates\n",
    "baseline_preds[\"codes\"] = codes\n",
    "gs_aux, uc_aux, um_aux = utils.evaluate_model(\"SapBERT-XLM-R-large\", baseline_preds, train_df, gaz_df, TOP_K_VALUES)\n",
    "res_gs.append(gs_aux)\n",
    "res_uc.append(uc_aux)\n",
    "res_um.append(um_aux)"
   ]
  },
  {
   "cell_type": "code",
   "execution_count": 56,
   "metadata": {},
   "outputs": [
    {
     "data": {
      "application/vnd.jupyter.widget-view+json": {
       "model_id": "df654b65d4ca4c22ada1e760440614ab",
       "version_major": 2,
       "version_minor": 0
      },
      "text/plain": [
       "Encoding:   0%|          | 0/5410 [00:00<?, ?it/s]"
      ]
     },
     "metadata": {},
     "output_type": "display_data"
    }
   ],
   "source": [
    "faiss_encoder = faiss_enc.FaissEncoder(\"cambridgeltl/SapBERT-UMLS-2020AB-all-lang-from-XLMR\", F_TYPE, MAX_LENGTH, link_gaz_df)\n",
    "faiss_encoder.fitFaiss()"
   ]
  },
  {
   "cell_type": "code",
   "execution_count": 57,
   "metadata": {},
   "outputs": [
    {
     "data": {
      "application/vnd.jupyter.widget-view+json": {
       "model_id": "b28068168b304d099bfc4df145b3e85c",
       "version_major": 2,
       "version_minor": 0
      },
      "text/plain": [
       "Encoding:   0%|          | 0/45 [00:00<?, ?it/s]"
      ]
     },
     "metadata": {},
     "output_type": "display_data"
    }
   ],
   "source": [
    "candidates, codes, _ = faiss_encoder.getCandidates(test_df[\"term\"].tolist(), k=200)\n",
    "xlmr_base_preds = test_df.copy()\n",
    "xlmr_base_preds[\"candidates\"] = candidates\n",
    "xlmr_base_preds[\"codes\"] = codes\n",
    "gs_aux, uc_aux, um_aux = utils.evaluate_model(\"SapBERT-XLM-R-base\", xlmr_base_preds, train_df, gaz_df, TOP_K_VALUES)\n",
    "res_gs.append(gs_aux)\n",
    "res_uc.append(uc_aux)\n",
    "res_um.append(um_aux)"
   ]
  },
  {
   "cell_type": "code",
   "execution_count": 58,
   "metadata": {},
   "outputs": [
    {
     "name": "stderr",
     "output_type": "stream",
     "text": [
      "Some weights of RobertaModel were not initialized from the model checkpoint at PlanTL-GOB-ES/roberta-base-biomedical-clinical-es and are newly initialized: ['roberta.pooler.dense.bias', 'roberta.pooler.dense.weight']\n",
      "You should probably TRAIN this model on a down-stream task to be able to use it for predictions and inference.\n"
     ]
    },
    {
     "data": {
      "application/vnd.jupyter.widget-view+json": {
       "model_id": "965d12ef23364ee6ac5063f089c7e41f",
       "version_major": 2,
       "version_minor": 0
      },
      "text/plain": [
       "Encoding:   0%|          | 0/5410 [00:00<?, ?it/s]"
      ]
     },
     "metadata": {},
     "output_type": "display_data"
    }
   ],
   "source": [
    "faiss_encoder = faiss_enc.FaissEncoder(\"PlanTL-GOB-ES/roberta-base-biomedical-clinical-es\", F_TYPE, MAX_LENGTH, link_gaz_df)\n",
    "faiss_encoder.fitFaiss()"
   ]
  },
  {
   "cell_type": "code",
   "execution_count": 59,
   "metadata": {},
   "outputs": [
    {
     "data": {
      "application/vnd.jupyter.widget-view+json": {
       "model_id": "01b5a85c68f846abaaefe5ef9c1d0195",
       "version_major": 2,
       "version_minor": 0
      },
      "text/plain": [
       "Encoding:   0%|          | 0/45 [00:00<?, ?it/s]"
      ]
     },
     "metadata": {},
     "output_type": "display_data"
    }
   ],
   "source": [
    "candidates, codes, _ = faiss_encoder.getCandidates(test_df[\"term\"].tolist(), k=200)\n",
    "roberta_base_preds = test_df.copy()\n",
    "roberta_base_preds[\"candidates\"] = candidates\n",
    "roberta_base_preds[\"codes\"] = codes\n",
    "gs_aux, uc_aux, um_aux = utils.evaluate_model(\"Roberta-base-biomedical-es\", roberta_base_preds, train_df, gaz_df, TOP_K_VALUES)\n",
    "res_gs.append(gs_aux)\n",
    "res_uc.append(uc_aux)\n",
    "res_um.append(um_aux)"
   ]
  },
  {
   "cell_type": "code",
   "execution_count": 60,
   "metadata": {},
   "outputs": [
    {
     "name": "stderr",
     "output_type": "stream",
     "text": [
      "Reranking candidates: 100%|██████████| 2848/2848 [06:32<00:00,  7.26it/s]\n"
     ]
    }
   ],
   "source": [
    "cross_encoder = CrossEncoderReranker(f\"../../../models/NEL/cross-encoders/Spanish_SapBERT_grandparents/cef_{CORPUS.lower()}_Spanish_SapBERT_grandparents_sim_cand_200_epoch_1_bs_128/\", model_type=\"mask\", max_seq_length=MAX_LENGTH)\n",
    "gs_aux, uc_aux, um_aux = utils.evaluate_crossencoder(\"ClinLinker-KB-GP_CE\",cross_encoder, clinlinker_granparent_preds, train_df, gaz_df, TOP_K_VALUES)\n",
    "res_gs.append(gs_aux)\n",
    "res_uc.append(uc_aux)\n",
    "res_um.append(um_aux)"
   ]
  },
  {
   "cell_type": "code",
   "execution_count": 61,
   "metadata": {},
   "outputs": [
    {
     "name": "stderr",
     "output_type": "stream",
     "text": [
      "Reranking candidates: 100%|██████████| 2848/2848 [06:26<00:00,  7.37it/s]\n"
     ]
    }
   ],
   "source": [
    "cross_encoder = CrossEncoderReranker(f\"../../../models/NEL/cross-encoders/Spanish_SapBERT_parents/cef_{CORPUS.lower()}_Spanish_SapBERT_parents_sim_cand_200_epoch_1_bs_128/\", model_type=\"mask\", max_seq_length=MAX_LENGTH)\n",
    "gs_aux, uc_aux, um_aux = utils.evaluate_crossencoder(\"ClinLinker-KB-P_CE\",cross_encoder, clinlinker_parent_preds, train_df, gaz_df, TOP_K_VALUES)\n",
    "res_gs.append(gs_aux)\n",
    "res_uc.append(uc_aux)\n",
    "res_um.append(um_aux)"
   ]
  },
  {
   "cell_type": "code",
   "execution_count": 62,
   "metadata": {},
   "outputs": [
    {
     "name": "stderr",
     "output_type": "stream",
     "text": [
      "Reranking candidates: 100%|██████████| 2848/2848 [05:58<00:00,  7.95it/s]\n"
     ]
    }
   ],
   "source": [
    "cross_encoder = CrossEncoderReranker(f\"../../../models/NEL/cross-encoders/Spanish_SapBERT_noparents/cef_{CORPUS.lower()}_Spanish_SapBERT_noparents_sim_cand_200_epoch_1_bs_128/\", model_type=\"mask\", max_seq_length=MAX_LENGTH)\n",
    "gs_aux, uc_aux, um_aux = utils.evaluate_crossencoder(\"ClinLinker_CE\",cross_encoder, clinlinker_preds, train_df, gaz_df, TOP_K_VALUES)\n",
    "res_gs.append(gs_aux)\n",
    "res_uc.append(uc_aux)\n",
    "res_um.append(um_aux)"
   ]
  },
  {
   "cell_type": "code",
   "execution_count": 63,
   "metadata": {},
   "outputs": [],
   "source": [
    "res_gs_df = utils.results2tsv(res_gs)\n",
    "res_gs_df.to_csv(f\"../results/{CORPUS}/gs_results.tsv\", sep=\"\\t\", index=False)\n",
    "res_uc_df = utils.results2tsv(res_uc)\n",
    "res_uc_df.to_csv(f\"../results/{CORPUS}/uc_results.tsv\", sep=\"\\t\", index=False)\n",
    "res_um_df = utils.results2tsv(res_um)\n",
    "res_um_df.to_csv(f\"../results/{CORPUS}/um_results.tsv\", sep=\"\\t\", index=False)"
   ]
  }
 ],
 "metadata": {
  "kernelspec": {
   "display_name": "tf-torch-nel",
   "language": "python",
   "name": "python3"
  },
  "language_info": {
   "codemirror_mode": {
    "name": "ipython",
    "version": 3
   },
   "file_extension": ".py",
   "mimetype": "text/x-python",
   "name": "python",
   "nbconvert_exporter": "python",
   "pygments_lexer": "ipython3",
   "version": "3.10.14"
  }
 },
 "nbformat": 4,
 "nbformat_minor": 2
}
