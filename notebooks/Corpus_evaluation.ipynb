{
 "cells": [
  {
   "cell_type": "code",
   "execution_count": null,
   "metadata": {},
   "outputs": [
    {
     "name": "stderr",
     "output_type": "stream",
     "text": [
      "/home/fernandogd/Documents/Investigacion/Transformers/Repositories/ClinLinker-KB/venv/lib/python3.10/site-packages/tqdm/auto.py:21: TqdmWarning: IProgress not found. Please update jupyter and ipywidgets. See https://ipywidgets.readthedocs.io/en/stable/user_install.html\n",
      "  from .autonotebook import tqdm as notebook_tqdm\n"
     ]
    }
   ],
   "source": [
    "import os, sys\n",
    "import pandas as pd\n",
    "import json\n",
    "\n",
    "sys.path.append(os.path.join(os.getcwd(), '../src'))\n",
    "import faissEncoder as faiss_enc\n",
    "from crossEncoder import CrossEncoderReranker\n",
    "from metrics import calculate_topk_accuracy\n",
    "from utils import load_corpus_data, evaluate_model\n"
   ]
  },
  {
   "cell_type": "code",
   "execution_count": 3,
   "metadata": {},
   "outputs": [],
   "source": [
    "CORPORA = [\"DisTEMIST\", \"MedProcNER\", \"SympTEMIST\"]\n",
    "model_map = {\n",
    "    \"SapBERT-UMLS-2020AB-all-lang-from-XLMR-large\" : \"SapBERT-XLM-R-large\",\n",
    "    \"SapBERT-UMLS-2020AB-all-lang-from-XLMR\" : \"SapBERT-XLM-R-base\",\n",
    "    \"sapbert_15_noparents_1epoch\" : \"ClinLinker\",\n",
    "    \"sapbert_15_parents_1epoch\" : \"ClinLinker-KB-P\",\n",
    "    \"sapbert_15_grandparents_1epoch\" : \"ClinLinker-KB-GP\",\n",
    "    \"distemist-biencoder\" : \"DisTEMIST-bi-encoder\",\n",
    "    \"medprocner-biencoder\" : \"MedProcNER-bi-encoder\",\n",
    "    \"symptemist-biencoder\" : \"SympTEMIST-bi-encoder\",\n",
    "    \"roberta-base-biomedical-clinical-es\": \"RoBERTa-base-biomedical\"\n",
    "}\n",
    "\n",
    "F_TYPE = \"FlatIP\"\n",
    "MAX_LENGTH = 256\n",
    "\n",
    "DATA_PATH = \"/scratch/data/\"\n",
    "TOP_K_VALUES = [1, 5, 25, 50, 100, 200]\n"
   ]
  },
  {
   "cell_type": "code",
   "execution_count": null,
   "metadata": {},
   "outputs": [
    {
     "name": "stdout",
     "output_type": "stream",
     "text": [
      "2025-04-07 08:29:47,037 - INFO - Vocabulary initialized successfully. (faissEncoder.py:76)\n",
      "2025-04-07 08:30:59,571 - INFO - FAISS index fitted successfully. (faissEncoder.py:154)\n",
      "2025-04-07 08:31:21,732 - INFO - Calculating Top-k accuracy... (metrics.py:39)\n",
      "2025-04-07 08:31:21,732 - INFO - DataFrame size: 2598, Top-k values: [1, 5, 25, 50, 100, 200] (metrics.py:40)\n",
      "2025-04-07 08:31:21,900 - INFO - Top-1 accuracy: 0.5855 (metrics.py:67)\n",
      "2025-04-07 08:31:21,901 - INFO - Top-5 accuracy: 0.7244 (metrics.py:67)\n",
      "2025-04-07 08:31:21,901 - INFO - Top-25 accuracy: 0.8114 (metrics.py:67)\n",
      "2025-04-07 08:31:21,901 - INFO - Top-50 accuracy: 0.8418 (metrics.py:67)\n",
      "2025-04-07 08:31:21,902 - INFO - Top-100 accuracy: 0.8622 (metrics.py:67)\n",
      "2025-04-07 08:31:21,902 - INFO - Top-200 accuracy: 0.8737 (metrics.py:67)\n",
      "2025-04-07 08:31:21,903 - INFO - Top-k accuracy calculation complete. (metrics.py:69)\n",
      "2025-04-07 08:31:21,903 - INFO - Calculating Top-k accuracy... (metrics.py:39)\n",
      "2025-04-07 08:31:21,903 - INFO - DataFrame size: 2507, Top-k values: [1, 5, 25, 50, 100, 200] (metrics.py:40)\n",
      "2025-04-07 08:31:22,064 - INFO - Top-1 accuracy: 0.6055 (metrics.py:67)\n",
      "2025-04-07 08:31:22,065 - INFO - Top-5 accuracy: 0.7491 (metrics.py:67)\n",
      "2025-04-07 08:31:22,065 - INFO - Top-25 accuracy: 0.8400 (metrics.py:67)\n",
      "2025-04-07 08:31:22,066 - INFO - Top-50 accuracy: 0.8704 (metrics.py:67)\n",
      "2025-04-07 08:31:22,066 - INFO - Top-100 accuracy: 0.8923 (metrics.py:67)\n",
      "2025-04-07 08:31:22,066 - INFO - Top-200 accuracy: 0.9043 (metrics.py:67)\n",
      "2025-04-07 08:31:22,067 - INFO - Top-k accuracy calculation complete. (metrics.py:69)\n",
      "2025-04-07 08:31:22,067 - INFO - Calculating Top-k accuracy... (metrics.py:39)\n",
      "2025-04-07 08:31:22,068 - INFO - DataFrame size: 1375, Top-k values: [1, 5, 25, 50, 100, 200] (metrics.py:40)\n",
      "2025-04-07 08:31:22,160 - INFO - Top-1 accuracy: 0.3542 (metrics.py:67)\n",
      "2025-04-07 08:31:22,161 - INFO - Top-5 accuracy: 0.5585 (metrics.py:67)\n",
      "2025-04-07 08:31:22,161 - INFO - Top-25 accuracy: 0.7142 (metrics.py:67)\n",
      "2025-04-07 08:31:22,162 - INFO - Top-50 accuracy: 0.7680 (metrics.py:67)\n",
      "2025-04-07 08:31:22,162 - INFO - Top-100 accuracy: 0.8102 (metrics.py:67)\n",
      "2025-04-07 08:31:22,163 - INFO - Top-200 accuracy: 0.8298 (metrics.py:67)\n",
      "2025-04-07 08:31:22,163 - INFO - Top-k accuracy calculation complete. (metrics.py:69)\n",
      "2025-04-07 08:31:22,164 - INFO - Calculating Top-k accuracy... (metrics.py:39)\n",
      "2025-04-07 08:31:22,164 - INFO - DataFrame size: 1115, Top-k values: [1, 5, 25, 50, 100, 200] (metrics.py:40)\n",
      "2025-04-07 08:31:22,241 - INFO - Top-1 accuracy: 0.4054 (metrics.py:67)\n",
      "2025-04-07 08:31:22,241 - INFO - Top-5 accuracy: 0.5704 (metrics.py:67)\n",
      "2025-04-07 08:31:22,242 - INFO - Top-25 accuracy: 0.7085 (metrics.py:67)\n",
      "2025-04-07 08:31:22,242 - INFO - Top-50 accuracy: 0.7596 (metrics.py:67)\n",
      "2025-04-07 08:31:22,243 - INFO - Top-100 accuracy: 0.7955 (metrics.py:67)\n",
      "2025-04-07 08:31:22,243 - INFO - Top-200 accuracy: 0.8152 (metrics.py:67)\n",
      "2025-04-07 08:31:22,243 - INFO - Top-k accuracy calculation complete. (metrics.py:69)\n",
      "2025-04-07 08:32:04,490 - INFO - Reranking candidates... (crossEncoder.py:193)\n"
     ]
    },
    {
     "name": "stderr",
     "output_type": "stream",
     "text": [
      "Reranking candidates: 100%|██████████| 2598/2598 [04:35<00:00,  9.44it/s]"
     ]
    },
    {
     "name": "stdout",
     "output_type": "stream",
     "text": [
      "2025-04-07 08:36:39,820 - INFO - Reranking complete. (crossEncoder.py:205)\n",
      "2025-04-07 08:36:39,821 - INFO - Calculating Top-k accuracy... (metrics.py:39)\n",
      "2025-04-07 08:36:39,821 - INFO - DataFrame size: 2598, Top-k values: [1, 5, 25, 50, 100, 200] (metrics.py:40)\n"
     ]
    },
    {
     "name": "stderr",
     "output_type": "stream",
     "text": [
      "\n"
     ]
    },
    {
     "name": "stdout",
     "output_type": "stream",
     "text": [
      "2025-04-07 08:36:39,991 - INFO - Top-1 accuracy: 0.5939 (metrics.py:67)\n",
      "2025-04-07 08:36:39,992 - INFO - Top-5 accuracy: 0.7386 (metrics.py:67)\n",
      "2025-04-07 08:36:39,992 - INFO - Top-25 accuracy: 0.8345 (metrics.py:67)\n",
      "2025-04-07 08:36:39,992 - INFO - Top-50 accuracy: 0.8610 (metrics.py:67)\n",
      "2025-04-07 08:36:39,993 - INFO - Top-100 accuracy: 0.8703 (metrics.py:67)\n",
      "2025-04-07 08:36:39,993 - INFO - Top-200 accuracy: 0.8737 (metrics.py:67)\n",
      "2025-04-07 08:36:39,993 - INFO - Top-k accuracy calculation complete. (metrics.py:69)\n",
      "2025-04-07 08:36:40,000 - INFO - Reranking candidates... (crossEncoder.py:193)\n"
     ]
    },
    {
     "name": "stderr",
     "output_type": "stream",
     "text": [
      "Reranking candidates: 100%|██████████| 2507/2507 [04:36<00:00,  9.08it/s]"
     ]
    },
    {
     "name": "stdout",
     "output_type": "stream",
     "text": [
      "2025-04-07 08:41:16,007 - INFO - Reranking complete. (crossEncoder.py:205)\n",
      "2025-04-07 08:41:16,008 - INFO - Calculating Top-k accuracy... (metrics.py:39)\n",
      "2025-04-07 08:41:16,008 - INFO - DataFrame size: 2507, Top-k values: [1, 5, 25, 50, 100, 200] (metrics.py:40)\n"
     ]
    },
    {
     "name": "stderr",
     "output_type": "stream",
     "text": [
      "\n"
     ]
    },
    {
     "name": "stdout",
     "output_type": "stream",
     "text": [
      "2025-04-07 08:41:16,162 - INFO - Top-1 accuracy: 0.6155 (metrics.py:67)\n",
      "2025-04-07 08:41:16,163 - INFO - Top-5 accuracy: 0.7639 (metrics.py:67)\n",
      "2025-04-07 08:41:16,163 - INFO - Top-25 accuracy: 0.8640 (metrics.py:67)\n",
      "2025-04-07 08:41:16,163 - INFO - Top-50 accuracy: 0.8907 (metrics.py:67)\n",
      "2025-04-07 08:41:16,164 - INFO - Top-100 accuracy: 0.9007 (metrics.py:67)\n",
      "2025-04-07 08:41:16,164 - INFO - Top-200 accuracy: 0.9043 (metrics.py:67)\n",
      "2025-04-07 08:41:16,165 - INFO - Top-k accuracy calculation complete. (metrics.py:69)\n",
      "2025-04-07 08:41:16,171 - INFO - Reranking candidates... (crossEncoder.py:193)\n"
     ]
    },
    {
     "name": "stderr",
     "output_type": "stream",
     "text": [
      "Reranking candidates: 100%|██████████| 1375/1375 [02:57<00:00,  7.76it/s]"
     ]
    },
    {
     "name": "stdout",
     "output_type": "stream",
     "text": [
      "2025-04-07 08:44:13,451 - INFO - Reranking complete. (crossEncoder.py:205)\n",
      "2025-04-07 08:44:13,452 - INFO - Calculating Top-k accuracy... (metrics.py:39)\n",
      "2025-04-07 08:44:13,452 - INFO - DataFrame size: 1375, Top-k values: [1, 5, 25, 50, 100, 200] (metrics.py:40)\n"
     ]
    },
    {
     "name": "stderr",
     "output_type": "stream",
     "text": [
      "\n"
     ]
    },
    {
     "name": "stdout",
     "output_type": "stream",
     "text": [
      "2025-04-07 08:44:13,545 - INFO - Top-1 accuracy: 0.3905 (metrics.py:67)\n",
      "2025-04-07 08:44:13,545 - INFO - Top-5 accuracy: 0.5818 (metrics.py:67)\n",
      "2025-04-07 08:44:13,546 - INFO - Top-25 accuracy: 0.7556 (metrics.py:67)\n",
      "2025-04-07 08:44:13,546 - INFO - Top-50 accuracy: 0.8051 (metrics.py:67)\n",
      "2025-04-07 08:44:13,546 - INFO - Top-100 accuracy: 0.8233 (metrics.py:67)\n",
      "2025-04-07 08:44:13,547 - INFO - Top-200 accuracy: 0.8298 (metrics.py:67)\n",
      "2025-04-07 08:44:13,547 - INFO - Top-k accuracy calculation complete. (metrics.py:69)\n",
      "2025-04-07 08:44:13,552 - INFO - Reranking candidates... (crossEncoder.py:193)\n"
     ]
    },
    {
     "name": "stderr",
     "output_type": "stream",
     "text": [
      "Reranking candidates: 100%|██████████| 1115/1115 [02:24<00:00,  7.70it/s]"
     ]
    },
    {
     "name": "stdout",
     "output_type": "stream",
     "text": [
      "2025-04-07 08:46:38,328 - INFO - Reranking complete. (crossEncoder.py:205)\n",
      "2025-04-07 08:46:38,329 - INFO - Calculating Top-k accuracy... (metrics.py:39)\n",
      "2025-04-07 08:46:38,329 - INFO - DataFrame size: 1115, Top-k values: [1, 5, 25, 50, 100, 200] (metrics.py:40)\n",
      "2025-04-07 08:46:38,408 - INFO - Top-1 accuracy: 0.4233 (metrics.py:67)\n",
      "2025-04-07 08:46:38,408 - INFO - Top-5 accuracy: 0.6000 (metrics.py:67)\n",
      "2025-04-07 08:46:38,409 - INFO - Top-25 accuracy: 0.7426 (metrics.py:67)\n",
      "2025-04-07 08:46:38,409 - INFO - Top-50 accuracy: 0.7964 (metrics.py:67)\n",
      "2025-04-07 08:46:38,409 - INFO - Top-100 accuracy: 0.8117 (metrics.py:67)\n",
      "2025-04-07 08:46:38,410 - INFO - Top-200 accuracy: 0.8152 (metrics.py:67)\n",
      "2025-04-07 08:46:38,410 - INFO - Top-k accuracy calculation complete. (metrics.py:69)\n"
     ]
    },
    {
     "name": "stderr",
     "output_type": "stream",
     "text": [
      "\n"
     ]
    },
    {
     "name": "stdout",
     "output_type": "stream",
     "text": [
      "2025-04-07 08:46:45,644 - INFO - Vocabulary initialized successfully. (faissEncoder.py:76)\n",
      "2025-04-07 08:48:11,395 - INFO - FAISS index fitted successfully. (faissEncoder.py:154)\n",
      "2025-04-07 08:48:33,487 - INFO - Calculating Top-k accuracy... (metrics.py:39)\n",
      "2025-04-07 08:48:33,488 - INFO - DataFrame size: 2598, Top-k values: [1, 5, 25, 50, 100, 200] (metrics.py:40)\n",
      "2025-04-07 08:48:33,659 - INFO - Top-1 accuracy: 0.5804 (metrics.py:67)\n",
      "2025-04-07 08:48:33,660 - INFO - Top-5 accuracy: 0.7263 (metrics.py:67)\n",
      "2025-04-07 08:48:33,660 - INFO - Top-25 accuracy: 0.8018 (metrics.py:67)\n",
      "2025-04-07 08:48:33,660 - INFO - Top-50 accuracy: 0.8306 (metrics.py:67)\n",
      "2025-04-07 08:48:33,661 - INFO - Top-100 accuracy: 0.8510 (metrics.py:67)\n",
      "2025-04-07 08:48:33,661 - INFO - Top-200 accuracy: 0.8610 (metrics.py:67)\n",
      "2025-04-07 08:48:33,661 - INFO - Top-k accuracy calculation complete. (metrics.py:69)\n",
      "2025-04-07 08:48:33,662 - INFO - Calculating Top-k accuracy... (metrics.py:39)\n",
      "2025-04-07 08:48:33,662 - INFO - DataFrame size: 2507, Top-k values: [1, 5, 25, 50, 100, 200] (metrics.py:40)\n",
      "2025-04-07 08:48:33,829 - INFO - Top-1 accuracy: 0.6031 (metrics.py:67)\n",
      "2025-04-07 08:48:33,829 - INFO - Top-5 accuracy: 0.7523 (metrics.py:67)\n",
      "2025-04-07 08:48:33,830 - INFO - Top-25 accuracy: 0.8297 (metrics.py:67)\n",
      "2025-04-07 08:48:33,830 - INFO - Top-50 accuracy: 0.8600 (metrics.py:67)\n",
      "2025-04-07 08:48:33,830 - INFO - Top-100 accuracy: 0.8815 (metrics.py:67)\n",
      "2025-04-07 08:48:33,831 - INFO - Top-200 accuracy: 0.8911 (metrics.py:67)\n",
      "2025-04-07 08:48:33,831 - INFO - Top-k accuracy calculation complete. (metrics.py:69)\n",
      "2025-04-07 08:48:33,831 - INFO - Calculating Top-k accuracy... (metrics.py:39)\n",
      "2025-04-07 08:48:33,832 - INFO - DataFrame size: 1375, Top-k values: [1, 5, 25, 50, 100, 200] (metrics.py:40)\n",
      "2025-04-07 08:48:33,926 - INFO - Top-1 accuracy: 0.3404 (metrics.py:67)\n",
      "2025-04-07 08:48:33,927 - INFO - Top-5 accuracy: 0.5600 (metrics.py:67)\n",
      "2025-04-07 08:48:33,927 - INFO - Top-25 accuracy: 0.6967 (metrics.py:67)\n",
      "2025-04-07 08:48:33,927 - INFO - Top-50 accuracy: 0.7484 (metrics.py:67)\n",
      "2025-04-07 08:48:33,928 - INFO - Top-100 accuracy: 0.7898 (metrics.py:67)\n",
      "2025-04-07 08:48:33,928 - INFO - Top-200 accuracy: 0.8036 (metrics.py:67)\n",
      "2025-04-07 08:48:33,928 - INFO - Top-k accuracy calculation complete. (metrics.py:69)\n",
      "2025-04-07 08:48:33,929 - INFO - Calculating Top-k accuracy... (metrics.py:39)\n",
      "2025-04-07 08:48:33,929 - INFO - DataFrame size: 1115, Top-k values: [1, 5, 25, 50, 100, 200] (metrics.py:40)\n",
      "2025-04-07 08:48:34,006 - INFO - Top-1 accuracy: 0.3964 (metrics.py:67)\n",
      "2025-04-07 08:48:34,007 - INFO - Top-5 accuracy: 0.5776 (metrics.py:67)\n",
      "2025-04-07 08:48:34,007 - INFO - Top-25 accuracy: 0.6915 (metrics.py:67)\n",
      "2025-04-07 08:48:34,007 - INFO - Top-50 accuracy: 0.7408 (metrics.py:67)\n",
      "2025-04-07 08:48:34,008 - INFO - Top-100 accuracy: 0.7758 (metrics.py:67)\n",
      "2025-04-07 08:48:34,008 - INFO - Top-200 accuracy: 0.7928 (metrics.py:67)\n",
      "2025-04-07 08:48:34,008 - INFO - Top-k accuracy calculation complete. (metrics.py:69)\n",
      "2025-04-07 08:49:10,754 - INFO - Reranking candidates... (crossEncoder.py:193)\n"
     ]
    },
    {
     "name": "stderr",
     "output_type": "stream",
     "text": [
      "Reranking candidates: 100%|██████████| 2598/2598 [08:04<00:00,  5.36it/s]  "
     ]
    },
    {
     "name": "stdout",
     "output_type": "stream",
     "text": [
      "2025-04-07 08:57:15,693 - INFO - Reranking complete. (crossEncoder.py:205)\n",
      "2025-04-07 08:57:15,693 - INFO - Calculating Top-k accuracy... (metrics.py:39)\n",
      "2025-04-07 08:57:15,694 - INFO - DataFrame size: 2598, Top-k values: [1, 5, 25, 50, 100, 200] (metrics.py:40)\n"
     ]
    },
    {
     "name": "stderr",
     "output_type": "stream",
     "text": [
      "\n"
     ]
    },
    {
     "name": "stdout",
     "output_type": "stream",
     "text": [
      "2025-04-07 08:57:15,857 - INFO - Top-1 accuracy: 0.5812 (metrics.py:67)\n",
      "2025-04-07 08:57:15,858 - INFO - Top-5 accuracy: 0.7548 (metrics.py:67)\n",
      "2025-04-07 08:57:15,858 - INFO - Top-25 accuracy: 0.8241 (metrics.py:67)\n",
      "2025-04-07 08:57:15,858 - INFO - Top-50 accuracy: 0.8433 (metrics.py:67)\n",
      "2025-04-07 08:57:15,859 - INFO - Top-100 accuracy: 0.8560 (metrics.py:67)\n",
      "2025-04-07 08:57:15,860 - INFO - Top-200 accuracy: 0.8610 (metrics.py:67)\n",
      "2025-04-07 08:57:15,860 - INFO - Top-k accuracy calculation complete. (metrics.py:69)\n",
      "2025-04-07 08:57:15,866 - INFO - Reranking candidates... (crossEncoder.py:193)\n"
     ]
    },
    {
     "name": "stderr",
     "output_type": "stream",
     "text": [
      "Reranking candidates: 100%|██████████| 2507/2507 [04:39<00:00,  8.96it/s]"
     ]
    },
    {
     "name": "stdout",
     "output_type": "stream",
     "text": [
      "2025-04-07 09:01:55,553 - INFO - Reranking complete. (crossEncoder.py:205)\n",
      "2025-04-07 09:01:55,553 - INFO - Calculating Top-k accuracy... (metrics.py:39)\n",
      "2025-04-07 09:01:55,554 - INFO - DataFrame size: 2507, Top-k values: [1, 5, 25, 50, 100, 200] (metrics.py:40)\n"
     ]
    },
    {
     "name": "stderr",
     "output_type": "stream",
     "text": [
      "\n"
     ]
    },
    {
     "name": "stdout",
     "output_type": "stream",
     "text": [
      "2025-04-07 09:01:55,721 - INFO - Top-1 accuracy: 0.6039 (metrics.py:67)\n",
      "2025-04-07 09:01:55,722 - INFO - Top-5 accuracy: 0.7822 (metrics.py:67)\n",
      "2025-04-07 09:01:55,722 - INFO - Top-25 accuracy: 0.8532 (metrics.py:67)\n",
      "2025-04-07 09:01:55,723 - INFO - Top-50 accuracy: 0.8732 (metrics.py:67)\n",
      "2025-04-07 09:01:55,723 - INFO - Top-100 accuracy: 0.8859 (metrics.py:67)\n",
      "2025-04-07 09:01:55,723 - INFO - Top-200 accuracy: 0.8911 (metrics.py:67)\n",
      "2025-04-07 09:01:55,723 - INFO - Top-k accuracy calculation complete. (metrics.py:69)\n",
      "2025-04-07 09:01:55,730 - INFO - Reranking candidates... (crossEncoder.py:193)\n"
     ]
    },
    {
     "name": "stderr",
     "output_type": "stream",
     "text": [
      "Reranking candidates: 100%|██████████| 1375/1375 [03:03<00:00,  7.48it/s]"
     ]
    },
    {
     "name": "stdout",
     "output_type": "stream",
     "text": [
      "2025-04-07 09:04:59,634 - INFO - Reranking complete. (crossEncoder.py:205)\n",
      "2025-04-07 09:04:59,635 - INFO - Calculating Top-k accuracy... (metrics.py:39)\n",
      "2025-04-07 09:04:59,635 - INFO - DataFrame size: 1375, Top-k values: [1, 5, 25, 50, 100, 200] (metrics.py:40)\n"
     ]
    },
    {
     "name": "stderr",
     "output_type": "stream",
     "text": [
      "\n"
     ]
    },
    {
     "name": "stdout",
     "output_type": "stream",
     "text": [
      "2025-04-07 09:04:59,729 - INFO - Top-1 accuracy: 0.3724 (metrics.py:67)\n",
      "2025-04-07 09:04:59,729 - INFO - Top-5 accuracy: 0.6087 (metrics.py:67)\n",
      "2025-04-07 09:04:59,730 - INFO - Top-25 accuracy: 0.7345 (metrics.py:67)\n",
      "2025-04-07 09:04:59,730 - INFO - Top-50 accuracy: 0.7702 (metrics.py:67)\n",
      "2025-04-07 09:04:59,731 - INFO - Top-100 accuracy: 0.7949 (metrics.py:67)\n",
      "2025-04-07 09:04:59,731 - INFO - Top-200 accuracy: 0.8036 (metrics.py:67)\n",
      "2025-04-07 09:04:59,731 - INFO - Top-k accuracy calculation complete. (metrics.py:69)\n",
      "2025-04-07 09:04:59,736 - INFO - Reranking candidates... (crossEncoder.py:193)\n"
     ]
    },
    {
     "name": "stderr",
     "output_type": "stream",
     "text": [
      "Reranking candidates: 100%|██████████| 1115/1115 [02:23<00:00,  7.75it/s]"
     ]
    },
    {
     "name": "stdout",
     "output_type": "stream",
     "text": [
      "2025-04-07 09:07:23,599 - INFO - Reranking complete. (crossEncoder.py:205)\n",
      "2025-04-07 09:07:23,599 - INFO - Calculating Top-k accuracy... (metrics.py:39)\n",
      "2025-04-07 09:07:23,600 - INFO - DataFrame size: 1115, Top-k values: [1, 5, 25, 50, 100, 200] (metrics.py:40)\n",
      "2025-04-07 09:07:23,677 - INFO - Top-1 accuracy: 0.4135 (metrics.py:67)\n",
      "2025-04-07 09:07:23,678 - INFO - Top-5 accuracy: 0.6179 (metrics.py:67)\n",
      "2025-04-07 09:07:23,678 - INFO - Top-25 accuracy: 0.7372 (metrics.py:67)\n",
      "2025-04-07 09:07:23,678 - INFO - Top-50 accuracy: 0.7695 (metrics.py:67)\n",
      "2025-04-07 09:07:23,680 - INFO - Top-100 accuracy: 0.7892 (metrics.py:67)\n",
      "2025-04-07 09:07:23,680 - INFO - Top-200 accuracy: 0.7928 (metrics.py:67)\n",
      "2025-04-07 09:07:23,681 - INFO - Top-k accuracy calculation complete. (metrics.py:69)\n"
     ]
    },
    {
     "name": "stderr",
     "output_type": "stream",
     "text": [
      "\n"
     ]
    },
    {
     "name": "stdout",
     "output_type": "stream",
     "text": [
      "2025-04-07 09:14:23,568 - INFO - Vocabulary initialized successfully. (faissEncoder.py:76)\n",
      "2025-04-07 09:15:37,330 - INFO - FAISS index fitted successfully. (faissEncoder.py:154)\n",
      "2025-04-07 09:15:59,825 - INFO - Calculating Top-k accuracy... (metrics.py:39)\n",
      "2025-04-07 09:15:59,825 - INFO - DataFrame size: 2598, Top-k values: [1, 5, 25, 50, 100, 200] (metrics.py:40)\n",
      "2025-04-07 09:15:59,997 - INFO - Top-1 accuracy: 0.5808 (metrics.py:67)\n",
      "2025-04-07 09:15:59,998 - INFO - Top-5 accuracy: 0.7206 (metrics.py:67)\n",
      "2025-04-07 09:15:59,998 - INFO - Top-25 accuracy: 0.7887 (metrics.py:67)\n",
      "2025-04-07 09:15:59,998 - INFO - Top-50 accuracy: 0.8137 (metrics.py:67)\n",
      "2025-04-07 09:15:59,999 - INFO - Top-100 accuracy: 0.8395 (metrics.py:67)\n",
      "2025-04-07 09:15:59,999 - INFO - Top-200 accuracy: 0.8545 (metrics.py:67)\n",
      "2025-04-07 09:15:59,999 - INFO - Top-k accuracy calculation complete. (metrics.py:69)\n",
      "2025-04-07 09:16:00,000 - INFO - Calculating Top-k accuracy... (metrics.py:39)\n",
      "2025-04-07 09:16:00,000 - INFO - DataFrame size: 2507, Top-k values: [1, 5, 25, 50, 100, 200] (metrics.py:40)\n",
      "2025-04-07 09:16:00,164 - INFO - Top-1 accuracy: 0.6015 (metrics.py:67)\n",
      "2025-04-07 09:16:00,164 - INFO - Top-5 accuracy: 0.7447 (metrics.py:67)\n",
      "2025-04-07 09:16:00,165 - INFO - Top-25 accuracy: 0.8161 (metrics.py:67)\n",
      "2025-04-07 09:16:00,165 - INFO - Top-50 accuracy: 0.8424 (metrics.py:67)\n",
      "2025-04-07 09:16:00,165 - INFO - Top-100 accuracy: 0.8684 (metrics.py:67)\n",
      "2025-04-07 09:16:00,166 - INFO - Top-200 accuracy: 0.8847 (metrics.py:67)\n",
      "2025-04-07 09:16:00,166 - INFO - Top-k accuracy calculation complete. (metrics.py:69)\n",
      "2025-04-07 09:16:00,167 - INFO - Calculating Top-k accuracy... (metrics.py:39)\n",
      "2025-04-07 09:16:00,167 - INFO - DataFrame size: 1375, Top-k values: [1, 5, 25, 50, 100, 200] (metrics.py:40)\n",
      "2025-04-07 09:16:00,262 - INFO - Top-1 accuracy: 0.3404 (metrics.py:67)\n",
      "2025-04-07 09:16:00,262 - INFO - Top-5 accuracy: 0.5462 (metrics.py:67)\n",
      "2025-04-07 09:16:00,263 - INFO - Top-25 accuracy: 0.6778 (metrics.py:67)\n",
      "2025-04-07 09:16:00,263 - INFO - Top-50 accuracy: 0.7215 (metrics.py:67)\n",
      "2025-04-07 09:16:00,263 - INFO - Top-100 accuracy: 0.7665 (metrics.py:67)\n",
      "2025-04-07 09:16:00,264 - INFO - Top-200 accuracy: 0.7913 (metrics.py:67)\n",
      "2025-04-07 09:16:00,264 - INFO - Top-k accuracy calculation complete. (metrics.py:69)\n",
      "2025-04-07 09:16:00,265 - INFO - Calculating Top-k accuracy... (metrics.py:39)\n",
      "2025-04-07 09:16:00,265 - INFO - DataFrame size: 1115, Top-k values: [1, 5, 25, 50, 100, 200] (metrics.py:40)\n",
      "2025-04-07 09:16:00,344 - INFO - Top-1 accuracy: 0.3901 (metrics.py:67)\n",
      "2025-04-07 09:16:00,345 - INFO - Top-5 accuracy: 0.5650 (metrics.py:67)\n",
      "2025-04-07 09:16:00,345 - INFO - Top-25 accuracy: 0.6646 (metrics.py:67)\n",
      "2025-04-07 09:16:00,345 - INFO - Top-50 accuracy: 0.7121 (metrics.py:67)\n",
      "2025-04-07 09:16:00,346 - INFO - Top-100 accuracy: 0.7561 (metrics.py:67)\n",
      "2025-04-07 09:16:00,346 - INFO - Top-200 accuracy: 0.7794 (metrics.py:67)\n",
      "2025-04-07 09:16:00,346 - INFO - Top-k accuracy calculation complete. (metrics.py:69)\n",
      "2025-04-07 09:16:59,137 - INFO - Reranking candidates... (crossEncoder.py:193)\n"
     ]
    },
    {
     "name": "stderr",
     "output_type": "stream",
     "text": [
      "Reranking candidates: 100%|██████████| 2598/2598 [10:32<00:00,  4.11it/s]  "
     ]
    },
    {
     "name": "stdout",
     "output_type": "stream",
     "text": [
      "2025-04-07 09:27:31,364 - INFO - Reranking complete. (crossEncoder.py:205)\n",
      "2025-04-07 09:27:31,365 - INFO - Calculating Top-k accuracy... (metrics.py:39)\n",
      "2025-04-07 09:27:31,365 - INFO - DataFrame size: 2598, Top-k values: [1, 5, 25, 50, 100, 200] (metrics.py:40)\n"
     ]
    },
    {
     "name": "stderr",
     "output_type": "stream",
     "text": [
      "\n"
     ]
    },
    {
     "name": "stdout",
     "output_type": "stream",
     "text": [
      "2025-04-07 09:27:31,530 - INFO - Top-1 accuracy: 0.5820 (metrics.py:67)\n",
      "2025-04-07 09:27:31,531 - INFO - Top-5 accuracy: 0.7433 (metrics.py:67)\n",
      "2025-04-07 09:27:31,531 - INFO - Top-25 accuracy: 0.8164 (metrics.py:67)\n",
      "2025-04-07 09:27:31,532 - INFO - Top-50 accuracy: 0.8383 (metrics.py:67)\n",
      "2025-04-07 09:27:31,532 - INFO - Top-100 accuracy: 0.8518 (metrics.py:67)\n",
      "2025-04-07 09:27:31,532 - INFO - Top-200 accuracy: 0.8545 (metrics.py:67)\n",
      "2025-04-07 09:27:31,533 - INFO - Top-k accuracy calculation complete. (metrics.py:69)\n",
      "2025-04-07 09:27:31,538 - INFO - Reranking candidates... (crossEncoder.py:193)\n"
     ]
    },
    {
     "name": "stderr",
     "output_type": "stream",
     "text": [
      "Reranking candidates: 100%|██████████| 2507/2507 [03:46<00:00, 11.07it/s]"
     ]
    },
    {
     "name": "stdout",
     "output_type": "stream",
     "text": [
      "2025-04-07 09:31:18,088 - INFO - Reranking complete. (crossEncoder.py:205)\n",
      "2025-04-07 09:31:18,088 - INFO - Calculating Top-k accuracy... (metrics.py:39)\n",
      "2025-04-07 09:31:18,089 - INFO - DataFrame size: 2507, Top-k values: [1, 5, 25, 50, 100, 200] (metrics.py:40)\n"
     ]
    },
    {
     "name": "stderr",
     "output_type": "stream",
     "text": [
      "\n"
     ]
    },
    {
     "name": "stdout",
     "output_type": "stream",
     "text": [
      "2025-04-07 09:31:18,249 - INFO - Top-1 accuracy: 0.6035 (metrics.py:67)\n",
      "2025-04-07 09:31:18,249 - INFO - Top-5 accuracy: 0.7690 (metrics.py:67)\n",
      "2025-04-07 09:31:18,249 - INFO - Top-25 accuracy: 0.8448 (metrics.py:67)\n",
      "2025-04-07 09:31:18,250 - INFO - Top-50 accuracy: 0.8680 (metrics.py:67)\n",
      "2025-04-07 09:31:18,250 - INFO - Top-100 accuracy: 0.8819 (metrics.py:67)\n",
      "2025-04-07 09:31:18,250 - INFO - Top-200 accuracy: 0.8847 (metrics.py:67)\n",
      "2025-04-07 09:31:18,251 - INFO - Top-k accuracy calculation complete. (metrics.py:69)\n",
      "2025-04-07 09:31:18,256 - INFO - Reranking candidates... (crossEncoder.py:193)\n"
     ]
    },
    {
     "name": "stderr",
     "output_type": "stream",
     "text": [
      "Reranking candidates: 100%|██████████| 1375/1375 [02:34<00:00,  8.88it/s]"
     ]
    },
    {
     "name": "stdout",
     "output_type": "stream",
     "text": [
      "2025-04-07 09:33:53,096 - INFO - Reranking complete. (crossEncoder.py:205)\n",
      "2025-04-07 09:33:53,096 - INFO - Calculating Top-k accuracy... (metrics.py:39)\n",
      "2025-04-07 09:33:53,096 - INFO - DataFrame size: 1375, Top-k values: [1, 5, 25, 50, 100, 200] (metrics.py:40)\n",
      "2025-04-07 09:33:53,190 - INFO - Top-1 accuracy: 0.3651 (metrics.py:67)\n",
      "2025-04-07 09:33:53,190 - INFO - Top-5 accuracy: 0.5905 (metrics.py:67)\n",
      "2025-04-07 09:33:53,190 - INFO - Top-25 accuracy: 0.7200 (metrics.py:67)\n",
      "2025-04-07 09:33:53,191 - INFO - Top-50 accuracy: 0.7615 (metrics.py:67)\n",
      "2025-04-07 09:33:53,192 - INFO - Top-100 accuracy: 0.7869 (metrics.py:67)\n",
      "2025-04-07 09:33:53,192 - INFO - Top-200 accuracy: 0.7913 (metrics.py:67)\n",
      "2025-04-07 09:33:53,192 - INFO - Top-k accuracy calculation complete. (metrics.py:69)\n",
      "2025-04-07 09:33:53,197 - INFO - Reranking candidates... (crossEncoder.py:193)\n"
     ]
    },
    {
     "name": "stderr",
     "output_type": "stream",
     "text": [
      "\n",
      "Reranking candidates: 100%|██████████| 1115/1115 [02:13<00:00,  8.37it/s]"
     ]
    },
    {
     "name": "stdout",
     "output_type": "stream",
     "text": [
      "2025-04-07 09:36:06,344 - INFO - Reranking complete. (crossEncoder.py:205)\n",
      "2025-04-07 09:36:06,345 - INFO - Calculating Top-k accuracy... (metrics.py:39)\n",
      "2025-04-07 09:36:06,345 - INFO - DataFrame size: 1115, Top-k values: [1, 5, 25, 50, 100, 200] (metrics.py:40)\n"
     ]
    },
    {
     "name": "stderr",
     "output_type": "stream",
     "text": [
      "\n"
     ]
    },
    {
     "name": "stdout",
     "output_type": "stream",
     "text": [
      "2025-04-07 09:36:06,424 - INFO - Top-1 accuracy: 0.4135 (metrics.py:67)\n",
      "2025-04-07 09:36:06,425 - INFO - Top-5 accuracy: 0.5946 (metrics.py:67)\n",
      "2025-04-07 09:36:06,425 - INFO - Top-25 accuracy: 0.7103 (metrics.py:67)\n",
      "2025-04-07 09:36:06,425 - INFO - Top-50 accuracy: 0.7489 (metrics.py:67)\n",
      "2025-04-07 09:36:06,426 - INFO - Top-100 accuracy: 0.7758 (metrics.py:67)\n",
      "2025-04-07 09:36:06,426 - INFO - Top-200 accuracy: 0.7794 (metrics.py:67)\n",
      "2025-04-07 09:36:06,427 - INFO - Top-k accuracy calculation complete. (metrics.py:69)\n",
      "2025-04-07 09:43:22,768 - INFO - Vocabulary initialized successfully. (faissEncoder.py:76)\n",
      "2025-04-07 09:44:30,668 - INFO - FAISS index fitted successfully. (faissEncoder.py:154)\n",
      "2025-04-07 09:44:53,158 - INFO - Calculating Top-k accuracy... (metrics.py:39)\n",
      "2025-04-07 09:44:53,159 - INFO - DataFrame size: 2598, Top-k values: [1, 5, 25, 50, 100, 200] (metrics.py:40)\n",
      "2025-04-07 09:44:53,324 - INFO - Top-1 accuracy: 0.5558 (metrics.py:67)\n",
      "2025-04-07 09:44:53,324 - INFO - Top-5 accuracy: 0.6990 (metrics.py:67)\n",
      "2025-04-07 09:44:53,325 - INFO - Top-25 accuracy: 0.7821 (metrics.py:67)\n",
      "2025-04-07 09:44:53,325 - INFO - Top-50 accuracy: 0.8099 (metrics.py:67)\n",
      "2025-04-07 09:44:53,325 - INFO - Top-100 accuracy: 0.8353 (metrics.py:67)\n",
      "2025-04-07 09:44:53,326 - INFO - Top-200 accuracy: 0.8483 (metrics.py:67)\n",
      "2025-04-07 09:44:53,326 - INFO - Top-k accuracy calculation complete. (metrics.py:69)\n",
      "2025-04-07 09:44:53,327 - INFO - Calculating Top-k accuracy... (metrics.py:39)\n",
      "2025-04-07 09:44:53,327 - INFO - DataFrame size: 2507, Top-k values: [1, 5, 25, 50, 100, 200] (metrics.py:40)\n",
      "2025-04-07 09:44:53,482 - INFO - Top-1 accuracy: 0.5784 (metrics.py:67)\n",
      "2025-04-07 09:44:53,482 - INFO - Top-5 accuracy: 0.7228 (metrics.py:67)\n",
      "2025-04-07 09:44:53,483 - INFO - Top-25 accuracy: 0.8093 (metrics.py:67)\n",
      "2025-04-07 09:44:53,483 - INFO - Top-50 accuracy: 0.8377 (metrics.py:67)\n",
      "2025-04-07 09:44:53,484 - INFO - Top-100 accuracy: 0.8648 (metrics.py:67)\n",
      "2025-04-07 09:44:53,484 - INFO - Top-200 accuracy: 0.8783 (metrics.py:67)\n",
      "2025-04-07 09:44:53,485 - INFO - Top-k accuracy calculation complete. (metrics.py:69)\n",
      "2025-04-07 09:44:53,485 - INFO - Calculating Top-k accuracy... (metrics.py:39)\n",
      "2025-04-07 09:44:53,485 - INFO - DataFrame size: 1375, Top-k values: [1, 5, 25, 50, 100, 200] (metrics.py:40)\n",
      "2025-04-07 09:44:53,576 - INFO - Top-1 accuracy: 0.3011 (metrics.py:67)\n",
      "2025-04-07 09:44:53,576 - INFO - Top-5 accuracy: 0.5062 (metrics.py:67)\n",
      "2025-04-07 09:44:53,577 - INFO - Top-25 accuracy: 0.6618 (metrics.py:67)\n",
      "2025-04-07 09:44:53,577 - INFO - Top-50 accuracy: 0.7120 (metrics.py:67)\n",
      "2025-04-07 09:44:53,578 - INFO - Top-100 accuracy: 0.7600 (metrics.py:67)\n",
      "2025-04-07 09:44:53,578 - INFO - Top-200 accuracy: 0.7840 (metrics.py:67)\n",
      "2025-04-07 09:44:53,579 - INFO - Top-k accuracy calculation complete. (metrics.py:69)\n",
      "2025-04-07 09:44:53,579 - INFO - Calculating Top-k accuracy... (metrics.py:39)\n",
      "2025-04-07 09:44:53,579 - INFO - DataFrame size: 1115, Top-k values: [1, 5, 25, 50, 100, 200] (metrics.py:40)\n",
      "2025-04-07 09:44:53,652 - INFO - Top-1 accuracy: 0.3614 (metrics.py:67)\n",
      "2025-04-07 09:44:53,653 - INFO - Top-5 accuracy: 0.5309 (metrics.py:67)\n",
      "2025-04-07 09:44:53,653 - INFO - Top-25 accuracy: 0.6646 (metrics.py:67)\n",
      "2025-04-07 09:44:53,654 - INFO - Top-50 accuracy: 0.7085 (metrics.py:67)\n",
      "2025-04-07 09:44:53,654 - INFO - Top-100 accuracy: 0.7534 (metrics.py:67)\n",
      "2025-04-07 09:44:53,655 - INFO - Top-200 accuracy: 0.7767 (metrics.py:67)\n",
      "2025-04-07 09:44:53,655 - INFO - Top-k accuracy calculation complete. (metrics.py:69)\n",
      "2025-04-07 09:59:22,002 - INFO - Vocabulary initialized successfully. (faissEncoder.py:76)\n",
      "2025-04-07 10:04:35,647 - INFO - FAISS index fitted successfully. (faissEncoder.py:154)\n",
      "2025-04-07 10:05:15,869 - INFO - Calculating Top-k accuracy... (metrics.py:39)\n",
      "2025-04-07 10:05:15,870 - INFO - DataFrame size: 2598, Top-k values: [1, 5, 25, 50, 100, 200] (metrics.py:40)\n",
      "2025-04-07 10:05:16,027 - INFO - Top-1 accuracy: 0.5889 (metrics.py:67)\n",
      "2025-04-07 10:05:16,028 - INFO - Top-5 accuracy: 0.7113 (metrics.py:67)\n",
      "2025-04-07 10:05:16,028 - INFO - Top-25 accuracy: 0.7737 (metrics.py:67)\n",
      "2025-04-07 10:05:16,029 - INFO - Top-50 accuracy: 0.7929 (metrics.py:67)\n",
      "2025-04-07 10:05:16,029 - INFO - Top-100 accuracy: 0.8106 (metrics.py:67)\n",
      "2025-04-07 10:05:16,029 - INFO - Top-200 accuracy: 0.8226 (metrics.py:67)\n",
      "2025-04-07 10:05:16,030 - INFO - Top-k accuracy calculation complete. (metrics.py:69)\n",
      "2025-04-07 10:05:16,030 - INFO - Calculating Top-k accuracy... (metrics.py:39)\n",
      "2025-04-07 10:05:16,031 - INFO - DataFrame size: 2507, Top-k values: [1, 5, 25, 50, 100, 200] (metrics.py:40)\n",
      "2025-04-07 10:05:16,190 - INFO - Top-1 accuracy: 0.6103 (metrics.py:67)\n",
      "2025-04-07 10:05:16,190 - INFO - Top-5 accuracy: 0.7339 (metrics.py:67)\n",
      "2025-04-07 10:05:16,191 - INFO - Top-25 accuracy: 0.8002 (metrics.py:67)\n",
      "2025-04-07 10:05:16,191 - INFO - Top-50 accuracy: 0.8201 (metrics.py:67)\n",
      "2025-04-07 10:05:16,191 - INFO - Top-100 accuracy: 0.8385 (metrics.py:67)\n",
      "2025-04-07 10:05:16,192 - INFO - Top-200 accuracy: 0.8512 (metrics.py:67)\n",
      "2025-04-07 10:05:16,192 - INFO - Top-k accuracy calculation complete. (metrics.py:69)\n",
      "2025-04-07 10:05:16,193 - INFO - Calculating Top-k accuracy... (metrics.py:39)\n",
      "2025-04-07 10:05:16,193 - INFO - DataFrame size: 1375, Top-k values: [1, 5, 25, 50, 100, 200] (metrics.py:40)\n",
      "2025-04-07 10:05:16,283 - INFO - Top-1 accuracy: 0.3571 (metrics.py:67)\n",
      "2025-04-07 10:05:16,283 - INFO - Top-5 accuracy: 0.5295 (metrics.py:67)\n",
      "2025-04-07 10:05:16,284 - INFO - Top-25 accuracy: 0.6436 (metrics.py:67)\n",
      "2025-04-07 10:05:16,284 - INFO - Top-50 accuracy: 0.6800 (metrics.py:67)\n",
      "2025-04-07 10:05:16,284 - INFO - Top-100 accuracy: 0.7127 (metrics.py:67)\n",
      "2025-04-07 10:05:16,285 - INFO - Top-200 accuracy: 0.7338 (metrics.py:67)\n",
      "2025-04-07 10:05:16,285 - INFO - Top-k accuracy calculation complete. (metrics.py:69)\n",
      "2025-04-07 10:05:16,285 - INFO - Calculating Top-k accuracy... (metrics.py:39)\n",
      "2025-04-07 10:05:16,286 - INFO - DataFrame size: 1115, Top-k values: [1, 5, 25, 50, 100, 200] (metrics.py:40)\n",
      "2025-04-07 10:05:16,361 - INFO - Top-1 accuracy: 0.4036 (metrics.py:67)\n",
      "2025-04-07 10:05:16,362 - INFO - Top-5 accuracy: 0.5605 (metrics.py:67)\n",
      "2025-04-07 10:05:16,362 - INFO - Top-25 accuracy: 0.6511 (metrics.py:67)\n",
      "2025-04-07 10:05:16,362 - INFO - Top-50 accuracy: 0.6834 (metrics.py:67)\n",
      "2025-04-07 10:05:16,363 - INFO - Top-100 accuracy: 0.7130 (metrics.py:67)\n",
      "2025-04-07 10:05:16,363 - INFO - Top-200 accuracy: 0.7327 (metrics.py:67)\n",
      "2025-04-07 10:05:16,364 - INFO - Top-k accuracy calculation complete. (metrics.py:69)\n",
      "2025-04-07 10:05:31,059 - INFO - Vocabulary initialized successfully. (faissEncoder.py:76)\n",
      "2025-04-07 10:07:11,143 - INFO - FAISS index fitted successfully. (faissEncoder.py:154)\n",
      "2025-04-07 10:07:35,064 - INFO - Calculating Top-k accuracy... (metrics.py:39)\n",
      "2025-04-07 10:07:35,065 - INFO - DataFrame size: 2598, Top-k values: [1, 5, 25, 50, 100, 200] (metrics.py:40)\n",
      "2025-04-07 10:07:35,233 - INFO - Top-1 accuracy: 0.5789 (metrics.py:67)\n",
      "2025-04-07 10:07:35,233 - INFO - Top-5 accuracy: 0.7028 (metrics.py:67)\n",
      "2025-04-07 10:07:35,233 - INFO - Top-25 accuracy: 0.7683 (metrics.py:67)\n",
      "2025-04-07 10:07:35,234 - INFO - Top-50 accuracy: 0.7933 (metrics.py:67)\n",
      "2025-04-07 10:07:35,234 - INFO - Top-100 accuracy: 0.8129 (metrics.py:67)\n",
      "2025-04-07 10:07:35,235 - INFO - Top-200 accuracy: 0.8260 (metrics.py:67)\n",
      "2025-04-07 10:07:35,235 - INFO - Top-k accuracy calculation complete. (metrics.py:69)\n",
      "2025-04-07 10:07:35,235 - INFO - Calculating Top-k accuracy... (metrics.py:39)\n",
      "2025-04-07 10:07:35,236 - INFO - DataFrame size: 2507, Top-k values: [1, 5, 25, 50, 100, 200] (metrics.py:40)\n",
      "2025-04-07 10:07:35,397 - INFO - Top-1 accuracy: 0.6043 (metrics.py:67)\n",
      "2025-04-07 10:07:35,398 - INFO - Top-5 accuracy: 0.7264 (metrics.py:67)\n",
      "2025-04-07 10:07:35,398 - INFO - Top-25 accuracy: 0.7946 (metrics.py:67)\n",
      "2025-04-07 10:07:35,399 - INFO - Top-50 accuracy: 0.8197 (metrics.py:67)\n",
      "2025-04-07 10:07:35,400 - INFO - Top-100 accuracy: 0.8408 (metrics.py:67)\n",
      "2025-04-07 10:07:35,400 - INFO - Top-200 accuracy: 0.8544 (metrics.py:67)\n",
      "2025-04-07 10:07:35,400 - INFO - Top-k accuracy calculation complete. (metrics.py:69)\n",
      "2025-04-07 10:07:35,401 - INFO - Calculating Top-k accuracy... (metrics.py:39)\n",
      "2025-04-07 10:07:35,401 - INFO - DataFrame size: 1375, Top-k values: [1, 5, 25, 50, 100, 200] (metrics.py:40)\n",
      "2025-04-07 10:07:35,495 - INFO - Top-1 accuracy: 0.3447 (metrics.py:67)\n",
      "2025-04-07 10:07:35,495 - INFO - Top-5 accuracy: 0.5215 (metrics.py:67)\n",
      "2025-04-07 10:07:35,496 - INFO - Top-25 accuracy: 0.6342 (metrics.py:67)\n",
      "2025-04-07 10:07:35,496 - INFO - Top-50 accuracy: 0.6771 (metrics.py:67)\n",
      "2025-04-07 10:07:35,497 - INFO - Top-100 accuracy: 0.7113 (metrics.py:67)\n",
      "2025-04-07 10:07:35,497 - INFO - Top-200 accuracy: 0.7411 (metrics.py:67)\n",
      "2025-04-07 10:07:35,497 - INFO - Top-k accuracy calculation complete. (metrics.py:69)\n",
      "2025-04-07 10:07:35,498 - INFO - Calculating Top-k accuracy... (metrics.py:39)\n",
      "2025-04-07 10:07:35,498 - INFO - DataFrame size: 1115, Top-k values: [1, 5, 25, 50, 100, 200] (metrics.py:40)\n",
      "2025-04-07 10:07:35,574 - INFO - Top-1 accuracy: 0.3892 (metrics.py:67)\n",
      "2025-04-07 10:07:35,575 - INFO - Top-5 accuracy: 0.5462 (metrics.py:67)\n",
      "2025-04-07 10:07:35,575 - INFO - Top-25 accuracy: 0.6404 (metrics.py:67)\n",
      "2025-04-07 10:07:35,576 - INFO - Top-50 accuracy: 0.6807 (metrics.py:67)\n",
      "2025-04-07 10:07:35,576 - INFO - Top-100 accuracy: 0.7157 (metrics.py:67)\n",
      "2025-04-07 10:07:35,576 - INFO - Top-200 accuracy: 0.7426 (metrics.py:67)\n",
      "2025-04-07 10:07:35,577 - INFO - Top-k accuracy calculation complete. (metrics.py:69)\n"
     ]
    },
    {
     "name": "stderr",
     "output_type": "stream",
     "text": [
      "Some weights of RobertaModel were not initialized from the model checkpoint at PlanTL-GOB-ES/roberta-base-biomedical-clinical-es and are newly initialized: ['roberta.pooler.dense.bias', 'roberta.pooler.dense.weight']\n",
      "You should probably TRAIN this model on a down-stream task to be able to use it for predictions and inference.\n"
     ]
    },
    {
     "name": "stdout",
     "output_type": "stream",
     "text": [
      "2025-04-07 10:07:47,703 - INFO - Vocabulary initialized successfully. (faissEncoder.py:76)\n",
      "2025-04-07 10:09:00,097 - INFO - FAISS index fitted successfully. (faissEncoder.py:154)\n",
      "2025-04-07 10:09:21,354 - INFO - Calculating Top-k accuracy... (metrics.py:39)\n",
      "2025-04-07 10:09:21,354 - INFO - DataFrame size: 2598, Top-k values: [1, 5, 25, 50, 100, 200] (metrics.py:40)\n",
      "2025-04-07 10:09:21,524 - INFO - Top-1 accuracy: 0.4450 (metrics.py:67)\n",
      "2025-04-07 10:09:21,524 - INFO - Top-5 accuracy: 0.5185 (metrics.py:67)\n",
      "2025-04-07 10:09:21,524 - INFO - Top-25 accuracy: 0.5758 (metrics.py:67)\n",
      "2025-04-07 10:09:21,525 - INFO - Top-50 accuracy: 0.5958 (metrics.py:67)\n",
      "2025-04-07 10:09:21,525 - INFO - Top-100 accuracy: 0.6212 (metrics.py:67)\n",
      "2025-04-07 10:09:21,525 - INFO - Top-200 accuracy: 0.6351 (metrics.py:67)\n",
      "2025-04-07 10:09:21,526 - INFO - Top-k accuracy calculation complete. (metrics.py:69)\n",
      "2025-04-07 10:09:21,526 - INFO - Calculating Top-k accuracy... (metrics.py:39)\n",
      "2025-04-07 10:09:21,527 - INFO - DataFrame size: 2507, Top-k values: [1, 5, 25, 50, 100, 200] (metrics.py:40)\n",
      "2025-04-07 10:09:21,694 - INFO - Top-1 accuracy: 0.4627 (metrics.py:67)\n",
      "2025-04-07 10:09:21,695 - INFO - Top-5 accuracy: 0.5373 (metrics.py:67)\n",
      "2025-04-07 10:09:21,695 - INFO - Top-25 accuracy: 0.6003 (metrics.py:67)\n",
      "2025-04-07 10:09:21,695 - INFO - Top-50 accuracy: 0.6207 (metrics.py:67)\n",
      "2025-04-07 10:09:21,696 - INFO - Top-100 accuracy: 0.6434 (metrics.py:67)\n",
      "2025-04-07 10:09:21,696 - INFO - Top-200 accuracy: 0.6613 (metrics.py:67)\n",
      "2025-04-07 10:09:21,696 - INFO - Top-k accuracy calculation complete. (metrics.py:69)\n",
      "2025-04-07 10:09:21,697 - INFO - Calculating Top-k accuracy... (metrics.py:39)\n",
      "2025-04-07 10:09:21,697 - INFO - DataFrame size: 1375, Top-k values: [1, 5, 25, 50, 100, 200] (metrics.py:40)\n",
      "2025-04-07 10:09:21,796 - INFO - Top-1 accuracy: 0.1113 (metrics.py:67)\n",
      "2025-04-07 10:09:21,797 - INFO - Top-5 accuracy: 0.1927 (metrics.py:67)\n",
      "2025-04-07 10:09:21,797 - INFO - Top-25 accuracy: 0.2945 (metrics.py:67)\n",
      "2025-04-07 10:09:21,797 - INFO - Top-50 accuracy: 0.3360 (metrics.py:67)\n",
      "2025-04-07 10:09:21,798 - INFO - Top-100 accuracy: 0.3738 (metrics.py:67)\n",
      "2025-04-07 10:09:21,798 - INFO - Top-200 accuracy: 0.4044 (metrics.py:67)\n",
      "2025-04-07 10:09:21,798 - INFO - Top-k accuracy calculation complete. (metrics.py:69)\n",
      "2025-04-07 10:09:21,799 - INFO - Calculating Top-k accuracy... (metrics.py:39)\n",
      "2025-04-07 10:09:21,799 - INFO - DataFrame size: 1115, Top-k values: [1, 5, 25, 50, 100, 200] (metrics.py:40)\n",
      "2025-04-07 10:09:21,877 - INFO - Top-1 accuracy: 0.2233 (metrics.py:67)\n",
      "2025-04-07 10:09:21,878 - INFO - Top-5 accuracy: 0.3094 (metrics.py:67)\n",
      "2025-04-07 10:09:21,878 - INFO - Top-25 accuracy: 0.3857 (metrics.py:67)\n",
      "2025-04-07 10:09:21,878 - INFO - Top-50 accuracy: 0.4206 (metrics.py:67)\n",
      "2025-04-07 10:09:21,879 - INFO - Top-100 accuracy: 0.4448 (metrics.py:67)\n",
      "2025-04-07 10:09:21,879 - INFO - Top-200 accuracy: 0.4691 (metrics.py:67)\n",
      "2025-04-07 10:09:21,880 - INFO - Top-k accuracy calculation complete. (metrics.py:69)\n",
      "2025-04-07 10:09:22,671 - INFO - Vocabulary initialized successfully. (faissEncoder.py:76)\n",
      "2025-04-07 10:11:41,797 - INFO - FAISS index fitted successfully. (faissEncoder.py:154)\n",
      "2025-04-07 10:12:21,113 - INFO - Calculating Top-k accuracy... (metrics.py:39)\n",
      "2025-04-07 10:12:21,113 - INFO - DataFrame size: 3618, Top-k values: [1, 5, 25, 50, 100, 200] (metrics.py:40)\n",
      "2025-04-07 10:12:21,308 - INFO - Top-1 accuracy: 0.6603 (metrics.py:67)\n",
      "2025-04-07 10:12:21,309 - INFO - Top-5 accuracy: 0.7803 (metrics.py:67)\n",
      "2025-04-07 10:12:21,309 - INFO - Top-25 accuracy: 0.8530 (metrics.py:67)\n",
      "2025-04-07 10:12:21,309 - INFO - Top-50 accuracy: 0.8800 (metrics.py:67)\n",
      "2025-04-07 10:12:21,310 - INFO - Top-100 accuracy: 0.9016 (metrics.py:67)\n",
      "2025-04-07 10:12:21,310 - INFO - Top-200 accuracy: 0.9104 (metrics.py:67)\n",
      "2025-04-07 10:12:21,310 - INFO - Top-k accuracy calculation complete. (metrics.py:69)\n",
      "2025-04-07 10:12:21,311 - INFO - Calculating Top-k accuracy... (metrics.py:39)\n",
      "2025-04-07 10:12:21,311 - INFO - DataFrame size: 3512, Top-k values: [1, 5, 25, 50, 100, 200] (metrics.py:40)\n",
      "2025-04-07 10:12:21,503 - INFO - Top-1 accuracy: 0.6734 (metrics.py:67)\n",
      "2025-04-07 10:12:21,503 - INFO - Top-5 accuracy: 0.7976 (metrics.py:67)\n",
      "2025-04-07 10:12:21,503 - INFO - Top-25 accuracy: 0.8722 (metrics.py:67)\n",
      "2025-04-07 10:12:21,504 - INFO - Top-50 accuracy: 0.9012 (metrics.py:67)\n",
      "2025-04-07 10:12:21,504 - INFO - Top-100 accuracy: 0.9240 (metrics.py:67)\n",
      "2025-04-07 10:12:21,504 - INFO - Top-200 accuracy: 0.9325 (metrics.py:67)\n",
      "2025-04-07 10:12:21,505 - INFO - Top-k accuracy calculation complete. (metrics.py:69)\n",
      "2025-04-07 10:12:21,505 - INFO - Calculating Top-k accuracy... (metrics.py:39)\n",
      "2025-04-07 10:12:21,505 - INFO - DataFrame size: 1730, Top-k values: [1, 5, 25, 50, 100, 200] (metrics.py:40)\n",
      "2025-04-07 10:12:21,606 - INFO - Top-1 accuracy: 0.3861 (metrics.py:67)\n",
      "2025-04-07 10:12:21,607 - INFO - Top-5 accuracy: 0.6098 (metrics.py:67)\n",
      "2025-04-07 10:12:21,607 - INFO - Top-25 accuracy: 0.7526 (metrics.py:67)\n",
      "2025-04-07 10:12:21,608 - INFO - Top-50 accuracy: 0.8087 (metrics.py:67)\n",
      "2025-04-07 10:12:21,608 - INFO - Top-100 accuracy: 0.8532 (metrics.py:67)\n",
      "2025-04-07 10:12:21,608 - INFO - Top-200 accuracy: 0.8711 (metrics.py:67)\n",
      "2025-04-07 10:12:21,609 - INFO - Top-k accuracy calculation complete. (metrics.py:69)\n",
      "2025-04-07 10:12:21,609 - INFO - Calculating Top-k accuracy... (metrics.py:39)\n",
      "2025-04-07 10:12:21,610 - INFO - DataFrame size: 878, Top-k values: [1, 5, 25, 50, 100, 200] (metrics.py:40)\n",
      "2025-04-07 10:12:21,663 - INFO - Top-1 accuracy: 0.3166 (metrics.py:67)\n",
      "2025-04-07 10:12:21,664 - INFO - Top-5 accuracy: 0.5137 (metrics.py:67)\n",
      "2025-04-07 10:12:21,664 - INFO - Top-25 accuracy: 0.6777 (metrics.py:67)\n",
      "2025-04-07 10:12:21,664 - INFO - Top-50 accuracy: 0.7380 (metrics.py:67)\n",
      "2025-04-07 10:12:21,665 - INFO - Top-100 accuracy: 0.7984 (metrics.py:67)\n",
      "2025-04-07 10:12:21,665 - INFO - Top-200 accuracy: 0.8166 (metrics.py:67)\n",
      "2025-04-07 10:12:21,665 - INFO - Top-k accuracy calculation complete. (metrics.py:69)\n",
      "2025-04-07 10:12:22,910 - INFO - Reranking candidates... (crossEncoder.py:193)\n"
     ]
    },
    {
     "name": "stderr",
     "output_type": "stream",
     "text": [
      "Reranking candidates: 100%|██████████| 3618/3618 [04:25<00:00, 13.65it/s]"
     ]
    },
    {
     "name": "stdout",
     "output_type": "stream",
     "text": [
      "2025-04-07 10:16:48,005 - INFO - Reranking complete. (crossEncoder.py:205)\n",
      "2025-04-07 10:16:48,005 - INFO - Calculating Top-k accuracy... (metrics.py:39)\n",
      "2025-04-07 10:16:48,005 - INFO - DataFrame size: 3618, Top-k values: [1, 5, 25, 50, 100, 200] (metrics.py:40)\n"
     ]
    },
    {
     "name": "stderr",
     "output_type": "stream",
     "text": [
      "\n"
     ]
    },
    {
     "name": "stdout",
     "output_type": "stream",
     "text": [
      "2025-04-07 10:16:48,207 - INFO - Top-1 accuracy: 0.6622 (metrics.py:67)\n",
      "2025-04-07 10:16:48,207 - INFO - Top-5 accuracy: 0.8076 (metrics.py:67)\n",
      "2025-04-07 10:16:48,208 - INFO - Top-25 accuracy: 0.8789 (metrics.py:67)\n",
      "2025-04-07 10:16:48,208 - INFO - Top-50 accuracy: 0.8969 (metrics.py:67)\n",
      "2025-04-07 10:16:48,208 - INFO - Top-100 accuracy: 0.9069 (metrics.py:67)\n",
      "2025-04-07 10:16:48,209 - INFO - Top-200 accuracy: 0.9104 (metrics.py:67)\n",
      "2025-04-07 10:16:48,209 - INFO - Top-k accuracy calculation complete. (metrics.py:69)\n",
      "2025-04-07 10:16:48,215 - INFO - Reranking candidates... (crossEncoder.py:193)\n"
     ]
    },
    {
     "name": "stderr",
     "output_type": "stream",
     "text": [
      "Reranking candidates: 100%|██████████| 3512/3512 [04:18<00:00, 13.56it/s]"
     ]
    },
    {
     "name": "stdout",
     "output_type": "stream",
     "text": [
      "2025-04-07 10:21:07,153 - INFO - Reranking complete. (crossEncoder.py:205)\n",
      "2025-04-07 10:21:07,153 - INFO - Calculating Top-k accuracy... (metrics.py:39)\n",
      "2025-04-07 10:21:07,153 - INFO - DataFrame size: 3512, Top-k values: [1, 5, 25, 50, 100, 200] (metrics.py:40)\n"
     ]
    },
    {
     "name": "stderr",
     "output_type": "stream",
     "text": [
      "\n"
     ]
    },
    {
     "name": "stdout",
     "output_type": "stream",
     "text": [
      "2025-04-07 10:21:07,352 - INFO - Top-1 accuracy: 0.6777 (metrics.py:67)\n",
      "2025-04-07 10:21:07,352 - INFO - Top-5 accuracy: 0.8274 (metrics.py:67)\n",
      "2025-04-07 10:21:07,353 - INFO - Top-25 accuracy: 0.9006 (metrics.py:67)\n",
      "2025-04-07 10:21:07,353 - INFO - Top-50 accuracy: 0.9188 (metrics.py:67)\n",
      "2025-04-07 10:21:07,354 - INFO - Top-100 accuracy: 0.9288 (metrics.py:67)\n",
      "2025-04-07 10:21:07,354 - INFO - Top-200 accuracy: 0.9325 (metrics.py:67)\n",
      "2025-04-07 10:21:07,354 - INFO - Top-k accuracy calculation complete. (metrics.py:69)\n",
      "2025-04-07 10:21:07,360 - INFO - Reranking candidates... (crossEncoder.py:193)\n"
     ]
    },
    {
     "name": "stderr",
     "output_type": "stream",
     "text": [
      "Reranking candidates: 100%|██████████| 1730/1730 [02:42<00:00, 10.63it/s]"
     ]
    },
    {
     "name": "stdout",
     "output_type": "stream",
     "text": [
      "2025-04-07 10:23:50,049 - INFO - Reranking complete. (crossEncoder.py:205)\n",
      "2025-04-07 10:23:50,049 - INFO - Calculating Top-k accuracy... (metrics.py:39)\n",
      "2025-04-07 10:23:50,049 - INFO - DataFrame size: 1730, Top-k values: [1, 5, 25, 50, 100, 200] (metrics.py:40)\n"
     ]
    },
    {
     "name": "stderr",
     "output_type": "stream",
     "text": [
      "\n"
     ]
    },
    {
     "name": "stdout",
     "output_type": "stream",
     "text": [
      "2025-04-07 10:23:50,154 - INFO - Top-1 accuracy: 0.4173 (metrics.py:67)\n",
      "2025-04-07 10:23:50,155 - INFO - Top-5 accuracy: 0.6665 (metrics.py:67)\n",
      "2025-04-07 10:23:50,155 - INFO - Top-25 accuracy: 0.8098 (metrics.py:67)\n",
      "2025-04-07 10:23:50,155 - INFO - Top-50 accuracy: 0.8439 (metrics.py:67)\n",
      "2025-04-07 10:23:50,156 - INFO - Top-100 accuracy: 0.8642 (metrics.py:67)\n",
      "2025-04-07 10:23:50,156 - INFO - Top-200 accuracy: 0.8711 (metrics.py:67)\n",
      "2025-04-07 10:23:50,156 - INFO - Top-k accuracy calculation complete. (metrics.py:69)\n",
      "2025-04-07 10:23:50,161 - INFO - Reranking candidates... (crossEncoder.py:193)\n"
     ]
    },
    {
     "name": "stderr",
     "output_type": "stream",
     "text": [
      "Reranking candidates: 100%|██████████| 878/878 [01:29<00:00,  9.81it/s]"
     ]
    },
    {
     "name": "stdout",
     "output_type": "stream",
     "text": [
      "2025-04-07 10:25:19,640 - INFO - Reranking complete. (crossEncoder.py:205)\n",
      "2025-04-07 10:25:19,640 - INFO - Calculating Top-k accuracy... (metrics.py:39)\n",
      "2025-04-07 10:25:19,641 - INFO - DataFrame size: 878, Top-k values: [1, 5, 25, 50, 100, 200] (metrics.py:40)\n"
     ]
    },
    {
     "name": "stderr",
     "output_type": "stream",
     "text": [
      "\n"
     ]
    },
    {
     "name": "stdout",
     "output_type": "stream",
     "text": [
      "2025-04-07 10:25:19,695 - INFO - Top-1 accuracy: 0.3633 (metrics.py:67)\n",
      "2025-04-07 10:25:19,695 - INFO - Top-5 accuracy: 0.5991 (metrics.py:67)\n",
      "2025-04-07 10:25:19,696 - INFO - Top-25 accuracy: 0.7620 (metrics.py:67)\n",
      "2025-04-07 10:25:19,696 - INFO - Top-50 accuracy: 0.7973 (metrics.py:67)\n",
      "2025-04-07 10:25:19,696 - INFO - Top-100 accuracy: 0.8121 (metrics.py:67)\n",
      "2025-04-07 10:25:19,697 - INFO - Top-200 accuracy: 0.8166 (metrics.py:67)\n",
      "2025-04-07 10:25:19,697 - INFO - Top-k accuracy calculation complete. (metrics.py:69)\n",
      "2025-04-07 10:25:19,970 - INFO - Vocabulary initialized successfully. (faissEncoder.py:76)\n",
      "2025-04-07 10:27:44,725 - INFO - FAISS index fitted successfully. (faissEncoder.py:154)\n",
      "2025-04-07 10:28:24,170 - INFO - Calculating Top-k accuracy... (metrics.py:39)\n",
      "2025-04-07 10:28:24,171 - INFO - DataFrame size: 3618, Top-k values: [1, 5, 25, 50, 100, 200] (metrics.py:40)\n",
      "2025-04-07 10:28:24,375 - INFO - Top-1 accuracy: 0.6592 (metrics.py:67)\n",
      "2025-04-07 10:28:24,375 - INFO - Top-5 accuracy: 0.7678 (metrics.py:67)\n",
      "2025-04-07 10:28:24,376 - INFO - Top-25 accuracy: 0.8369 (metrics.py:67)\n",
      "2025-04-07 10:28:24,376 - INFO - Top-50 accuracy: 0.8662 (metrics.py:67)\n",
      "2025-04-07 10:28:24,377 - INFO - Top-100 accuracy: 0.8914 (metrics.py:67)\n",
      "2025-04-07 10:28:24,377 - INFO - Top-200 accuracy: 0.9002 (metrics.py:67)\n",
      "2025-04-07 10:28:24,378 - INFO - Top-k accuracy calculation complete. (metrics.py:69)\n",
      "2025-04-07 10:28:24,378 - INFO - Calculating Top-k accuracy... (metrics.py:39)\n",
      "2025-04-07 10:28:24,378 - INFO - DataFrame size: 3512, Top-k values: [1, 5, 25, 50, 100, 200] (metrics.py:40)\n",
      "2025-04-07 10:28:24,583 - INFO - Top-1 accuracy: 0.6740 (metrics.py:67)\n",
      "2025-04-07 10:28:24,583 - INFO - Top-5 accuracy: 0.7850 (metrics.py:67)\n",
      "2025-04-07 10:28:24,584 - INFO - Top-25 accuracy: 0.8582 (metrics.py:67)\n",
      "2025-04-07 10:28:24,585 - INFO - Top-50 accuracy: 0.8872 (metrics.py:67)\n",
      "2025-04-07 10:28:24,585 - INFO - Top-100 accuracy: 0.9123 (metrics.py:67)\n",
      "2025-04-07 10:28:24,585 - INFO - Top-200 accuracy: 0.9214 (metrics.py:67)\n",
      "2025-04-07 10:28:24,586 - INFO - Top-k accuracy calculation complete. (metrics.py:69)\n",
      "2025-04-07 10:28:24,586 - INFO - Calculating Top-k accuracy... (metrics.py:39)\n",
      "2025-04-07 10:28:24,586 - INFO - DataFrame size: 1730, Top-k values: [1, 5, 25, 50, 100, 200] (metrics.py:40)\n",
      "2025-04-07 10:28:24,689 - INFO - Top-1 accuracy: 0.3884 (metrics.py:67)\n",
      "2025-04-07 10:28:24,689 - INFO - Top-5 accuracy: 0.5861 (metrics.py:67)\n",
      "2025-04-07 10:28:24,690 - INFO - Top-25 accuracy: 0.7249 (metrics.py:67)\n",
      "2025-04-07 10:28:24,690 - INFO - Top-50 accuracy: 0.7821 (metrics.py:67)\n",
      "2025-04-07 10:28:24,690 - INFO - Top-100 accuracy: 0.8312 (metrics.py:67)\n",
      "2025-04-07 10:28:24,691 - INFO - Top-200 accuracy: 0.8509 (metrics.py:67)\n",
      "2025-04-07 10:28:24,691 - INFO - Top-k accuracy calculation complete. (metrics.py:69)\n",
      "2025-04-07 10:28:24,691 - INFO - Calculating Top-k accuracy... (metrics.py:39)\n",
      "2025-04-07 10:28:24,692 - INFO - DataFrame size: 878, Top-k values: [1, 5, 25, 50, 100, 200] (metrics.py:40)\n",
      "2025-04-07 10:28:24,746 - INFO - Top-1 accuracy: 0.3223 (metrics.py:67)\n",
      "2025-04-07 10:28:24,747 - INFO - Top-5 accuracy: 0.4932 (metrics.py:67)\n",
      "2025-04-07 10:28:24,747 - INFO - Top-25 accuracy: 0.6469 (metrics.py:67)\n",
      "2025-04-07 10:28:24,748 - INFO - Top-50 accuracy: 0.7130 (metrics.py:67)\n",
      "2025-04-07 10:28:24,748 - INFO - Top-100 accuracy: 0.7699 (metrics.py:67)\n",
      "2025-04-07 10:28:24,748 - INFO - Top-200 accuracy: 0.7904 (metrics.py:67)\n",
      "2025-04-07 10:28:24,748 - INFO - Top-k accuracy calculation complete. (metrics.py:69)\n",
      "2025-04-07 10:28:25,759 - INFO - Reranking candidates... (crossEncoder.py:193)\n"
     ]
    },
    {
     "name": "stderr",
     "output_type": "stream",
     "text": [
      "Reranking candidates: 100%|██████████| 3618/3618 [04:41<00:00, 12.86it/s]"
     ]
    },
    {
     "name": "stdout",
     "output_type": "stream",
     "text": [
      "2025-04-07 10:33:07,113 - INFO - Reranking complete. (crossEncoder.py:205)\n",
      "2025-04-07 10:33:07,114 - INFO - Calculating Top-k accuracy... (metrics.py:39)\n",
      "2025-04-07 10:33:07,114 - INFO - DataFrame size: 3618, Top-k values: [1, 5, 25, 50, 100, 200] (metrics.py:40)\n"
     ]
    },
    {
     "name": "stderr",
     "output_type": "stream",
     "text": [
      "\n"
     ]
    },
    {
     "name": "stdout",
     "output_type": "stream",
     "text": [
      "2025-04-07 10:33:07,316 - INFO - Top-1 accuracy: 0.6523 (metrics.py:67)\n",
      "2025-04-07 10:33:07,317 - INFO - Top-5 accuracy: 0.8032 (metrics.py:67)\n",
      "2025-04-07 10:33:07,317 - INFO - Top-25 accuracy: 0.8704 (metrics.py:67)\n",
      "2025-04-07 10:33:07,317 - INFO - Top-50 accuracy: 0.8850 (metrics.py:67)\n",
      "2025-04-07 10:33:07,318 - INFO - Top-100 accuracy: 0.8961 (metrics.py:67)\n",
      "2025-04-07 10:33:07,318 - INFO - Top-200 accuracy: 0.9002 (metrics.py:67)\n",
      "2025-04-07 10:33:07,318 - INFO - Top-k accuracy calculation complete. (metrics.py:69)\n",
      "2025-04-07 10:33:07,325 - INFO - Reranking candidates... (crossEncoder.py:193)\n"
     ]
    },
    {
     "name": "stderr",
     "output_type": "stream",
     "text": [
      "Reranking candidates: 100%|██████████| 3512/3512 [04:34<00:00, 12.78it/s]"
     ]
    },
    {
     "name": "stdout",
     "output_type": "stream",
     "text": [
      "2025-04-07 10:37:42,025 - INFO - Reranking complete. (crossEncoder.py:205)\n",
      "2025-04-07 10:37:42,026 - INFO - Calculating Top-k accuracy... (metrics.py:39)\n",
      "2025-04-07 10:37:42,026 - INFO - DataFrame size: 3512, Top-k values: [1, 5, 25, 50, 100, 200] (metrics.py:40)\n"
     ]
    },
    {
     "name": "stderr",
     "output_type": "stream",
     "text": [
      "\n"
     ]
    },
    {
     "name": "stdout",
     "output_type": "stream",
     "text": [
      "2025-04-07 10:37:42,227 - INFO - Top-1 accuracy: 0.6680 (metrics.py:67)\n",
      "2025-04-07 10:37:42,228 - INFO - Top-5 accuracy: 0.8212 (metrics.py:67)\n",
      "2025-04-07 10:37:42,228 - INFO - Top-25 accuracy: 0.8909 (metrics.py:67)\n",
      "2025-04-07 10:37:42,229 - INFO - Top-50 accuracy: 0.9055 (metrics.py:67)\n",
      "2025-04-07 10:37:42,229 - INFO - Top-100 accuracy: 0.9171 (metrics.py:67)\n",
      "2025-04-07 10:37:42,230 - INFO - Top-200 accuracy: 0.9214 (metrics.py:67)\n",
      "2025-04-07 10:37:42,230 - INFO - Top-k accuracy calculation complete. (metrics.py:69)\n",
      "2025-04-07 10:37:42,236 - INFO - Reranking candidates... (crossEncoder.py:193)\n"
     ]
    },
    {
     "name": "stderr",
     "output_type": "stream",
     "text": [
      "Reranking candidates: 100%|██████████| 1730/1730 [02:50<00:00, 10.14it/s]"
     ]
    },
    {
     "name": "stdout",
     "output_type": "stream",
     "text": [
      "2025-04-07 10:40:32,893 - INFO - Reranking complete. (crossEncoder.py:205)\n",
      "2025-04-07 10:40:32,894 - INFO - Calculating Top-k accuracy... (metrics.py:39)\n",
      "2025-04-07 10:40:32,894 - INFO - DataFrame size: 1730, Top-k values: [1, 5, 25, 50, 100, 200] (metrics.py:40)\n",
      "2025-04-07 10:40:32,997 - INFO - Top-1 accuracy: 0.4058 (metrics.py:67)\n",
      "2025-04-07 10:40:32,997 - INFO - Top-5 accuracy: 0.6509 (metrics.py:67)\n",
      "2025-04-07 10:40:32,998 - INFO - Top-25 accuracy: 0.7896 (metrics.py:67)\n",
      "2025-04-07 10:40:32,998 - INFO - Top-50 accuracy: 0.8173 (metrics.py:67)\n",
      "2025-04-07 10:40:32,998 - INFO - Top-100 accuracy: 0.8422 (metrics.py:67)\n",
      "2025-04-07 10:40:32,999 - INFO - Top-200 accuracy: 0.8509 (metrics.py:67)\n"
     ]
    },
    {
     "name": "stderr",
     "output_type": "stream",
     "text": [
      "\n"
     ]
    },
    {
     "name": "stdout",
     "output_type": "stream",
     "text": [
      "2025-04-07 10:40:32,999 - INFO - Top-k accuracy calculation complete. (metrics.py:69)\n",
      "2025-04-07 10:40:33,004 - INFO - Reranking candidates... (crossEncoder.py:193)\n"
     ]
    },
    {
     "name": "stderr",
     "output_type": "stream",
     "text": [
      "Reranking candidates: 100%|██████████| 878/878 [01:31<00:00,  9.57it/s]"
     ]
    },
    {
     "name": "stdout",
     "output_type": "stream",
     "text": [
      "2025-04-07 10:42:04,783 - INFO - Reranking complete. (crossEncoder.py:205)\n",
      "2025-04-07 10:42:04,784 - INFO - Calculating Top-k accuracy... (metrics.py:39)\n",
      "2025-04-07 10:42:04,784 - INFO - DataFrame size: 878, Top-k values: [1, 5, 25, 50, 100, 200] (metrics.py:40)\n"
     ]
    },
    {
     "name": "stderr",
     "output_type": "stream",
     "text": [
      "\n"
     ]
    },
    {
     "name": "stdout",
     "output_type": "stream",
     "text": [
      "2025-04-07 10:42:04,841 - INFO - Top-1 accuracy: 0.3508 (metrics.py:67)\n",
      "2025-04-07 10:42:04,841 - INFO - Top-5 accuracy: 0.6036 (metrics.py:67)\n",
      "2025-04-07 10:42:04,841 - INFO - Top-25 accuracy: 0.7415 (metrics.py:67)\n",
      "2025-04-07 10:42:04,842 - INFO - Top-50 accuracy: 0.7642 (metrics.py:67)\n",
      "2025-04-07 10:42:04,842 - INFO - Top-100 accuracy: 0.7859 (metrics.py:67)\n",
      "2025-04-07 10:42:04,842 - INFO - Top-200 accuracy: 0.7904 (metrics.py:67)\n",
      "2025-04-07 10:42:04,843 - INFO - Top-k accuracy calculation complete. (metrics.py:69)\n",
      "2025-04-07 10:42:05,136 - INFO - Vocabulary initialized successfully. (faissEncoder.py:76)\n",
      "2025-04-07 10:44:29,305 - INFO - FAISS index fitted successfully. (faissEncoder.py:154)\n",
      "2025-04-07 10:45:08,685 - INFO - Calculating Top-k accuracy... (metrics.py:39)\n",
      "2025-04-07 10:45:08,686 - INFO - DataFrame size: 3618, Top-k values: [1, 5, 25, 50, 100, 200] (metrics.py:40)\n",
      "2025-04-07 10:45:08,886 - INFO - Top-1 accuracy: 0.6633 (metrics.py:67)\n",
      "2025-04-07 10:45:08,887 - INFO - Top-5 accuracy: 0.7808 (metrics.py:67)\n",
      "2025-04-07 10:45:08,887 - INFO - Top-25 accuracy: 0.8527 (metrics.py:67)\n",
      "2025-04-07 10:45:08,887 - INFO - Top-50 accuracy: 0.8729 (metrics.py:67)\n",
      "2025-04-07 10:45:08,887 - INFO - Top-100 accuracy: 0.8908 (metrics.py:67)\n",
      "2025-04-07 10:45:08,888 - INFO - Top-200 accuracy: 0.9005 (metrics.py:67)\n",
      "2025-04-07 10:45:08,888 - INFO - Top-k accuracy calculation complete. (metrics.py:69)\n",
      "2025-04-07 10:45:08,889 - INFO - Calculating Top-k accuracy... (metrics.py:39)\n",
      "2025-04-07 10:45:08,889 - INFO - DataFrame size: 3512, Top-k values: [1, 5, 25, 50, 100, 200] (metrics.py:40)\n",
      "2025-04-07 10:45:09,087 - INFO - Top-1 accuracy: 0.6777 (metrics.py:67)\n",
      "2025-04-07 10:45:09,087 - INFO - Top-5 accuracy: 0.7990 (metrics.py:67)\n",
      "2025-04-07 10:45:09,088 - INFO - Top-25 accuracy: 0.8727 (metrics.py:67)\n",
      "2025-04-07 10:45:09,088 - INFO - Top-50 accuracy: 0.8932 (metrics.py:67)\n",
      "2025-04-07 10:45:09,088 - INFO - Top-100 accuracy: 0.9120 (metrics.py:67)\n",
      "2025-04-07 10:45:09,089 - INFO - Top-200 accuracy: 0.9206 (metrics.py:67)\n",
      "2025-04-07 10:45:09,089 - INFO - Top-k accuracy calculation complete. (metrics.py:69)\n",
      "2025-04-07 10:45:09,089 - INFO - Calculating Top-k accuracy... (metrics.py:39)\n",
      "2025-04-07 10:45:09,090 - INFO - DataFrame size: 1730, Top-k values: [1, 5, 25, 50, 100, 200] (metrics.py:40)\n",
      "2025-04-07 10:45:09,193 - INFO - Top-1 accuracy: 0.3965 (metrics.py:67)\n",
      "2025-04-07 10:45:09,194 - INFO - Top-5 accuracy: 0.6087 (metrics.py:67)\n",
      "2025-04-07 10:45:09,194 - INFO - Top-25 accuracy: 0.7486 (metrics.py:67)\n",
      "2025-04-07 10:45:09,194 - INFO - Top-50 accuracy: 0.7896 (metrics.py:67)\n",
      "2025-04-07 10:45:09,195 - INFO - Top-100 accuracy: 0.8277 (metrics.py:67)\n",
      "2025-04-07 10:45:09,195 - INFO - Top-200 accuracy: 0.8457 (metrics.py:67)\n",
      "2025-04-07 10:45:09,195 - INFO - Top-k accuracy calculation complete. (metrics.py:69)\n",
      "2025-04-07 10:45:09,196 - INFO - Calculating Top-k accuracy... (metrics.py:39)\n",
      "2025-04-07 10:45:09,196 - INFO - DataFrame size: 878, Top-k values: [1, 5, 25, 50, 100, 200] (metrics.py:40)\n",
      "2025-04-07 10:45:09,251 - INFO - Top-1 accuracy: 0.3132 (metrics.py:67)\n",
      "2025-04-07 10:45:09,252 - INFO - Top-5 accuracy: 0.5251 (metrics.py:67)\n",
      "2025-04-07 10:45:09,252 - INFO - Top-25 accuracy: 0.6959 (metrics.py:67)\n",
      "2025-04-07 10:45:09,253 - INFO - Top-50 accuracy: 0.7312 (metrics.py:67)\n",
      "2025-04-07 10:45:09,253 - INFO - Top-100 accuracy: 0.7756 (metrics.py:67)\n",
      "2025-04-07 10:45:09,254 - INFO - Top-200 accuracy: 0.7995 (metrics.py:67)\n",
      "2025-04-07 10:45:09,254 - INFO - Top-k accuracy calculation complete. (metrics.py:69)\n",
      "2025-04-07 10:45:11,140 - INFO - Reranking candidates... (crossEncoder.py:193)\n"
     ]
    },
    {
     "name": "stderr",
     "output_type": "stream",
     "text": [
      "Reranking candidates: 100%|██████████| 3618/3618 [03:58<00:00, 15.16it/s]"
     ]
    },
    {
     "name": "stdout",
     "output_type": "stream",
     "text": [
      "2025-04-07 10:49:09,794 - INFO - Reranking complete. (crossEncoder.py:205)\n",
      "2025-04-07 10:49:09,795 - INFO - Calculating Top-k accuracy... (metrics.py:39)\n",
      "2025-04-07 10:49:09,795 - INFO - DataFrame size: 3618, Top-k values: [1, 5, 25, 50, 100, 200] (metrics.py:40)\n"
     ]
    },
    {
     "name": "stderr",
     "output_type": "stream",
     "text": [
      "\n"
     ]
    },
    {
     "name": "stdout",
     "output_type": "stream",
     "text": [
      "2025-04-07 10:49:09,996 - INFO - Top-1 accuracy: 0.6490 (metrics.py:67)\n",
      "2025-04-07 10:49:09,997 - INFO - Top-5 accuracy: 0.8090 (metrics.py:67)\n",
      "2025-04-07 10:49:09,997 - INFO - Top-25 accuracy: 0.8784 (metrics.py:67)\n",
      "2025-04-07 10:49:09,997 - INFO - Top-50 accuracy: 0.8894 (metrics.py:67)\n",
      "2025-04-07 10:49:09,998 - INFO - Top-100 accuracy: 0.8977 (metrics.py:67)\n",
      "2025-04-07 10:49:09,998 - INFO - Top-200 accuracy: 0.9005 (metrics.py:67)\n",
      "2025-04-07 10:49:09,998 - INFO - Top-k accuracy calculation complete. (metrics.py:69)\n",
      "2025-04-07 10:49:10,005 - INFO - Reranking candidates... (crossEncoder.py:193)\n"
     ]
    },
    {
     "name": "stderr",
     "output_type": "stream",
     "text": [
      "Reranking candidates: 100%|██████████| 3512/3512 [03:52<00:00, 15.09it/s]"
     ]
    },
    {
     "name": "stdout",
     "output_type": "stream",
     "text": [
      "2025-04-07 10:53:02,758 - INFO - Reranking complete. (crossEncoder.py:205)\n",
      "2025-04-07 10:53:02,758 - INFO - Calculating Top-k accuracy... (metrics.py:39)\n",
      "2025-04-07 10:53:02,759 - INFO - DataFrame size: 3512, Top-k values: [1, 5, 25, 50, 100, 200] (metrics.py:40)\n"
     ]
    },
    {
     "name": "stderr",
     "output_type": "stream",
     "text": [
      "\n"
     ]
    },
    {
     "name": "stdout",
     "output_type": "stream",
     "text": [
      "2025-04-07 10:53:02,959 - INFO - Top-1 accuracy: 0.6629 (metrics.py:67)\n",
      "2025-04-07 10:53:02,959 - INFO - Top-5 accuracy: 0.8277 (metrics.py:67)\n",
      "2025-04-07 10:53:02,960 - INFO - Top-25 accuracy: 0.8981 (metrics.py:67)\n",
      "2025-04-07 10:53:02,960 - INFO - Top-50 accuracy: 0.9095 (metrics.py:67)\n",
      "2025-04-07 10:53:02,960 - INFO - Top-100 accuracy: 0.9177 (metrics.py:67)\n",
      "2025-04-07 10:53:02,961 - INFO - Top-200 accuracy: 0.9206 (metrics.py:67)\n",
      "2025-04-07 10:53:02,961 - INFO - Top-k accuracy calculation complete. (metrics.py:69)\n",
      "2025-04-07 10:53:02,967 - INFO - Reranking candidates... (crossEncoder.py:193)\n"
     ]
    },
    {
     "name": "stderr",
     "output_type": "stream",
     "text": [
      "Reranking candidates: 100%|██████████| 1730/1730 [02:38<00:00, 10.93it/s]"
     ]
    },
    {
     "name": "stdout",
     "output_type": "stream",
     "text": [
      "2025-04-07 10:55:41,262 - INFO - Reranking complete. (crossEncoder.py:205)\n",
      "2025-04-07 10:55:41,263 - INFO - Calculating Top-k accuracy... (metrics.py:39)\n",
      "2025-04-07 10:55:41,263 - INFO - DataFrame size: 1730, Top-k values: [1, 5, 25, 50, 100, 200] (metrics.py:40)\n",
      "2025-04-07 10:55:41,367 - INFO - Top-1 accuracy: 0.4335 (metrics.py:67)\n",
      "2025-04-07 10:55:41,367 - INFO - Top-5 accuracy: 0.6630 (metrics.py:67)\n",
      "2025-04-07 10:55:41,368 - INFO - Top-25 accuracy: 0.8052 (metrics.py:67)\n",
      "2025-04-07 10:55:41,368 - INFO - Top-50 accuracy: 0.8260 (metrics.py:67)\n",
      "2025-04-07 10:55:41,368 - INFO - Top-100 accuracy: 0.8399 (metrics.py:67)\n",
      "2025-04-07 10:55:41,369 - INFO - Top-200 accuracy: 0.8457 (metrics.py:67)\n",
      "2025-04-07 10:55:41,369 - INFO - Top-k accuracy calculation complete. (metrics.py:69)\n",
      "2025-04-07 10:55:41,374 - INFO - Reranking candidates... (crossEncoder.py:193)\n"
     ]
    },
    {
     "name": "stderr",
     "output_type": "stream",
     "text": [
      "\n",
      "Reranking candidates: 100%|██████████| 878/878 [01:28<00:00,  9.90it/s]"
     ]
    },
    {
     "name": "stdout",
     "output_type": "stream",
     "text": [
      "2025-04-07 10:57:10,079 - INFO - Reranking complete. (crossEncoder.py:205)\n",
      "2025-04-07 10:57:10,080 - INFO - Calculating Top-k accuracy... (metrics.py:39)\n",
      "2025-04-07 10:57:10,080 - INFO - DataFrame size: 878, Top-k values: [1, 5, 25, 50, 100, 200] (metrics.py:40)\n",
      "2025-04-07 10:57:10,135 - INFO - Top-1 accuracy: 0.3702 (metrics.py:67)\n",
      "2025-04-07 10:57:10,135 - INFO - Top-5 accuracy: 0.5991 (metrics.py:67)\n",
      "2025-04-07 10:57:10,136 - INFO - Top-25 accuracy: 0.7563 (metrics.py:67)\n",
      "2025-04-07 10:57:10,136 - INFO - Top-50 accuracy: 0.7882 (metrics.py:67)\n",
      "2025-04-07 10:57:10,136 - INFO - Top-100 accuracy: 0.7984 (metrics.py:67)\n",
      "2025-04-07 10:57:10,137 - INFO - Top-200 accuracy: 0.7995 (metrics.py:67)\n",
      "2025-04-07 10:57:10,137 - INFO - Top-k accuracy calculation complete. (metrics.py:69)\n"
     ]
    },
    {
     "name": "stderr",
     "output_type": "stream",
     "text": [
      "\n"
     ]
    },
    {
     "name": "stdout",
     "output_type": "stream",
     "text": [
      "2025-04-07 10:57:14,663 - INFO - Vocabulary initialized successfully. (faissEncoder.py:76)\n",
      "2025-04-07 10:59:37,604 - INFO - FAISS index fitted successfully. (faissEncoder.py:154)\n",
      "2025-04-07 11:00:17,207 - INFO - Calculating Top-k accuracy... (metrics.py:39)\n",
      "2025-04-07 11:00:17,208 - INFO - DataFrame size: 3618, Top-k values: [1, 5, 25, 50, 100, 200] (metrics.py:40)\n",
      "2025-04-07 11:00:17,417 - INFO - Top-1 accuracy: 0.6473 (metrics.py:67)\n",
      "2025-04-07 11:00:17,418 - INFO - Top-5 accuracy: 0.7706 (metrics.py:67)\n",
      "2025-04-07 11:00:17,418 - INFO - Top-25 accuracy: 0.8411 (metrics.py:67)\n",
      "2025-04-07 11:00:17,419 - INFO - Top-50 accuracy: 0.8695 (metrics.py:67)\n",
      "2025-04-07 11:00:17,419 - INFO - Top-100 accuracy: 0.8897 (metrics.py:67)\n",
      "2025-04-07 11:00:17,419 - INFO - Top-200 accuracy: 0.8991 (metrics.py:67)\n",
      "2025-04-07 11:00:17,420 - INFO - Top-k accuracy calculation complete. (metrics.py:69)\n",
      "2025-04-07 11:00:17,420 - INFO - Calculating Top-k accuracy... (metrics.py:39)\n",
      "2025-04-07 11:00:17,421 - INFO - DataFrame size: 3512, Top-k values: [1, 5, 25, 50, 100, 200] (metrics.py:40)\n",
      "2025-04-07 11:00:17,623 - INFO - Top-1 accuracy: 0.6592 (metrics.py:67)\n",
      "2025-04-07 11:00:17,623 - INFO - Top-5 accuracy: 0.7884 (metrics.py:67)\n",
      "2025-04-07 11:00:17,624 - INFO - Top-25 accuracy: 0.8642 (metrics.py:67)\n",
      "2025-04-07 11:00:17,624 - INFO - Top-50 accuracy: 0.8915 (metrics.py:67)\n",
      "2025-04-07 11:00:17,625 - INFO - Top-100 accuracy: 0.9112 (metrics.py:67)\n",
      "2025-04-07 11:00:17,625 - INFO - Top-200 accuracy: 0.9217 (metrics.py:67)\n",
      "2025-04-07 11:00:17,625 - INFO - Top-k accuracy calculation complete. (metrics.py:69)\n",
      "2025-04-07 11:00:17,626 - INFO - Calculating Top-k accuracy... (metrics.py:39)\n",
      "2025-04-07 11:00:17,626 - INFO - DataFrame size: 1730, Top-k values: [1, 5, 25, 50, 100, 200] (metrics.py:40)\n",
      "2025-04-07 11:00:17,733 - INFO - Top-1 accuracy: 0.3601 (metrics.py:67)\n",
      "2025-04-07 11:00:17,733 - INFO - Top-5 accuracy: 0.5896 (metrics.py:67)\n",
      "2025-04-07 11:00:17,734 - INFO - Top-25 accuracy: 0.7341 (metrics.py:67)\n",
      "2025-04-07 11:00:17,734 - INFO - Top-50 accuracy: 0.7884 (metrics.py:67)\n",
      "2025-04-07 11:00:17,734 - INFO - Top-100 accuracy: 0.8289 (metrics.py:67)\n",
      "2025-04-07 11:00:17,735 - INFO - Top-200 accuracy: 0.8514 (metrics.py:67)\n",
      "2025-04-07 11:00:17,735 - INFO - Top-k accuracy calculation complete. (metrics.py:69)\n",
      "2025-04-07 11:00:17,735 - INFO - Calculating Top-k accuracy... (metrics.py:39)\n",
      "2025-04-07 11:00:17,736 - INFO - DataFrame size: 878, Top-k values: [1, 5, 25, 50, 100, 200] (metrics.py:40)\n",
      "2025-04-07 11:00:17,792 - INFO - Top-1 accuracy: 0.2916 (metrics.py:67)\n",
      "2025-04-07 11:00:17,792 - INFO - Top-5 accuracy: 0.5046 (metrics.py:67)\n",
      "2025-04-07 11:00:17,792 - INFO - Top-25 accuracy: 0.6640 (metrics.py:67)\n",
      "2025-04-07 11:00:17,793 - INFO - Top-50 accuracy: 0.7415 (metrics.py:67)\n",
      "2025-04-07 11:00:17,793 - INFO - Top-100 accuracy: 0.7847 (metrics.py:67)\n",
      "2025-04-07 11:00:17,793 - INFO - Top-200 accuracy: 0.8041 (metrics.py:67)\n",
      "2025-04-07 11:00:17,794 - INFO - Top-k accuracy calculation complete. (metrics.py:69)\n",
      "2025-04-07 11:00:20,706 - INFO - Vocabulary initialized successfully. (faissEncoder.py:76)\n",
      "2025-04-07 11:10:14,978 - INFO - FAISS index fitted successfully. (faissEncoder.py:154)\n",
      "2025-04-07 11:11:21,715 - INFO - Calculating Top-k accuracy... (metrics.py:39)\n",
      "2025-04-07 11:11:21,716 - INFO - DataFrame size: 3618, Top-k values: [1, 5, 25, 50, 100, 200] (metrics.py:40)\n",
      "2025-04-07 11:11:21,928 - INFO - Top-1 accuracy: 0.6700 (metrics.py:67)\n",
      "2025-04-07 11:11:21,928 - INFO - Top-5 accuracy: 0.7681 (metrics.py:67)\n",
      "2025-04-07 11:11:21,928 - INFO - Top-25 accuracy: 0.8306 (metrics.py:67)\n",
      "2025-04-07 11:11:21,929 - INFO - Top-50 accuracy: 0.8560 (metrics.py:67)\n",
      "2025-04-07 11:11:21,929 - INFO - Top-100 accuracy: 0.8748 (metrics.py:67)\n",
      "2025-04-07 11:11:21,929 - INFO - Top-200 accuracy: 0.8847 (metrics.py:67)\n",
      "2025-04-07 11:11:21,930 - INFO - Top-k accuracy calculation complete. (metrics.py:69)\n",
      "2025-04-07 11:11:21,930 - INFO - Calculating Top-k accuracy... (metrics.py:39)\n",
      "2025-04-07 11:11:21,931 - INFO - DataFrame size: 3512, Top-k values: [1, 5, 25, 50, 100, 200] (metrics.py:40)\n",
      "2025-04-07 11:11:22,139 - INFO - Top-1 accuracy: 0.6859 (metrics.py:67)\n",
      "2025-04-07 11:11:22,140 - INFO - Top-5 accuracy: 0.7856 (metrics.py:67)\n",
      "2025-04-07 11:11:22,140 - INFO - Top-25 accuracy: 0.8502 (metrics.py:67)\n",
      "2025-04-07 11:11:22,141 - INFO - Top-50 accuracy: 0.8761 (metrics.py:67)\n",
      "2025-04-07 11:11:22,141 - INFO - Top-100 accuracy: 0.8961 (metrics.py:67)\n",
      "2025-04-07 11:11:22,141 - INFO - Top-200 accuracy: 0.9058 (metrics.py:67)\n",
      "2025-04-07 11:11:22,142 - INFO - Top-k accuracy calculation complete. (metrics.py:69)\n",
      "2025-04-07 11:11:22,142 - INFO - Calculating Top-k accuracy... (metrics.py:39)\n",
      "2025-04-07 11:11:22,142 - INFO - DataFrame size: 1730, Top-k values: [1, 5, 25, 50, 100, 200] (metrics.py:40)\n",
      "2025-04-07 11:11:22,252 - INFO - Top-1 accuracy: 0.4006 (metrics.py:67)\n",
      "2025-04-07 11:11:22,253 - INFO - Top-5 accuracy: 0.5827 (metrics.py:67)\n",
      "2025-04-07 11:11:22,253 - INFO - Top-25 accuracy: 0.7058 (metrics.py:67)\n",
      "2025-04-07 11:11:22,253 - INFO - Top-50 accuracy: 0.7572 (metrics.py:67)\n",
      "2025-04-07 11:11:22,254 - INFO - Top-100 accuracy: 0.7965 (metrics.py:67)\n",
      "2025-04-07 11:11:22,254 - INFO - Top-200 accuracy: 0.8168 (metrics.py:67)\n",
      "2025-04-07 11:11:22,254 - INFO - Top-k accuracy calculation complete. (metrics.py:69)\n",
      "2025-04-07 11:11:22,255 - INFO - Calculating Top-k accuracy... (metrics.py:39)\n",
      "2025-04-07 11:11:22,255 - INFO - DataFrame size: 878, Top-k values: [1, 5, 25, 50, 100, 200] (metrics.py:40)\n",
      "2025-04-07 11:11:22,313 - INFO - Top-1 accuracy: 0.3155 (metrics.py:67)\n",
      "2025-04-07 11:11:22,313 - INFO - Top-5 accuracy: 0.5125 (metrics.py:67)\n",
      "2025-04-07 11:11:22,314 - INFO - Top-25 accuracy: 0.6503 (metrics.py:67)\n",
      "2025-04-07 11:11:22,314 - INFO - Top-50 accuracy: 0.7050 (metrics.py:67)\n",
      "2025-04-07 11:11:22,314 - INFO - Top-100 accuracy: 0.7494 (metrics.py:67)\n",
      "2025-04-07 11:11:22,315 - INFO - Top-200 accuracy: 0.7756 (metrics.py:67)\n",
      "2025-04-07 11:11:22,315 - INFO - Top-k accuracy calculation complete. (metrics.py:69)\n",
      "2025-04-07 11:11:24,858 - INFO - Vocabulary initialized successfully. (faissEncoder.py:76)\n",
      "2025-04-07 11:14:20,211 - INFO - FAISS index fitted successfully. (faissEncoder.py:154)\n",
      "2025-04-07 11:15:00,912 - INFO - Calculating Top-k accuracy... (metrics.py:39)\n",
      "2025-04-07 11:15:00,912 - INFO - DataFrame size: 3618, Top-k values: [1, 5, 25, 50, 100, 200] (metrics.py:40)\n",
      "2025-04-07 11:15:01,116 - INFO - Top-1 accuracy: 0.6587 (metrics.py:67)\n",
      "2025-04-07 11:15:01,117 - INFO - Top-5 accuracy: 0.7615 (metrics.py:67)\n",
      "2025-04-07 11:15:01,117 - INFO - Top-25 accuracy: 0.8328 (metrics.py:67)\n",
      "2025-04-07 11:15:01,118 - INFO - Top-50 accuracy: 0.8541 (metrics.py:67)\n",
      "2025-04-07 11:15:01,118 - INFO - Top-100 accuracy: 0.8720 (metrics.py:67)\n",
      "2025-04-07 11:15:01,118 - INFO - Top-200 accuracy: 0.8820 (metrics.py:67)\n",
      "2025-04-07 11:15:01,119 - INFO - Top-k accuracy calculation complete. (metrics.py:69)\n",
      "2025-04-07 11:15:01,119 - INFO - Calculating Top-k accuracy... (metrics.py:39)\n",
      "2025-04-07 11:15:01,120 - INFO - DataFrame size: 3512, Top-k values: [1, 5, 25, 50, 100, 200] (metrics.py:40)\n",
      "2025-04-07 11:15:01,320 - INFO - Top-1 accuracy: 0.6757 (metrics.py:67)\n",
      "2025-04-07 11:15:01,321 - INFO - Top-5 accuracy: 0.7816 (metrics.py:67)\n",
      "2025-04-07 11:15:01,321 - INFO - Top-25 accuracy: 0.8519 (metrics.py:67)\n",
      "2025-04-07 11:15:01,321 - INFO - Top-50 accuracy: 0.8744 (metrics.py:67)\n",
      "2025-04-07 11:15:01,322 - INFO - Top-100 accuracy: 0.8921 (metrics.py:67)\n",
      "2025-04-07 11:15:01,322 - INFO - Top-200 accuracy: 0.9029 (metrics.py:67)\n",
      "2025-04-07 11:15:01,322 - INFO - Top-k accuracy calculation complete. (metrics.py:69)\n",
      "2025-04-07 11:15:01,323 - INFO - Calculating Top-k accuracy... (metrics.py:39)\n",
      "2025-04-07 11:15:01,324 - INFO - DataFrame size: 1730, Top-k values: [1, 5, 25, 50, 100, 200] (metrics.py:40)\n",
      "2025-04-07 11:15:01,429 - INFO - Top-1 accuracy: 0.3809 (metrics.py:67)\n",
      "2025-04-07 11:15:01,430 - INFO - Top-5 accuracy: 0.5699 (metrics.py:67)\n",
      "2025-04-07 11:15:01,430 - INFO - Top-25 accuracy: 0.7092 (metrics.py:67)\n",
      "2025-04-07 11:15:01,430 - INFO - Top-50 accuracy: 0.7549 (metrics.py:67)\n",
      "2025-04-07 11:15:01,431 - INFO - Top-100 accuracy: 0.7890 (metrics.py:67)\n",
      "2025-04-07 11:15:01,431 - INFO - Top-200 accuracy: 0.8069 (metrics.py:67)\n",
      "2025-04-07 11:15:01,431 - INFO - Top-k accuracy calculation complete. (metrics.py:69)\n",
      "2025-04-07 11:15:01,432 - INFO - Calculating Top-k accuracy... (metrics.py:39)\n",
      "2025-04-07 11:15:01,432 - INFO - DataFrame size: 878, Top-k values: [1, 5, 25, 50, 100, 200] (metrics.py:40)\n",
      "2025-04-07 11:15:01,488 - INFO - Top-1 accuracy: 0.2961 (metrics.py:67)\n",
      "2025-04-07 11:15:01,489 - INFO - Top-5 accuracy: 0.4715 (metrics.py:67)\n",
      "2025-04-07 11:15:01,489 - INFO - Top-25 accuracy: 0.6287 (metrics.py:67)\n",
      "2025-04-07 11:15:01,489 - INFO - Top-50 accuracy: 0.6731 (metrics.py:67)\n",
      "2025-04-07 11:15:01,490 - INFO - Top-100 accuracy: 0.7016 (metrics.py:67)\n",
      "2025-04-07 11:15:01,490 - INFO - Top-200 accuracy: 0.7267 (metrics.py:67)\n",
      "2025-04-07 11:15:01,490 - INFO - Top-k accuracy calculation complete. (metrics.py:69)\n"
     ]
    },
    {
     "name": "stderr",
     "output_type": "stream",
     "text": [
      "Some weights of RobertaModel were not initialized from the model checkpoint at PlanTL-GOB-ES/roberta-base-biomedical-clinical-es and are newly initialized: ['roberta.pooler.dense.bias', 'roberta.pooler.dense.weight']\n",
      "You should probably TRAIN this model on a down-stream task to be able to use it for predictions and inference.\n"
     ]
    },
    {
     "name": "stdout",
     "output_type": "stream",
     "text": [
      "2025-04-07 11:15:02,707 - INFO - Vocabulary initialized successfully. (faissEncoder.py:76)\n",
      "2025-04-07 11:17:20,189 - INFO - FAISS index fitted successfully. (faissEncoder.py:154)\n",
      "2025-04-07 11:18:00,432 - INFO - Calculating Top-k accuracy... (metrics.py:39)\n",
      "2025-04-07 11:18:00,432 - INFO - DataFrame size: 3618, Top-k values: [1, 5, 25, 50, 100, 200] (metrics.py:40)\n",
      "2025-04-07 11:18:00,654 - INFO - Top-1 accuracy: 0.5354 (metrics.py:67)\n",
      "2025-04-07 11:18:00,654 - INFO - Top-5 accuracy: 0.5948 (metrics.py:67)\n",
      "2025-04-07 11:18:00,655 - INFO - Top-25 accuracy: 0.6520 (metrics.py:67)\n",
      "2025-04-07 11:18:00,655 - INFO - Top-50 accuracy: 0.6774 (metrics.py:67)\n",
      "2025-04-07 11:18:00,655 - INFO - Top-100 accuracy: 0.6957 (metrics.py:67)\n",
      "2025-04-07 11:18:00,656 - INFO - Top-200 accuracy: 0.7150 (metrics.py:67)\n",
      "2025-04-07 11:18:00,656 - INFO - Top-k accuracy calculation complete. (metrics.py:69)\n",
      "2025-04-07 11:18:00,657 - INFO - Calculating Top-k accuracy... (metrics.py:39)\n",
      "2025-04-07 11:18:00,657 - INFO - DataFrame size: 3512, Top-k values: [1, 5, 25, 50, 100, 200] (metrics.py:40)\n",
      "2025-04-07 11:18:00,877 - INFO - Top-1 accuracy: 0.5493 (metrics.py:67)\n",
      "2025-04-07 11:18:00,878 - INFO - Top-5 accuracy: 0.6071 (metrics.py:67)\n",
      "2025-04-07 11:18:00,878 - INFO - Top-25 accuracy: 0.6680 (metrics.py:67)\n",
      "2025-04-07 11:18:00,878 - INFO - Top-50 accuracy: 0.6902 (metrics.py:67)\n",
      "2025-04-07 11:18:00,879 - INFO - Top-100 accuracy: 0.7127 (metrics.py:67)\n",
      "2025-04-07 11:18:00,879 - INFO - Top-200 accuracy: 0.7301 (metrics.py:67)\n",
      "2025-04-07 11:18:00,879 - INFO - Top-k accuracy calculation complete. (metrics.py:69)\n",
      "2025-04-07 11:18:00,880 - INFO - Calculating Top-k accuracy... (metrics.py:39)\n",
      "2025-04-07 11:18:00,880 - INFO - DataFrame size: 1730, Top-k values: [1, 5, 25, 50, 100, 200] (metrics.py:40)\n",
      "2025-04-07 11:18:00,995 - INFO - Top-1 accuracy: 0.1428 (metrics.py:67)\n",
      "2025-04-07 11:18:00,995 - INFO - Top-5 accuracy: 0.2434 (metrics.py:67)\n",
      "2025-04-07 11:18:00,996 - INFO - Top-25 accuracy: 0.3555 (metrics.py:67)\n",
      "2025-04-07 11:18:00,996 - INFO - Top-50 accuracy: 0.4035 (metrics.py:67)\n",
      "2025-04-07 11:18:00,996 - INFO - Top-100 accuracy: 0.4434 (metrics.py:67)\n",
      "2025-04-07 11:18:00,997 - INFO - Top-200 accuracy: 0.4821 (metrics.py:67)\n",
      "2025-04-07 11:18:00,997 - INFO - Top-k accuracy calculation complete. (metrics.py:69)\n",
      "2025-04-07 11:18:00,997 - INFO - Calculating Top-k accuracy... (metrics.py:39)\n",
      "2025-04-07 11:18:00,998 - INFO - DataFrame size: 878, Top-k values: [1, 5, 25, 50, 100, 200] (metrics.py:40)\n",
      "2025-04-07 11:18:01,057 - INFO - Top-1 accuracy: 0.1390 (metrics.py:67)\n",
      "2025-04-07 11:18:01,058 - INFO - Top-5 accuracy: 0.2050 (metrics.py:67)\n",
      "2025-04-07 11:18:01,058 - INFO - Top-25 accuracy: 0.2745 (metrics.py:67)\n",
      "2025-04-07 11:18:01,058 - INFO - Top-50 accuracy: 0.3189 (metrics.py:67)\n",
      "2025-04-07 11:18:01,059 - INFO - Top-100 accuracy: 0.3474 (metrics.py:67)\n",
      "2025-04-07 11:18:01,059 - INFO - Top-200 accuracy: 0.3815 (metrics.py:67)\n",
      "2025-04-07 11:18:01,060 - INFO - Top-k accuracy calculation complete. (metrics.py:69)\n",
      "2025-04-07 11:18:02,609 - INFO - Vocabulary initialized successfully. (faissEncoder.py:76)\n",
      "2025-04-07 11:19:26,270 - INFO - FAISS index fitted successfully. (faissEncoder.py:154)\n",
      "2025-04-07 11:19:50,831 - INFO - Calculating Top-k accuracy... (metrics.py:39)\n",
      "2025-04-07 11:19:50,831 - INFO - DataFrame size: 2848, Top-k values: [1, 5, 25, 50, 100, 200] (metrics.py:40)\n",
      "2025-04-07 11:19:50,993 - INFO - Top-1 accuracy: 0.6355 (metrics.py:67)\n",
      "2025-04-07 11:19:50,994 - INFO - Top-5 accuracy: 0.7953 (metrics.py:67)\n",
      "2025-04-07 11:19:50,994 - INFO - Top-25 accuracy: 0.8992 (metrics.py:67)\n",
      "2025-04-07 11:19:50,994 - INFO - Top-50 accuracy: 0.9263 (metrics.py:67)\n",
      "2025-04-07 11:19:50,995 - INFO - Top-100 accuracy: 0.9463 (metrics.py:67)\n",
      "2025-04-07 11:19:50,995 - INFO - Top-200 accuracy: 0.9540 (metrics.py:67)\n",
      "2025-04-07 11:19:50,995 - INFO - Top-k accuracy calculation complete. (metrics.py:69)\n",
      "2025-04-07 11:19:50,996 - INFO - Calculating Top-k accuracy... (metrics.py:39)\n",
      "2025-04-07 11:19:50,996 - INFO - DataFrame size: 2741, Top-k values: [1, 5, 25, 50, 100, 200] (metrics.py:40)\n",
      "2025-04-07 11:19:51,155 - INFO - Top-1 accuracy: 0.6527 (metrics.py:67)\n",
      "2025-04-07 11:19:51,156 - INFO - Top-5 accuracy: 0.8176 (metrics.py:67)\n",
      "2025-04-07 11:19:51,156 - INFO - Top-25 accuracy: 0.9165 (metrics.py:67)\n",
      "2025-04-07 11:19:51,157 - INFO - Top-50 accuracy: 0.9398 (metrics.py:67)\n",
      "2025-04-07 11:19:51,157 - INFO - Top-100 accuracy: 0.9562 (metrics.py:67)\n",
      "2025-04-07 11:19:51,157 - INFO - Top-200 accuracy: 0.9632 (metrics.py:67)\n",
      "2025-04-07 11:19:51,158 - INFO - Top-k accuracy calculation complete. (metrics.py:69)\n",
      "2025-04-07 11:19:51,158 - INFO - Calculating Top-k accuracy... (metrics.py:39)\n",
      "2025-04-07 11:19:51,159 - INFO - DataFrame size: 1573, Top-k values: [1, 5, 25, 50, 100, 200] (metrics.py:40)\n",
      "2025-04-07 11:19:51,253 - INFO - Top-1 accuracy: 0.4145 (metrics.py:67)\n",
      "2025-04-07 11:19:51,254 - INFO - Top-5 accuracy: 0.6828 (metrics.py:67)\n",
      "2025-04-07 11:19:51,254 - INFO - Top-25 accuracy: 0.8551 (metrics.py:67)\n",
      "2025-04-07 11:19:51,254 - INFO - Top-50 accuracy: 0.8970 (metrics.py:67)\n",
      "2025-04-07 11:19:51,255 - INFO - Top-100 accuracy: 0.9256 (metrics.py:67)\n",
      "2025-04-07 11:19:51,255 - INFO - Top-200 accuracy: 0.9371 (metrics.py:67)\n",
      "2025-04-07 11:19:51,255 - INFO - Top-k accuracy calculation complete. (metrics.py:69)\n",
      "2025-04-07 11:19:51,256 - INFO - Calculating Top-k accuracy... (metrics.py:39)\n",
      "2025-04-07 11:19:51,256 - INFO - DataFrame size: 763, Top-k values: [1, 5, 25, 50, 100, 200] (metrics.py:40)\n",
      "2025-04-07 11:19:51,304 - INFO - Top-1 accuracy: 0.3159 (metrics.py:67)\n",
      "2025-04-07 11:19:51,305 - INFO - Top-5 accuracy: 0.5596 (metrics.py:67)\n",
      "2025-04-07 11:19:51,305 - INFO - Top-25 accuracy: 0.7824 (metrics.py:67)\n",
      "2025-04-07 11:19:51,305 - INFO - Top-50 accuracy: 0.8401 (metrics.py:67)\n",
      "2025-04-07 11:19:51,306 - INFO - Top-100 accuracy: 0.8820 (metrics.py:67)\n",
      "2025-04-07 11:19:51,306 - INFO - Top-200 accuracy: 0.8991 (metrics.py:67)\n",
      "2025-04-07 11:19:51,306 - INFO - Top-k accuracy calculation complete. (metrics.py:69)\n",
      "2025-04-07 11:19:53,131 - INFO - Reranking candidates... (crossEncoder.py:193)\n"
     ]
    },
    {
     "name": "stderr",
     "output_type": "stream",
     "text": [
      "Reranking candidates: 100%|██████████| 2848/2848 [03:36<00:00, 13.14it/s]"
     ]
    },
    {
     "name": "stdout",
     "output_type": "stream",
     "text": [
      "2025-04-07 11:23:29,952 - INFO - Reranking complete. (crossEncoder.py:205)\n",
      "2025-04-07 11:23:29,952 - INFO - Calculating Top-k accuracy... (metrics.py:39)\n",
      "2025-04-07 11:23:29,953 - INFO - DataFrame size: 2848, Top-k values: [1, 5, 25, 50, 100, 200] (metrics.py:40)\n"
     ]
    },
    {
     "name": "stderr",
     "output_type": "stream",
     "text": [
      "\n"
     ]
    },
    {
     "name": "stdout",
     "output_type": "stream",
     "text": [
      "2025-04-07 11:23:30,117 - INFO - Top-1 accuracy: 0.6254 (metrics.py:67)\n",
      "2025-04-07 11:23:30,117 - INFO - Top-5 accuracy: 0.7753 (metrics.py:67)\n",
      "2025-04-07 11:23:30,117 - INFO - Top-25 accuracy: 0.8989 (metrics.py:67)\n",
      "2025-04-07 11:23:30,118 - INFO - Top-50 accuracy: 0.9305 (metrics.py:67)\n",
      "2025-04-07 11:23:30,118 - INFO - Top-100 accuracy: 0.9494 (metrics.py:67)\n",
      "2025-04-07 11:23:30,118 - INFO - Top-200 accuracy: 0.9540 (metrics.py:67)\n",
      "2025-04-07 11:23:30,119 - INFO - Top-k accuracy calculation complete. (metrics.py:69)\n",
      "2025-04-07 11:23:30,124 - INFO - Reranking candidates... (crossEncoder.py:193)\n"
     ]
    },
    {
     "name": "stderr",
     "output_type": "stream",
     "text": [
      "Reranking candidates: 100%|██████████| 2741/2741 [03:33<00:00, 12.85it/s]"
     ]
    },
    {
     "name": "stdout",
     "output_type": "stream",
     "text": [
      "2025-04-07 11:27:03,492 - INFO - Reranking complete. (crossEncoder.py:205)\n",
      "2025-04-07 11:27:03,492 - INFO - Calculating Top-k accuracy... (metrics.py:39)\n",
      "2025-04-07 11:27:03,493 - INFO - DataFrame size: 2741, Top-k values: [1, 5, 25, 50, 100, 200] (metrics.py:40)\n"
     ]
    },
    {
     "name": "stderr",
     "output_type": "stream",
     "text": [
      "\n"
     ]
    },
    {
     "name": "stdout",
     "output_type": "stream",
     "text": [
      "2025-04-07 11:27:03,652 - INFO - Top-1 accuracy: 0.6421 (metrics.py:67)\n",
      "2025-04-07 11:27:03,653 - INFO - Top-5 accuracy: 0.7975 (metrics.py:67)\n",
      "2025-04-07 11:27:03,653 - INFO - Top-25 accuracy: 0.9219 (metrics.py:67)\n",
      "2025-04-07 11:27:03,653 - INFO - Top-50 accuracy: 0.9478 (metrics.py:67)\n",
      "2025-04-07 11:27:03,654 - INFO - Top-100 accuracy: 0.9606 (metrics.py:67)\n",
      "2025-04-07 11:27:03,654 - INFO - Top-200 accuracy: 0.9632 (metrics.py:67)\n",
      "2025-04-07 11:27:03,655 - INFO - Top-k accuracy calculation complete. (metrics.py:69)\n",
      "2025-04-07 11:27:03,660 - INFO - Reranking candidates... (crossEncoder.py:193)\n"
     ]
    },
    {
     "name": "stderr",
     "output_type": "stream",
     "text": [
      "Reranking candidates: 100%|██████████| 1573/1573 [02:30<00:00, 10.42it/s]"
     ]
    },
    {
     "name": "stdout",
     "output_type": "stream",
     "text": [
      "2025-04-07 11:29:34,647 - INFO - Reranking complete. (crossEncoder.py:205)\n",
      "2025-04-07 11:29:34,647 - INFO - Calculating Top-k accuracy... (metrics.py:39)\n",
      "2025-04-07 11:29:34,648 - INFO - DataFrame size: 1573, Top-k values: [1, 5, 25, 50, 100, 200] (metrics.py:40)\n"
     ]
    },
    {
     "name": "stderr",
     "output_type": "stream",
     "text": [
      "\n"
     ]
    },
    {
     "name": "stdout",
     "output_type": "stream",
     "text": [
      "2025-04-07 11:29:34,745 - INFO - Top-1 accuracy: 0.3967 (metrics.py:67)\n",
      "2025-04-07 11:29:34,746 - INFO - Top-5 accuracy: 0.6484 (metrics.py:67)\n",
      "2025-04-07 11:29:34,746 - INFO - Top-25 accuracy: 0.8646 (metrics.py:67)\n",
      "2025-04-07 11:29:34,747 - INFO - Top-50 accuracy: 0.9091 (metrics.py:67)\n",
      "2025-04-07 11:29:34,747 - INFO - Top-100 accuracy: 0.9326 (metrics.py:67)\n",
      "2025-04-07 11:29:34,747 - INFO - Top-200 accuracy: 0.9371 (metrics.py:67)\n",
      "2025-04-07 11:29:34,748 - INFO - Top-k accuracy calculation complete. (metrics.py:69)\n",
      "2025-04-07 11:29:34,751 - INFO - Reranking candidates... (crossEncoder.py:193)\n"
     ]
    },
    {
     "name": "stderr",
     "output_type": "stream",
     "text": [
      "Reranking candidates: 100%|██████████| 763/763 [01:17<00:00,  9.78it/s]"
     ]
    },
    {
     "name": "stdout",
     "output_type": "stream",
     "text": [
      "2025-04-07 11:30:52,750 - INFO - Reranking complete. (crossEncoder.py:205)\n",
      "2025-04-07 11:30:52,750 - INFO - Calculating Top-k accuracy... (metrics.py:39)\n",
      "2025-04-07 11:30:52,751 - INFO - DataFrame size: 763, Top-k values: [1, 5, 25, 50, 100, 200] (metrics.py:40)\n",
      "2025-04-07 11:30:52,800 - INFO - Top-1 accuracy: 0.3067 (metrics.py:67)\n",
      "2025-04-07 11:30:52,800 - INFO - Top-5 accuracy: 0.5491 (metrics.py:67)\n",
      "2025-04-07 11:30:52,800 - INFO - Top-25 accuracy: 0.8021 (metrics.py:67)\n",
      "2025-04-07 11:30:52,801 - INFO - Top-50 accuracy: 0.8598 (metrics.py:67)\n",
      "2025-04-07 11:30:52,801 - INFO - Top-100 accuracy: 0.8938 (metrics.py:67)\n",
      "2025-04-07 11:30:52,801 - INFO - Top-200 accuracy: 0.8991 (metrics.py:67)\n",
      "2025-04-07 11:30:52,802 - INFO - Top-k accuracy calculation complete. (metrics.py:69)\n"
     ]
    },
    {
     "name": "stderr",
     "output_type": "stream",
     "text": [
      "\n"
     ]
    },
    {
     "name": "stdout",
     "output_type": "stream",
     "text": [
      "2025-04-07 11:30:53,050 - INFO - Vocabulary initialized successfully. (faissEncoder.py:76)\n",
      "2025-04-07 11:32:20,659 - INFO - FAISS index fitted successfully. (faissEncoder.py:154)\n",
      "2025-04-07 11:32:44,911 - INFO - Calculating Top-k accuracy... (metrics.py:39)\n",
      "2025-04-07 11:32:44,912 - INFO - DataFrame size: 2848, Top-k values: [1, 5, 25, 50, 100, 200] (metrics.py:40)\n",
      "2025-04-07 11:32:45,075 - INFO - Top-1 accuracy: 0.6471 (metrics.py:67)\n",
      "2025-04-07 11:32:45,075 - INFO - Top-5 accuracy: 0.8136 (metrics.py:67)\n",
      "2025-04-07 11:32:45,076 - INFO - Top-25 accuracy: 0.9020 (metrics.py:67)\n",
      "2025-04-07 11:32:45,076 - INFO - Top-50 accuracy: 0.9270 (metrics.py:67)\n",
      "2025-04-07 11:32:45,076 - INFO - Top-100 accuracy: 0.9491 (metrics.py:67)\n",
      "2025-04-07 11:32:45,077 - INFO - Top-200 accuracy: 0.9568 (metrics.py:67)\n",
      "2025-04-07 11:32:45,077 - INFO - Top-k accuracy calculation complete. (metrics.py:69)\n",
      "2025-04-07 11:32:45,078 - INFO - Calculating Top-k accuracy... (metrics.py:39)\n",
      "2025-04-07 11:32:45,078 - INFO - DataFrame size: 2741, Top-k values: [1, 5, 25, 50, 100, 200] (metrics.py:40)\n",
      "2025-04-07 11:32:45,237 - INFO - Top-1 accuracy: 0.6684 (metrics.py:67)\n",
      "2025-04-07 11:32:45,238 - INFO - Top-5 accuracy: 0.8322 (metrics.py:67)\n",
      "2025-04-07 11:32:45,238 - INFO - Top-25 accuracy: 0.9172 (metrics.py:67)\n",
      "2025-04-07 11:32:45,238 - INFO - Top-50 accuracy: 0.9398 (metrics.py:67)\n",
      "2025-04-07 11:32:45,239 - INFO - Top-100 accuracy: 0.9591 (metrics.py:67)\n",
      "2025-04-07 11:32:45,239 - INFO - Top-200 accuracy: 0.9650 (metrics.py:67)\n",
      "2025-04-07 11:32:45,239 - INFO - Top-k accuracy calculation complete. (metrics.py:69)\n",
      "2025-04-07 11:32:45,240 - INFO - Calculating Top-k accuracy... (metrics.py:39)\n",
      "2025-04-07 11:32:45,240 - INFO - DataFrame size: 1573, Top-k values: [1, 5, 25, 50, 100, 200] (metrics.py:40)\n",
      "2025-04-07 11:32:45,339 - INFO - Top-1 accuracy: 0.4355 (metrics.py:67)\n",
      "2025-04-07 11:32:45,339 - INFO - Top-5 accuracy: 0.7082 (metrics.py:67)\n",
      "2025-04-07 11:32:45,340 - INFO - Top-25 accuracy: 0.8551 (metrics.py:67)\n",
      "2025-04-07 11:32:45,340 - INFO - Top-50 accuracy: 0.8951 (metrics.py:67)\n",
      "2025-04-07 11:32:45,340 - INFO - Top-100 accuracy: 0.9288 (metrics.py:67)\n",
      "2025-04-07 11:32:45,341 - INFO - Top-200 accuracy: 0.9396 (metrics.py:67)\n",
      "2025-04-07 11:32:45,341 - INFO - Top-k accuracy calculation complete. (metrics.py:69)\n",
      "2025-04-07 11:32:45,341 - INFO - Calculating Top-k accuracy... (metrics.py:39)\n",
      "2025-04-07 11:32:45,342 - INFO - DataFrame size: 763, Top-k values: [1, 5, 25, 50, 100, 200] (metrics.py:40)\n",
      "2025-04-07 11:32:45,393 - INFO - Top-1 accuracy: 0.3172 (metrics.py:67)\n",
      "2025-04-07 11:32:45,393 - INFO - Top-5 accuracy: 0.5911 (metrics.py:67)\n",
      "2025-04-07 11:32:45,394 - INFO - Top-25 accuracy: 0.7903 (metrics.py:67)\n",
      "2025-04-07 11:32:45,394 - INFO - Top-50 accuracy: 0.8375 (metrics.py:67)\n",
      "2025-04-07 11:32:45,394 - INFO - Top-100 accuracy: 0.8873 (metrics.py:67)\n",
      "2025-04-07 11:32:45,395 - INFO - Top-200 accuracy: 0.9043 (metrics.py:67)\n",
      "2025-04-07 11:32:45,395 - INFO - Top-k accuracy calculation complete. (metrics.py:69)\n",
      "2025-04-07 11:32:46,714 - INFO - Reranking candidates... (crossEncoder.py:193)\n"
     ]
    },
    {
     "name": "stderr",
     "output_type": "stream",
     "text": [
      "Reranking candidates: 100%|██████████| 2848/2848 [03:39<00:00, 12.95it/s]"
     ]
    },
    {
     "name": "stdout",
     "output_type": "stream",
     "text": [
      "2025-04-07 11:36:26,647 - INFO - Reranking complete. (crossEncoder.py:205)\n",
      "2025-04-07 11:36:26,647 - INFO - Calculating Top-k accuracy... (metrics.py:39)\n",
      "2025-04-07 11:36:26,648 - INFO - DataFrame size: 2848, Top-k values: [1, 5, 25, 50, 100, 200] (metrics.py:40)\n"
     ]
    },
    {
     "name": "stderr",
     "output_type": "stream",
     "text": [
      "\n"
     ]
    },
    {
     "name": "stdout",
     "output_type": "stream",
     "text": [
      "2025-04-07 11:36:26,812 - INFO - Top-1 accuracy: 0.6208 (metrics.py:67)\n",
      "2025-04-07 11:36:26,813 - INFO - Top-5 accuracy: 0.7746 (metrics.py:67)\n",
      "2025-04-07 11:36:26,813 - INFO - Top-25 accuracy: 0.8978 (metrics.py:67)\n",
      "2025-04-07 11:36:26,813 - INFO - Top-50 accuracy: 0.9298 (metrics.py:67)\n",
      "2025-04-07 11:36:26,814 - INFO - Top-100 accuracy: 0.9533 (metrics.py:67)\n",
      "2025-04-07 11:36:26,814 - INFO - Top-200 accuracy: 0.9568 (metrics.py:67)\n",
      "2025-04-07 11:36:26,814 - INFO - Top-k accuracy calculation complete. (metrics.py:69)\n",
      "2025-04-07 11:36:26,820 - INFO - Reranking candidates... (crossEncoder.py:193)\n"
     ]
    },
    {
     "name": "stderr",
     "output_type": "stream",
     "text": [
      "Reranking candidates: 100%|██████████| 2741/2741 [03:31<00:00, 12.98it/s]"
     ]
    },
    {
     "name": "stdout",
     "output_type": "stream",
     "text": [
      "2025-04-07 11:39:57,912 - INFO - Reranking complete. (crossEncoder.py:205)\n",
      "2025-04-07 11:39:57,912 - INFO - Calculating Top-k accuracy... (metrics.py:39)\n",
      "2025-04-07 11:39:57,913 - INFO - DataFrame size: 2741, Top-k values: [1, 5, 25, 50, 100, 200] (metrics.py:40)\n"
     ]
    },
    {
     "name": "stderr",
     "output_type": "stream",
     "text": [
      "\n"
     ]
    },
    {
     "name": "stdout",
     "output_type": "stream",
     "text": [
      "2025-04-07 11:39:58,072 - INFO - Top-1 accuracy: 0.6410 (metrics.py:67)\n",
      "2025-04-07 11:39:58,073 - INFO - Top-5 accuracy: 0.7968 (metrics.py:67)\n",
      "2025-04-07 11:39:58,073 - INFO - Top-25 accuracy: 0.9179 (metrics.py:67)\n",
      "2025-04-07 11:39:58,074 - INFO - Top-50 accuracy: 0.9467 (metrics.py:67)\n",
      "2025-04-07 11:39:58,074 - INFO - Top-100 accuracy: 0.9628 (metrics.py:67)\n",
      "2025-04-07 11:39:58,074 - INFO - Top-200 accuracy: 0.9650 (metrics.py:67)\n",
      "2025-04-07 11:39:58,074 - INFO - Top-k accuracy calculation complete. (metrics.py:69)\n",
      "2025-04-07 11:39:58,080 - INFO - Reranking candidates... (crossEncoder.py:193)\n"
     ]
    },
    {
     "name": "stderr",
     "output_type": "stream",
     "text": [
      "Reranking candidates: 100%|██████████| 1573/1573 [02:31<00:00, 10.41it/s]"
     ]
    },
    {
     "name": "stdout",
     "output_type": "stream",
     "text": [
      "2025-04-07 11:42:29,134 - INFO - Reranking complete. (crossEncoder.py:205)\n",
      "2025-04-07 11:42:29,134 - INFO - Calculating Top-k accuracy... (metrics.py:39)\n",
      "2025-04-07 11:42:29,134 - INFO - DataFrame size: 1573, Top-k values: [1, 5, 25, 50, 100, 200] (metrics.py:40)\n",
      "2025-04-07 11:42:29,230 - INFO - Top-1 accuracy: 0.3942 (metrics.py:67)\n",
      "2025-04-07 11:42:29,231 - INFO - Top-5 accuracy: 0.6491 (metrics.py:67)\n",
      "2025-04-07 11:42:29,231 - INFO - Top-25 accuracy: 0.8570 (metrics.py:67)\n",
      "2025-04-07 11:42:29,231 - INFO - Top-50 accuracy: 0.9085 (metrics.py:67)\n",
      "2025-04-07 11:42:29,232 - INFO - Top-100 accuracy: 0.9358 (metrics.py:67)\n",
      "2025-04-07 11:42:29,232 - INFO - Top-200 accuracy: 0.9396 (metrics.py:67)\n",
      "2025-04-07 11:42:29,232 - INFO - Top-k accuracy calculation complete. (metrics.py:69)\n",
      "2025-04-07 11:42:29,236 - INFO - Reranking candidates... (crossEncoder.py:193)\n"
     ]
    },
    {
     "name": "stderr",
     "output_type": "stream",
     "text": [
      "\n",
      "Reranking candidates: 100%|██████████| 763/763 [01:17<00:00,  9.88it/s]"
     ]
    },
    {
     "name": "stdout",
     "output_type": "stream",
     "text": [
      "2025-04-07 11:43:46,476 - INFO - Reranking complete. (crossEncoder.py:205)\n",
      "2025-04-07 11:43:46,476 - INFO - Calculating Top-k accuracy... (metrics.py:39)\n",
      "2025-04-07 11:43:46,476 - INFO - DataFrame size: 763, Top-k values: [1, 5, 25, 50, 100, 200] (metrics.py:40)\n",
      "2025-04-07 11:43:46,526 - INFO - Top-1 accuracy: 0.3172 (metrics.py:67)\n",
      "2025-04-07 11:43:46,527 - INFO - Top-5 accuracy: 0.5465 (metrics.py:67)\n",
      "2025-04-07 11:43:46,527 - INFO - Top-25 accuracy: 0.7995 (metrics.py:67)\n",
      "2025-04-07 11:43:46,527 - INFO - Top-50 accuracy: 0.8637 (metrics.py:67)\n",
      "2025-04-07 11:43:46,528 - INFO - Top-100 accuracy: 0.9004 (metrics.py:67)\n",
      "2025-04-07 11:43:46,528 - INFO - Top-200 accuracy: 0.9043 (metrics.py:67)\n",
      "2025-04-07 11:43:46,528 - INFO - Top-k accuracy calculation complete. (metrics.py:69)\n"
     ]
    },
    {
     "name": "stderr",
     "output_type": "stream",
     "text": [
      "\n"
     ]
    },
    {
     "name": "stdout",
     "output_type": "stream",
     "text": [
      "2025-04-07 11:43:46,808 - INFO - Vocabulary initialized successfully. (faissEncoder.py:76)\n",
      "2025-04-07 11:45:14,805 - INFO - FAISS index fitted successfully. (faissEncoder.py:154)\n",
      "2025-04-07 11:45:38,650 - INFO - Calculating Top-k accuracy... (metrics.py:39)\n",
      "2025-04-07 11:45:38,650 - INFO - DataFrame size: 2848, Top-k values: [1, 5, 25, 50, 100, 200] (metrics.py:40)\n",
      "2025-04-07 11:45:38,812 - INFO - Top-1 accuracy: 0.6436 (metrics.py:67)\n",
      "2025-04-07 11:45:38,812 - INFO - Top-5 accuracy: 0.7869 (metrics.py:67)\n",
      "2025-04-07 11:45:38,813 - INFO - Top-25 accuracy: 0.8666 (metrics.py:67)\n",
      "2025-04-07 11:45:38,813 - INFO - Top-50 accuracy: 0.8897 (metrics.py:67)\n",
      "2025-04-07 11:45:38,813 - INFO - Top-100 accuracy: 0.9133 (metrics.py:67)\n",
      "2025-04-07 11:45:38,813 - INFO - Top-200 accuracy: 0.9263 (metrics.py:67)\n",
      "2025-04-07 11:45:38,814 - INFO - Top-k accuracy calculation complete. (metrics.py:69)\n",
      "2025-04-07 11:45:38,814 - INFO - Calculating Top-k accuracy... (metrics.py:39)\n",
      "2025-04-07 11:45:38,815 - INFO - DataFrame size: 2741, Top-k values: [1, 5, 25, 50, 100, 200] (metrics.py:40)\n",
      "2025-04-07 11:45:38,971 - INFO - Top-1 accuracy: 0.6607 (metrics.py:67)\n",
      "2025-04-07 11:45:38,971 - INFO - Top-5 accuracy: 0.8063 (metrics.py:67)\n",
      "2025-04-07 11:45:38,971 - INFO - Top-25 accuracy: 0.8825 (metrics.py:67)\n",
      "2025-04-07 11:45:38,972 - INFO - Top-50 accuracy: 0.9030 (metrics.py:67)\n",
      "2025-04-07 11:45:38,972 - INFO - Top-100 accuracy: 0.9227 (metrics.py:67)\n",
      "2025-04-07 11:45:38,972 - INFO - Top-200 accuracy: 0.9343 (metrics.py:67)\n",
      "2025-04-07 11:45:38,972 - INFO - Top-k accuracy calculation complete. (metrics.py:69)\n",
      "2025-04-07 11:45:38,973 - INFO - Calculating Top-k accuracy... (metrics.py:39)\n",
      "2025-04-07 11:45:38,973 - INFO - DataFrame size: 1573, Top-k values: [1, 5, 25, 50, 100, 200] (metrics.py:40)\n",
      "2025-04-07 11:45:39,068 - INFO - Top-1 accuracy: 0.4278 (metrics.py:67)\n",
      "2025-04-07 11:45:39,069 - INFO - Top-5 accuracy: 0.6656 (metrics.py:67)\n",
      "2025-04-07 11:45:39,069 - INFO - Top-25 accuracy: 0.7972 (metrics.py:67)\n",
      "2025-04-07 11:45:39,069 - INFO - Top-50 accuracy: 0.8322 (metrics.py:67)\n",
      "2025-04-07 11:45:39,070 - INFO - Top-100 accuracy: 0.8678 (metrics.py:67)\n",
      "2025-04-07 11:45:39,070 - INFO - Top-200 accuracy: 0.8868 (metrics.py:67)\n",
      "2025-04-07 11:45:39,070 - INFO - Top-k accuracy calculation complete. (metrics.py:69)\n",
      "2025-04-07 11:45:39,071 - INFO - Calculating Top-k accuracy... (metrics.py:39)\n",
      "2025-04-07 11:45:39,071 - INFO - DataFrame size: 763, Top-k values: [1, 5, 25, 50, 100, 200] (metrics.py:40)\n",
      "2025-04-07 11:45:39,120 - INFO - Top-1 accuracy: 0.3381 (metrics.py:67)\n",
      "2025-04-07 11:45:39,120 - INFO - Top-5 accuracy: 0.5387 (metrics.py:67)\n",
      "2025-04-07 11:45:39,121 - INFO - Top-25 accuracy: 0.7051 (metrics.py:67)\n",
      "2025-04-07 11:45:39,121 - INFO - Top-50 accuracy: 0.7497 (metrics.py:67)\n",
      "2025-04-07 11:45:39,121 - INFO - Top-100 accuracy: 0.7837 (metrics.py:67)\n",
      "2025-04-07 11:45:39,122 - INFO - Top-200 accuracy: 0.8139 (metrics.py:67)\n",
      "2025-04-07 11:45:39,122 - INFO - Top-k accuracy calculation complete. (metrics.py:69)\n",
      "2025-04-07 11:45:40,283 - INFO - Reranking candidates... (crossEncoder.py:193)\n"
     ]
    },
    {
     "name": "stderr",
     "output_type": "stream",
     "text": [
      "Reranking candidates: 100%|██████████| 2848/2848 [03:25<00:00, 13.87it/s]"
     ]
    },
    {
     "name": "stdout",
     "output_type": "stream",
     "text": [
      "2025-04-07 11:49:05,587 - INFO - Reranking complete. (crossEncoder.py:205)\n",
      "2025-04-07 11:49:05,587 - INFO - Calculating Top-k accuracy... (metrics.py:39)\n",
      "2025-04-07 11:49:05,588 - INFO - DataFrame size: 2848, Top-k values: [1, 5, 25, 50, 100, 200] (metrics.py:40)\n"
     ]
    },
    {
     "name": "stderr",
     "output_type": "stream",
     "text": [
      "\n"
     ]
    },
    {
     "name": "stdout",
     "output_type": "stream",
     "text": [
      "2025-04-07 11:49:05,753 - INFO - Top-1 accuracy: 0.6412 (metrics.py:67)\n",
      "2025-04-07 11:49:05,754 - INFO - Top-5 accuracy: 0.7942 (metrics.py:67)\n",
      "2025-04-07 11:49:05,754 - INFO - Top-25 accuracy: 0.8894 (metrics.py:67)\n",
      "2025-04-07 11:49:05,755 - INFO - Top-50 accuracy: 0.9105 (metrics.py:67)\n",
      "2025-04-07 11:49:05,755 - INFO - Top-100 accuracy: 0.9235 (metrics.py:67)\n",
      "2025-04-07 11:49:05,755 - INFO - Top-200 accuracy: 0.9263 (metrics.py:67)\n",
      "2025-04-07 11:49:05,756 - INFO - Top-k accuracy calculation complete. (metrics.py:69)\n",
      "2025-04-07 11:49:05,761 - INFO - Reranking candidates... (crossEncoder.py:193)\n"
     ]
    },
    {
     "name": "stderr",
     "output_type": "stream",
     "text": [
      "Reranking candidates: 100%|██████████| 2741/2741 [03:15<00:00, 14.06it/s]"
     ]
    },
    {
     "name": "stdout",
     "output_type": "stream",
     "text": [
      "2025-04-07 11:52:20,772 - INFO - Reranking complete. (crossEncoder.py:205)\n",
      "2025-04-07 11:52:20,772 - INFO - Calculating Top-k accuracy... (metrics.py:39)\n",
      "2025-04-07 11:52:20,773 - INFO - DataFrame size: 2741, Top-k values: [1, 5, 25, 50, 100, 200] (metrics.py:40)\n",
      "2025-04-07 11:52:20,929 - INFO - Top-1 accuracy: 0.6618 (metrics.py:67)\n",
      "2025-04-07 11:52:20,929 - INFO - Top-5 accuracy: 0.8183 (metrics.py:67)\n",
      "2025-04-07 11:52:20,930 - INFO - Top-25 accuracy: 0.9088 (metrics.py:67)\n",
      "2025-04-07 11:52:20,930 - INFO - Top-50 accuracy: 0.9248 (metrics.py:67)\n",
      "2025-04-07 11:52:20,930 - INFO - Top-100 accuracy: 0.9336 (metrics.py:67)\n",
      "2025-04-07 11:52:20,931 - INFO - Top-200 accuracy: 0.9343 (metrics.py:67)\n",
      "2025-04-07 11:52:20,931 - INFO - Top-k accuracy calculation complete. (metrics.py:69)\n",
      "2025-04-07 11:52:20,937 - INFO - Reranking candidates... (crossEncoder.py:193)\n"
     ]
    },
    {
     "name": "stderr",
     "output_type": "stream",
     "text": [
      "\n",
      "Reranking candidates: 100%|██████████| 1573/1573 [02:28<00:00, 10.58it/s]"
     ]
    },
    {
     "name": "stdout",
     "output_type": "stream",
     "text": [
      "2025-04-07 11:54:49,627 - INFO - Reranking complete. (crossEncoder.py:205)\n",
      "2025-04-07 11:54:49,628 - INFO - Calculating Top-k accuracy... (metrics.py:39)\n",
      "2025-04-07 11:54:49,628 - INFO - DataFrame size: 1573, Top-k values: [1, 5, 25, 50, 100, 200] (metrics.py:40)\n"
     ]
    },
    {
     "name": "stderr",
     "output_type": "stream",
     "text": [
      "\n"
     ]
    },
    {
     "name": "stdout",
     "output_type": "stream",
     "text": [
      "2025-04-07 11:54:49,727 - INFO - Top-1 accuracy: 0.4336 (metrics.py:67)\n",
      "2025-04-07 11:54:49,728 - INFO - Top-5 accuracy: 0.6853 (metrics.py:67)\n",
      "2025-04-07 11:54:49,728 - INFO - Top-25 accuracy: 0.8436 (metrics.py:67)\n",
      "2025-04-07 11:54:49,728 - INFO - Top-50 accuracy: 0.8703 (metrics.py:67)\n",
      "2025-04-07 11:54:49,729 - INFO - Top-100 accuracy: 0.8856 (metrics.py:67)\n",
      "2025-04-07 11:54:49,729 - INFO - Top-200 accuracy: 0.8868 (metrics.py:67)\n",
      "2025-04-07 11:54:49,729 - INFO - Top-k accuracy calculation complete. (metrics.py:69)\n",
      "2025-04-07 11:54:49,734 - INFO - Reranking candidates... (crossEncoder.py:193)\n"
     ]
    },
    {
     "name": "stderr",
     "output_type": "stream",
     "text": [
      "Reranking candidates: 100%|██████████| 763/763 [01:16<00:00,  9.91it/s]"
     ]
    },
    {
     "name": "stdout",
     "output_type": "stream",
     "text": [
      "2025-04-07 11:56:06,691 - INFO - Reranking complete. (crossEncoder.py:205)\n",
      "2025-04-07 11:56:06,692 - INFO - Calculating Top-k accuracy... (metrics.py:39)\n",
      "2025-04-07 11:56:06,692 - INFO - DataFrame size: 763, Top-k values: [1, 5, 25, 50, 100, 200] (metrics.py:40)\n"
     ]
    },
    {
     "name": "stderr",
     "output_type": "stream",
     "text": [
      "\n"
     ]
    },
    {
     "name": "stdout",
     "output_type": "stream",
     "text": [
      "2025-04-07 11:56:06,744 - INFO - Top-1 accuracy: 0.3408 (metrics.py:67)\n",
      "2025-04-07 11:56:06,745 - INFO - Top-5 accuracy: 0.5675 (metrics.py:67)\n",
      "2025-04-07 11:56:06,745 - INFO - Top-25 accuracy: 0.7575 (metrics.py:67)\n",
      "2025-04-07 11:56:06,746 - INFO - Top-50 accuracy: 0.7916 (metrics.py:67)\n",
      "2025-04-07 11:56:06,746 - INFO - Top-100 accuracy: 0.8113 (metrics.py:67)\n",
      "2025-04-07 11:56:06,747 - INFO - Top-200 accuracy: 0.8139 (metrics.py:67)\n",
      "2025-04-07 11:56:06,747 - INFO - Top-k accuracy calculation complete. (metrics.py:69)\n",
      "2025-04-07 11:56:12,141 - INFO - Vocabulary initialized successfully. (faissEncoder.py:76)\n",
      "2025-04-07 11:57:39,388 - INFO - FAISS index fitted successfully. (faissEncoder.py:154)\n",
      "2025-04-07 11:58:03,905 - INFO - Calculating Top-k accuracy... (metrics.py:39)\n",
      "2025-04-07 11:58:03,906 - INFO - DataFrame size: 2848, Top-k values: [1, 5, 25, 50, 100, 200] (metrics.py:40)\n",
      "2025-04-07 11:58:04,071 - INFO - Top-1 accuracy: 0.6257 (metrics.py:67)\n",
      "2025-04-07 11:58:04,071 - INFO - Top-5 accuracy: 0.7672 (metrics.py:67)\n",
      "2025-04-07 11:58:04,072 - INFO - Top-25 accuracy: 0.8539 (metrics.py:67)\n",
      "2025-04-07 11:58:04,072 - INFO - Top-50 accuracy: 0.8845 (metrics.py:67)\n",
      "2025-04-07 11:58:04,073 - INFO - Top-100 accuracy: 0.9059 (metrics.py:67)\n",
      "2025-04-07 11:58:04,073 - INFO - Top-200 accuracy: 0.9196 (metrics.py:67)\n",
      "2025-04-07 11:58:04,073 - INFO - Top-k accuracy calculation complete. (metrics.py:69)\n",
      "2025-04-07 11:58:04,074 - INFO - Calculating Top-k accuracy... (metrics.py:39)\n",
      "2025-04-07 11:58:04,074 - INFO - DataFrame size: 2741, Top-k values: [1, 5, 25, 50, 100, 200] (metrics.py:40)\n",
      "2025-04-07 11:58:04,234 - INFO - Top-1 accuracy: 0.6439 (metrics.py:67)\n",
      "2025-04-07 11:58:04,235 - INFO - Top-5 accuracy: 0.7877 (metrics.py:67)\n",
      "2025-04-07 11:58:04,235 - INFO - Top-25 accuracy: 0.8771 (metrics.py:67)\n",
      "2025-04-07 11:58:04,236 - INFO - Top-50 accuracy: 0.9040 (metrics.py:67)\n",
      "2025-04-07 11:58:04,236 - INFO - Top-100 accuracy: 0.9223 (metrics.py:67)\n",
      "2025-04-07 11:58:04,236 - INFO - Top-200 accuracy: 0.9362 (metrics.py:67)\n",
      "2025-04-07 11:58:04,237 - INFO - Top-k accuracy calculation complete. (metrics.py:69)\n",
      "2025-04-07 11:58:04,238 - INFO - Calculating Top-k accuracy... (metrics.py:39)\n",
      "2025-04-07 11:58:04,238 - INFO - DataFrame size: 1573, Top-k values: [1, 5, 25, 50, 100, 200] (metrics.py:40)\n",
      "2025-04-07 11:58:04,338 - INFO - Top-1 accuracy: 0.3999 (metrics.py:67)\n",
      "2025-04-07 11:58:04,339 - INFO - Top-5 accuracy: 0.6345 (metrics.py:67)\n",
      "2025-04-07 11:58:04,339 - INFO - Top-25 accuracy: 0.7883 (metrics.py:67)\n",
      "2025-04-07 11:58:04,339 - INFO - Top-50 accuracy: 0.8360 (metrics.py:67)\n",
      "2025-04-07 11:58:04,340 - INFO - Top-100 accuracy: 0.8665 (metrics.py:67)\n",
      "2025-04-07 11:58:04,340 - INFO - Top-200 accuracy: 0.8894 (metrics.py:67)\n",
      "2025-04-07 11:58:04,340 - INFO - Top-k accuracy calculation complete. (metrics.py:69)\n",
      "2025-04-07 11:58:04,341 - INFO - Calculating Top-k accuracy... (metrics.py:39)\n",
      "2025-04-07 11:58:04,341 - INFO - DataFrame size: 763, Top-k values: [1, 5, 25, 50, 100, 200] (metrics.py:40)\n",
      "2025-04-07 11:58:04,393 - INFO - Top-1 accuracy: 0.2910 (metrics.py:67)\n",
      "2025-04-07 11:58:04,393 - INFO - Top-5 accuracy: 0.5111 (metrics.py:67)\n",
      "2025-04-07 11:58:04,393 - INFO - Top-25 accuracy: 0.6999 (metrics.py:67)\n",
      "2025-04-07 11:58:04,394 - INFO - Top-50 accuracy: 0.7602 (metrics.py:67)\n",
      "2025-04-07 11:58:04,394 - INFO - Top-100 accuracy: 0.8034 (metrics.py:67)\n",
      "2025-04-07 11:58:04,394 - INFO - Top-200 accuracy: 0.8414 (metrics.py:67)\n",
      "2025-04-07 11:58:04,395 - INFO - Top-k accuracy calculation complete. (metrics.py:69)\n",
      "2025-04-07 11:58:09,990 - INFO - Vocabulary initialized successfully. (faissEncoder.py:76)\n",
      "2025-04-07 12:04:19,407 - INFO - FAISS index fitted successfully. (faissEncoder.py:154)\n",
      "2025-04-07 12:05:01,744 - INFO - Calculating Top-k accuracy... (metrics.py:39)\n",
      "2025-04-07 12:05:01,745 - INFO - DataFrame size: 2848, Top-k values: [1, 5, 25, 50, 100, 200] (metrics.py:40)\n",
      "2025-04-07 12:05:01,919 - INFO - Top-1 accuracy: 0.6208 (metrics.py:67)\n",
      "2025-04-07 12:05:01,919 - INFO - Top-5 accuracy: 0.7303 (metrics.py:67)\n",
      "2025-04-07 12:05:01,920 - INFO - Top-25 accuracy: 0.8069 (metrics.py:67)\n",
      "2025-04-07 12:05:01,920 - INFO - Top-50 accuracy: 0.8346 (metrics.py:67)\n",
      "2025-04-07 12:05:01,920 - INFO - Top-100 accuracy: 0.8610 (metrics.py:67)\n",
      "2025-04-07 12:05:01,921 - INFO - Top-200 accuracy: 0.8806 (metrics.py:67)\n",
      "2025-04-07 12:05:01,921 - INFO - Top-k accuracy calculation complete. (metrics.py:69)\n",
      "2025-04-07 12:05:01,921 - INFO - Calculating Top-k accuracy... (metrics.py:39)\n",
      "2025-04-07 12:05:01,922 - INFO - DataFrame size: 2741, Top-k values: [1, 5, 25, 50, 100, 200] (metrics.py:40)\n",
      "2025-04-07 12:05:02,089 - INFO - Top-1 accuracy: 0.6403 (metrics.py:67)\n",
      "2025-04-07 12:05:02,090 - INFO - Top-5 accuracy: 0.7523 (metrics.py:67)\n",
      "2025-04-07 12:05:02,090 - INFO - Top-25 accuracy: 0.8267 (metrics.py:67)\n",
      "2025-04-07 12:05:02,090 - INFO - Top-50 accuracy: 0.8519 (metrics.py:67)\n",
      "2025-04-07 12:05:02,091 - INFO - Top-100 accuracy: 0.8760 (metrics.py:67)\n",
      "2025-04-07 12:05:02,091 - INFO - Top-200 accuracy: 0.8931 (metrics.py:67)\n",
      "2025-04-07 12:05:02,091 - INFO - Top-k accuracy calculation complete. (metrics.py:69)\n",
      "2025-04-07 12:05:02,092 - INFO - Calculating Top-k accuracy... (metrics.py:39)\n",
      "2025-04-07 12:05:02,092 - INFO - DataFrame size: 1573, Top-k values: [1, 5, 25, 50, 100, 200] (metrics.py:40)\n",
      "2025-04-07 12:05:02,193 - INFO - Top-1 accuracy: 0.3897 (metrics.py:67)\n",
      "2025-04-07 12:05:02,193 - INFO - Top-5 accuracy: 0.5722 (metrics.py:67)\n",
      "2025-04-07 12:05:02,193 - INFO - Top-25 accuracy: 0.6993 (metrics.py:67)\n",
      "2025-04-07 12:05:02,194 - INFO - Top-50 accuracy: 0.7444 (metrics.py:67)\n",
      "2025-04-07 12:05:02,194 - INFO - Top-100 accuracy: 0.7870 (metrics.py:67)\n",
      "2025-04-07 12:05:02,194 - INFO - Top-200 accuracy: 0.8150 (metrics.py:67)\n",
      "2025-04-07 12:05:02,195 - INFO - Top-k accuracy calculation complete. (metrics.py:69)\n",
      "2025-04-07 12:05:02,195 - INFO - Calculating Top-k accuracy... (metrics.py:39)\n",
      "2025-04-07 12:05:02,195 - INFO - DataFrame size: 763, Top-k values: [1, 5, 25, 50, 100, 200] (metrics.py:40)\n",
      "2025-04-07 12:05:02,248 - INFO - Top-1 accuracy: 0.3119 (metrics.py:67)\n",
      "2025-04-07 12:05:02,248 - INFO - Top-5 accuracy: 0.4600 (metrics.py:67)\n",
      "2025-04-07 12:05:02,249 - INFO - Top-25 accuracy: 0.5963 (metrics.py:67)\n",
      "2025-04-07 12:05:02,249 - INFO - Top-50 accuracy: 0.6488 (metrics.py:67)\n",
      "2025-04-07 12:05:02,249 - INFO - Top-100 accuracy: 0.6959 (metrics.py:67)\n",
      "2025-04-07 12:05:02,250 - INFO - Top-200 accuracy: 0.7366 (metrics.py:67)\n",
      "2025-04-07 12:05:02,250 - INFO - Top-k accuracy calculation complete. (metrics.py:69)\n",
      "2025-04-07 12:05:04,612 - INFO - Vocabulary initialized successfully. (faissEncoder.py:76)\n",
      "2025-04-07 12:06:55,560 - INFO - FAISS index fitted successfully. (faissEncoder.py:154)\n",
      "2025-04-07 12:07:21,031 - INFO - Calculating Top-k accuracy... (metrics.py:39)\n",
      "2025-04-07 12:07:21,032 - INFO - DataFrame size: 2848, Top-k values: [1, 5, 25, 50, 100, 200] (metrics.py:40)\n",
      "2025-04-07 12:07:21,197 - INFO - Top-1 accuracy: 0.6131 (metrics.py:67)\n",
      "2025-04-07 12:07:21,197 - INFO - Top-5 accuracy: 0.7335 (metrics.py:67)\n",
      "2025-04-07 12:07:21,198 - INFO - Top-25 accuracy: 0.8076 (metrics.py:67)\n",
      "2025-04-07 12:07:21,199 - INFO - Top-50 accuracy: 0.8332 (metrics.py:67)\n",
      "2025-04-07 12:07:21,199 - INFO - Top-100 accuracy: 0.8571 (metrics.py:67)\n",
      "2025-04-07 12:07:21,199 - INFO - Top-200 accuracy: 0.8785 (metrics.py:67)\n",
      "2025-04-07 12:07:21,199 - INFO - Top-k accuracy calculation complete. (metrics.py:69)\n",
      "2025-04-07 12:07:21,200 - INFO - Calculating Top-k accuracy... (metrics.py:39)\n",
      "2025-04-07 12:07:21,200 - INFO - DataFrame size: 2741, Top-k values: [1, 5, 25, 50, 100, 200] (metrics.py:40)\n",
      "2025-04-07 12:07:21,359 - INFO - Top-1 accuracy: 0.6308 (metrics.py:67)\n",
      "2025-04-07 12:07:21,360 - INFO - Top-5 accuracy: 0.7523 (metrics.py:67)\n",
      "2025-04-07 12:07:21,360 - INFO - Top-25 accuracy: 0.8216 (metrics.py:67)\n",
      "2025-04-07 12:07:21,361 - INFO - Top-50 accuracy: 0.8446 (metrics.py:67)\n",
      "2025-04-07 12:07:21,361 - INFO - Top-100 accuracy: 0.8657 (metrics.py:67)\n",
      "2025-04-07 12:07:21,361 - INFO - Top-200 accuracy: 0.8836 (metrics.py:67)\n",
      "2025-04-07 12:07:21,361 - INFO - Top-k accuracy calculation complete. (metrics.py:69)\n",
      "2025-04-07 12:07:21,362 - INFO - Calculating Top-k accuracy... (metrics.py:39)\n",
      "2025-04-07 12:07:21,362 - INFO - DataFrame size: 1573, Top-k values: [1, 5, 25, 50, 100, 200] (metrics.py:40)\n",
      "2025-04-07 12:07:21,461 - INFO - Top-1 accuracy: 0.3738 (metrics.py:67)\n",
      "2025-04-07 12:07:21,462 - INFO - Top-5 accuracy: 0.5722 (metrics.py:67)\n",
      "2025-04-07 12:07:21,462 - INFO - Top-25 accuracy: 0.6904 (metrics.py:67)\n",
      "2025-04-07 12:07:21,463 - INFO - Top-50 accuracy: 0.7305 (metrics.py:67)\n",
      "2025-04-07 12:07:21,463 - INFO - Top-100 accuracy: 0.7661 (metrics.py:67)\n",
      "2025-04-07 12:07:21,463 - INFO - Top-200 accuracy: 0.7991 (metrics.py:67)\n",
      "2025-04-07 12:07:21,464 - INFO - Top-k accuracy calculation complete. (metrics.py:69)\n",
      "2025-04-07 12:07:21,464 - INFO - Calculating Top-k accuracy... (metrics.py:39)\n",
      "2025-04-07 12:07:21,464 - INFO - DataFrame size: 763, Top-k values: [1, 5, 25, 50, 100, 200] (metrics.py:40)\n",
      "2025-04-07 12:07:21,516 - INFO - Top-1 accuracy: 0.2923 (metrics.py:67)\n",
      "2025-04-07 12:07:21,517 - INFO - Top-5 accuracy: 0.4613 (metrics.py:67)\n",
      "2025-04-07 12:07:21,517 - INFO - Top-25 accuracy: 0.5754 (metrics.py:67)\n",
      "2025-04-07 12:07:21,517 - INFO - Top-50 accuracy: 0.6081 (metrics.py:67)\n",
      "2025-04-07 12:07:21,518 - INFO - Top-100 accuracy: 0.6514 (metrics.py:67)\n",
      "2025-04-07 12:07:21,518 - INFO - Top-200 accuracy: 0.6920 (metrics.py:67)\n",
      "2025-04-07 12:07:21,518 - INFO - Top-k accuracy calculation complete. (metrics.py:69)\n"
     ]
    },
    {
     "name": "stderr",
     "output_type": "stream",
     "text": [
      "Some weights of RobertaModel were not initialized from the model checkpoint at PlanTL-GOB-ES/roberta-base-biomedical-clinical-es and are newly initialized: ['roberta.pooler.dense.bias', 'roberta.pooler.dense.weight']\n",
      "You should probably TRAIN this model on a down-stream task to be able to use it for predictions and inference.\n"
     ]
    },
    {
     "name": "stdout",
     "output_type": "stream",
     "text": [
      "2025-04-07 12:07:22,608 - INFO - Vocabulary initialized successfully. (faissEncoder.py:76)\n",
      "2025-04-07 12:08:45,721 - INFO - FAISS index fitted successfully. (faissEncoder.py:154)\n",
      "2025-04-07 12:09:10,021 - INFO - Calculating Top-k accuracy... (metrics.py:39)\n",
      "2025-04-07 12:09:10,022 - INFO - DataFrame size: 2848, Top-k values: [1, 5, 25, 50, 100, 200] (metrics.py:40)\n",
      "2025-04-07 12:09:10,189 - INFO - Top-1 accuracy: 0.4210 (metrics.py:67)\n",
      "2025-04-07 12:09:10,190 - INFO - Top-5 accuracy: 0.5137 (metrics.py:67)\n",
      "2025-04-07 12:09:10,190 - INFO - Top-25 accuracy: 0.6004 (metrics.py:67)\n",
      "2025-04-07 12:09:10,191 - INFO - Top-50 accuracy: 0.6327 (metrics.py:67)\n",
      "2025-04-07 12:09:10,191 - INFO - Top-100 accuracy: 0.6671 (metrics.py:67)\n",
      "2025-04-07 12:09:10,191 - INFO - Top-200 accuracy: 0.6857 (metrics.py:67)\n",
      "2025-04-07 12:09:10,192 - INFO - Top-k accuracy calculation complete. (metrics.py:69)\n",
      "2025-04-07 12:09:10,192 - INFO - Calculating Top-k accuracy... (metrics.py:39)\n",
      "2025-04-07 12:09:10,192 - INFO - DataFrame size: 2741, Top-k values: [1, 5, 25, 50, 100, 200] (metrics.py:40)\n",
      "2025-04-07 12:09:10,354 - INFO - Top-1 accuracy: 0.4363 (metrics.py:67)\n",
      "2025-04-07 12:09:10,354 - INFO - Top-5 accuracy: 0.5243 (metrics.py:67)\n",
      "2025-04-07 12:09:10,355 - INFO - Top-25 accuracy: 0.6093 (metrics.py:67)\n",
      "2025-04-07 12:09:10,355 - INFO - Top-50 accuracy: 0.6421 (metrics.py:67)\n",
      "2025-04-07 12:09:10,355 - INFO - Top-100 accuracy: 0.6717 (metrics.py:67)\n",
      "2025-04-07 12:09:10,356 - INFO - Top-200 accuracy: 0.6881 (metrics.py:67)\n",
      "2025-04-07 12:09:10,356 - INFO - Top-k accuracy calculation complete. (metrics.py:69)\n",
      "2025-04-07 12:09:10,356 - INFO - Calculating Top-k accuracy... (metrics.py:39)\n",
      "2025-04-07 12:09:10,357 - INFO - DataFrame size: 1573, Top-k values: [1, 5, 25, 50, 100, 200] (metrics.py:40)\n",
      "2025-04-07 12:09:10,458 - INFO - Top-1 accuracy: 0.1469 (metrics.py:67)\n",
      "2025-04-07 12:09:10,459 - INFO - Top-5 accuracy: 0.2638 (metrics.py:67)\n",
      "2025-04-07 12:09:10,459 - INFO - Top-25 accuracy: 0.3878 (metrics.py:67)\n",
      "2025-04-07 12:09:10,460 - INFO - Top-50 accuracy: 0.4374 (metrics.py:67)\n",
      "2025-04-07 12:09:10,460 - INFO - Top-100 accuracy: 0.4800 (metrics.py:67)\n",
      "2025-04-07 12:09:10,460 - INFO - Top-200 accuracy: 0.5054 (metrics.py:67)\n",
      "2025-04-07 12:09:10,461 - INFO - Top-k accuracy calculation complete. (metrics.py:69)\n",
      "2025-04-07 12:09:10,461 - INFO - Calculating Top-k accuracy... (metrics.py:39)\n",
      "2025-04-07 12:09:10,462 - INFO - DataFrame size: 763, Top-k values: [1, 5, 25, 50, 100, 200] (metrics.py:40)\n",
      "2025-04-07 12:09:10,514 - INFO - Top-1 accuracy: 0.1258 (metrics.py:67)\n",
      "2025-04-07 12:09:10,515 - INFO - Top-5 accuracy: 0.1796 (metrics.py:67)\n",
      "2025-04-07 12:09:10,515 - INFO - Top-25 accuracy: 0.2556 (metrics.py:67)\n",
      "2025-04-07 12:09:10,515 - INFO - Top-50 accuracy: 0.3001 (metrics.py:67)\n",
      "2025-04-07 12:09:10,516 - INFO - Top-100 accuracy: 0.3408 (metrics.py:67)\n",
      "2025-04-07 12:09:10,516 - INFO - Top-200 accuracy: 0.3788 (metrics.py:67)\n",
      "2025-04-07 12:09:10,516 - INFO - Top-k accuracy calculation complete. (metrics.py:69)\n"
     ]
    }
   ],
   "source": [
    "for corpus in CORPORA:\n",
    "    gs_results, clean_results, um_results, uc_results = dict(), dict(), dict(), dict()\n",
    "    um_df = pd.read_csv(f\"../data/{corpus}/df_um.tsv\", sep=\"\\t\", dtype={\"code\":str})\n",
    "    uc_df = pd.read_csv(f\"../data/{corpus}/df_uc.tsv\", sep=\"\\t\", dtype={\"code\":str})\n",
    "    gs_df, train_df, gaz_df = load_corpus_data(DATA_PATH, corpus)\n",
    "    train_gaz_df = pd.concat([train_df[[\"term\", \"code\"]], gaz_df[[\"term\",\"code\"]]], ignore_index=True)\n",
    "    clean_df = gs_df[\n",
    "        gs_df['code'].notna() & \n",
    "        (gs_df['code'] != \"NO_CODE\") & \n",
    "        (~gs_df['code'].str.contains(\"\\+\", na=False))\n",
    "    ]\n",
    "\n",
    "    model_list = [\n",
    "        \"/scratch/models/NEL/spanish_sapbert_models/sapbert_15_grandparents_1epoch\",\n",
    "        \"/scratch/models/NEL/spanish_sapbert_models/sapbert_15_parents_1epoch\",\n",
    "        \"/scratch/models/NEL/spanish_sapbert_models/sapbert_15_noparents_1epoch\",\n",
    "        f\"/scratch/models/NEL/corpus-specific_bi-encoders/{corpus.lower()}-biencoder\",\n",
    "        \"cambridgeltl/SapBERT-UMLS-2020AB-all-lang-from-XLMR-large\",\n",
    "        \"cambridgeltl/SapBERT-UMLS-2020AB-all-lang-from-XLMR\",\n",
    "        \"PlanTL-GOB-ES/roberta-base-biomedical-clinical-es\"\n",
    "    ]\n",
    "    for model in model_list:\n",
    "        gs_results, clean_results, um_results, uc_results=evaluate_model(\n",
    "            model_name=model,\n",
    "            f_type=F_TYPE,\n",
    "            max_length=MAX_LENGTH,\n",
    "            train_gaz_df=train_gaz_df,\n",
    "            gs_df=gs_df,\n",
    "            clean_df=clean_df,\n",
    "            um_df=um_df,\n",
    "            uc_df=uc_df,\n",
    "            gs_results=gs_results,\n",
    "            clean_results=clean_results,\n",
    "            um_results=um_results,\n",
    "            uc_results=uc_results,\n",
    "            model_map=model_map,\n",
    "            top_k_values=TOP_K_VALUES,\n",
    "            corpus=corpus\n",
    "        )\n",
    "    pd.DataFrame.from_dict(gs_results, orient='index').reset_index().rename(columns={'index': 'name'}).to_csv(f\"../output/{corpus}/gs_results.tsv\", sep='\\t', index=False)\n",
    "    pd.DataFrame.from_dict(clean_results, orient='index').reset_index().rename(columns={'index': 'name'}).to_csv(f\"../output/{corpus}/clean_results.tsv\", sep='\\t', index=False)\n",
    "    pd.DataFrame.from_dict(um_results, orient='index').reset_index().rename(columns={'index': 'name'}).to_csv(f\"../output/{corpus}/um_results.tsv\", sep='\\t', index=False)\n",
    "    pd.DataFrame.from_dict(uc_results, orient='index').reset_index().rename(columns={'index': 'name'}).to_csv(f\"../output/{corpus}/uc_results.tsv\", sep='\\t', index=False)\n",
    "\n"
   ]
  }
 ],
 "metadata": {
  "kernelspec": {
   "display_name": "venv",
   "language": "python",
   "name": "python3"
  },
  "language_info": {
   "codemirror_mode": {
    "name": "ipython",
    "version": 3
   },
   "file_extension": ".py",
   "mimetype": "text/x-python",
   "name": "python",
   "nbconvert_exporter": "python",
   "pygments_lexer": "ipython3",
   "version": "3.10.16"
  }
 },
 "nbformat": 4,
 "nbformat_minor": 2
}
