{
 "cells": [
  {
   "cell_type": "code",
   "execution_count": 22,
   "metadata": {},
   "outputs": [],
   "source": [
    "import os\n",
    "import sys\n",
    "import warnings\n",
    "import re\n",
    "warnings.filterwarnings(\"ignore\")\n",
    "import pandas as pd\n",
    "\n",
    "sys.path.append(os.path.join(os.getcwd(), '../src'))\n",
    "from crossEncoder import CrossEncoderReranker\n",
    "import faissEncoder as faiss_enc\n",
    "import utils\n",
    "from logger import setup_custom_logger  "
   ]
  },
  {
   "cell_type": "code",
   "execution_count": 23,
   "metadata": {},
   "outputs": [],
   "source": [
    "CORPUS = \"SympTEMIST\"\n",
    "TOP_K_VALUES = [1,5,25,50,100,200]\n",
    "F_TYPE = \"FlatIP\"\n",
    "MAX_LENGTH = 256\n",
    "\n",
    "res_cleaned = []"
   ]
  },
  {
   "cell_type": "code",
   "execution_count": 24,
   "metadata": {},
   "outputs": [],
   "source": [
    "test_df, train_df, gaz_df = utils.load_corpus_data(CORPUS)\n",
    "link_gaz_df = pd.concat([train_df[['code', 'term']], gaz_df[['code', 'term']]], ignore_index=True)\n",
    "test_df = test_df[~test_df['code'].str.contains('NO_CODE|\\+', regex=True)]"
   ]
  },
  {
   "cell_type": "code",
   "execution_count": 25,
   "metadata": {},
   "outputs": [
    {
     "data": {
      "application/vnd.jupyter.widget-view+json": {
       "model_id": "b94135cf5a2c443eb6dd2eb04a6e39fd",
       "version_major": 2,
       "version_minor": 0
      },
      "text/plain": [
       "Encoding:   0%|          | 0/7486 [00:00<?, ?it/s]"
      ]
     },
     "metadata": {},
     "output_type": "display_data"
    }
   ],
   "source": [
    "faiss_encoder = faiss_enc.FaissEncoder(\"../../../models/NEL/spanish_sapbert_models/sapbert_15_grandparents_1epoch\", F_TYPE, MAX_LENGTH, link_gaz_df)\n",
    "faiss_encoder.fitFaiss()"
   ]
  },
  {
   "cell_type": "code",
   "execution_count": 26,
   "metadata": {},
   "outputs": [
    {
     "data": {
      "application/vnd.jupyter.widget-view+json": {
       "model_id": "bbe6062b3d9041ab88bd91ed2f4a4d84",
       "version_major": 2,
       "version_minor": 0
      },
      "text/plain": [
       "Encoding:   0%|          | 0/55 [00:00<?, ?it/s]"
      ]
     },
     "metadata": {},
     "output_type": "display_data"
    }
   ],
   "source": [
    "candidates, codes, _ = faiss_encoder.getCandidates(test_df[\"term\"].tolist(), k=200)\n",
    "clinlinker_granparent_preds = test_df.copy()\n",
    "clinlinker_granparent_preds[\"candidates\"] = candidates\n",
    "clinlinker_granparent_preds[\"codes\"] = codes\n",
    "cleaned_aux, _, _ = utils.evaluate_model(\"ClinLinker-KB-GP\", clinlinker_granparent_preds, train_df, gaz_df, TOP_K_VALUES)\n",
    "res_cleaned.append(cleaned_aux)"
   ]
  },
  {
   "cell_type": "code",
   "execution_count": 27,
   "metadata": {},
   "outputs": [
    {
     "data": {
      "application/vnd.jupyter.widget-view+json": {
       "model_id": "452d56e25e694e66b10690984b529b52",
       "version_major": 2,
       "version_minor": 0
      },
      "text/plain": [
       "Encoding:   0%|          | 0/7486 [00:00<?, ?it/s]"
      ]
     },
     "metadata": {},
     "output_type": "display_data"
    }
   ],
   "source": [
    "faiss_encoder = faiss_enc.FaissEncoder(\"../../../models/NEL/spanish_sapbert_models/sapbert_15_parents_1epoch\", F_TYPE, MAX_LENGTH, link_gaz_df)\n",
    "faiss_encoder.fitFaiss()"
   ]
  },
  {
   "cell_type": "code",
   "execution_count": 28,
   "metadata": {},
   "outputs": [
    {
     "data": {
      "application/vnd.jupyter.widget-view+json": {
       "model_id": "461d9aec64084e9084edc3fde50bcf42",
       "version_major": 2,
       "version_minor": 0
      },
      "text/plain": [
       "Encoding:   0%|          | 0/55 [00:00<?, ?it/s]"
      ]
     },
     "metadata": {},
     "output_type": "display_data"
    }
   ],
   "source": [
    "candidates, codes, _ = faiss_encoder.getCandidates(test_df[\"term\"].tolist(), k=200)\n",
    "clinlinker_parent_preds = test_df.copy()\n",
    "clinlinker_parent_preds[\"candidates\"] = candidates\n",
    "clinlinker_parent_preds[\"codes\"] = codes\n",
    "cleaned_aux, _, _ = utils.evaluate_model(\"ClinLinker-KB-P\", clinlinker_parent_preds, train_df, gaz_df, TOP_K_VALUES)\n",
    "res_cleaned.append(cleaned_aux)"
   ]
  },
  {
   "cell_type": "code",
   "execution_count": 29,
   "metadata": {},
   "outputs": [
    {
     "data": {
      "application/vnd.jupyter.widget-view+json": {
       "model_id": "2f391a4e4d914c978f4cf2adace11045",
       "version_major": 2,
       "version_minor": 0
      },
      "text/plain": [
       "Encoding:   0%|          | 0/7486 [00:00<?, ?it/s]"
      ]
     },
     "metadata": {},
     "output_type": "display_data"
    }
   ],
   "source": [
    "faiss_encoder = faiss_enc.FaissEncoder(\"../../../models/NEL/spanish_sapbert_models/sapbert_15_noparents_1epoch\", F_TYPE, MAX_LENGTH, link_gaz_df)\n",
    "faiss_encoder.fitFaiss()"
   ]
  },
  {
   "cell_type": "code",
   "execution_count": 30,
   "metadata": {},
   "outputs": [
    {
     "data": {
      "application/vnd.jupyter.widget-view+json": {
       "model_id": "3b99e2ce7bda45eb95f009acb60e3d75",
       "version_major": 2,
       "version_minor": 0
      },
      "text/plain": [
       "Encoding:   0%|          | 0/55 [00:00<?, ?it/s]"
      ]
     },
     "metadata": {},
     "output_type": "display_data"
    }
   ],
   "source": [
    "candidates, codes, _ = faiss_encoder.getCandidates(test_df[\"term\"].tolist(), k=200)\n",
    "clinlinker_preds = test_df.copy()\n",
    "clinlinker_preds[\"candidates\"] = candidates\n",
    "clinlinker_preds[\"codes\"] = codes\n",
    "cleaned_aux, _, _ = utils.evaluate_model(\"ClinLinker\", clinlinker_preds, train_df, gaz_df, TOP_K_VALUES)\n",
    "res_cleaned.append(cleaned_aux)"
   ]
  },
  {
   "cell_type": "code",
   "execution_count": 31,
   "metadata": {},
   "outputs": [
    {
     "data": {
      "application/vnd.jupyter.widget-view+json": {
       "model_id": "f82b054aae324046a91102b3645883c5",
       "version_major": 2,
       "version_minor": 0
      },
      "text/plain": [
       "Encoding:   0%|          | 0/7486 [00:00<?, ?it/s]"
      ]
     },
     "metadata": {},
     "output_type": "display_data"
    }
   ],
   "source": [
    "faiss_encoder = faiss_enc.FaissEncoder(f\"../../../models/NEL/corpus-specific_bi-encoders/{CORPUS.lower()}-biencoder\", F_TYPE, MAX_LENGTH, link_gaz_df)\n",
    "faiss_encoder.fitFaiss()"
   ]
  },
  {
   "cell_type": "code",
   "execution_count": 32,
   "metadata": {},
   "outputs": [
    {
     "data": {
      "application/vnd.jupyter.widget-view+json": {
       "model_id": "7dbf6fb128f44df78df7c77bb074cefd",
       "version_major": 2,
       "version_minor": 0
      },
      "text/plain": [
       "Encoding:   0%|          | 0/55 [00:00<?, ?it/s]"
      ]
     },
     "metadata": {},
     "output_type": "display_data"
    }
   ],
   "source": [
    "candidates, codes, _ = faiss_encoder.getCandidates(test_df[\"term\"].tolist(), k=200)\n",
    "corpus_specific_preds = test_df.copy()\n",
    "corpus_specific_preds[\"candidates\"] = candidates\n",
    "corpus_specific_preds[\"codes\"] = codes\n",
    "cleaned_aux, _, _ = utils.evaluate_model(f\"{CORPUS}-bi-encoder\", corpus_specific_preds, train_df, gaz_df, TOP_K_VALUES)\n",
    "res_cleaned.append(cleaned_aux)"
   ]
  },
  {
   "cell_type": "code",
   "execution_count": 33,
   "metadata": {},
   "outputs": [
    {
     "data": {
      "application/vnd.jupyter.widget-view+json": {
       "model_id": "9c3365df591c4906b6924e4399b704b3",
       "version_major": 2,
       "version_minor": 0
      },
      "text/plain": [
       "Encoding:   0%|          | 0/7486 [00:00<?, ?it/s]"
      ]
     },
     "metadata": {},
     "output_type": "display_data"
    }
   ],
   "source": [
    "faiss_encoder = faiss_enc.FaissEncoder(\"cambridgeltl/SapBERT-UMLS-2020AB-all-lang-from-XLMR-large\", F_TYPE, MAX_LENGTH, link_gaz_df)\n",
    "faiss_encoder.fitFaiss()"
   ]
  },
  {
   "cell_type": "code",
   "execution_count": 34,
   "metadata": {},
   "outputs": [
    {
     "data": {
      "application/vnd.jupyter.widget-view+json": {
       "model_id": "e72349ea6c304ec0b797610faca95cb0",
       "version_major": 2,
       "version_minor": 0
      },
      "text/plain": [
       "Encoding:   0%|          | 0/55 [00:00<?, ?it/s]"
      ]
     },
     "metadata": {},
     "output_type": "display_data"
    }
   ],
   "source": [
    "candidates, codes, _ = faiss_encoder.getCandidates(test_df[\"term\"].tolist(), k=200)\n",
    "baseline_preds = test_df.copy()\n",
    "baseline_preds[\"candidates\"] = candidates\n",
    "baseline_preds[\"codes\"] = codes\n",
    "cleaned_aux, _, _ = utils.evaluate_model(\"SapBERT-XLM-R-large\", baseline_preds, train_df, gaz_df, TOP_K_VALUES)\n",
    "res_cleaned.append(cleaned_aux)"
   ]
  },
  {
   "cell_type": "code",
   "execution_count": 35,
   "metadata": {},
   "outputs": [
    {
     "data": {
      "application/vnd.jupyter.widget-view+json": {
       "model_id": "7966be161f6b405ca985597ed4e5d3b8",
       "version_major": 2,
       "version_minor": 0
      },
      "text/plain": [
       "Encoding:   0%|          | 0/7486 [00:00<?, ?it/s]"
      ]
     },
     "metadata": {},
     "output_type": "display_data"
    }
   ],
   "source": [
    "faiss_encoder = faiss_enc.FaissEncoder(\"cambridgeltl/SapBERT-UMLS-2020AB-all-lang-from-XLMR\", F_TYPE, MAX_LENGTH, link_gaz_df)\n",
    "faiss_encoder.fitFaiss()"
   ]
  },
  {
   "cell_type": "code",
   "execution_count": 36,
   "metadata": {},
   "outputs": [
    {
     "data": {
      "application/vnd.jupyter.widget-view+json": {
       "model_id": "2fc04d9cb1034c9a898eee51ea160053",
       "version_major": 2,
       "version_minor": 0
      },
      "text/plain": [
       "Encoding:   0%|          | 0/55 [00:00<?, ?it/s]"
      ]
     },
     "metadata": {},
     "output_type": "display_data"
    }
   ],
   "source": [
    "candidates, codes, _ = faiss_encoder.getCandidates(test_df[\"term\"].tolist(), k=200)\n",
    "xlmr_base_preds = test_df.copy()\n",
    "xlmr_base_preds[\"candidates\"] = candidates\n",
    "xlmr_base_preds[\"codes\"] = codes\n",
    "cleaned_aux, _, _ = utils.evaluate_model(\"SapBERT-XLM-R-base\", xlmr_base_preds, train_df, gaz_df, TOP_K_VALUES)\n",
    "res_cleaned.append(cleaned_aux)"
   ]
  },
  {
   "cell_type": "code",
   "execution_count": 37,
   "metadata": {},
   "outputs": [
    {
     "name": "stderr",
     "output_type": "stream",
     "text": [
      "Some weights of RobertaModel were not initialized from the model checkpoint at PlanTL-GOB-ES/roberta-base-biomedical-clinical-es and are newly initialized: ['roberta.pooler.dense.bias', 'roberta.pooler.dense.weight']\n",
      "You should probably TRAIN this model on a down-stream task to be able to use it for predictions and inference.\n"
     ]
    },
    {
     "data": {
      "application/vnd.jupyter.widget-view+json": {
       "model_id": "d0b690a5146a4cedb0f48e679c6ed508",
       "version_major": 2,
       "version_minor": 0
      },
      "text/plain": [
       "Encoding:   0%|          | 0/7486 [00:00<?, ?it/s]"
      ]
     },
     "metadata": {},
     "output_type": "display_data"
    }
   ],
   "source": [
    "faiss_encoder = faiss_enc.FaissEncoder(\"PlanTL-GOB-ES/roberta-base-biomedical-clinical-es\", F_TYPE, MAX_LENGTH, link_gaz_df)\n",
    "faiss_encoder.fitFaiss()"
   ]
  },
  {
   "cell_type": "code",
   "execution_count": 38,
   "metadata": {},
   "outputs": [
    {
     "data": {
      "application/vnd.jupyter.widget-view+json": {
       "model_id": "594fb361142e46ea90ea95019e9565dc",
       "version_major": 2,
       "version_minor": 0
      },
      "text/plain": [
       "Encoding:   0%|          | 0/55 [00:00<?, ?it/s]"
      ]
     },
     "metadata": {},
     "output_type": "display_data"
    }
   ],
   "source": [
    "candidates, codes, _ = faiss_encoder.getCandidates(test_df[\"term\"].tolist(), k=200)\n",
    "roberta_base_preds = test_df.copy()\n",
    "roberta_base_preds[\"candidates\"] = candidates\n",
    "roberta_base_preds[\"codes\"] = codes\n",
    "cleaned_aux, _, _ = utils.evaluate_model(\"Roberta-base-biomedical\", roberta_base_preds, train_df, gaz_df, TOP_K_VALUES)\n",
    "res_cleaned.append(cleaned_aux)"
   ]
  },
  {
   "cell_type": "code",
   "execution_count": 39,
   "metadata": {},
   "outputs": [
    {
     "name": "stderr",
     "output_type": "stream",
     "text": [
      "Reranking candidates: 100%|██████████| 3512/3512 [08:17<00:00,  7.06it/s]\n"
     ]
    }
   ],
   "source": [
    "cross_encoder = CrossEncoderReranker(f\"../../../models/NEL/cross-encoders/Spanish_SapBERT_grandparents/cef_{CORPUS.lower()}_Spanish_SapBERT_grandparents_sim_cand_200_epoch_1_bs_128/\", model_type=\"mask\", max_seq_length=MAX_LENGTH)\n",
    "cleaned_aux, _, _ = utils.evaluate_crossencoder(\"ClinLinker-KB-GP_CE\",cross_encoder, clinlinker_granparent_preds, train_df, gaz_df, TOP_K_VALUES)\n",
    "res_cleaned.append(cleaned_aux)"
   ]
  },
  {
   "cell_type": "code",
   "execution_count": 40,
   "metadata": {},
   "outputs": [
    {
     "name": "stderr",
     "output_type": "stream",
     "text": [
      "Reranking candidates: 100%|██████████| 3512/3512 [08:16<00:00,  7.07it/s]\n"
     ]
    }
   ],
   "source": [
    "cross_encoder = CrossEncoderReranker(f\"../../../models/NEL/cross-encoders/Spanish_SapBERT_parents/cef_{CORPUS.lower()}_Spanish_SapBERT_parents_sim_cand_200_epoch_1_bs_128/\", model_type=\"mask\", max_seq_length=MAX_LENGTH)\n",
    "cleaned_aux, _, _ = utils.evaluate_crossencoder(\"ClinLinker-KB-P_CE\",cross_encoder, clinlinker_parent_preds, train_df, gaz_df, TOP_K_VALUES)\n",
    "res_cleaned.append(cleaned_aux)\n"
   ]
  },
  {
   "cell_type": "code",
   "execution_count": 41,
   "metadata": {},
   "outputs": [
    {
     "name": "stderr",
     "output_type": "stream",
     "text": [
      "Reranking candidates: 100%|██████████| 3512/3512 [07:29<00:00,  7.82it/s]\n"
     ]
    }
   ],
   "source": [
    "cross_encoder = CrossEncoderReranker(f\"../../../models/NEL/cross-encoders/Spanish_SapBERT_noparents/cef_{CORPUS.lower()}_Spanish_SapBERT_noparents_sim_cand_200_epoch_1_bs_128/\", model_type=\"mask\", max_seq_length=MAX_LENGTH)\n",
    "cleaned_aux, _, _ = utils.evaluate_crossencoder(\"ClinLinker_CE\",cross_encoder, clinlinker_preds, train_df, gaz_df, TOP_K_VALUES)\n",
    "res_cleaned.append(cleaned_aux)"
   ]
  },
  {
   "cell_type": "code",
   "execution_count": 42,
   "metadata": {},
   "outputs": [],
   "source": [
    "res_cleaned_df = utils.results2tsv(res_cleaned)\n",
    "res_cleaned_df.to_csv(f\"../results/{CORPUS}/cleaned_results.tsv\", sep=\"\\t\", index=False)"
   ]
  }
 ],
 "metadata": {
  "kernelspec": {
   "display_name": "tf-torch-nel",
   "language": "python",
   "name": "python3"
  },
  "language_info": {
   "codemirror_mode": {
    "name": "ipython",
    "version": 3
   },
   "file_extension": ".py",
   "mimetype": "text/x-python",
   "name": "python",
   "nbconvert_exporter": "python",
   "pygments_lexer": "ipython3",
   "version": "3.10.14"
  }
 },
 "nbformat": 4,
 "nbformat_minor": 2
}
