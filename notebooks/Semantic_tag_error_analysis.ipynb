{
 "cells": [
  {
   "cell_type": "code",
   "execution_count": 11,
   "metadata": {},
   "outputs": [],
   "source": [
    "import sys\n",
    "import os\n",
    "import pandas as pd\n",
    "import seaborn as sns\n",
    "import matplotlib.pyplot as plt\n",
    "import numpy as np\n",
    "from itertools import combinations\n",
    "\n",
    "sys.path.append(os.path.join(os.getcwd(), '../src'))\n",
    "from metrics import calculate_topk_accuracy\n",
    "import faissEncoder as faiss_enc\n",
    "import utils"
   ]
  },
  {
   "cell_type": "code",
   "execution_count": 12,
   "metadata": {},
   "outputs": [],
   "source": [
    "def barplot_top_accuracy(results, models, gaz_df, top_n, corpus, top_k_accuracy):\n",
    "    \"\"\"\n",
    "    Plot the Top-K accuracy for each model and semantic tag.\n",
    "    \n",
    "    :param results: List of DataFrames with prediction results.\n",
    "    :param models: List of model names.\n",
    "    :param gaz_df: DataFrame containing the codes and semantic tags.\n",
    "    :param top_n: Number of top semantic tags to consider.\n",
    "    :param corpus: Title of the plot.\n",
    "    \"\"\"\n",
    "\n",
    "    code_sem_tag_dict = gaz_df.set_index('code')['semantic_tag'].to_dict()\n",
    "    test_df['sem_tag'] = test_df['code'].apply(lambda code: code_sem_tag_dict.get(code, \"CODE_NOT_IN_DICT\"))\n",
    "    test_sem_tag_counts = test_df['sem_tag'].value_counts().to_dict()\n",
    "    print(test_sem_tag_counts)\n",
    "    top_tags = [k for k, v in sorted(test_sem_tag_counts.items(), key=lambda item: item[1], reverse=True)[:top_n]]\n",
    "\n",
    "    for df in results:\n",
    "        df['tag'] = df['code'].map(code_sem_tag_dict).fillna('others')\n",
    "        df['tag'] = df['tag'].apply(lambda x: x if x in top_tags else 'others')\n",
    "\n",
    "    results_dict = {}\n",
    "    topk_values = [top_k_accuracy]\n",
    "    for i, model in enumerate(models):\n",
    "        df = results[i]\n",
    "        for tag in top_tags + ['others']:  \n",
    "            filtered_df = df[df['tag'] == tag]\n",
    "            accuracy_dict = calculate_topk_accuracy(filtered_df, topk_values)\n",
    "            accuracy = accuracy_dict[top_k_accuracy]\n",
    "            if model not in results_dict:\n",
    "                results_dict[model] = {}\n",
    "            results_dict[model][tag] = accuracy\n",
    "\n",
    "    data = []\n",
    "    for model, tags in results_dict.items():\n",
    "        for tag, accuracy in tags.items():\n",
    "            data.append([model, tag, accuracy])\n",
    "\n",
    "    results_df = pd.DataFrame(data, columns=['Model', 'Tag', 'Accuracy'])\n",
    "\n",
    "    colors = ['red', 'blue', 'green', 'orange']\n",
    "\n",
    "    plt.figure(figsize=(14, 4))\n",
    "    ax = sns.barplot(x='Tag', y='Accuracy', hue='Model', data=results_df, palette=colors)\n",
    "\n",
    "    for bar in ax.patches:\n",
    "        height = bar.get_height()\n",
    "        ax.add_patch(plt.Rectangle((bar.get_x(), height), bar.get_width(), 1 - height, \n",
    "                                   facecolor=bar.get_facecolor(), edgecolor='none', alpha=0.3))\n",
    "\n",
    "    bars = ax.patches[:len(results_df['Model'].unique()) * len(results_df['Tag'].unique())]\n",
    "    hatches = ['/////'] * len(bars)\n",
    "\n",
    "    model_color_mapping = {model: colors[i] for i, model in enumerate(models)}\n",
    "\n",
    "    for bar, hatch, model in zip(bars, hatches, results_df['Model']):\n",
    "        bar.set_hatch(hatch)\n",
    "        bar.set_edgecolor(model_color_mapping[model])\n",
    "        bar.set_linewidth(0.8)\n",
    "        bar.set_facecolor('white')\n",
    "\n",
    "    handles, labels = ax.get_legend_handles_labels()\n",
    "    for handle, model in zip(handles, models):\n",
    "        handle.set_facecolor('white')\n",
    "        handle.set_edgecolor(model_color_mapping[model])\n",
    "        handle.set_hatch('/////')\n",
    "    \n",
    "    ax.legend(handles, models, title='Model', loc='center left', bbox_to_anchor=(1, 0.5), fontsize=16, title_fontsize=16)\n",
    "\n",
    "    ax.set_ylim(0, 1.05)\n",
    "\n",
    "    ax.grid(False)\n",
    "\n",
    "    ax.set_xlabel('')\n",
    "    ax.set_ylabel('Percentage', fontsize=16)\n",
    "    ax.tick_params(axis='x', labelsize=16)\n",
    "    ax.tick_params(axis='y', labelsize=16)\n",
    "\n",
    "    ax.set_xticklabels(ax.get_xticklabels(), fontsize=16)\n",
    "\n",
    "    ax.spines['top'].set_visible(False)\n",
    "    ax.spines['right'].set_visible(False)\n",
    "\n",
    "    plt.title(f'{corpus}', fontsize=14, fontweight='bold')\n",
    "    plt.xticks(rotation=0, ha='center')\n",
    "    plt.savefig(f'../pdf/{CORPUS}_bar_plot.pdf', bbox_inches='tight')                                                                                                                                                                               \n",
    "    plt.show()"
   ]
  },
  {
   "cell_type": "code",
   "execution_count": 13,
   "metadata": {},
   "outputs": [],
   "source": [
    "CORPUS = \"MedProcNER\"\n",
    "models = []\n",
    "results = []\n",
    "F_TYPE = \"FlatIP\"\n",
    "MAX_LENGTH = 256\n",
    "TOP_N = 3\n",
    "TOP_K_VALUES = [1,5,25,50,100,200]\n",
    "mapped_semtag = {\n",
    "    \"estructura corporal\": \"body structure\",\n",
    "    \"sustancia\": \"substance\",\n",
    "    \"organismo\": \"organism\",\n",
    "    \"anomalía morfológica\": \"morphologic abnormality\",\n",
    "    \"hallazgo\": \"finding\"\n",
    "}"
   ]
  },
  {
   "cell_type": "code",
   "execution_count": 14,
   "metadata": {},
   "outputs": [
    {
     "name": "stdout",
     "output_type": "stream",
     "text": [
      "Number of NO_CODE: 17\n",
      "Number of composite(+): 89\n"
     ]
    }
   ],
   "source": [
    "test_df, train_df, gaz_df = utils.load_corpus_data(CORPUS)\n",
    "gaz_df['semantic_tag'] = gaz_df['semantic_tag'].replace(mapped_semtag)\n",
    "link_gaz_df = pd.concat([train_df[['code', 'term']], gaz_df[['code', 'term']]], ignore_index=True) \n",
    "no_code_count = test_df['code'].str.contains('NO_CODE').sum()\n",
    "composite_count = test_df['code'].str.contains(r'\\+').sum()\n",
    "print(f\"Number of NO_CODE: {no_code_count}\")\n",
    "print(f\"Number of composite(+): {composite_count}\")\n",
    "test_df = test_df[~test_df['code'].str.contains('NO_CODE|\\+', regex=True)]"
   ]
  },
  {
   "cell_type": "code",
   "execution_count": 15,
   "metadata": {},
   "outputs": [
    {
     "data": {
      "text/html": [
       "<div>\n",
       "<style scoped>\n",
       "    .dataframe tbody tr th:only-of-type {\n",
       "        vertical-align: middle;\n",
       "    }\n",
       "\n",
       "    .dataframe tbody tr th {\n",
       "        vertical-align: top;\n",
       "    }\n",
       "\n",
       "    .dataframe thead th {\n",
       "        text-align: right;\n",
       "    }\n",
       "</style>\n",
       "<table border=\"1\" class=\"dataframe\">\n",
       "  <thead>\n",
       "    <tr style=\"text-align: right;\">\n",
       "      <th></th>\n",
       "      <th>code</th>\n",
       "      <th>term</th>\n",
       "      <th>semantic_tag</th>\n",
       "      <th>mainterm</th>\n",
       "      <th>language</th>\n",
       "    </tr>\n",
       "  </thead>\n",
       "  <tbody>\n",
       "    <tr>\n",
       "      <th>0</th>\n",
       "      <td>386219007</td>\n",
       "      <td>útero en el posparto: disminución del sangrado</td>\n",
       "      <td>procedure</td>\n",
       "      <td>0</td>\n",
       "      <td>es</td>\n",
       "    </tr>\n",
       "    <tr>\n",
       "      <th>1</th>\n",
       "      <td>83362003</td>\n",
       "      <td>última visita del médico al paciente internado...</td>\n",
       "      <td>procedure</td>\n",
       "      <td>0</td>\n",
       "      <td>es</td>\n",
       "    </tr>\n",
       "    <tr>\n",
       "      <th>2</th>\n",
       "      <td>733740006</td>\n",
       "      <td>úlcera isquémica ausente</td>\n",
       "      <td>situation</td>\n",
       "      <td>1</td>\n",
       "      <td>es</td>\n",
       "    </tr>\n",
       "    <tr>\n",
       "      <th>3</th>\n",
       "      <td>311745006</td>\n",
       "      <td>óxidos de plomo</td>\n",
       "      <td>substance</td>\n",
       "      <td>1</td>\n",
       "      <td>es</td>\n",
       "    </tr>\n",
       "    <tr>\n",
       "      <th>4</th>\n",
       "      <td>272156001</td>\n",
       "      <td>óxidos</td>\n",
       "      <td>substance</td>\n",
       "      <td>1</td>\n",
       "      <td>es</td>\n",
       "    </tr>\n",
       "  </tbody>\n",
       "</table>\n",
       "</div>"
      ],
      "text/plain": [
       "        code                                               term semantic_tag   \n",
       "0  386219007     útero en el posparto: disminución del sangrado    procedure  \\\n",
       "1   83362003  última visita del médico al paciente internado...    procedure   \n",
       "2  733740006                           úlcera isquémica ausente    situation   \n",
       "3  311745006                                    óxidos de plomo    substance   \n",
       "4  272156001                                             óxidos    substance   \n",
       "\n",
       "   mainterm language  \n",
       "0         0       es  \n",
       "1         0       es  \n",
       "2         1       es  \n",
       "3         1       es  \n",
       "4         1       es  "
      ]
     },
     "execution_count": 15,
     "metadata": {},
     "output_type": "execute_result"
    }
   ],
   "source": [
    "gaz_df.head()"
   ]
  },
  {
   "cell_type": "code",
   "execution_count": 16,
   "metadata": {},
   "outputs": [
    {
     "data": {
      "application/vnd.jupyter.widget-view+json": {
       "model_id": "11bb7bacf5544c49bcad2a07367d4ab3",
       "version_major": 2,
       "version_minor": 0
      },
      "text/plain": [
       "Encoding:   0%|          | 0/7486 [00:00<?, ?it/s]"
      ]
     },
     "metadata": {},
     "output_type": "display_data"
    },
    {
     "data": {
      "application/vnd.jupyter.widget-view+json": {
       "model_id": "d19b5a8d1aaf49b6ab2c505a3762c4a9",
       "version_major": 2,
       "version_minor": 0
      },
      "text/plain": [
       "Encoding:   0%|          | 0/55 [00:00<?, ?it/s]"
      ]
     },
     "metadata": {},
     "output_type": "display_data"
    }
   ],
   "source": [
    "faiss_encoder = faiss_enc.FaissEncoder(\"../../../models/NEL/spanish_sapbert_models/sapbert_15_grandparents_1epoch\", F_TYPE, MAX_LENGTH, link_gaz_df)\n",
    "faiss_encoder.fitFaiss()\n",
    "candidates, codes, _ = faiss_encoder.getCandidates(test_df[\"term\"].tolist(), k=200)\n",
    "clinlinker_granparent_preds = test_df.copy()\n",
    "clinlinker_granparent_preds[\"candidates\"] = candidates\n",
    "clinlinker_granparent_preds[\"codes\"] = codes\n",
    "models.append(\"ClinLinker-KB-GP\")\n",
    "results.append(clinlinker_granparent_preds)\n",
    "del faiss_encoder"
   ]
  },
  {
   "cell_type": "code",
   "execution_count": 17,
   "metadata": {},
   "outputs": [
    {
     "data": {
      "application/vnd.jupyter.widget-view+json": {
       "model_id": "7057ff9e80ff4eb0a10f3836b0c9f9c8",
       "version_major": 2,
       "version_minor": 0
      },
      "text/plain": [
       "Encoding:   0%|          | 0/7486 [00:00<?, ?it/s]"
      ]
     },
     "metadata": {},
     "output_type": "display_data"
    },
    {
     "data": {
      "application/vnd.jupyter.widget-view+json": {
       "model_id": "c211e144c7604bc2ab17cb7ba2ec550c",
       "version_major": 2,
       "version_minor": 0
      },
      "text/plain": [
       "Encoding:   0%|          | 0/55 [00:00<?, ?it/s]"
      ]
     },
     "metadata": {},
     "output_type": "display_data"
    }
   ],
   "source": [
    "faiss_encoder = faiss_enc.FaissEncoder(\"../../../models/NEL/spanish_sapbert_models/sapbert_15_parents_1epoch\", F_TYPE, MAX_LENGTH, link_gaz_df)\n",
    "faiss_encoder.fitFaiss()\n",
    "candidates, codes, _ = faiss_encoder.getCandidates(test_df[\"term\"].tolist(), k=200)\n",
    "clinlinker_parent_preds = test_df.copy()\n",
    "clinlinker_parent_preds[\"candidates\"] = candidates\n",
    "clinlinker_parent_preds[\"codes\"] = codes\n",
    "models.append(\"ClinLinker-KB-P\")\n",
    "results.append(clinlinker_parent_preds)\n",
    "del faiss_encoder"
   ]
  },
  {
   "cell_type": "code",
   "execution_count": 18,
   "metadata": {},
   "outputs": [
    {
     "data": {
      "application/vnd.jupyter.widget-view+json": {
       "model_id": "a967482e3d1745de9da8bfff319346c3",
       "version_major": 2,
       "version_minor": 0
      },
      "text/plain": [
       "Encoding:   0%|          | 0/7486 [00:00<?, ?it/s]"
      ]
     },
     "metadata": {},
     "output_type": "display_data"
    },
    {
     "data": {
      "application/vnd.jupyter.widget-view+json": {
       "model_id": "31678c95691c49208560ba03aa0765ae",
       "version_major": 2,
       "version_minor": 0
      },
      "text/plain": [
       "Encoding:   0%|          | 0/55 [00:00<?, ?it/s]"
      ]
     },
     "metadata": {},
     "output_type": "display_data"
    }
   ],
   "source": [
    "faiss_encoder = faiss_enc.FaissEncoder(\"../../../models/NEL/spanish_sapbert_models/sapbert_15_noparents_1epoch\", F_TYPE, MAX_LENGTH, link_gaz_df)\n",
    "faiss_encoder.fitFaiss()\n",
    "candidates, codes, _ = faiss_encoder.getCandidates(test_df[\"term\"].tolist(), k=200)\n",
    "clinlinker_preds = test_df.copy()\n",
    "clinlinker_preds[\"candidates\"] = candidates\n",
    "clinlinker_preds[\"codes\"] = codes\n",
    "models.append(\"ClinLinker\")\n",
    "results.append(clinlinker_preds)\n",
    "del faiss_encoder"
   ]
  },
  {
   "cell_type": "code",
   "execution_count": 19,
   "metadata": {},
   "outputs": [
    {
     "name": "stderr",
     "output_type": "stream",
     "text": [
      "/home/fernandogd/.conda/envs/kg_env/lib/python3.10/site-packages/huggingface_hub/file_download.py:1150: FutureWarning: `resume_download` is deprecated and will be removed in version 1.0.0. Downloads always resume when possible. If you want to force a new download, use `force_download=True`.\n",
      "  warnings.warn(\n"
     ]
    },
    {
     "data": {
      "application/vnd.jupyter.widget-view+json": {
       "model_id": "447d1eaa57fb415cb2100f4547a5b207",
       "version_major": 2,
       "version_minor": 0
      },
      "text/plain": [
       "Encoding:   0%|          | 0/7486 [00:00<?, ?it/s]"
      ]
     },
     "metadata": {},
     "output_type": "display_data"
    },
    {
     "data": {
      "application/vnd.jupyter.widget-view+json": {
       "model_id": "2a843ef2f7d94617a4c2664ea1ef4e7c",
       "version_major": 2,
       "version_minor": 0
      },
      "text/plain": [
       "Encoding:   0%|          | 0/55 [00:00<?, ?it/s]"
      ]
     },
     "metadata": {},
     "output_type": "display_data"
    }
   ],
   "source": [
    "faiss_encoder = faiss_enc.FaissEncoder(\"cambridgeltl/SapBERT-UMLS-2020AB-all-lang-from-XLMR-large\", F_TYPE, MAX_LENGTH, link_gaz_df)\n",
    "faiss_encoder.fitFaiss()\n",
    "candidates, codes, _ = faiss_encoder.getCandidates(test_df[\"term\"].tolist(), k=200)\n",
    "baseline_preds = test_df.copy()\n",
    "baseline_preds[\"candidates\"] = candidates\n",
    "baseline_preds[\"codes\"] = codes\n",
    "models.append(\"SapBERT-XLM-R-large\")\n",
    "results.append(baseline_preds)\n",
    "del faiss_encoder"
   ]
  },
  {
   "cell_type": "code",
   "execution_count": 20,
   "metadata": {},
   "outputs": [
    {
     "name": "stdout",
     "output_type": "stream",
     "text": [
      "{'procedure': 3395, 'regime/therapy': 63, 'physical object': 14, 'product': 14, 'substance': 11, 'CODE_NOT_IN_DICT': 6, 'qualifier value': 6, 'finding': 2, 'context-dependent category': 1}\n"
     ]
    },
    {
     "name": "stderr",
     "output_type": "stream",
     "text": [
      "/tmp/ipykernel_32328/618121265.py:88: UserWarning: set_ticklabels() should only be used with a fixed number of ticks, i.e. after set_ticks() or using a FixedLocator.\n",
      "  ax.set_xticklabels(ax.get_xticklabels(), fontsize=16)\n"
     ]
    },
    {
     "data": {
      "image/png": "[encoded data removed]",
      "text/plain": [
       "<Figure size 1400x400 with 1 Axes>"
      ]
     },
     "metadata": {},
     "output_type": "display_data"
    }
   ],
   "source": [
    "barplot_top_accuracy(results, models, gaz_df, 2, CORPUS, 25)"
   ]
  }
 ],
 "metadata": {
  "kernelspec": {
   "display_name": "kg_env",
   "language": "python",
   "name": "python3"
  },
  "language_info": {
   "codemirror_mode": {
    "name": "ipython",
    "version": 3
   },
   "file_extension": ".py",
   "mimetype": "text/x-python",
   "name": "python",
   "nbconvert_exporter": "python",
   "pygments_lexer": "ipython3",
   "version": "3.10.14"
  }
 },
 "nbformat": 4,
 "nbformat_minor": 2
}
