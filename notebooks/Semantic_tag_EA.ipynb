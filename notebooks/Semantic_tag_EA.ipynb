{
 "cells": [
  {
   "cell_type": "code",
   "execution_count": 1,
   "metadata": {},
   "outputs": [
    {
     "name": "stderr",
     "output_type": "stream",
     "text": [
      "/home/fernandogd/Documents/Investigacion/Transformers/Repositories/ClinLinker-KB/venv/lib/python3.10/site-packages/tqdm/auto.py:21: TqdmWarning: IProgress not found. Please update jupyter and ipywidgets. See https://ipywidgets.readthedocs.io/en/stable/user_install.html\n",
      "  from .autonotebook import tqdm as notebook_tqdm\n"
     ]
    }
   ],
   "source": [
    "import sys\n",
    "import os\n",
    "import pandas as pd\n",
    "import seaborn as sns\n",
    "import matplotlib.pyplot as plt\n",
    "\n",
    "sys.path.append(os.path.join(os.getcwd(), '../src'))\n",
    "from utils import load_corpus_data\n",
    "from metrics import calculate_topk_accuracy\n",
    "import faissEncoder as faiss_enc\n"
   ]
  },
  {
   "cell_type": "code",
   "execution_count": 3,
   "metadata": {},
   "outputs": [],
   "source": [
    "CORPUS = \"SympTEMIST\"\n",
    "DATA_PATH = \"/scratch/data/\"\n",
    "\n",
    "models = []\n",
    "results = []\n",
    "F_TYPE = \"FlatIP\"\n",
    "MAX_LENGTH = 256\n",
    "TOP_N = 3\n",
    "TOP_K_VALUES = [1,5,25,50,100,200]\n",
    "mapped_semtag = {\n",
    "    \"estructura corporal\": \"body structure\",\n",
    "    \"sustancia\": \"substance\",\n",
    "    \"organismo\": \"organism\",\n",
    "    \"anomalía morfológica\": \"morphologic abnormality\",\n",
    "    \"hallazgo\": \"finding\"\n",
    "}"
   ]
  },
  {
   "cell_type": "code",
   "execution_count": 4,
   "metadata": {},
   "outputs": [
    {
     "name": "stdout",
     "output_type": "stream",
     "text": [
      "Number of NO_CODE: 107\n",
      "Number of composite(+): 0\n"
     ]
    }
   ],
   "source": [
    "test_df, train_df, gaz_df = load_corpus_data(DATA_PATH, CORPUS)\n",
    "gaz_df['semantic_tag'] = gaz_df['semantic_tag'].replace(mapped_semtag)\n",
    "link_gaz_df = pd.concat([train_df[['code', 'term']], gaz_df[['code', 'term']]], ignore_index=True) \n",
    "no_code_count = test_df['code'].str.contains('NO_CODE').sum()\n",
    "composite_count = test_df['code'].str.contains(r'\\+').sum()\n",
    "print(f\"Number of NO_CODE: {no_code_count}\")\n",
    "print(f\"Number of composite(+): {composite_count}\")\n",
    "test_df = test_df[~test_df['code'].str.contains('NO_CODE|\\+', regex=True)]"
   ]
  },
  {
   "cell_type": "code",
   "execution_count": 5,
   "metadata": {},
   "outputs": [
    {
     "name": "stdout",
     "output_type": "stream",
     "text": [
      "{'finding': 2068, 'disorder': 568, 'morphologic abnormality': 68, 'CODE_NOT_IN_DICT': 21, 'qualifier value': 7, 'navigational concept': 5, 'observable entity': 2, 'situation': 1, 'procedure': 1}\n"
     ]
    }
   ],
   "source": [
    "code_sem_tag_dict = gaz_df.set_index('code')['semantic_tag'].to_dict()\n",
    "test_df['sem_tag'] = test_df['code'].apply(lambda code: code_sem_tag_dict.get(code, \"CODE_NOT_IN_DICT\"))\n",
    "test_sem_tag_counts = test_df['sem_tag'].value_counts().to_dict()\n",
    "print(test_sem_tag_counts)"
   ]
  },
  {
   "cell_type": "code",
   "execution_count": 6,
   "metadata": {},
   "outputs": [
    {
     "data": {
      "application/vnd.microsoft.datawrangler.viewer.v0+json": {
       "columns": [
        {
         "name": "index",
         "rawType": "int64",
         "type": "integer"
        },
        {
         "name": "code",
         "rawType": "object",
         "type": "string"
        },
        {
         "name": "language",
         "rawType": "object",
         "type": "string"
        },
        {
         "name": "term",
         "rawType": "object",
         "type": "string"
        },
        {
         "name": "semantic_tag",
         "rawType": "object",
         "type": "string"
        },
        {
         "name": "mainterm",
         "rawType": "int64",
         "type": "integer"
        }
       ],
       "conversionMethod": "pd.DataFrame",
       "ref": "276bd384-c5a5-42a2-a73d-d1d34068be57",
       "rows": [
        [
         "0",
         "9991008",
         "es",
         "cólico abdominal",
         "finding",
         "1"
        ],
        [
         "1",
         "9991008",
         "es",
         "cólico intestinal",
         "finding",
         "0"
        ],
        [
         "2",
         "999000",
         "es",
         "adenocarcinoma mixto, exocrino y de células de los islotes",
         "morphologic abnormality",
         "1"
        ],
        [
         "3",
         "999000",
         "es",
         "adenocarcinoma mixto, de células insulares y células exocrinas",
         "morphologic abnormality",
         "0"
        ],
        [
         "4",
         "9989000",
         "es",
         "anomalía congénita de dedo del pie",
         "disorder",
         "1"
        ]
       ],
       "shape": {
        "columns": 5,
        "rows": 5
       }
      },
      "text/html": [
       "<div>\n",
       "<style scoped>\n",
       "    .dataframe tbody tr th:only-of-type {\n",
       "        vertical-align: middle;\n",
       "    }\n",
       "\n",
       "    .dataframe tbody tr th {\n",
       "        vertical-align: top;\n",
       "    }\n",
       "\n",
       "    .dataframe thead th {\n",
       "        text-align: right;\n",
       "    }\n",
       "</style>\n",
       "<table border=\"1\" class=\"dataframe\">\n",
       "  <thead>\n",
       "    <tr style=\"text-align: right;\">\n",
       "      <th></th>\n",
       "      <th>code</th>\n",
       "      <th>language</th>\n",
       "      <th>term</th>\n",
       "      <th>semantic_tag</th>\n",
       "      <th>mainterm</th>\n",
       "    </tr>\n",
       "  </thead>\n",
       "  <tbody>\n",
       "    <tr>\n",
       "      <th>0</th>\n",
       "      <td>9991008</td>\n",
       "      <td>es</td>\n",
       "      <td>cólico abdominal</td>\n",
       "      <td>finding</td>\n",
       "      <td>1</td>\n",
       "    </tr>\n",
       "    <tr>\n",
       "      <th>1</th>\n",
       "      <td>9991008</td>\n",
       "      <td>es</td>\n",
       "      <td>cólico intestinal</td>\n",
       "      <td>finding</td>\n",
       "      <td>0</td>\n",
       "    </tr>\n",
       "    <tr>\n",
       "      <th>2</th>\n",
       "      <td>999000</td>\n",
       "      <td>es</td>\n",
       "      <td>adenocarcinoma mixto, exocrino y de células de...</td>\n",
       "      <td>morphologic abnormality</td>\n",
       "      <td>1</td>\n",
       "    </tr>\n",
       "    <tr>\n",
       "      <th>3</th>\n",
       "      <td>999000</td>\n",
       "      <td>es</td>\n",
       "      <td>adenocarcinoma mixto, de células insulares y c...</td>\n",
       "      <td>morphologic abnormality</td>\n",
       "      <td>0</td>\n",
       "    </tr>\n",
       "    <tr>\n",
       "      <th>4</th>\n",
       "      <td>9989000</td>\n",
       "      <td>es</td>\n",
       "      <td>anomalía congénita de dedo del pie</td>\n",
       "      <td>disorder</td>\n",
       "      <td>1</td>\n",
       "    </tr>\n",
       "  </tbody>\n",
       "</table>\n",
       "</div>"
      ],
      "text/plain": [
       "      code language                                               term  \\\n",
       "0  9991008       es                                   cólico abdominal   \n",
       "1  9991008       es                                  cólico intestinal   \n",
       "2   999000       es  adenocarcinoma mixto, exocrino y de células de...   \n",
       "3   999000       es  adenocarcinoma mixto, de células insulares y c...   \n",
       "4  9989000       es                 anomalía congénita de dedo del pie   \n",
       "\n",
       "              semantic_tag  mainterm  \n",
       "0                  finding         1  \n",
       "1                  finding         0  \n",
       "2  morphologic abnormality         1  \n",
       "3  morphologic abnormality         0  \n",
       "4                 disorder         1  "
      ]
     },
     "execution_count": 6,
     "metadata": {},
     "output_type": "execute_result"
    }
   ],
   "source": [
    "gaz_df.head()"
   ]
  },
  {
   "cell_type": "code",
   "execution_count": 7,
   "metadata": {},
   "outputs": [
    {
     "name": "stdout",
     "output_type": "stream",
     "text": [
      "2025-04-26 14:26:07,125 - INFO - Vocabulary initialized successfully. (faissEncoder.py:76)\n",
      "2025-04-26 14:27:22,105 - INFO - FAISS index fitted successfully. (faissEncoder.py:154)\n"
     ]
    }
   ],
   "source": [
    "faiss_encoder = faiss_enc.FaissEncoder(\"ICB-UMA/ClinLinker-KB-GP\", F_TYPE, MAX_LENGTH, link_gaz_df)\n",
    "faiss_encoder.fit_faiss()\n",
    "candidates, codes, _ = faiss_encoder.get_candidates(test_df[\"term\"].tolist(), k=200)\n",
    "clinlinker_granparent_preds = test_df.copy()\n",
    "clinlinker_granparent_preds[\"candidates\"] = candidates\n",
    "clinlinker_granparent_preds[\"codes\"] = codes\n",
    "models.append(\"ClinLinker-KB-GP\")\n",
    "results.append(clinlinker_granparent_preds)\n",
    "del faiss_encoder"
   ]
  },
  {
   "cell_type": "code",
   "execution_count": 8,
   "metadata": {},
   "outputs": [
    {
     "name": "stdout",
     "output_type": "stream",
     "text": [
      "2025-04-26 14:27:34,591 - INFO - Vocabulary initialized successfully. (faissEncoder.py:76)\n",
      "2025-04-26 14:28:47,686 - INFO - FAISS index fitted successfully. (faissEncoder.py:154)\n"
     ]
    }
   ],
   "source": [
    "faiss_encoder = faiss_enc.FaissEncoder(\"ICB-UMA/ClinLinker-KB-P\", F_TYPE, MAX_LENGTH, link_gaz_df)\n",
    "faiss_encoder.fit_faiss()\n",
    "candidates, codes, _ = faiss_encoder.get_candidates(test_df[\"term\"].tolist(), k=200)\n",
    "clinlinker_parent_preds = test_df.copy()\n",
    "clinlinker_parent_preds[\"candidates\"] = candidates\n",
    "clinlinker_parent_preds[\"codes\"] = codes\n",
    "models.append(\"ClinLinker-KB-P\")\n",
    "results.append(clinlinker_parent_preds)\n",
    "del faiss_encoder"
   ]
  },
  {
   "cell_type": "code",
   "execution_count": 9,
   "metadata": {},
   "outputs": [
    {
     "name": "stdout",
     "output_type": "stream",
     "text": [
      "2025-04-26 14:29:00,265 - INFO - Vocabulary initialized successfully. (faissEncoder.py:76)\n",
      "2025-04-26 14:30:13,333 - INFO - FAISS index fitted successfully. (faissEncoder.py:154)\n"
     ]
    }
   ],
   "source": [
    "faiss_encoder = faiss_enc.FaissEncoder(\"ICB-UMA/ClinLinker\", F_TYPE, MAX_LENGTH, link_gaz_df)\n",
    "faiss_encoder.fit_faiss()\n",
    "candidates, codes, _ = faiss_encoder.get_candidates(test_df[\"term\"].tolist(), k=200)\n",
    "clinlinker_preds = test_df.copy()\n",
    "clinlinker_preds[\"candidates\"] = candidates\n",
    "clinlinker_preds[\"codes\"] = codes\n",
    "models.append(\"ClinLinker\")\n",
    "results.append(clinlinker_preds)\n",
    "del faiss_encoder"
   ]
  },
  {
   "cell_type": "code",
   "execution_count": 10,
   "metadata": {},
   "outputs": [
    {
     "name": "stdout",
     "output_type": "stream",
     "text": [
      "2025-04-26 14:30:41,890 - INFO - Vocabulary initialized successfully. (faissEncoder.py:76)\n",
      "2025-04-26 14:35:36,317 - INFO - FAISS index fitted successfully. (faissEncoder.py:154)\n"
     ]
    }
   ],
   "source": [
    "faiss_encoder = faiss_enc.FaissEncoder(\"cambridgeltl/SapBERT-UMLS-2020AB-all-lang-from-XLMR-large\", F_TYPE, MAX_LENGTH, link_gaz_df)\n",
    "faiss_encoder.fit_faiss()\n",
    "candidates, codes, _ = faiss_encoder.get_candidates(test_df[\"term\"].tolist(), k=200)\n",
    "baseline_preds = test_df.copy()\n",
    "baseline_preds[\"candidates\"] = candidates\n",
    "baseline_preds[\"codes\"] = codes\n",
    "models.append(\"SapBERT-XLM-R-large\")\n",
    "results.append(baseline_preds)\n",
    "del faiss_encoder"
   ]
  },
  {
   "cell_type": "code",
   "execution_count": 12,
   "metadata": {},
   "outputs": [
    {
     "name": "stdout",
     "output_type": "stream",
     "text": [
      "2025-04-26 14:36:36,302 - INFO - Calculating Top-k accuracy... (metrics.py:39)\n",
      "2025-04-26 14:36:36,302 - INFO - DataFrame size: 2068, Top-k values: [25] (metrics.py:40)\n",
      "2025-04-26 14:36:36,412 - INFO - Top-25 accuracy: 0.9483 (metrics.py:67)\n",
      "2025-04-26 14:36:36,412 - INFO - Top-k accuracy calculation complete. (metrics.py:69)\n",
      "2025-04-26 14:36:36,414 - INFO - Calculating Top-k accuracy... (metrics.py:39)\n",
      "2025-04-26 14:36:36,414 - INFO - DataFrame size: 568, Top-k values: [25] (metrics.py:40)\n",
      "2025-04-26 14:36:36,448 - INFO - Top-25 accuracy: 0.8310 (metrics.py:67)\n",
      "2025-04-26 14:36:36,448 - INFO - Top-k accuracy calculation complete. (metrics.py:69)\n",
      "2025-04-26 14:36:36,449 - INFO - Calculating Top-k accuracy... (metrics.py:39)\n",
      "2025-04-26 14:36:36,449 - INFO - DataFrame size: 68, Top-k values: [25] (metrics.py:40)\n",
      "2025-04-26 14:36:36,453 - INFO - Top-25 accuracy: 0.8971 (metrics.py:67)\n",
      "2025-04-26 14:36:36,454 - INFO - Top-k accuracy calculation complete. (metrics.py:69)\n",
      "2025-04-26 14:36:36,455 - INFO - Calculating Top-k accuracy... (metrics.py:39)\n",
      "2025-04-26 14:36:36,455 - INFO - DataFrame size: 37, Top-k values: [25] (metrics.py:40)\n",
      "2025-04-26 14:36:36,458 - INFO - Top-25 accuracy: 0.4865 (metrics.py:67)\n",
      "2025-04-26 14:36:36,458 - INFO - Top-k accuracy calculation complete. (metrics.py:69)\n",
      "2025-04-26 14:36:36,460 - INFO - Calculating Top-k accuracy... (metrics.py:39)\n",
      "2025-04-26 14:36:36,460 - INFO - DataFrame size: 2068, Top-k values: [25] (metrics.py:40)\n",
      "2025-04-26 14:36:36,569 - INFO - Top-25 accuracy: 0.9497 (metrics.py:67)\n",
      "2025-04-26 14:36:36,569 - INFO - Top-k accuracy calculation complete. (metrics.py:69)\n",
      "2025-04-26 14:36:36,571 - INFO - Calculating Top-k accuracy... (metrics.py:39)\n",
      "2025-04-26 14:36:36,571 - INFO - DataFrame size: 568, Top-k values: [25] (metrics.py:40)\n",
      "2025-04-26 14:36:36,603 - INFO - Top-25 accuracy: 0.8292 (metrics.py:67)\n",
      "2025-04-26 14:36:36,604 - INFO - Top-k accuracy calculation complete. (metrics.py:69)\n",
      "2025-04-26 14:36:36,604 - INFO - Calculating Top-k accuracy... (metrics.py:39)\n",
      "2025-04-26 14:36:36,605 - INFO - DataFrame size: 68, Top-k values: [25] (metrics.py:40)\n",
      "2025-04-26 14:36:36,609 - INFO - Top-25 accuracy: 0.8676 (metrics.py:67)\n",
      "2025-04-26 14:36:36,609 - INFO - Top-k accuracy calculation complete. (metrics.py:69)\n",
      "2025-04-26 14:36:36,610 - INFO - Calculating Top-k accuracy... (metrics.py:39)\n",
      "2025-04-26 14:36:36,611 - INFO - DataFrame size: 37, Top-k values: [25] (metrics.py:40)\n",
      "2025-04-26 14:36:36,613 - INFO - Top-25 accuracy: 0.5405 (metrics.py:67)\n",
      "2025-04-26 14:36:36,614 - INFO - Top-k accuracy calculation complete. (metrics.py:69)\n",
      "2025-04-26 14:36:36,615 - INFO - Calculating Top-k accuracy... (metrics.py:39)\n",
      "2025-04-26 14:36:36,615 - INFO - DataFrame size: 2068, Top-k values: [25] (metrics.py:40)\n",
      "2025-04-26 14:36:36,722 - INFO - Top-25 accuracy: 0.9154 (metrics.py:67)\n",
      "2025-04-26 14:36:36,723 - INFO - Top-k accuracy calculation complete. (metrics.py:69)\n",
      "2025-04-26 14:36:36,724 - INFO - Calculating Top-k accuracy... (metrics.py:39)\n",
      "2025-04-26 14:36:36,724 - INFO - DataFrame size: 568, Top-k values: [25] (metrics.py:40)\n",
      "2025-04-26 14:36:36,757 - INFO - Top-25 accuracy: 0.7905 (metrics.py:67)\n",
      "2025-04-26 14:36:36,757 - INFO - Top-k accuracy calculation complete. (metrics.py:69)\n",
      "2025-04-26 14:36:36,758 - INFO - Calculating Top-k accuracy... (metrics.py:39)\n",
      "2025-04-26 14:36:36,758 - INFO - DataFrame size: 68, Top-k values: [25] (metrics.py:40)\n",
      "2025-04-26 14:36:36,762 - INFO - Top-25 accuracy: 0.8824 (metrics.py:67)\n",
      "2025-04-26 14:36:36,763 - INFO - Top-k accuracy calculation complete. (metrics.py:69)\n",
      "2025-04-26 14:36:36,764 - INFO - Calculating Top-k accuracy... (metrics.py:39)\n",
      "2025-04-26 14:36:36,764 - INFO - DataFrame size: 37, Top-k values: [25] (metrics.py:40)\n",
      "2025-04-26 14:36:36,767 - INFO - Top-25 accuracy: 0.4595 (metrics.py:67)\n",
      "2025-04-26 14:36:36,767 - INFO - Top-k accuracy calculation complete. (metrics.py:69)\n",
      "2025-04-26 14:36:36,768 - INFO - Calculating Top-k accuracy... (metrics.py:39)\n",
      "2025-04-26 14:36:36,769 - INFO - DataFrame size: 2068, Top-k values: [25] (metrics.py:40)\n",
      "2025-04-26 14:36:36,880 - INFO - Top-25 accuracy: 0.8569 (metrics.py:67)\n",
      "2025-04-26 14:36:36,880 - INFO - Top-k accuracy calculation complete. (metrics.py:69)\n",
      "2025-04-26 14:36:36,882 - INFO - Calculating Top-k accuracy... (metrics.py:39)\n",
      "2025-04-26 14:36:36,882 - INFO - DataFrame size: 568, Top-k values: [25] (metrics.py:40)\n",
      "2025-04-26 14:36:36,915 - INFO - Top-25 accuracy: 0.7430 (metrics.py:67)\n",
      "2025-04-26 14:36:36,915 - INFO - Top-k accuracy calculation complete. (metrics.py:69)\n",
      "2025-04-26 14:36:36,916 - INFO - Calculating Top-k accuracy... (metrics.py:39)\n",
      "2025-04-26 14:36:36,917 - INFO - DataFrame size: 68, Top-k values: [25] (metrics.py:40)\n",
      "2025-04-26 14:36:36,921 - INFO - Top-25 accuracy: 0.8382 (metrics.py:67)\n",
      "2025-04-26 14:36:36,921 - INFO - Top-k accuracy calculation complete. (metrics.py:69)\n",
      "2025-04-26 14:36:36,922 - INFO - Calculating Top-k accuracy... (metrics.py:39)\n",
      "2025-04-26 14:36:36,922 - INFO - DataFrame size: 37, Top-k values: [25] (metrics.py:40)\n",
      "2025-04-26 14:36:36,925 - INFO - Top-25 accuracy: 0.4054 (metrics.py:67)\n",
      "2025-04-26 14:36:36,925 - INFO - Top-k accuracy calculation complete. (metrics.py:69)\n"
     ]
    },
    {
     "name": "stderr",
     "output_type": "stream",
     "text": [
      "/tmp/ipykernel_1098788/588225278.py:67: UserWarning: set_ticklabels() should only be used with a fixed number of ticks, i.e. after set_ticks() or using a FixedLocator.\n",
      "  ax.set_xticklabels(ax.get_xticklabels(), fontsize=16)\n"
     ]
    },
    {
     "data": {
      "image/png": "[encoded data removed]",
      "text/plain": [
       "<Figure size 1400x400 with 1 Axes>"
      ]
     },
     "metadata": {},
     "output_type": "display_data"
    }
   ],
   "source": [
    "code_sem_tag_dict = gaz_df.set_index('code')['semantic_tag'].to_dict()\n",
    "test_df['sem_tag'] = test_df['code'].apply(lambda code: code_sem_tag_dict.get(code, \"CODE_NOT_IN_DICT\"))\n",
    "test_sem_tag_counts = test_df['sem_tag'].value_counts().to_dict()\n",
    "top_tags = [k for k, v in sorted(test_sem_tag_counts.items(), key=lambda item: item[1], reverse=True)[:TOP_N]]\n",
    "\n",
    "for df in results:\n",
    "    df['tag'] = df['code'].map(code_sem_tag_dict).fillna('others')\n",
    "    df['tag'] = df['tag'].apply(lambda x: x if x in top_tags else 'others')\n",
    "\n",
    "results_dict = {}\n",
    "topk_values = [25]\n",
    "for i, model in enumerate(models):\n",
    "    df = results[i]\n",
    "    for tag in top_tags + ['others']:  \n",
    "        filtered_df = df[df['tag'] == tag]\n",
    "        accuracy_dict = calculate_topk_accuracy(filtered_df, topk_values)\n",
    "        accuracy = accuracy_dict[25]\n",
    "        if model not in results_dict:\n",
    "            results_dict[model] = {}\n",
    "        results_dict[model][tag] = accuracy\n",
    "\n",
    "data = []\n",
    "for model, tags in results_dict.items():\n",
    "    for tag, accuracy in tags.items():\n",
    "        data.append([model, tag, accuracy])\n",
    "\n",
    "results_df = pd.DataFrame(data, columns=['Model', 'Tag', 'Accuracy'])\n",
    "\n",
    "colors = ['red', 'blue', 'green', 'orange']\n",
    "\n",
    "plt.figure(figsize=(14, 4))\n",
    "ax = sns.barplot(x='Tag', y='Accuracy', hue='Model', data=results_df, palette=colors)\n",
    "\n",
    "for bar in ax.patches:\n",
    "    height = bar.get_height()\n",
    "    ax.add_patch(plt.Rectangle((bar.get_x(), height), bar.get_width(), 1 - height, \n",
    "                                facecolor=bar.get_facecolor(), edgecolor='none', alpha=0.3))\n",
    "\n",
    "bars = ax.patches[:len(results_df['Model'].unique()) * len(results_df['Tag'].unique())]\n",
    "hatches = ['/////'] * len(bars)\n",
    "\n",
    "model_color_mapping = {model: colors[i] for i, model in enumerate(models)}\n",
    "\n",
    "for bar, hatch, model in zip(bars, hatches, results_df['Model']):\n",
    "    bar.set_hatch(hatch)\n",
    "    bar.set_edgecolor(model_color_mapping[model])\n",
    "    bar.set_linewidth(0.8)\n",
    "    bar.set_facecolor('white')\n",
    "\n",
    "handles, labels = ax.get_legend_handles_labels()\n",
    "for handle, model in zip(handles, models):\n",
    "    handle.set_facecolor('white')\n",
    "    handle.set_edgecolor(model_color_mapping[model])\n",
    "    handle.set_hatch('/////')\n",
    "\n",
    "ax.legend(handles, models, title='Model', loc='center left', bbox_to_anchor=(1, 0.5), fontsize=16, title_fontsize=16)\n",
    "\n",
    "ax.set_ylim(0, 1.05)\n",
    "\n",
    "ax.grid(False)\n",
    "\n",
    "ax.set_xlabel('')\n",
    "ax.set_ylabel('Percentage', fontsize=16)\n",
    "ax.tick_params(axis='x', labelsize=16)\n",
    "ax.tick_params(axis='y', labelsize=16)\n",
    "\n",
    "ax.set_xticklabels(ax.get_xticklabels(), fontsize=16)\n",
    "\n",
    "ax.spines['top'].set_visible(False)\n",
    "ax.spines['right'].set_visible(False)\n",
    "\n",
    "plt.title(f'{CORPUS}', fontsize=14, fontweight='bold')\n",
    "plt.xticks(rotation=0, ha='center')\n",
    "plt.savefig(f'../figures/{CORPUS}_bar_plot.pdf', bbox_inches='tight')                                                                                                                                                                               \n",
    "plt.show()"
   ]
  }
 ],
 "metadata": {
  "kernelspec": {
   "display_name": "venv",
   "language": "python",
   "name": "python3"
  },
  "language_info": {
   "codemirror_mode": {
    "name": "ipython",
    "version": 3
   },
   "file_extension": ".py",
   "mimetype": "text/x-python",
   "name": "python",
   "nbconvert_exporter": "python",
   "pygments_lexer": "ipython3",
   "version": "3.10.16"
  }
 },
 "nbformat": 4,
 "nbformat_minor": 2
}
