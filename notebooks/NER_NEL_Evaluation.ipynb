{
 "cells": [
  {
   "cell_type": "code",
   "execution_count": 1,
   "metadata": {},
   "outputs": [],
   "source": [
    "import os\n",
    "import sys\n",
    "import pandas as pd\n",
    "\n",
    "sys.path.append(os.path.join(os.getcwd(), '../src'))\n",
    "import faissEncoder as faiss_enc\n",
    "import utils"
   ]
  },
  {
   "cell_type": "code",
   "execution_count": 2,
   "metadata": {},
   "outputs": [],
   "source": [
    "corpus = \"SympTEMIST\"\n",
    "ensemble_preds = \"../data/icb-uma-ensemble.tsv\"\n",
    "baseline_model = \"cambridgeltl/SapBERT-UMLS-2020AB-all-lang-from-XLMR-large\"\n",
    "p_be_model = f\"../../../models/NEL/spanish_sapbert_models/sapbert_15_parents_1epoch/\"\n",
    "gp_be_model = f\"../../../models/NEL/spanish_sapbert_models/sapbert_15_grandparents_1epoch/\""
   ]
  },
  {
   "cell_type": "code",
   "execution_count": 3,
   "metadata": {},
   "outputs": [],
   "source": [
    "test_df, train_df, gaz_df = utils.load_corpus_data(corpus)"
   ]
  },
  {
   "cell_type": "code",
   "execution_count": 4,
   "metadata": {},
   "outputs": [
    {
     "data": {
      "text/html": [
       "<div>\n",
       "<style scoped>\n",
       "    .dataframe tbody tr th:only-of-type {\n",
       "        vertical-align: middle;\n",
       "    }\n",
       "\n",
       "    .dataframe tbody tr th {\n",
       "        vertical-align: top;\n",
       "    }\n",
       "\n",
       "    .dataframe thead th {\n",
       "        text-align: right;\n",
       "    }\n",
       "</style>\n",
       "<table border=\"1\" class=\"dataframe\">\n",
       "  <thead>\n",
       "    <tr style=\"text-align: right;\">\n",
       "      <th></th>\n",
       "      <th>filename</th>\n",
       "      <th>label</th>\n",
       "      <th>span_ini</th>\n",
       "      <th>span_end</th>\n",
       "      <th>term</th>\n",
       "    </tr>\n",
       "  </thead>\n",
       "  <tbody>\n",
       "    <tr>\n",
       "      <th>0</th>\n",
       "      <td>S0004-06142006000100010-1</td>\n",
       "      <td>SINTOMA</td>\n",
       "      <td>118</td>\n",
       "      <td>169</td>\n",
       "      <td>dolor lumbar derecho, esporádico de baja inten...</td>\n",
       "    </tr>\n",
       "    <tr>\n",
       "      <th>1</th>\n",
       "      <td>S0004-06142006000100010-1</td>\n",
       "      <td>SINTOMA</td>\n",
       "      <td>174</td>\n",
       "      <td>203</td>\n",
       "      <td>exploración física fue normal</td>\n",
       "    </tr>\n",
       "    <tr>\n",
       "      <th>2</th>\n",
       "      <td>S0004-06142006000100010-1</td>\n",
       "      <td>SINTOMA</td>\n",
       "      <td>251</td>\n",
       "      <td>289</td>\n",
       "      <td>masa suprarrenal derecha hipoecogénica</td>\n",
       "    </tr>\n",
       "    <tr>\n",
       "      <th>3</th>\n",
       "      <td>S0004-06142006000100010-1</td>\n",
       "      <td>SINTOMA</td>\n",
       "      <td>370</td>\n",
       "      <td>405</td>\n",
       "      <td>proceso expansivo en la suprarrenal</td>\n",
       "    </tr>\n",
       "    <tr>\n",
       "      <th>4</th>\n",
       "      <td>S0004-06142006000100010-1</td>\n",
       "      <td>SINTOMA</td>\n",
       "      <td>418</td>\n",
       "      <td>471</td>\n",
       "      <td>polo superior de riñón derecho desplazado haci...</td>\n",
       "    </tr>\n",
       "  </tbody>\n",
       "</table>\n",
       "</div>"
      ],
      "text/plain": [
       "                    filename    label  span_ini  span_end   \n",
       "0  S0004-06142006000100010-1  SINTOMA       118       169  \\\n",
       "1  S0004-06142006000100010-1  SINTOMA       174       203   \n",
       "2  S0004-06142006000100010-1  SINTOMA       251       289   \n",
       "3  S0004-06142006000100010-1  SINTOMA       370       405   \n",
       "4  S0004-06142006000100010-1  SINTOMA       418       471   \n",
       "\n",
       "                                                term  \n",
       "0  dolor lumbar derecho, esporádico de baja inten...  \n",
       "1                      exploración física fue normal  \n",
       "2             masa suprarrenal derecha hipoecogénica  \n",
       "3                proceso expansivo en la suprarrenal  \n",
       "4  polo superior de riñón derecho desplazado haci...  "
      ]
     },
     "execution_count": 4,
     "metadata": {},
     "output_type": "execute_result"
    }
   ],
   "source": [
    "df_ensemble = pd.read_csv(ensemble_preds, sep=\"\\t\", header=0, dtype={\"code\": str}).rename(columns={'start_span': 'span_ini', \"end_span\": \"span_end\", \"text\": \"term\"})\n",
    "df_ensemble = df_ensemble.sort_values(by=['filename','span_ini', 'span_end'])\n",
    "df_ensemble.head()"
   ]
  },
  {
   "cell_type": "code",
   "execution_count": 5,
   "metadata": {},
   "outputs": [
    {
     "data": {
      "text/html": [
       "<div>\n",
       "<style scoped>\n",
       "    .dataframe tbody tr th:only-of-type {\n",
       "        vertical-align: middle;\n",
       "    }\n",
       "\n",
       "    .dataframe tbody tr th {\n",
       "        vertical-align: top;\n",
       "    }\n",
       "\n",
       "    .dataframe thead th {\n",
       "        text-align: right;\n",
       "    }\n",
       "</style>\n",
       "<table border=\"1\" class=\"dataframe\">\n",
       "  <thead>\n",
       "    <tr style=\"text-align: right;\">\n",
       "      <th></th>\n",
       "      <th>filename</th>\n",
       "      <th>label</th>\n",
       "      <th>span_ini</th>\n",
       "      <th>span_end</th>\n",
       "      <th>term</th>\n",
       "      <th>code</th>\n",
       "      <th>sem_rel</th>\n",
       "      <th>is_abbrev</th>\n",
       "      <th>is_composite</th>\n",
       "      <th>need_context</th>\n",
       "    </tr>\n",
       "  </thead>\n",
       "  <tbody>\n",
       "    <tr>\n",
       "      <th>651</th>\n",
       "      <td>S0004-06142006000100010-1</td>\n",
       "      <td>SINTOMA</td>\n",
       "      <td>118</td>\n",
       "      <td>130</td>\n",
       "      <td>dolor lumbar</td>\n",
       "      <td>40709005</td>\n",
       "      <td>EXACT</td>\n",
       "      <td>False</td>\n",
       "      <td>False</td>\n",
       "      <td>False</td>\n",
       "    </tr>\n",
       "    <tr>\n",
       "      <th>652</th>\n",
       "      <td>S0004-06142006000100010-1</td>\n",
       "      <td>SINTOMA</td>\n",
       "      <td>174</td>\n",
       "      <td>203</td>\n",
       "      <td>exploración física fue normal</td>\n",
       "      <td>NO_CODE</td>\n",
       "      <td>NO_CODE</td>\n",
       "      <td>False</td>\n",
       "      <td>False</td>\n",
       "      <td>False</td>\n",
       "    </tr>\n",
       "    <tr>\n",
       "      <th>2140</th>\n",
       "      <td>S0004-06142006000100010-1</td>\n",
       "      <td>SINTOMA</td>\n",
       "      <td>251</td>\n",
       "      <td>289</td>\n",
       "      <td>masa suprarrenal derecha hipoecogénica</td>\n",
       "      <td>237783006</td>\n",
       "      <td>EXACT</td>\n",
       "      <td>False</td>\n",
       "      <td>False</td>\n",
       "      <td>False</td>\n",
       "    </tr>\n",
       "    <tr>\n",
       "      <th>2428</th>\n",
       "      <td>S0004-06142006000100010-1</td>\n",
       "      <td>SINTOMA</td>\n",
       "      <td>370</td>\n",
       "      <td>405</td>\n",
       "      <td>proceso expansivo en la suprarrenal</td>\n",
       "      <td>237783006</td>\n",
       "      <td>EXACT</td>\n",
       "      <td>False</td>\n",
       "      <td>False</td>\n",
       "      <td>False</td>\n",
       "    </tr>\n",
       "    <tr>\n",
       "      <th>2411</th>\n",
       "      <td>S0004-06142006000100010-1</td>\n",
       "      <td>SINTOMA</td>\n",
       "      <td>418</td>\n",
       "      <td>471</td>\n",
       "      <td>polo superior de riñón derecho desplazado haci...</td>\n",
       "      <td>366263008</td>\n",
       "      <td>NARROW</td>\n",
       "      <td>False</td>\n",
       "      <td>False</td>\n",
       "      <td>False</td>\n",
       "    </tr>\n",
       "  </tbody>\n",
       "</table>\n",
       "</div>"
      ],
      "text/plain": [
       "                       filename    label  span_ini  span_end   \n",
       "651   S0004-06142006000100010-1  SINTOMA       118       130  \\\n",
       "652   S0004-06142006000100010-1  SINTOMA       174       203   \n",
       "2140  S0004-06142006000100010-1  SINTOMA       251       289   \n",
       "2428  S0004-06142006000100010-1  SINTOMA       370       405   \n",
       "2411  S0004-06142006000100010-1  SINTOMA       418       471   \n",
       "\n",
       "                                                   term       code  sem_rel   \n",
       "651                                        dolor lumbar   40709005    EXACT  \\\n",
       "652                       exploración física fue normal    NO_CODE  NO_CODE   \n",
       "2140             masa suprarrenal derecha hipoecogénica  237783006    EXACT   \n",
       "2428                proceso expansivo en la suprarrenal  237783006    EXACT   \n",
       "2411  polo superior de riñón derecho desplazado haci...  366263008   NARROW   \n",
       "\n",
       "      is_abbrev  is_composite  need_context  \n",
       "651       False         False         False  \n",
       "652       False         False         False  \n",
       "2140      False         False         False  \n",
       "2428      False         False         False  \n",
       "2411      False         False         False  "
      ]
     },
     "execution_count": 5,
     "metadata": {},
     "output_type": "execute_result"
    }
   ],
   "source": [
    "test_df = test_df.sort_values(by=['filename','span_ini', 'span_end'])\n",
    "test_df.head()"
   ]
  },
  {
   "cell_type": "code",
   "execution_count": 6,
   "metadata": {},
   "outputs": [
    {
     "data": {
      "text/plain": [
       "{'recall': 0.7124, 'precision': 0.752, 'f_score': 0.7317}"
      ]
     },
     "execution_count": 6,
     "metadata": {},
     "output_type": "execute_result"
    }
   ],
   "source": [
    "ner_scores = utils.calculate_ner(test_df, df_ensemble, f\"../logs/{corpus}_ner.log\")[\"total\"]\n",
    "ner_scores"
   ]
  },
  {
   "cell_type": "code",
   "execution_count": 7,
   "metadata": {},
   "outputs": [
    {
     "data": {
      "text/html": [
       "<div>\n",
       "<style scoped>\n",
       "    .dataframe tbody tr th:only-of-type {\n",
       "        vertical-align: middle;\n",
       "    }\n",
       "\n",
       "    .dataframe tbody tr th {\n",
       "        vertical-align: top;\n",
       "    }\n",
       "\n",
       "    .dataframe thead th {\n",
       "        text-align: right;\n",
       "    }\n",
       "</style>\n",
       "<table border=\"1\" class=\"dataframe\">\n",
       "  <thead>\n",
       "    <tr style=\"text-align: right;\">\n",
       "      <th></th>\n",
       "      <th>code</th>\n",
       "      <th>term</th>\n",
       "    </tr>\n",
       "  </thead>\n",
       "  <tbody>\n",
       "    <tr>\n",
       "      <th>0</th>\n",
       "      <td>246658005</td>\n",
       "      <td>manchas en el campo visual</td>\n",
       "    </tr>\n",
       "    <tr>\n",
       "      <th>1</th>\n",
       "      <td>171250001</td>\n",
       "      <td>5hiaa en orina de 24 horas estaba dentro de lo...</td>\n",
       "    </tr>\n",
       "    <tr>\n",
       "      <th>2</th>\n",
       "      <td>166315009</td>\n",
       "      <td>a nivel analítico no presentaba alteración</td>\n",
       "    </tr>\n",
       "    <tr>\n",
       "      <th>3</th>\n",
       "      <td>126825008</td>\n",
       "      <td>a nivel del cardias masa mamelonada y ulcerada</td>\n",
       "    </tr>\n",
       "    <tr>\n",
       "      <th>4</th>\n",
       "      <td>9209005</td>\n",
       "      <td>abdomen agudo</td>\n",
       "    </tr>\n",
       "  </tbody>\n",
       "</table>\n",
       "</div>"
      ],
      "text/plain": [
       "        code                                               term\n",
       "0  246658005                         manchas en el campo visual\n",
       "1  171250001  5hiaa en orina de 24 horas estaba dentro de lo...\n",
       "2  166315009         a nivel analítico no presentaba alteración\n",
       "3  126825008     a nivel del cardias masa mamelonada y ulcerada\n",
       "4    9209005                                      abdomen agudo"
      ]
     },
     "execution_count": 7,
     "metadata": {},
     "output_type": "execute_result"
    }
   ],
   "source": [
    "train_gaz_df = (\n",
    "    pd.concat([\n",
    "        train_df[['code', 'term']],\n",
    "        gaz_df[['code', 'term']]\n",
    "    ])\n",
    "    .drop_duplicates()\n",
    "    .assign(term=lambda x: x['term'].str.replace('«', '').str.replace('»', '').str.lower())\n",
    "    .query('code != \"\" and code != \"NO_CODE\"')\n",
    ")\n",
    "train_gaz_df.head()\n"
   ]
  },
  {
   "cell_type": "code",
   "execution_count": 8,
   "metadata": {},
   "outputs": [
    {
     "name": "stderr",
     "output_type": "stream",
     "text": [
      "/home/fernandogd/.conda/envs/kg_env/lib/python3.10/site-packages/huggingface_hub/file_download.py:1150: FutureWarning: `resume_download` is deprecated and will be removed in version 1.0.0. Downloads always resume when possible. If you want to force a new download, use `force_download=True`.\n",
      "  warnings.warn(\n",
      "/home/fernandogd/.conda/envs/kg_env/lib/python3.10/site-packages/torch/_utils.py:776: UserWarning: TypedStorage is deprecated. It will be removed in the future and UntypedStorage will be the only storage class. This should only matter to you if you are using storages directly.  To access UntypedStorage directly, use tensor.untyped_storage() instead of tensor.storage()\n",
      "  return self.fget.__get__(instance, owner)()\n"
     ]
    },
    {
     "data": {
      "application/vnd.jupyter.widget-view+json": {
       "model_id": "826feb0d5ff740f0a16afe6a17ca2c91",
       "version_major": 2,
       "version_minor": 0
      },
      "text/plain": [
       "Encoding:   0%|          | 0/5303 [00:00<?, ?it/s]"
      ]
     },
     "metadata": {},
     "output_type": "display_data"
    },
    {
     "data": {
      "application/vnd.jupyter.widget-view+json": {
       "model_id": "12715a6053a24b3dae7d029242eb9165",
       "version_major": 2,
       "version_minor": 0
      },
      "text/plain": [
       "Encoding:   0%|          | 0/43 [00:00<?, ?it/s]"
      ]
     },
     "metadata": {},
     "output_type": "display_data"
    },
    {
     "data": {
      "text/plain": [
       "{'recall': 0.4972, 'precision': 0.5248, 'f_score': 0.5106}"
      ]
     },
     "execution_count": 8,
     "metadata": {},
     "output_type": "execute_result"
    }
   ],
   "source": [
    "F_TYPE = \"FlatIP\"\n",
    "MAX_LENGTH = 256\n",
    "faiss_encoder = faiss_enc.FaissEncoder(baseline_model, F_TYPE, MAX_LENGTH, train_gaz_df)\n",
    "faiss_encoder.fitFaiss()\n",
    "\n",
    "candidates, codes, similarities = faiss_encoder.getCandidates(df_ensemble[\"term\"].tolist(), k=200)\n",
    "baseline_preds = df_ensemble.copy()\n",
    "baseline_preds[\"candidates\"] = candidates\n",
    "baseline_preds[\"codes\"] = codes\n",
    "\n",
    "baseline_preds['code'] = baseline_preds['codes'].apply(lambda x: x[0] if x else None)\n",
    "baseline_scores = utils.calculate_norm(test_df, baseline_preds, f\"../logs/{corpus}_baseline_preds.log\")[\"total\"]\n",
    "baseline_scores\n"
   ]
  },
  {
   "cell_type": "code",
   "execution_count": 9,
   "metadata": {},
   "outputs": [
    {
     "data": {
      "application/vnd.jupyter.widget-view+json": {
       "model_id": "db7cb10c877f4cc1a808793109404d9e",
       "version_major": 2,
       "version_minor": 0
      },
      "text/plain": [
       "Encoding:   0%|          | 0/5303 [00:00<?, ?it/s]"
      ]
     },
     "metadata": {},
     "output_type": "display_data"
    },
    {
     "data": {
      "application/vnd.jupyter.widget-view+json": {
       "model_id": "0cc934f61938447db2ba8ee857e9d08d",
       "version_major": 2,
       "version_minor": 0
      },
      "text/plain": [
       "Encoding:   0%|          | 0/43 [00:00<?, ?it/s]"
      ]
     },
     "metadata": {},
     "output_type": "display_data"
    },
    {
     "data": {
      "text/plain": [
       "{'recall': 0.5179, 'precision': 0.5467, 'f_score': 0.5319}"
      ]
     },
     "execution_count": 9,
     "metadata": {},
     "output_type": "execute_result"
    }
   ],
   "source": [
    "faiss_encoder = faiss_enc.FaissEncoder(p_be_model, F_TYPE, MAX_LENGTH, train_gaz_df)\n",
    "faiss_encoder.fitFaiss()\n",
    "\n",
    "candidates, codes, similarities = faiss_encoder.getCandidates(df_ensemble[\"term\"].tolist(), k=200)\n",
    "p_be_preds = df_ensemble.copy()\n",
    "p_be_preds[\"candidates\"] = candidates\n",
    "p_be_preds[\"codes\"] = codes\n",
    "\n",
    "p_be_preds['code'] = p_be_preds['codes'].apply(lambda x: x[0] if x else None)\n",
    "p_be_scores = utils.calculate_norm(test_df, p_be_preds, f\"../logs/{corpus}_p_be_preds.log\")[\"total\"]\n",
    "p_be_scores"
   ]
  },
  {
   "cell_type": "code",
   "execution_count": 10,
   "metadata": {},
   "outputs": [
    {
     "data": {
      "application/vnd.jupyter.widget-view+json": {
       "model_id": "177b318046284b45b8fa190b5946a0e4",
       "version_major": 2,
       "version_minor": 0
      },
      "text/plain": [
       "Encoding:   0%|          | 0/5303 [00:00<?, ?it/s]"
      ]
     },
     "metadata": {},
     "output_type": "display_data"
    },
    {
     "data": {
      "application/vnd.jupyter.widget-view+json": {
       "model_id": "4831c7493c594dfd8b34a8fa3851d2d9",
       "version_major": 2,
       "version_minor": 0
      },
      "text/plain": [
       "Encoding:   0%|          | 0/43 [00:00<?, ?it/s]"
      ]
     },
     "metadata": {},
     "output_type": "display_data"
    },
    {
     "data": {
      "text/plain": [
       "{'recall': 0.5179, 'precision': 0.5467, 'f_score': 0.5319}"
      ]
     },
     "execution_count": 10,
     "metadata": {},
     "output_type": "execute_result"
    }
   ],
   "source": [
    "faiss_encoder = faiss_enc.FaissEncoder(gp_be_model, F_TYPE, MAX_LENGTH, train_gaz_df)\n",
    "faiss_encoder.fitFaiss()\n",
    "\n",
    "candidates, codes, similarities = faiss_encoder.getCandidates(df_ensemble[\"term\"].tolist(), k=200)\n",
    "gp_be_preds = df_ensemble.copy()\n",
    "\n",
    "gp_be_preds[\"candidates\"] = candidates\n",
    "gp_be_preds[\"codes\"] = codes\n",
    "\n",
    "gp_be_preds['code'] = p_be_preds['codes'].apply(lambda x: x[0] if x else None)\n",
    "\n",
    "gp_be_scores = utils.calculate_norm(test_df, gp_be_preds, f\"../logs/{corpus}_gp_be_preds.log\")[\"total\"]\n",
    "gp_be_scores"
   ]
  },
  {
   "cell_type": "code",
   "execution_count": 11,
   "metadata": {},
   "outputs": [],
   "source": [
    "df_corpus = pd.DataFrame.from_dict({\n",
    "    'Model': ['SapBERT-XLM-R-large', 'Clinlinker-KB-P', 'ClinLinker-KB-GP'],\n",
    "    'Precision': [baseline_scores['precision'], p_be_scores['precision'], gp_be_scores['precision']],\n",
    "    'Recall': [baseline_scores['recall'], p_be_scores['recall'], gp_be_scores['recall']],\n",
    "    'F1-score': [baseline_scores['f_score'], p_be_scores['f_score'], p_be_scores['f_score']]\n",
    "})\n",
    "df_corpus.to_csv(f\"../results/{corpus}.tsv\", sep=\"\\t\", index=False)"
   ]
  }
 ],
 "metadata": {
  "kernelspec": {
   "display_name": "tf-torch-nel",
   "language": "python",
   "name": "python3"
  },
  "language_info": {
   "codemirror_mode": {
    "name": "ipython",
    "version": 3
   },
   "file_extension": ".py",
   "mimetype": "text/x-python",
   "name": "python",
   "nbconvert_exporter": "python",
   "pygments_lexer": "ipython3",
   "version": "3.10.14"
  }
 },
 "nbformat": 4,
 "nbformat_minor": 2
}
