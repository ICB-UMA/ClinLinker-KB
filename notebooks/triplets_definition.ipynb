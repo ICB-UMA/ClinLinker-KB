{
 "cells": [
  {
   "cell_type": "markdown",
   "metadata": {},
   "source": [
    "# Advancing Representation LLMs with Knowledge Graph Integration for Clinical Entity Normalization in Spanish\n",
    "\n",
    "This notebook processes concepts from the **Unified Medical Language System (UMLS)**, focusing on extracting hierarchical relations (parents and grandparents) to **enrich representation models (Representation LLMs)**.\n",
    "\n",
    "The goal is to provide additional semantic context to concepts, enabling models to capture ontological structures and enhance their representation and generalization capabilities.\n",
    "\n",
    "The workflow includes:\n",
    "- Loading and cleaning UMLS concepts.\n",
    "- Filtering relevant languages (English and Spanish).\n",
    "- Preparing data for constructing triplets enriched with parent relations.\n",
    "\n",
    "---\n"
   ]
  },
  {
   "cell_type": "code",
   "execution_count": null,
   "metadata": {},
   "outputs": [
    {
     "name": "stderr",
     "output_type": "stream",
     "text": [
      "/home/fernandogd/Documents/Investigacion/Transformers/SapBERT/venv/lib/python3.10/site-packages/tqdm/auto.py:21: TqdmWarning: IProgress not found. Please update jupyter and ipywidgets. See https://ipywidgets.readthedocs.io/en/stable/user_install.html\n",
      "  from .autonotebook import tqdm as notebook_tqdm\n"
     ]
    }
   ],
   "source": [
    "import os, sys\n",
    "import pandas as pd\n",
    "from tqdm.auto import tqdm\n",
    "import gc\n",
    "import random\n",
    "import itertools\n",
    "\n",
    "sys.path.append(os.path.join(os.getcwd(), '../src'))\n",
    "from utils import extract_column_names_from_ctl_file\n"
   ]
  },
  {
   "cell_type": "markdown",
   "metadata": {},
   "source": [
    "## Defining Paths and Limits\n",
    "\n",
    "Configure input paths and set maximum limits for parent and grandparent concepts.\n"
   ]
  },
  {
   "cell_type": "code",
   "execution_count": 2,
   "metadata": {},
   "outputs": [],
   "source": [
    "UMLS_VERSION = \"2023AA\"\n",
    "UMLS_PATH = f\"/scratch/data/UMLS/{UMLS_VERSION}/META/\"\n",
    "MAX_NOPARENTS = 15\n",
    "MAX_PARENTS = 15\n",
    "MAX_GRAND_PARENTS = 45"
   ]
  },
  {
   "cell_type": "markdown",
   "metadata": {},
   "source": [
    "## Loading and Filtering Concepts\n",
    "\n",
    "Load UMLS concepts and filter to keep only English and Spanish terms."
   ]
  },
  {
   "cell_type": "code",
   "execution_count": 3,
   "metadata": {},
   "outputs": [
    {
     "name": "stdout",
     "output_type": "stream",
     "text": [
      "13609918\n"
     ]
    },
    {
     "name": "stderr",
     "output_type": "stream",
     "text": [
      "100%|██████████| 13609918/13609918 [00:34<00:00, 398883.57it/s]"
     ]
    },
    {
     "name": "stdout",
     "output_type": "stream",
     "text": [
      "9975167\n"
     ]
    },
    {
     "name": "stderr",
     "output_type": "stream",
     "text": [
      "\n"
     ]
    }
   ],
   "source": [
    "with open(os.path.join(UMLS_PATH, \"MRCONSO.RRF\"), \"r\") as f:\n",
    "    lines = f.readlines()\n",
    "print (len(lines))\n",
    "\n",
    "cleaned = []\n",
    "for l in tqdm(lines):\n",
    "    lst = l.rstrip(\"\\n\").split(\"|\")\n",
    "    cui, lang, synonym = lst[0], lst[1], lst[14]\n",
    "    if lang not in [\"ENG\", \"SPA\"]: continue \n",
    "    cleaned.append(lst[0:-1])\n",
    "print (len(cleaned))"
   ]
  },
  {
   "cell_type": "markdown",
   "metadata": {},
   "source": [
    "## Structuring Concepts\n",
    "\n",
    "Organize the information into a DataFrame, removing duplicates and keeping key columns for hierarchical relations.\n"
   ]
  },
  {
   "cell_type": "code",
   "execution_count": 4,
   "metadata": {},
   "outputs": [
    {
     "data": {
      "application/vnd.microsoft.datawrangler.viewer.v0+json": {
       "columns": [
        {
         "name": "index",
         "rawType": "int64",
         "type": "integer"
        },
        {
         "name": "CUI",
         "rawType": "object",
         "type": "string"
        },
        {
         "name": "STR",
         "rawType": "object",
         "type": "string"
        },
        {
         "name": "LAT",
         "rawType": "object",
         "type": "string"
        },
        {
         "name": "TS",
         "rawType": "object",
         "type": "string"
        },
        {
         "name": "STT",
         "rawType": "object",
         "type": "string"
        },
        {
         "name": "ISPREF",
         "rawType": "object",
         "type": "string"
        },
        {
         "name": "AUI",
         "rawType": "object",
         "type": "string"
        }
       ],
       "conversionMethod": "pd.DataFrame",
       "ref": "04c9728d-b89f-4a10-9a7d-fba7bf2ec4b9",
       "rows": [
        [
         "0",
         "C0000005",
         "(131)I-Macroaggregated Albumin",
         "ENG",
         "P",
         "PF",
         "Y",
         "A26634265"
        ],
        [
         "1",
         "C0000005",
         "(131)I-MAA",
         "ENG",
         "S",
         "PF",
         "Y",
         "A26634266"
        ],
        [
         "2",
         "C0000039",
         "1,2-dipalmitoylphosphatidylcholine",
         "ENG",
         "P",
         "PF",
         "N",
         "A28315139"
        ],
        [
         "3",
         "C0000039",
         "1,2-dipalmitoylphosphatidylcholine",
         "ENG",
         "P",
         "PF",
         "Y",
         "A28572604"
        ],
        [
         "4",
         "C0000039",
         "1,2-Dipalmitoylphosphatidylcholine",
         "ENG",
         "P",
         "VC",
         "Y",
         "A0016515"
        ]
       ],
       "shape": {
        "columns": 7,
        "rows": 5
       }
      },
      "text/html": [
       "<div>\n",
       "<style scoped>\n",
       "    .dataframe tbody tr th:only-of-type {\n",
       "        vertical-align: middle;\n",
       "    }\n",
       "\n",
       "    .dataframe tbody tr th {\n",
       "        vertical-align: top;\n",
       "    }\n",
       "\n",
       "    .dataframe thead th {\n",
       "        text-align: right;\n",
       "    }\n",
       "</style>\n",
       "<table border=\"1\" class=\"dataframe\">\n",
       "  <thead>\n",
       "    <tr style=\"text-align: right;\">\n",
       "      <th></th>\n",
       "      <th>CUI</th>\n",
       "      <th>STR</th>\n",
       "      <th>LAT</th>\n",
       "      <th>TS</th>\n",
       "      <th>STT</th>\n",
       "      <th>ISPREF</th>\n",
       "      <th>AUI</th>\n",
       "    </tr>\n",
       "  </thead>\n",
       "  <tbody>\n",
       "    <tr>\n",
       "      <th>0</th>\n",
       "      <td>C0000005</td>\n",
       "      <td>(131)I-Macroaggregated Albumin</td>\n",
       "      <td>ENG</td>\n",
       "      <td>P</td>\n",
       "      <td>PF</td>\n",
       "      <td>Y</td>\n",
       "      <td>A26634265</td>\n",
       "    </tr>\n",
       "    <tr>\n",
       "      <th>1</th>\n",
       "      <td>C0000005</td>\n",
       "      <td>(131)I-MAA</td>\n",
       "      <td>ENG</td>\n",
       "      <td>S</td>\n",
       "      <td>PF</td>\n",
       "      <td>Y</td>\n",
       "      <td>A26634266</td>\n",
       "    </tr>\n",
       "    <tr>\n",
       "      <th>2</th>\n",
       "      <td>C0000039</td>\n",
       "      <td>1,2-dipalmitoylphosphatidylcholine</td>\n",
       "      <td>ENG</td>\n",
       "      <td>P</td>\n",
       "      <td>PF</td>\n",
       "      <td>N</td>\n",
       "      <td>A28315139</td>\n",
       "    </tr>\n",
       "    <tr>\n",
       "      <th>3</th>\n",
       "      <td>C0000039</td>\n",
       "      <td>1,2-dipalmitoylphosphatidylcholine</td>\n",
       "      <td>ENG</td>\n",
       "      <td>P</td>\n",
       "      <td>PF</td>\n",
       "      <td>Y</td>\n",
       "      <td>A28572604</td>\n",
       "    </tr>\n",
       "    <tr>\n",
       "      <th>4</th>\n",
       "      <td>C0000039</td>\n",
       "      <td>1,2-Dipalmitoylphosphatidylcholine</td>\n",
       "      <td>ENG</td>\n",
       "      <td>P</td>\n",
       "      <td>VC</td>\n",
       "      <td>Y</td>\n",
       "      <td>A0016515</td>\n",
       "    </tr>\n",
       "  </tbody>\n",
       "</table>\n",
       "</div>"
      ],
      "text/plain": [
       "        CUI                                 STR  LAT TS STT ISPREF        AUI\n",
       "0  C0000005      (131)I-Macroaggregated Albumin  ENG  P  PF      Y  A26634265\n",
       "1  C0000005                          (131)I-MAA  ENG  S  PF      Y  A26634266\n",
       "2  C0000039  1,2-dipalmitoylphosphatidylcholine  ENG  P  PF      N  A28315139\n",
       "3  C0000039  1,2-dipalmitoylphosphatidylcholine  ENG  P  PF      Y  A28572604\n",
       "4  C0000039  1,2-Dipalmitoylphosphatidylcholine  ENG  P  VC      Y   A0016515"
      ]
     },
     "execution_count": 4,
     "metadata": {},
     "output_type": "execute_result"
    }
   ],
   "source": [
    "colnames = extract_column_names_from_ctl_file(os.path.join(UMLS_PATH, \"MRCONSO.ctl\"))\n",
    "conso_es_en_df = pd.DataFrame(cleaned, columns=colnames)[[\"CUI\",\"STR\",\"LAT\",\"TS\",\"STT\",\"ISPREF\",\"AUI\"]]\n",
    "conso_es_en_df.drop_duplicates(inplace=True)\n",
    "conso_es_en_df.head()"
   ]
  },
  {
   "cell_type": "code",
   "execution_count": 5,
   "metadata": {},
   "outputs": [
    {
     "data": {
      "text/plain": [
       "0"
      ]
     },
     "execution_count": 5,
     "metadata": {},
     "output_type": "execute_result"
    }
   ],
   "source": [
    "del cleaned, lines\n",
    "gc.collect()"
   ]
  },
  {
   "cell_type": "code",
   "execution_count": 6,
   "metadata": {},
   "outputs": [],
   "source": [
    "conso_en_df = conso_es_en_df[conso_es_en_df.LAT==\"ENG\"].reset_index(drop=True)\n",
    "conso_es_df = conso_es_en_df[conso_es_en_df.LAT==\"SPA\"].reset_index(drop=True)"
   ]
  },
  {
   "cell_type": "code",
   "execution_count": 7,
   "metadata": {},
   "outputs": [
    {
     "data": {
      "text/plain": [
       "((8603906, 7), (1371261, 7))"
      ]
     },
     "execution_count": 7,
     "metadata": {},
     "output_type": "execute_result"
    }
   ],
   "source": [
    "conso_en_df.shape, conso_es_df.shape"
   ]
  },
  {
   "cell_type": "code",
   "execution_count": 8,
   "metadata": {},
   "outputs": [],
   "source": [
    "dict_AUI_CUI = dict(zip(conso_es_en_df.AUI.to_list(), conso_es_en_df.CUI.to_list()))"
   ]
  },
  {
   "cell_type": "code",
   "execution_count": 9,
   "metadata": {},
   "outputs": [
    {
     "data": {
      "text/plain": [
       "0"
      ]
     },
     "execution_count": 9,
     "metadata": {},
     "output_type": "execute_result"
    }
   ],
   "source": [
    "del conso_es_en_df\n",
    "gc.collect()"
   ]
  },
  {
   "cell_type": "markdown",
   "metadata": {},
   "source": [
    "## Including TradeNames\n",
    "\n",
    "This section adds **TradeNames** for each concept, providing additional term variants that may be relevant in clinical contexts.\n",
    "\n",
    "It is important to note that **TradeNames are only available in the English version of UMLS**, so this step is performed exclusively on English concepts. This enrichment allows models to capture commercial names alongside standardized terminologies, enhancing their semantic representation.\n"
   ]
  },
  {
   "cell_type": "code",
   "execution_count": 10,
   "metadata": {},
   "outputs": [
    {
     "name": "stdout",
     "output_type": "stream",
     "text": [
      "44047264\n"
     ]
    },
    {
     "name": "stderr",
     "output_type": "stream",
     "text": [
      "100%|██████████| 44047264/44047264 [00:26<00:00, 1676260.81it/s]"
     ]
    },
    {
     "name": "stdout",
     "output_type": "stream",
     "text": [
      "60991\n"
     ]
    },
    {
     "name": "stderr",
     "output_type": "stream",
     "text": [
      "\n"
     ]
    }
   ],
   "source": [
    "with open(os.path.join(UMLS_PATH, \"MRREL.RRF\"), \"r\") as f:\n",
    "    lines = f.readlines()\n",
    "print (len(lines))\n",
    "\n",
    "cleaned = []\n",
    "for l in tqdm(lines):\n",
    "    lst = l.rstrip(\"\\n\").split(\"|\")\n",
    "    rel_atribute = lst[7]\n",
    "    if rel_atribute != \"has_tradename\": continue \n",
    "    cleaned.append(lst[0:-1])\n",
    "print (len(cleaned))"
   ]
  },
  {
   "cell_type": "code",
   "execution_count": 11,
   "metadata": {},
   "outputs": [
    {
     "data": {
      "application/vnd.microsoft.datawrangler.viewer.v0+json": {
       "columns": [
        {
         "name": "index",
         "rawType": "int64",
         "type": "integer"
        },
        {
         "name": "CUI1",
         "rawType": "object",
         "type": "string"
        },
        {
         "name": "AUI1",
         "rawType": "object",
         "type": "string"
        },
        {
         "name": "STYPE1",
         "rawType": "object",
         "type": "string"
        },
        {
         "name": "REL",
         "rawType": "object",
         "type": "string"
        },
        {
         "name": "CUI2",
         "rawType": "object",
         "type": "string"
        },
        {
         "name": "AUI2",
         "rawType": "object",
         "type": "string"
        },
        {
         "name": "STYPE2",
         "rawType": "object",
         "type": "string"
        },
        {
         "name": "RELA",
         "rawType": "object",
         "type": "string"
        },
        {
         "name": "RUI",
         "rawType": "object",
         "type": "string"
        },
        {
         "name": "SRUI",
         "rawType": "object",
         "type": "string"
        },
        {
         "name": "SAB",
         "rawType": "object",
         "type": "string"
        },
        {
         "name": "SL",
         "rawType": "object",
         "type": "string"
        },
        {
         "name": "RG",
         "rawType": "object",
         "type": "string"
        },
        {
         "name": "DIR",
         "rawType": "object",
         "type": "string"
        },
        {
         "name": "SUPPRESS",
         "rawType": "object",
         "type": "string"
        },
        {
         "name": "CVF",
         "rawType": "object",
         "type": "string"
        }
       ],
       "conversionMethod": "pd.DataFrame",
       "ref": "5c333069-5046-4471-937c-2ca07eadf84d",
       "rows": [
        [
         "0",
         "C0000266",
         "A10336090",
         "SCUI",
         "RB",
         "C0006230",
         "A31756224",
         "SCUI",
         "has_tradename",
         "R49103038",
         "",
         "RXNORM",
         "RXNORM",
         "",
         "",
         "N",
         ""
        ],
        [
         "1",
         "C0000266",
         "A29937449",
         "AUI",
         "RB",
         "C0546852",
         "A11915709",
         "AUI",
         "has_tradename",
         "R181538536",
         "",
         "PDQ",
         "PDQ",
         "",
         "",
         "N",
         ""
        ],
        [
         "2",
         "C0000266",
         "A7572841",
         "AUI",
         "SY",
         "C0546852",
         "A10760252",
         "AUI",
         "has_tradename",
         "R54483006",
         "",
         "NCI",
         "NCI",
         "",
         "",
         "N",
         ""
        ],
        [
         "3",
         "C0001520",
         "A10334571",
         "SCUI",
         "RB",
         "C0031447",
         "A31713462",
         "SCUI",
         "has_tradename",
         "R49101957",
         "",
         "RXNORM",
         "RXNORM",
         "",
         "",
         "N",
         ""
        ],
        [
         "4",
         "C0002025",
         "A10762147",
         "AUI",
         "SY",
         "C0700562",
         "A7577925",
         "AUI",
         "has_tradename",
         "R54481441",
         "",
         "NCI",
         "NCI",
         "",
         "",
         "N",
         ""
        ]
       ],
       "shape": {
        "columns": 16,
        "rows": 5
       }
      },
      "text/html": [
       "<div>\n",
       "<style scoped>\n",
       "    .dataframe tbody tr th:only-of-type {\n",
       "        vertical-align: middle;\n",
       "    }\n",
       "\n",
       "    .dataframe tbody tr th {\n",
       "        vertical-align: top;\n",
       "    }\n",
       "\n",
       "    .dataframe thead th {\n",
       "        text-align: right;\n",
       "    }\n",
       "</style>\n",
       "<table border=\"1\" class=\"dataframe\">\n",
       "  <thead>\n",
       "    <tr style=\"text-align: right;\">\n",
       "      <th></th>\n",
       "      <th>CUI1</th>\n",
       "      <th>AUI1</th>\n",
       "      <th>STYPE1</th>\n",
       "      <th>REL</th>\n",
       "      <th>CUI2</th>\n",
       "      <th>AUI2</th>\n",
       "      <th>STYPE2</th>\n",
       "      <th>RELA</th>\n",
       "      <th>RUI</th>\n",
       "      <th>SRUI</th>\n",
       "      <th>SAB</th>\n",
       "      <th>SL</th>\n",
       "      <th>RG</th>\n",
       "      <th>DIR</th>\n",
       "      <th>SUPPRESS</th>\n",
       "      <th>CVF</th>\n",
       "    </tr>\n",
       "  </thead>\n",
       "  <tbody>\n",
       "    <tr>\n",
       "      <th>0</th>\n",
       "      <td>C0000266</td>\n",
       "      <td>A10336090</td>\n",
       "      <td>SCUI</td>\n",
       "      <td>RB</td>\n",
       "      <td>C0006230</td>\n",
       "      <td>A31756224</td>\n",
       "      <td>SCUI</td>\n",
       "      <td>has_tradename</td>\n",
       "      <td>R49103038</td>\n",
       "      <td></td>\n",
       "      <td>RXNORM</td>\n",
       "      <td>RXNORM</td>\n",
       "      <td></td>\n",
       "      <td></td>\n",
       "      <td>N</td>\n",
       "      <td></td>\n",
       "    </tr>\n",
       "    <tr>\n",
       "      <th>1</th>\n",
       "      <td>C0000266</td>\n",
       "      <td>A29937449</td>\n",
       "      <td>AUI</td>\n",
       "      <td>RB</td>\n",
       "      <td>C0546852</td>\n",
       "      <td>A11915709</td>\n",
       "      <td>AUI</td>\n",
       "      <td>has_tradename</td>\n",
       "      <td>R181538536</td>\n",
       "      <td></td>\n",
       "      <td>PDQ</td>\n",
       "      <td>PDQ</td>\n",
       "      <td></td>\n",
       "      <td></td>\n",
       "      <td>N</td>\n",
       "      <td></td>\n",
       "    </tr>\n",
       "    <tr>\n",
       "      <th>2</th>\n",
       "      <td>C0000266</td>\n",
       "      <td>A7572841</td>\n",
       "      <td>AUI</td>\n",
       "      <td>SY</td>\n",
       "      <td>C0546852</td>\n",
       "      <td>A10760252</td>\n",
       "      <td>AUI</td>\n",
       "      <td>has_tradename</td>\n",
       "      <td>R54483006</td>\n",
       "      <td></td>\n",
       "      <td>NCI</td>\n",
       "      <td>NCI</td>\n",
       "      <td></td>\n",
       "      <td></td>\n",
       "      <td>N</td>\n",
       "      <td></td>\n",
       "    </tr>\n",
       "    <tr>\n",
       "      <th>3</th>\n",
       "      <td>C0001520</td>\n",
       "      <td>A10334571</td>\n",
       "      <td>SCUI</td>\n",
       "      <td>RB</td>\n",
       "      <td>C0031447</td>\n",
       "      <td>A31713462</td>\n",
       "      <td>SCUI</td>\n",
       "      <td>has_tradename</td>\n",
       "      <td>R49101957</td>\n",
       "      <td></td>\n",
       "      <td>RXNORM</td>\n",
       "      <td>RXNORM</td>\n",
       "      <td></td>\n",
       "      <td></td>\n",
       "      <td>N</td>\n",
       "      <td></td>\n",
       "    </tr>\n",
       "    <tr>\n",
       "      <th>4</th>\n",
       "      <td>C0002025</td>\n",
       "      <td>A10762147</td>\n",
       "      <td>AUI</td>\n",
       "      <td>SY</td>\n",
       "      <td>C0700562</td>\n",
       "      <td>A7577925</td>\n",
       "      <td>AUI</td>\n",
       "      <td>has_tradename</td>\n",
       "      <td>R54481441</td>\n",
       "      <td></td>\n",
       "      <td>NCI</td>\n",
       "      <td>NCI</td>\n",
       "      <td></td>\n",
       "      <td></td>\n",
       "      <td>N</td>\n",
       "      <td></td>\n",
       "    </tr>\n",
       "  </tbody>\n",
       "</table>\n",
       "</div>"
      ],
      "text/plain": [
       "       CUI1       AUI1 STYPE1 REL      CUI2       AUI2 STYPE2           RELA  \\\n",
       "0  C0000266  A10336090   SCUI  RB  C0006230  A31756224   SCUI  has_tradename   \n",
       "1  C0000266  A29937449    AUI  RB  C0546852  A11915709    AUI  has_tradename   \n",
       "2  C0000266   A7572841    AUI  SY  C0546852  A10760252    AUI  has_tradename   \n",
       "3  C0001520  A10334571   SCUI  RB  C0031447  A31713462   SCUI  has_tradename   \n",
       "4  C0002025  A10762147    AUI  SY  C0700562   A7577925    AUI  has_tradename   \n",
       "\n",
       "          RUI SRUI     SAB      SL RG DIR SUPPRESS CVF  \n",
       "0   R49103038       RXNORM  RXNORM               N      \n",
       "1  R181538536          PDQ     PDQ               N      \n",
       "2   R54483006          NCI     NCI               N      \n",
       "3   R49101957       RXNORM  RXNORM               N      \n",
       "4   R54481441          NCI     NCI               N      "
      ]
     },
     "execution_count": 11,
     "metadata": {},
     "output_type": "execute_result"
    }
   ],
   "source": [
    "colnames = extract_column_names_from_ctl_file(os.path.join(UMLS_PATH, \"MRREL.ctl\"))\n",
    "rel_ht_df = pd.DataFrame(cleaned, columns=colnames)\n",
    "rel_ht_df.drop_duplicates(inplace=True)\n",
    "rel_ht_df.head()"
   ]
  },
  {
   "cell_type": "code",
   "execution_count": 12,
   "metadata": {},
   "outputs": [
    {
     "data": {
      "text/plain": [
       "(60991, 16)"
      ]
     },
     "execution_count": 12,
     "metadata": {},
     "output_type": "execute_result"
    }
   ],
   "source": [
    "rel_ht_df.shape"
   ]
  },
  {
   "cell_type": "code",
   "execution_count": 13,
   "metadata": {},
   "outputs": [
    {
     "data": {
      "text/plain": [
       "0"
      ]
     },
     "execution_count": 13,
     "metadata": {},
     "output_type": "execute_result"
    }
   ],
   "source": [
    "del cleaned, lines\n",
    "gc.collect()"
   ]
  },
  {
   "cell_type": "code",
   "execution_count": 14,
   "metadata": {},
   "outputs": [],
   "source": [
    "tradenames_CUIs = rel_ht_df.AUI1.to_list()\n",
    "conso_tradenames = conso_en_df[conso_en_df.AUI.isin(tradenames_CUIs)]\n",
    "\n",
    "\n",
    "# 3. Generamos dataframe con la estructura de conso_es\n",
    "# Crea el nuevo dataframe transformado\n",
    "tradenames_es = pd.DataFrame()\n",
    "tradenames_es['CUI'] = rel_ht_df['CUI2']\n",
    "tradenames_es['STR'] = ''\n",
    "tradenames_es['LAT'] = 'ENG'\n",
    "tradenames_es['TS'] = 'S'\n",
    "tradenames_es['STT'] = ''\n",
    "tradenames_es['ISPREF'] = ''\n",
    "tradenames_es['AUI'] = rel_ht_df['AUI1']\n",
    "# 4. Completamos los campos que quedan con conso_tradenames. \n",
    "# Filtrar filas con valor único de CUI y STR\n",
    "unique_tradenames_rows = conso_tradenames.groupby(['AUI', 'STR']).filter(lambda x: len(x) == 1)\n",
    "# Generar el diccionario con clave CUI y valor una lista de STR\n",
    "trade_aui_str = unique_tradenames_rows.groupby('AUI')['STR'].apply(list).to_dict()\n",
    "trade_aui_stt = unique_tradenames_rows.groupby('AUI')['STT'].apply(list).to_dict()\n",
    "trade_aui_ispref = unique_tradenames_rows.groupby('AUI')['ISPREF'].apply(list).to_dict()\n",
    "# Mapeamos el STR con el CUI\n",
    "tradenames_es[\"STR\"] = tradenames_es.AUI.map(trade_aui_str)\n",
    "tradenames_es[\"STT\"] = tradenames_es.AUI.map(trade_aui_stt)\n",
    "tradenames_es[\"ISPREF\"] = tradenames_es.AUI.map(trade_aui_ispref)\n",
    "tradenames_es[\"STR\"] = tradenames_es.STR.explode()\n",
    "tradenames_es[\"STT\"] = tradenames_es.STT.explode()\n",
    "tradenames_es[\"ISPREF\"] = tradenames_es.ISPREF.explode()\n",
    "# Ahora combinamos conso_es con los fármacos\n",
    "conso_es_td_df = pd.concat([conso_es_df,tradenames_es]).reset_index(drop=True).copy()\n"
   ]
  },
  {
   "cell_type": "code",
   "execution_count": 15,
   "metadata": {},
   "outputs": [
    {
     "data": {
      "text/plain": [
       "(1432252, 7)"
      ]
     },
     "execution_count": 15,
     "metadata": {},
     "output_type": "execute_result"
    }
   ],
   "source": [
    "conso_es_td_df.shape "
   ]
  },
  {
   "cell_type": "code",
   "execution_count": 16,
   "metadata": {},
   "outputs": [
    {
     "data": {
      "text/plain": [
       "0"
      ]
     },
     "execution_count": 16,
     "metadata": {},
     "output_type": "execute_result"
    }
   ],
   "source": [
    "del rel_ht_df, conso_en_df, conso_tradenames, tradenames_es\n",
    "gc.collect()"
   ]
  },
  {
   "cell_type": "markdown",
   "metadata": {},
   "source": [
    "## Loading the MRHIER File to Extract Hierarchical Relations\n",
    "\n",
    "In this section, the **MRHIER.RRF** file is loaded, which contains the **hierarchical relations** between UMLS concepts. This file will be used to identify the **parents** and **grandparents** of each concept.\n",
    "\n",
    "It is important to note that **MRHIER does not directly provide the parent or grandparent CUI (Concept Unique Identifier)**. Instead, it provides the **AUI (Atom Unique Identifier)**, which refers to specific terms or synonyms. Therefore, a **manual mapping from AUI to CUI** is required, using the previously loaded data from the **MRCONSO.RRF** file.\n",
    "\n",
    "This step is crucial to building the correct hierarchical relations that will enrich the knowledge of the Representation LLMs.\n"
   ]
  },
  {
   "cell_type": "code",
   "execution_count": 17,
   "metadata": {},
   "outputs": [
    {
     "name": "stdout",
     "output_type": "stream",
     "text": [
      "33656779\n"
     ]
    }
   ],
   "source": [
    "with open(os.path.join(UMLS_PATH, \"MRHIER.RRF\"), \"r\") as f:\n",
    "    lines = f.readlines()\n",
    "print (len(lines))\n"
   ]
  },
  {
   "cell_type": "code",
   "execution_count": 18,
   "metadata": {},
   "outputs": [
    {
     "name": "stderr",
     "output_type": "stream",
     "text": [
      "100%|██████████| 33656779/33656779 [01:27<00:00, 385525.83it/s] "
     ]
    },
    {
     "name": "stdout",
     "output_type": "stream",
     "text": [
      "33656779\n"
     ]
    },
    {
     "name": "stderr",
     "output_type": "stream",
     "text": [
      "\n"
     ]
    }
   ],
   "source": [
    "cleaned = []\n",
    "for l in tqdm(lines):\n",
    "    lst = l.rstrip(\"\\n\").split(\"|\")\n",
    "    cleaned.append(lst[0:-1])\n",
    "print (len(cleaned))"
   ]
  },
  {
   "cell_type": "code",
   "execution_count": 19,
   "metadata": {},
   "outputs": [
    {
     "data": {
      "application/vnd.microsoft.datawrangler.viewer.v0+json": {
       "columns": [
        {
         "name": "index",
         "rawType": "int64",
         "type": "integer"
        },
        {
         "name": "CUI",
         "rawType": "object",
         "type": "string"
        },
        {
         "name": "AUI",
         "rawType": "object",
         "type": "string"
        },
        {
         "name": "PAUI",
         "rawType": "object",
         "type": "string"
        },
        {
         "name": "AB_AUI",
         "rawType": "object",
         "type": "string"
        }
       ],
       "conversionMethod": "pd.DataFrame",
       "ref": "06996971-ad19-4dbb-9412-9a90dd8cf579",
       "rows": [
        [
         "0",
         "C0000039",
         "A0016515",
         "A0100865",
         "A0064073"
        ],
        [
         "1",
         "C0000039",
         "A0049238",
         "A0699760",
         "A0650841"
        ],
        [
         "2",
         "C0000039",
         "A11754881",
         "A11752705",
         "A11755810"
        ],
        [
         "3",
         "C0000039",
         "A13042554",
         "A13041957",
         "A13055790"
        ],
        [
         "4",
         "C0000039",
         "A13096036",
         "A9113576",
         "A9114688"
        ]
       ],
       "shape": {
        "columns": 4,
        "rows": 5
       }
      },
      "text/html": [
       "<div>\n",
       "<style scoped>\n",
       "    .dataframe tbody tr th:only-of-type {\n",
       "        vertical-align: middle;\n",
       "    }\n",
       "\n",
       "    .dataframe tbody tr th {\n",
       "        vertical-align: top;\n",
       "    }\n",
       "\n",
       "    .dataframe thead th {\n",
       "        text-align: right;\n",
       "    }\n",
       "</style>\n",
       "<table border=\"1\" class=\"dataframe\">\n",
       "  <thead>\n",
       "    <tr style=\"text-align: right;\">\n",
       "      <th></th>\n",
       "      <th>CUI</th>\n",
       "      <th>AUI</th>\n",
       "      <th>PAUI</th>\n",
       "      <th>AB_AUI</th>\n",
       "    </tr>\n",
       "  </thead>\n",
       "  <tbody>\n",
       "    <tr>\n",
       "      <th>0</th>\n",
       "      <td>C0000039</td>\n",
       "      <td>A0016515</td>\n",
       "      <td>A0100865</td>\n",
       "      <td>A0064073</td>\n",
       "    </tr>\n",
       "    <tr>\n",
       "      <th>1</th>\n",
       "      <td>C0000039</td>\n",
       "      <td>A0049238</td>\n",
       "      <td>A0699760</td>\n",
       "      <td>A0650841</td>\n",
       "    </tr>\n",
       "    <tr>\n",
       "      <th>2</th>\n",
       "      <td>C0000039</td>\n",
       "      <td>A11754881</td>\n",
       "      <td>A11752705</td>\n",
       "      <td>A11755810</td>\n",
       "    </tr>\n",
       "    <tr>\n",
       "      <th>3</th>\n",
       "      <td>C0000039</td>\n",
       "      <td>A13042554</td>\n",
       "      <td>A13041957</td>\n",
       "      <td>A13055790</td>\n",
       "    </tr>\n",
       "    <tr>\n",
       "      <th>4</th>\n",
       "      <td>C0000039</td>\n",
       "      <td>A13096036</td>\n",
       "      <td>A9113576</td>\n",
       "      <td>A9114688</td>\n",
       "    </tr>\n",
       "  </tbody>\n",
       "</table>\n",
       "</div>"
      ],
      "text/plain": [
       "        CUI        AUI       PAUI     AB_AUI\n",
       "0  C0000039   A0016515   A0100865   A0064073\n",
       "1  C0000039   A0049238   A0699760   A0650841\n",
       "2  C0000039  A11754881  A11752705  A11755810\n",
       "3  C0000039  A13042554  A13041957  A13055790\n",
       "4  C0000039  A13096036   A9113576   A9114688"
      ]
     },
     "execution_count": 19,
     "metadata": {},
     "output_type": "execute_result"
    }
   ],
   "source": [
    "colnames = extract_column_names_from_ctl_file(os.path.join(UMLS_PATH, \"MRHIER.ctl\"))\n",
    "hier_df = pd.DataFrame(cleaned, columns=colnames)\n",
    "hier_df[\"AB_AUI\"] = hier_df[\"PTR\"].map(lambda x: x.split(\".\")[-2] if len(x.split(\".\")) >= 2 else \"NO_AB\")\n",
    "hier_df = hier_df[[\"CUI\",\"AUI\",\"PAUI\", \"AB_AUI\"]]\n",
    "hier_df.drop_duplicates(inplace=True)\n",
    "hier_df.head()"
   ]
  },
  {
   "cell_type": "code",
   "execution_count": 20,
   "metadata": {},
   "outputs": [
    {
     "data": {
      "text/plain": [
       "0"
      ]
     },
     "execution_count": 20,
     "metadata": {},
     "output_type": "execute_result"
    }
   ],
   "source": [
    "del cleaned, lines\n",
    "gc.collect()"
   ]
  },
  {
   "cell_type": "code",
   "execution_count": 21,
   "metadata": {},
   "outputs": [],
   "source": [
    "hier_df[\"PCUI\"] = hier_df.PAUI.map(lambda x: dict_AUI_CUI.get(x,\"\") )\n",
    "hier_df[\"AB_CUI\"] = hier_df.AB_AUI.map(lambda x: dict_AUI_CUI.get(x,\"\") )"
   ]
  },
  {
   "cell_type": "code",
   "execution_count": 22,
   "metadata": {},
   "outputs": [
    {
     "data": {
      "application/vnd.microsoft.datawrangler.viewer.v0+json": {
       "columns": [
        {
         "name": "index",
         "rawType": "int64",
         "type": "integer"
        },
        {
         "name": "CUI",
         "rawType": "object",
         "type": "string"
        },
        {
         "name": "AUI",
         "rawType": "object",
         "type": "string"
        },
        {
         "name": "PAUI",
         "rawType": "object",
         "type": "string"
        },
        {
         "name": "AB_AUI",
         "rawType": "object",
         "type": "string"
        },
        {
         "name": "PCUI",
         "rawType": "object",
         "type": "string"
        },
        {
         "name": "AB_CUI",
         "rawType": "object",
         "type": "string"
        }
       ],
       "conversionMethod": "pd.DataFrame",
       "ref": "c71e46d8-fbf2-4dbe-a350-56a40ad5f0bb",
       "rows": [
        [
         "0",
         "C0000039",
         "A0016515",
         "A0100865",
         "A0064073",
         "C1959616",
         "C0162448"
        ],
        [
         "1",
         "C0000039",
         "A0049238",
         "A0699760",
         "A0650841",
         "C0311458",
         "C0311397"
        ],
        [
         "2",
         "C0000039",
         "A11754881",
         "A11752705",
         "A11755810",
         "",
         ""
        ],
        [
         "3",
         "C0000039",
         "A13042554",
         "A13041957",
         "A13055790",
         "",
         ""
        ],
        [
         "4",
         "C0000039",
         "A13096036",
         "A9113576",
         "A9114688",
         "",
         ""
        ]
       ],
       "shape": {
        "columns": 6,
        "rows": 5
       }
      },
      "text/html": [
       "<div>\n",
       "<style scoped>\n",
       "    .dataframe tbody tr th:only-of-type {\n",
       "        vertical-align: middle;\n",
       "    }\n",
       "\n",
       "    .dataframe tbody tr th {\n",
       "        vertical-align: top;\n",
       "    }\n",
       "\n",
       "    .dataframe thead th {\n",
       "        text-align: right;\n",
       "    }\n",
       "</style>\n",
       "<table border=\"1\" class=\"dataframe\">\n",
       "  <thead>\n",
       "    <tr style=\"text-align: right;\">\n",
       "      <th></th>\n",
       "      <th>CUI</th>\n",
       "      <th>AUI</th>\n",
       "      <th>PAUI</th>\n",
       "      <th>AB_AUI</th>\n",
       "      <th>PCUI</th>\n",
       "      <th>AB_CUI</th>\n",
       "    </tr>\n",
       "  </thead>\n",
       "  <tbody>\n",
       "    <tr>\n",
       "      <th>0</th>\n",
       "      <td>C0000039</td>\n",
       "      <td>A0016515</td>\n",
       "      <td>A0100865</td>\n",
       "      <td>A0064073</td>\n",
       "      <td>C1959616</td>\n",
       "      <td>C0162448</td>\n",
       "    </tr>\n",
       "    <tr>\n",
       "      <th>1</th>\n",
       "      <td>C0000039</td>\n",
       "      <td>A0049238</td>\n",
       "      <td>A0699760</td>\n",
       "      <td>A0650841</td>\n",
       "      <td>C0311458</td>\n",
       "      <td>C0311397</td>\n",
       "    </tr>\n",
       "    <tr>\n",
       "      <th>2</th>\n",
       "      <td>C0000039</td>\n",
       "      <td>A11754881</td>\n",
       "      <td>A11752705</td>\n",
       "      <td>A11755810</td>\n",
       "      <td></td>\n",
       "      <td></td>\n",
       "    </tr>\n",
       "    <tr>\n",
       "      <th>3</th>\n",
       "      <td>C0000039</td>\n",
       "      <td>A13042554</td>\n",
       "      <td>A13041957</td>\n",
       "      <td>A13055790</td>\n",
       "      <td></td>\n",
       "      <td></td>\n",
       "    </tr>\n",
       "    <tr>\n",
       "      <th>4</th>\n",
       "      <td>C0000039</td>\n",
       "      <td>A13096036</td>\n",
       "      <td>A9113576</td>\n",
       "      <td>A9114688</td>\n",
       "      <td></td>\n",
       "      <td></td>\n",
       "    </tr>\n",
       "  </tbody>\n",
       "</table>\n",
       "</div>"
      ],
      "text/plain": [
       "        CUI        AUI       PAUI     AB_AUI      PCUI    AB_CUI\n",
       "0  C0000039   A0016515   A0100865   A0064073  C1959616  C0162448\n",
       "1  C0000039   A0049238   A0699760   A0650841  C0311458  C0311397\n",
       "2  C0000039  A11754881  A11752705  A11755810                    \n",
       "3  C0000039  A13042554  A13041957  A13055790                    \n",
       "4  C0000039  A13096036   A9113576   A9114688                    "
      ]
     },
     "execution_count": 22,
     "metadata": {},
     "output_type": "execute_result"
    }
   ],
   "source": [
    "hier_df.head()"
   ]
  },
  {
   "cell_type": "code",
   "execution_count": 23,
   "metadata": {},
   "outputs": [],
   "source": [
    "grouped_hier_df =  hier_df.groupby('CUI').agg(lambda x: list(set(x)))"
   ]
  },
  {
   "cell_type": "code",
   "execution_count": 24,
   "metadata": {},
   "outputs": [
    {
     "data": {
      "text/plain": [
       "0"
      ]
     },
     "execution_count": 24,
     "metadata": {},
     "output_type": "execute_result"
    }
   ],
   "source": [
    "del hier_df\n",
    "gc.collect()"
   ]
  },
  {
   "cell_type": "code",
   "execution_count": 25,
   "metadata": {},
   "outputs": [
    {
     "data": {
      "application/vnd.microsoft.datawrangler.viewer.v0+json": {
       "columns": [
        {
         "name": "CUI",
         "rawType": "object",
         "type": "string"
        },
        {
         "name": "AUI",
         "rawType": "object",
         "type": "unknown"
        },
        {
         "name": "PAUI",
         "rawType": "object",
         "type": "unknown"
        },
        {
         "name": "AB_AUI",
         "rawType": "object",
         "type": "unknown"
        },
        {
         "name": "PCUI",
         "rawType": "object",
         "type": "unknown"
        },
        {
         "name": "AB_CUI",
         "rawType": "object",
         "type": "unknown"
        }
       ],
       "conversionMethod": "pd.DataFrame",
       "ref": "71b70455-8534-48d8-aa64-f43de0ee368a",
       "rows": [
        [
         "C0000039",
         "['A32917594', 'A13424401', 'A7480660', 'A18972171', 'A0016515', 'A9176213', 'A13096036', 'A11754881', 'A0049238', 'A15722927', 'A7547990', 'A8009316', 'A7439429', 'A13042554']",
         "['A8049187', 'A9113576', 'A7551192', 'A24703238', 'A18972657', 'A13448806', 'A13041957', 'A13417622', 'A0100865', 'A9191918', 'A0699760', 'A32802702', 'A7503617', 'A11752705']",
         "['A7492380', 'A13421833', 'A15706899', 'A9220464', 'A32773033', 'A8020458', 'A0064073', 'A7452689', 'A7551392', 'A11755810', 'A0650841', 'A9114688', 'A32764425', 'A18998505', 'A13055790']",
         "['', 'C0031676', 'C0311458', 'C1959616']",
         "['', 'C0162448', 'C0311397', 'C0023779', 'C1979801']"
        ],
        [
         "C0000052",
         "['A0630731', 'A8009325', 'A7480666', 'A27769867', 'A18977550', 'A7439435', 'A1141192', 'A0016535', 'A11754882', 'A13046704', 'A24691790', 'A27907797', 'A32930458', 'A1169677', 'A9139513', 'A7550674', 'A13411980', 'A9230837']",
         "['A13423393', 'A8020611', 'A7492280', 'A0055007', 'A3493340', 'A9193114', 'A11752813', 'A7551465', 'A5872555', 'A24699035', 'A0804152', 'A7452615', 'A17636360', 'A0063863', 'A13037084', 'A32790833', 'A9114923', 'A3106815', 'A18993212']",
         "['A32866223', 'A8018552', 'A3144582', 'A6074366', 'A2887534', 'A0068053', 'A32942926', 'A0691788', 'A15720050', 'A9194066', 'A5872519', 'A11761811', 'A9115981', 'A1193742', 'A7453598', 'A18982721', 'A7493631', 'A13420311', 'A6252417', 'A13053911', 'A2873285', 'A7550756']",
         "['', 'C0014442', 'C0443499', 'C0017772', 'C0019495', 'C0040676']",
         "['', 'C0014442', 'C0443485', 'C0201682', 'C0019495', 'C0040676', 'C0541515', 'C1315011', 'C0033684']"
        ],
        [
         "C0000084",
         "['A13431788', 'A9223642', 'A15722925', 'A11745997', 'A18993504', 'A31570226', 'A0016576', 'A9096541', 'A7523040', 'A7548262', 'A8009376', 'A18949929']",
         "['A15678887', 'A0063904', 'A7469369', 'A9114942', 'A7548257', 'A8020549', 'A13411878', 'A7492323', 'A11761716', 'A7551480', 'A9096966', 'A13058145', 'A19009184', 'A24691514', 'A8047261', 'A7452635', 'A18988282', 'A9193136', 'A9223847', 'A11760383', 'A0128254', 'A13412323', 'A7532045', 'A13042433']",
         "['A13064528', 'A15912976', 'A13053086', 'A7440080', 'A18944335', 'A7440089', 'A7548670', 'A9214847', 'A7523413', 'A15726880', 'A9178656', 'A0135338', 'A15681405', 'A13044485', 'A11754817', 'A9098293', 'A11758392', 'A18998810', 'A8014685', 'A9096799', 'A13428733', 'A0022718', 'A19002755', 'A13410293', 'A13428895', 'A31580901', 'A7523380', 'A8012734', 'A9218509', 'A8012736', 'A15682683', 'A2027514', 'A7531069', 'A19003184', 'A9098287', 'A7548151']",
         "['C0017789', '', 'C0040887']",
         "['', 'C0815040', 'C0001129', 'C0002524']"
        ],
        [
         "C0000096",
         "['A18993650', 'A7548002', 'A7480686', 'A7471256', 'A0526764', 'A9095961', 'A11743111', 'A9176264', 'A13421275', 'A8009377', 'A24696550', 'A13046703']",
         "['A9169756', 'A7554490', 'A0124908', 'A13059178', 'A15722542', 'A13418014', 'A19005044', 'A7468526', 'A7509688', 'A11748781', 'A8046153', 'A9134075']",
         "['A7471261', 'A0134459', 'A11766490', 'A7512404', 'A8028756', 'A18977831', 'A13050806', 'A13421263', 'A15731915', 'A9214035', 'A7555041', 'A9138108']",
         "['', 'C0039771']",
         "['', 'C0043318']"
        ],
        [
         "C0000097",
         "['A1199224', 'A15732141', 'A18998932', 'A3230610', 'A13055149', 'A7565702', 'A11754887', 'A21192678', 'A13421324', 'A8009378', 'A7480687', 'A1199223', 'A7548003', 'A26535526', 'A0016587', 'A9176265', 'A5902942']",
         "['A13050367', 'A7560729', 'A30048386', 'A11751019', 'A7505338', 'A7463839', 'A8037935', 'A1174558', 'A18999262', 'A9125879', 'A0319536', 'A0108258', 'A1269784', 'A13411628', 'A33678953', 'A7553052', 'A15713089', 'A0222087', 'A9202766']",
         "['A3268142', 'A11752904', 'A0959166', 'A18969400', 'A3493045', 'A1184585', 'A5460093', 'A19009246', 'A7550103', 'A1264805', 'A18959321', 'A13420308', 'A15693790', 'A13045540', 'A26546202', 'A1182273', 'A7493555', 'A8019502', 'A7560971', 'A0320162', 'A5460222']",
         "['', 'C0034255', 'C0242702', 'C0027934', 'C0576798']",
         "['', 'C0019398', 'C0019399', 'C0032346', 'C0040549', 'C0597072', 'C0596280', 'C0576728']"
        ]
       ],
       "shape": {
        "columns": 5,
        "rows": 5
       }
      },
      "text/html": [
       "<div>\n",
       "<style scoped>\n",
       "    .dataframe tbody tr th:only-of-type {\n",
       "        vertical-align: middle;\n",
       "    }\n",
       "\n",
       "    .dataframe tbody tr th {\n",
       "        vertical-align: top;\n",
       "    }\n",
       "\n",
       "    .dataframe thead th {\n",
       "        text-align: right;\n",
       "    }\n",
       "</style>\n",
       "<table border=\"1\" class=\"dataframe\">\n",
       "  <thead>\n",
       "    <tr style=\"text-align: right;\">\n",
       "      <th></th>\n",
       "      <th>AUI</th>\n",
       "      <th>PAUI</th>\n",
       "      <th>AB_AUI</th>\n",
       "      <th>PCUI</th>\n",
       "      <th>AB_CUI</th>\n",
       "    </tr>\n",
       "    <tr>\n",
       "      <th>CUI</th>\n",
       "      <th></th>\n",
       "      <th></th>\n",
       "      <th></th>\n",
       "      <th></th>\n",
       "      <th></th>\n",
       "    </tr>\n",
       "  </thead>\n",
       "  <tbody>\n",
       "    <tr>\n",
       "      <th>C0000039</th>\n",
       "      <td>[A32917594, A13424401, A7480660, A18972171, A0...</td>\n",
       "      <td>[A8049187, A9113576, A7551192, A24703238, A189...</td>\n",
       "      <td>[A7492380, A13421833, A15706899, A9220464, A32...</td>\n",
       "      <td>[, C0031676, C0311458, C1959616]</td>\n",
       "      <td>[, C0162448, C0311397, C0023779, C1979801]</td>\n",
       "    </tr>\n",
       "    <tr>\n",
       "      <th>C0000052</th>\n",
       "      <td>[A0630731, A8009325, A7480666, A27769867, A189...</td>\n",
       "      <td>[A13423393, A8020611, A7492280, A0055007, A349...</td>\n",
       "      <td>[A32866223, A8018552, A3144582, A6074366, A288...</td>\n",
       "      <td>[, C0014442, C0443499, C0017772, C0019495, C00...</td>\n",
       "      <td>[, C0014442, C0443485, C0201682, C0019495, C00...</td>\n",
       "    </tr>\n",
       "    <tr>\n",
       "      <th>C0000084</th>\n",
       "      <td>[A13431788, A9223642, A15722925, A11745997, A1...</td>\n",
       "      <td>[A15678887, A0063904, A7469369, A9114942, A754...</td>\n",
       "      <td>[A13064528, A15912976, A13053086, A7440080, A1...</td>\n",
       "      <td>[C0017789, , C0040887]</td>\n",
       "      <td>[, C0815040, C0001129, C0002524]</td>\n",
       "    </tr>\n",
       "    <tr>\n",
       "      <th>C0000096</th>\n",
       "      <td>[A18993650, A7548002, A7480686, A7471256, A052...</td>\n",
       "      <td>[A9169756, A7554490, A0124908, A13059178, A157...</td>\n",
       "      <td>[A7471261, A0134459, A11766490, A7512404, A802...</td>\n",
       "      <td>[, C0039771]</td>\n",
       "      <td>[, C0043318]</td>\n",
       "    </tr>\n",
       "    <tr>\n",
       "      <th>C0000097</th>\n",
       "      <td>[A1199224, A15732141, A18998932, A3230610, A13...</td>\n",
       "      <td>[A13050367, A7560729, A30048386, A11751019, A7...</td>\n",
       "      <td>[A3268142, A11752904, A0959166, A18969400, A34...</td>\n",
       "      <td>[, C0034255, C0242702, C0027934, C0576798]</td>\n",
       "      <td>[, C0019398, C0019399, C0032346, C0040549, C05...</td>\n",
       "    </tr>\n",
       "  </tbody>\n",
       "</table>\n",
       "</div>"
      ],
      "text/plain": [
       "                                                        AUI  \\\n",
       "CUI                                                           \n",
       "C0000039  [A32917594, A13424401, A7480660, A18972171, A0...   \n",
       "C0000052  [A0630731, A8009325, A7480666, A27769867, A189...   \n",
       "C0000084  [A13431788, A9223642, A15722925, A11745997, A1...   \n",
       "C0000096  [A18993650, A7548002, A7480686, A7471256, A052...   \n",
       "C0000097  [A1199224, A15732141, A18998932, A3230610, A13...   \n",
       "\n",
       "                                                       PAUI  \\\n",
       "CUI                                                           \n",
       "C0000039  [A8049187, A9113576, A7551192, A24703238, A189...   \n",
       "C0000052  [A13423393, A8020611, A7492280, A0055007, A349...   \n",
       "C0000084  [A15678887, A0063904, A7469369, A9114942, A754...   \n",
       "C0000096  [A9169756, A7554490, A0124908, A13059178, A157...   \n",
       "C0000097  [A13050367, A7560729, A30048386, A11751019, A7...   \n",
       "\n",
       "                                                     AB_AUI  \\\n",
       "CUI                                                           \n",
       "C0000039  [A7492380, A13421833, A15706899, A9220464, A32...   \n",
       "C0000052  [A32866223, A8018552, A3144582, A6074366, A288...   \n",
       "C0000084  [A13064528, A15912976, A13053086, A7440080, A1...   \n",
       "C0000096  [A7471261, A0134459, A11766490, A7512404, A802...   \n",
       "C0000097  [A3268142, A11752904, A0959166, A18969400, A34...   \n",
       "\n",
       "                                                       PCUI  \\\n",
       "CUI                                                           \n",
       "C0000039                   [, C0031676, C0311458, C1959616]   \n",
       "C0000052  [, C0014442, C0443499, C0017772, C0019495, C00...   \n",
       "C0000084                             [C0017789, , C0040887]   \n",
       "C0000096                                       [, C0039771]   \n",
       "C0000097         [, C0034255, C0242702, C0027934, C0576798]   \n",
       "\n",
       "                                                     AB_CUI  \n",
       "CUI                                                          \n",
       "C0000039         [, C0162448, C0311397, C0023779, C1979801]  \n",
       "C0000052  [, C0014442, C0443485, C0201682, C0019495, C00...  \n",
       "C0000084                   [, C0815040, C0001129, C0002524]  \n",
       "C0000096                                       [, C0043318]  \n",
       "C0000097  [, C0019398, C0019399, C0032346, C0040549, C05...  "
      ]
     },
     "execution_count": 25,
     "metadata": {},
     "output_type": "execute_result"
    }
   ],
   "source": [
    "grouped_hier_df.head()"
   ]
  },
  {
   "cell_type": "code",
   "execution_count": 26,
   "metadata": {},
   "outputs": [],
   "source": [
    "def remove_empty_values(lst):\n",
    "    return [x for x in lst if x != '']\n",
    "grouped_hier_df[\"PCUI\"] = grouped_hier_df.PCUI.map(lambda x: remove_empty_values(x))\n",
    "grouped_hier_df[\"AB_CUI\"] = grouped_hier_df.AB_CUI.map(lambda x: remove_empty_values(x))"
   ]
  },
  {
   "cell_type": "code",
   "execution_count": 27,
   "metadata": {},
   "outputs": [
    {
     "data": {
      "application/vnd.microsoft.datawrangler.viewer.v0+json": {
       "columns": [
        {
         "name": "CUI",
         "rawType": "object",
         "type": "string"
        },
        {
         "name": "AUI",
         "rawType": "object",
         "type": "unknown"
        },
        {
         "name": "PAUI",
         "rawType": "object",
         "type": "unknown"
        },
        {
         "name": "AB_AUI",
         "rawType": "object",
         "type": "unknown"
        },
        {
         "name": "PCUI",
         "rawType": "object",
         "type": "unknown"
        },
        {
         "name": "AB_CUI",
         "rawType": "object",
         "type": "unknown"
        }
       ],
       "conversionMethod": "pd.DataFrame",
       "ref": "35294f59-77f5-419b-ab8a-9a9ab30d09da",
       "rows": [
        [
         "C0000039",
         "['A32917594', 'A13424401', 'A7480660', 'A18972171', 'A0016515', 'A9176213', 'A13096036', 'A11754881', 'A0049238', 'A15722927', 'A7547990', 'A8009316', 'A7439429', 'A13042554']",
         "['A8049187', 'A9113576', 'A7551192', 'A24703238', 'A18972657', 'A13448806', 'A13041957', 'A13417622', 'A0100865', 'A9191918', 'A0699760', 'A32802702', 'A7503617', 'A11752705']",
         "['A7492380', 'A13421833', 'A15706899', 'A9220464', 'A32773033', 'A8020458', 'A0064073', 'A7452689', 'A7551392', 'A11755810', 'A0650841', 'A9114688', 'A32764425', 'A18998505', 'A13055790']",
         "['C0031676', 'C0311458', 'C1959616']",
         "['C0162448', 'C0311397', 'C0023779', 'C1979801']"
        ],
        [
         "C0000052",
         "['A0630731', 'A8009325', 'A7480666', 'A27769867', 'A18977550', 'A7439435', 'A1141192', 'A0016535', 'A11754882', 'A13046704', 'A24691790', 'A27907797', 'A32930458', 'A1169677', 'A9139513', 'A7550674', 'A13411980', 'A9230837']",
         "['A13423393', 'A8020611', 'A7492280', 'A0055007', 'A3493340', 'A9193114', 'A11752813', 'A7551465', 'A5872555', 'A24699035', 'A0804152', 'A7452615', 'A17636360', 'A0063863', 'A13037084', 'A32790833', 'A9114923', 'A3106815', 'A18993212']",
         "['A32866223', 'A8018552', 'A3144582', 'A6074366', 'A2887534', 'A0068053', 'A32942926', 'A0691788', 'A15720050', 'A9194066', 'A5872519', 'A11761811', 'A9115981', 'A1193742', 'A7453598', 'A18982721', 'A7493631', 'A13420311', 'A6252417', 'A13053911', 'A2873285', 'A7550756']",
         "['C0014442', 'C0443499', 'C0017772', 'C0019495', 'C0040676']",
         "['C0014442', 'C0443485', 'C0201682', 'C0019495', 'C0040676', 'C0541515', 'C1315011', 'C0033684']"
        ],
        [
         "C0000084",
         "['A13431788', 'A9223642', 'A15722925', 'A11745997', 'A18993504', 'A31570226', 'A0016576', 'A9096541', 'A7523040', 'A7548262', 'A8009376', 'A18949929']",
         "['A15678887', 'A0063904', 'A7469369', 'A9114942', 'A7548257', 'A8020549', 'A13411878', 'A7492323', 'A11761716', 'A7551480', 'A9096966', 'A13058145', 'A19009184', 'A24691514', 'A8047261', 'A7452635', 'A18988282', 'A9193136', 'A9223847', 'A11760383', 'A0128254', 'A13412323', 'A7532045', 'A13042433']",
         "['A13064528', 'A15912976', 'A13053086', 'A7440080', 'A18944335', 'A7440089', 'A7548670', 'A9214847', 'A7523413', 'A15726880', 'A9178656', 'A0135338', 'A15681405', 'A13044485', 'A11754817', 'A9098293', 'A11758392', 'A18998810', 'A8014685', 'A9096799', 'A13428733', 'A0022718', 'A19002755', 'A13410293', 'A13428895', 'A31580901', 'A7523380', 'A8012734', 'A9218509', 'A8012736', 'A15682683', 'A2027514', 'A7531069', 'A19003184', 'A9098287', 'A7548151']",
         "['C0017789', 'C0040887']",
         "['C0815040', 'C0001129', 'C0002524']"
        ],
        [
         "C0000096",
         "['A18993650', 'A7548002', 'A7480686', 'A7471256', 'A0526764', 'A9095961', 'A11743111', 'A9176264', 'A13421275', 'A8009377', 'A24696550', 'A13046703']",
         "['A9169756', 'A7554490', 'A0124908', 'A13059178', 'A15722542', 'A13418014', 'A19005044', 'A7468526', 'A7509688', 'A11748781', 'A8046153', 'A9134075']",
         "['A7471261', 'A0134459', 'A11766490', 'A7512404', 'A8028756', 'A18977831', 'A13050806', 'A13421263', 'A15731915', 'A9214035', 'A7555041', 'A9138108']",
         "['C0039771']",
         "['C0043318']"
        ],
        [
         "C0000097",
         "['A1199224', 'A15732141', 'A18998932', 'A3230610', 'A13055149', 'A7565702', 'A11754887', 'A21192678', 'A13421324', 'A8009378', 'A7480687', 'A1199223', 'A7548003', 'A26535526', 'A0016587', 'A9176265', 'A5902942']",
         "['A13050367', 'A7560729', 'A30048386', 'A11751019', 'A7505338', 'A7463839', 'A8037935', 'A1174558', 'A18999262', 'A9125879', 'A0319536', 'A0108258', 'A1269784', 'A13411628', 'A33678953', 'A7553052', 'A15713089', 'A0222087', 'A9202766']",
         "['A3268142', 'A11752904', 'A0959166', 'A18969400', 'A3493045', 'A1184585', 'A5460093', 'A19009246', 'A7550103', 'A1264805', 'A18959321', 'A13420308', 'A15693790', 'A13045540', 'A26546202', 'A1182273', 'A7493555', 'A8019502', 'A7560971', 'A0320162', 'A5460222']",
         "['C0034255', 'C0242702', 'C0027934', 'C0576798']",
         "['C0019398', 'C0019399', 'C0032346', 'C0040549', 'C0597072', 'C0596280', 'C0576728']"
        ]
       ],
       "shape": {
        "columns": 5,
        "rows": 5
       }
      },
      "text/html": [
       "<div>\n",
       "<style scoped>\n",
       "    .dataframe tbody tr th:only-of-type {\n",
       "        vertical-align: middle;\n",
       "    }\n",
       "\n",
       "    .dataframe tbody tr th {\n",
       "        vertical-align: top;\n",
       "    }\n",
       "\n",
       "    .dataframe thead th {\n",
       "        text-align: right;\n",
       "    }\n",
       "</style>\n",
       "<table border=\"1\" class=\"dataframe\">\n",
       "  <thead>\n",
       "    <tr style=\"text-align: right;\">\n",
       "      <th></th>\n",
       "      <th>AUI</th>\n",
       "      <th>PAUI</th>\n",
       "      <th>AB_AUI</th>\n",
       "      <th>PCUI</th>\n",
       "      <th>AB_CUI</th>\n",
       "    </tr>\n",
       "    <tr>\n",
       "      <th>CUI</th>\n",
       "      <th></th>\n",
       "      <th></th>\n",
       "      <th></th>\n",
       "      <th></th>\n",
       "      <th></th>\n",
       "    </tr>\n",
       "  </thead>\n",
       "  <tbody>\n",
       "    <tr>\n",
       "      <th>C0000039</th>\n",
       "      <td>[A32917594, A13424401, A7480660, A18972171, A0...</td>\n",
       "      <td>[A8049187, A9113576, A7551192, A24703238, A189...</td>\n",
       "      <td>[A7492380, A13421833, A15706899, A9220464, A32...</td>\n",
       "      <td>[C0031676, C0311458, C1959616]</td>\n",
       "      <td>[C0162448, C0311397, C0023779, C1979801]</td>\n",
       "    </tr>\n",
       "    <tr>\n",
       "      <th>C0000052</th>\n",
       "      <td>[A0630731, A8009325, A7480666, A27769867, A189...</td>\n",
       "      <td>[A13423393, A8020611, A7492280, A0055007, A349...</td>\n",
       "      <td>[A32866223, A8018552, A3144582, A6074366, A288...</td>\n",
       "      <td>[C0014442, C0443499, C0017772, C0019495, C0040...</td>\n",
       "      <td>[C0014442, C0443485, C0201682, C0019495, C0040...</td>\n",
       "    </tr>\n",
       "    <tr>\n",
       "      <th>C0000084</th>\n",
       "      <td>[A13431788, A9223642, A15722925, A11745997, A1...</td>\n",
       "      <td>[A15678887, A0063904, A7469369, A9114942, A754...</td>\n",
       "      <td>[A13064528, A15912976, A13053086, A7440080, A1...</td>\n",
       "      <td>[C0017789, C0040887]</td>\n",
       "      <td>[C0815040, C0001129, C0002524]</td>\n",
       "    </tr>\n",
       "    <tr>\n",
       "      <th>C0000096</th>\n",
       "      <td>[A18993650, A7548002, A7480686, A7471256, A052...</td>\n",
       "      <td>[A9169756, A7554490, A0124908, A13059178, A157...</td>\n",
       "      <td>[A7471261, A0134459, A11766490, A7512404, A802...</td>\n",
       "      <td>[C0039771]</td>\n",
       "      <td>[C0043318]</td>\n",
       "    </tr>\n",
       "    <tr>\n",
       "      <th>C0000097</th>\n",
       "      <td>[A1199224, A15732141, A18998932, A3230610, A13...</td>\n",
       "      <td>[A13050367, A7560729, A30048386, A11751019, A7...</td>\n",
       "      <td>[A3268142, A11752904, A0959166, A18969400, A34...</td>\n",
       "      <td>[C0034255, C0242702, C0027934, C0576798]</td>\n",
       "      <td>[C0019398, C0019399, C0032346, C0040549, C0597...</td>\n",
       "    </tr>\n",
       "  </tbody>\n",
       "</table>\n",
       "</div>"
      ],
      "text/plain": [
       "                                                        AUI  \\\n",
       "CUI                                                           \n",
       "C0000039  [A32917594, A13424401, A7480660, A18972171, A0...   \n",
       "C0000052  [A0630731, A8009325, A7480666, A27769867, A189...   \n",
       "C0000084  [A13431788, A9223642, A15722925, A11745997, A1...   \n",
       "C0000096  [A18993650, A7548002, A7480686, A7471256, A052...   \n",
       "C0000097  [A1199224, A15732141, A18998932, A3230610, A13...   \n",
       "\n",
       "                                                       PAUI  \\\n",
       "CUI                                                           \n",
       "C0000039  [A8049187, A9113576, A7551192, A24703238, A189...   \n",
       "C0000052  [A13423393, A8020611, A7492280, A0055007, A349...   \n",
       "C0000084  [A15678887, A0063904, A7469369, A9114942, A754...   \n",
       "C0000096  [A9169756, A7554490, A0124908, A13059178, A157...   \n",
       "C0000097  [A13050367, A7560729, A30048386, A11751019, A7...   \n",
       "\n",
       "                                                     AB_AUI  \\\n",
       "CUI                                                           \n",
       "C0000039  [A7492380, A13421833, A15706899, A9220464, A32...   \n",
       "C0000052  [A32866223, A8018552, A3144582, A6074366, A288...   \n",
       "C0000084  [A13064528, A15912976, A13053086, A7440080, A1...   \n",
       "C0000096  [A7471261, A0134459, A11766490, A7512404, A802...   \n",
       "C0000097  [A3268142, A11752904, A0959166, A18969400, A34...   \n",
       "\n",
       "                                                       PCUI  \\\n",
       "CUI                                                           \n",
       "C0000039                     [C0031676, C0311458, C1959616]   \n",
       "C0000052  [C0014442, C0443499, C0017772, C0019495, C0040...   \n",
       "C0000084                               [C0017789, C0040887]   \n",
       "C0000096                                         [C0039771]   \n",
       "C0000097           [C0034255, C0242702, C0027934, C0576798]   \n",
       "\n",
       "                                                     AB_CUI  \n",
       "CUI                                                          \n",
       "C0000039           [C0162448, C0311397, C0023779, C1979801]  \n",
       "C0000052  [C0014442, C0443485, C0201682, C0019495, C0040...  \n",
       "C0000084                     [C0815040, C0001129, C0002524]  \n",
       "C0000096                                         [C0043318]  \n",
       "C0000097  [C0019398, C0019399, C0032346, C0040549, C0597...  "
      ]
     },
     "execution_count": 27,
     "metadata": {},
     "output_type": "execute_result"
    }
   ],
   "source": [
    "grouped_hier_df.head()"
   ]
  },
  {
   "cell_type": "code",
   "execution_count": null,
   "metadata": {},
   "outputs": [],
   "source": [
    "cui_pcui_dict = {}\n",
    "cui_ab_cui_dict = {}\n",
    "\n",
    "for index, row in grouped_hier_df.iterrows():\n",
    "    cui = index\n",
    "    pcui_list = row['PCUI']\n",
    "    ab_cui_list = row['AB_CUI']\n",
    "\n",
    "    cui_pcui_dict[cui] = pcui_list\n",
    "\n",
    "    cui_ab_cui_dict[cui] = ab_cui_list"
   ]
  },
  {
   "cell_type": "code",
   "execution_count": 29,
   "metadata": {},
   "outputs": [],
   "source": [
    "grouped_conso_es_td_df = conso_es_td_df.groupby('CUI').agg(lambda x: list(set(x)))"
   ]
  },
  {
   "cell_type": "code",
   "execution_count": 30,
   "metadata": {},
   "outputs": [
    {
     "data": {
      "text/plain": [
       "0"
      ]
     },
     "execution_count": 30,
     "metadata": {},
     "output_type": "execute_result"
    }
   ],
   "source": [
    "del conso_es_td_df, grouped_hier_df\n",
    "gc.collect()"
   ]
  },
  {
   "cell_type": "code",
   "execution_count": 31,
   "metadata": {},
   "outputs": [
    {
     "data": {
      "application/vnd.microsoft.datawrangler.viewer.v0+json": {
       "columns": [
        {
         "name": "CUI",
         "rawType": "object",
         "type": "string"
        },
        {
         "name": "STR",
         "rawType": "object",
         "type": "unknown"
        },
        {
         "name": "LAT",
         "rawType": "object",
         "type": "unknown"
        },
        {
         "name": "TS",
         "rawType": "object",
         "type": "unknown"
        },
        {
         "name": "STT",
         "rawType": "object",
         "type": "unknown"
        },
        {
         "name": "ISPREF",
         "rawType": "object",
         "type": "unknown"
        },
        {
         "name": "AUI",
         "rawType": "object",
         "type": "unknown"
        }
       ],
       "conversionMethod": "pd.DataFrame",
       "ref": "02b9392f-ed4b-44dd-b3f1-4172dedb8246",
       "rows": [
        [
         "C0000039",
         "['1,2-Dipalmitoilfosfatidilcolina', 'Dipalmitoil-Lecitina']",
         "['SPA']",
         "['P', 'S']",
         "['PF']",
         "['Y']",
         "['A27548619', 'A9176213']"
        ],
        [
         "C0000052",
         "['enzima ramificadora 1,4-alfa-glucano (sustancia)', 'enzima ramificadora 1,4-alfa-glucano', 'Enzima Ramificadora', 'enzima ramificadora', 'amilo-(1,4,6)-transglucosilasa', 'Enzima Ramificadora de 1,4-alfa-Glucano']",
         "['SPA']",
         "['P', 'S']",
         "['PF']",
         "['Y']",
         "['A27900241', 'A27899115', 'A27905681', 'A27907797', 'A27629548', 'A9230837']"
        ],
        [
         "C0000084",
         "['Carboxiglutamato-gamma', 'Ácido gamma-Carboxiglutámico', 'Ácido gamma Carboxiglutámico', 'Ácido Carboxiglutámico-gamma', 'Ácido Gammacarboxiglutámico', 'Ácido Carboxiglutámico gamma', 'Carboxiglutamato gamma', 'Ácido 1-Carboxiglutámico', 'gamma Carboxiglutamato', 'Gammacarboxiglutamato']",
         "['SPA']",
         "['P', 'S']",
         "['PF']",
         "['Y']",
         "['A27683108', 'A9223642', 'A27539770', 'A27602743', 'A27665092', 'A27745338', 'A27674041', 'A27477166', 'A27539771', 'A27530853']"
        ],
        [
         "C0000096",
         "['3-Isobutil-1-metilxantina', 'Isobutilteofilina', '1-Metil-3-Isobutilxantina']",
         "['SPA']",
         "['P', 'S']",
         "['PF']",
         "['Y']",
         "['A27700895', 'A9176264', 'A27638420']"
        ],
        [
         "C0000097",
         "['metilfeniltetrahidropiridina (sustancia)', '1-Metil-4-fenil-1,2,3,6-Tetrahidropiridina', 'MPTP', 'metilfeniltetrahidropiridina']",
         "['SPA']",
         "['P', 'S']",
         "['PF']",
         "['Y']",
         "['A27602762', 'A5902941', 'A9176265', 'A5902942']"
        ]
       ],
       "shape": {
        "columns": 6,
        "rows": 5
       }
      },
      "text/html": [
       "<div>\n",
       "<style scoped>\n",
       "    .dataframe tbody tr th:only-of-type {\n",
       "        vertical-align: middle;\n",
       "    }\n",
       "\n",
       "    .dataframe tbody tr th {\n",
       "        vertical-align: top;\n",
       "    }\n",
       "\n",
       "    .dataframe thead th {\n",
       "        text-align: right;\n",
       "    }\n",
       "</style>\n",
       "<table border=\"1\" class=\"dataframe\">\n",
       "  <thead>\n",
       "    <tr style=\"text-align: right;\">\n",
       "      <th></th>\n",
       "      <th>STR</th>\n",
       "      <th>LAT</th>\n",
       "      <th>TS</th>\n",
       "      <th>STT</th>\n",
       "      <th>ISPREF</th>\n",
       "      <th>AUI</th>\n",
       "    </tr>\n",
       "    <tr>\n",
       "      <th>CUI</th>\n",
       "      <th></th>\n",
       "      <th></th>\n",
       "      <th></th>\n",
       "      <th></th>\n",
       "      <th></th>\n",
       "      <th></th>\n",
       "    </tr>\n",
       "  </thead>\n",
       "  <tbody>\n",
       "    <tr>\n",
       "      <th>C0000039</th>\n",
       "      <td>[1,2-Dipalmitoilfosfatidilcolina, Dipalmitoil-...</td>\n",
       "      <td>[SPA]</td>\n",
       "      <td>[P, S]</td>\n",
       "      <td>[PF]</td>\n",
       "      <td>[Y]</td>\n",
       "      <td>[A27548619, A9176213]</td>\n",
       "    </tr>\n",
       "    <tr>\n",
       "      <th>C0000052</th>\n",
       "      <td>[enzima ramificadora 1,4-alfa-glucano (sustanc...</td>\n",
       "      <td>[SPA]</td>\n",
       "      <td>[P, S]</td>\n",
       "      <td>[PF]</td>\n",
       "      <td>[Y]</td>\n",
       "      <td>[A27900241, A27899115, A27905681, A27907797, A...</td>\n",
       "    </tr>\n",
       "    <tr>\n",
       "      <th>C0000084</th>\n",
       "      <td>[Carboxiglutamato-gamma, Ácido gamma-Carboxigl...</td>\n",
       "      <td>[SPA]</td>\n",
       "      <td>[P, S]</td>\n",
       "      <td>[PF]</td>\n",
       "      <td>[Y]</td>\n",
       "      <td>[A27683108, A9223642, A27539770, A27602743, A2...</td>\n",
       "    </tr>\n",
       "    <tr>\n",
       "      <th>C0000096</th>\n",
       "      <td>[3-Isobutil-1-metilxantina, Isobutilteofilina,...</td>\n",
       "      <td>[SPA]</td>\n",
       "      <td>[P, S]</td>\n",
       "      <td>[PF]</td>\n",
       "      <td>[Y]</td>\n",
       "      <td>[A27700895, A9176264, A27638420]</td>\n",
       "    </tr>\n",
       "    <tr>\n",
       "      <th>C0000097</th>\n",
       "      <td>[metilfeniltetrahidropiridina (sustancia), 1-M...</td>\n",
       "      <td>[SPA]</td>\n",
       "      <td>[P, S]</td>\n",
       "      <td>[PF]</td>\n",
       "      <td>[Y]</td>\n",
       "      <td>[A27602762, A5902941, A9176265, A5902942]</td>\n",
       "    </tr>\n",
       "  </tbody>\n",
       "</table>\n",
       "</div>"
      ],
      "text/plain": [
       "                                                        STR    LAT      TS  \\\n",
       "CUI                                                                          \n",
       "C0000039  [1,2-Dipalmitoilfosfatidilcolina, Dipalmitoil-...  [SPA]  [P, S]   \n",
       "C0000052  [enzima ramificadora 1,4-alfa-glucano (sustanc...  [SPA]  [P, S]   \n",
       "C0000084  [Carboxiglutamato-gamma, Ácido gamma-Carboxigl...  [SPA]  [P, S]   \n",
       "C0000096  [3-Isobutil-1-metilxantina, Isobutilteofilina,...  [SPA]  [P, S]   \n",
       "C0000097  [metilfeniltetrahidropiridina (sustancia), 1-M...  [SPA]  [P, S]   \n",
       "\n",
       "           STT ISPREF                                                AUI  \n",
       "CUI                                                                       \n",
       "C0000039  [PF]    [Y]                              [A27548619, A9176213]  \n",
       "C0000052  [PF]    [Y]  [A27900241, A27899115, A27905681, A27907797, A...  \n",
       "C0000084  [PF]    [Y]  [A27683108, A9223642, A27539770, A27602743, A2...  \n",
       "C0000096  [PF]    [Y]                   [A27700895, A9176264, A27638420]  \n",
       "C0000097  [PF]    [Y]          [A27602762, A5902941, A9176265, A5902942]  "
      ]
     },
     "execution_count": 31,
     "metadata": {},
     "output_type": "execute_result"
    }
   ],
   "source": [
    "grouped_conso_es_td_df.head()"
   ]
  },
  {
   "cell_type": "code",
   "execution_count": null,
   "metadata": {},
   "outputs": [],
   "source": [
    "grouped_conso_es_td_df = grouped_conso_es_td_df.reset_index()\n",
    "grouped_conso_es_td_df[\"PCUI\"] = grouped_conso_es_td_df.CUI.map(cui_pcui_dict)\n",
    "grouped_conso_es_td_df[\"GPCUI\"] = grouped_conso_es_td_df.CUI.map(cui_ab_cui_dict)"
   ]
  },
  {
   "cell_type": "code",
   "execution_count": 33,
   "metadata": {},
   "outputs": [
    {
     "data": {
      "application/vnd.microsoft.datawrangler.viewer.v0+json": {
       "columns": [
        {
         "name": "index",
         "rawType": "int64",
         "type": "integer"
        },
        {
         "name": "CUI",
         "rawType": "object",
         "type": "string"
        },
        {
         "name": "STR",
         "rawType": "object",
         "type": "unknown"
        },
        {
         "name": "PCUI",
         "rawType": "object",
         "type": "unknown"
        },
        {
         "name": "GPCUI",
         "rawType": "object",
         "type": "unknown"
        }
       ],
       "conversionMethod": "pd.DataFrame",
       "ref": "8a27fc73-7246-4719-9758-03624617173e",
       "rows": [
        [
         "0",
         "C0000039",
         "['1,2-Dipalmitoilfosfatidilcolina', 'Dipalmitoil-Lecitina']",
         "['C0031676', 'C0311458', 'C1959616']",
         "['C0162448', 'C0311397', 'C0023779', 'C1979801']"
        ],
        [
         "1",
         "C0000052",
         "['enzima ramificadora 1,4-alfa-glucano (sustancia)', 'enzima ramificadora 1,4-alfa-glucano', 'Enzima Ramificadora', 'enzima ramificadora', 'amilo-(1,4,6)-transglucosilasa', 'Enzima Ramificadora de 1,4-alfa-Glucano']",
         "['C0014442', 'C0443499', 'C0017772', 'C0019495', 'C0040676']",
         "['C0014442', 'C0443485', 'C0201682', 'C0019495', 'C0040676', 'C0541515', 'C1315011', 'C0033684']"
        ],
        [
         "2",
         "C0000084",
         "['Carboxiglutamato-gamma', 'Ácido gamma-Carboxiglutámico', 'Ácido gamma Carboxiglutámico', 'Ácido Carboxiglutámico-gamma', 'Ácido Gammacarboxiglutámico', 'Ácido Carboxiglutámico gamma', 'Carboxiglutamato gamma', 'Ácido 1-Carboxiglutámico', 'gamma Carboxiglutamato', 'Gammacarboxiglutamato']",
         "['C0017789', 'C0040887']",
         "['C0815040', 'C0001129', 'C0002524']"
        ],
        [
         "3",
         "C0000096",
         "['3-Isobutil-1-metilxantina', 'Isobutilteofilina', '1-Metil-3-Isobutilxantina']",
         "['C0039771']",
         "['C0043318']"
        ],
        [
         "4",
         "C0000097",
         "['metilfeniltetrahidropiridina (sustancia)', '1-Metil-4-fenil-1,2,3,6-Tetrahidropiridina', 'MPTP', 'metilfeniltetrahidropiridina']",
         "['C0034255', 'C0242702', 'C0027934', 'C0576798']",
         "['C0019398', 'C0019399', 'C0032346', 'C0040549', 'C0597072', 'C0596280', 'C0576728']"
        ],
        [
         "5",
         "C0000098",
         "['1-Metil-4-fenilpiridinio', 'Ciperquat']",
         "['C0034256']",
         "['C0034255']"
        ],
        [
         "6",
         "C0000102",
         "['1-Aminonaftaleno', '1-naftilamina (sustancia)', 'alfanaftilamina', '1-naftilamina', 'alfa-Naftilamina', 'a-naftilamina', '1-Naftilamina']",
         "['C0541489', 'C0027378', 'C0002508', 'C0007090']",
         "['C0541487', 'C0303743', 'C0032346', 'C0032458', 'C0029224', 'C4722040']"
        ],
        [
         "7",
         "C0000103",
         "['1-Naftilisotiocianato', 'alfa-Naftilisotiocianato']",
         "['C0206359', 'C0027378']",
         "['C0032458', 'C0038776', 'C0162344']"
        ],
        [
         "8",
         "C0000107",
         "['1-Sar-8-Ile-Angiotensina II', '1-Sarcosina-8-Isoleucina Angiotensina II']",
         "['C0003009']",
         "['C0003018']"
        ],
        [
         "9",
         "C0000119",
         "['11-Hidroxicorticoesteroides', '11-Hidroxicorticosteroides']",
         "['C0020343']",
         "['C0001617']"
        ],
        [
         "10",
         "C0000139",
         "['16,16-Dimetilprostaglandina E2']",
         "['C0033560', 'C0033568']",
         "['C1254351', 'C0033568']"
        ],
        [
         "11",
         "C0000152",
         "['17 beta-Hidroxiesteroide Deshidrogenasas']",
         null,
         null
        ],
        [
         "12",
         "C0000163",
         "['17-hidroxicorticosteroide (sustancia)', '17-hidroxicorticosteroide', '17-Hidroxicorticosteroides', '17-Hidroxicorticoesteroides']",
         "['C0020343', 'C0312449', 'C0017710', 'C0582125', 'C0001617']",
         "['C0391835', 'C0301818', 'C0014136', 'C0312425', 'C0017710', 'C0001617']"
        ],
        [
         "13",
         "C0000165",
         "['17-Hidroxiesteroide Deshidrogenasas']",
         "['C0020392']",
         "['C0001954']"
        ],
        [
         "14",
         "C0000167",
         "['17-Cetosteroides', '17-Oxosteroides', '17-cetoesteroide (sustancia)', '17-Oxoesteroides', '17-cetoesteroide', '17-Cetoesteroides']",
         "['C0022640', 'C0312449', 'C0582125', 'C1254351', 'C0038317', 'C0001617']",
         "['C0391835', 'C0301818', 'C0019932', 'C0312425', 'C1254355', 'C0029224', 'C0013227', 'C0038317', 'C0014136']"
        ],
        [
         "15",
         "C0000172",
         "['18-hidroxicorticosterona', '18-Hidrocorticosterona', '18-Hidroxicorticosterona', '18-hidroxicorticosterona (sustancia)']",
         "['C0486267', 'C0443588', 'C0000119', 'C0312449', 'C0010124', 'C0582125', 'C0001617']",
         "['C0301818', 'C0312425', 'C0443485', 'C0020343', 'C0033013', 'C0010124', 'C0014136']"
        ],
        [
         "16",
         "C0000173",
         "['18-Hidroxidesoxicorticosterona']",
         "['C0011710']",
         "['C0033013', 'C0020343']"
        ],
        [
         "17",
         "C0000176",
         "['19-Yodocolesterol']",
         "['C0008377']",
         "['C0008375', 'C0038323']"
        ],
        [
         "18",
         "C0000184",
         "[\"2',3'-Nucleótido Cíclico Fosfodiesterasas\"]",
         "['C0031640']",
         "['C0014894']"
        ],
        [
         "19",
         "C0000189",
         "[\"2',5'-Oligoadenilato Sintetasa\", \"Polimerasa de 2',5'-Oligoadenilato\", '2-5a Sintetasa']",
         "['C0028632']",
         "['C0031727']"
        ],
        [
         "20",
         "C0000194",
         "['alfa,alfa-Dipiridil', \"2,2'-Dipiridil\", '2,2-Bipiridina']",
         "['C0034255']",
         "['C0019399']"
        ],
        [
         "21",
         "C0000204",
         "['Ácido 2,3-Dicetogulónico']",
         "['C0038651']",
         "['C0007004', 'C0001129', 'C0020317']"
        ],
        [
         "22",
         "C0000215",
         "['2,4,5-tricloroacetofenol', '2,4,5-T', 'ácido 2,4,5-triclorofenoxiacético (sustancia)', 'ácido triclorofenoxiacético', 'ácido 2,4,5-triclorofenoxiacético', 'Ácido 2,4,5-Triclorofenoxiacético']",
         "['C0031440', 'C0007066', 'C0589321', 'C0019236']",
         "['C0017948', 'C0031253', 'C0595942', 'C0019236', 'C2316833']"
        ],
        [
         "23",
         "C0000220",
         "['2,4-D', 'Ácido 2,4-Diclorofenoxiacético', 'ácido 2,4-diclorofenoxiacético (sustancia)', 'ácido 2,4-diclorofenoxiacético']",
         "['C0019236', 'C0031440', 'C0589321']",
         "['C0017948', 'C0031253', 'C0595942', 'C0019236']"
        ],
        [
         "24",
         "C0000232",
         "['2,6-Dicloroindofenol', '2,6-Diclorofenolindofenol']",
         "['C0021250']",
         "['C0031428']"
        ]
       ],
       "shape": {
        "columns": 4,
        "rows": 25
       }
      },
      "text/html": [
       "<div>\n",
       "<style scoped>\n",
       "    .dataframe tbody tr th:only-of-type {\n",
       "        vertical-align: middle;\n",
       "    }\n",
       "\n",
       "    .dataframe tbody tr th {\n",
       "        vertical-align: top;\n",
       "    }\n",
       "\n",
       "    .dataframe thead th {\n",
       "        text-align: right;\n",
       "    }\n",
       "</style>\n",
       "<table border=\"1\" class=\"dataframe\">\n",
       "  <thead>\n",
       "    <tr style=\"text-align: right;\">\n",
       "      <th></th>\n",
       "      <th>CUI</th>\n",
       "      <th>STR</th>\n",
       "      <th>PCUI</th>\n",
       "      <th>GPCUI</th>\n",
       "    </tr>\n",
       "  </thead>\n",
       "  <tbody>\n",
       "    <tr>\n",
       "      <th>0</th>\n",
       "      <td>C0000039</td>\n",
       "      <td>[1,2-Dipalmitoilfosfatidilcolina, Dipalmitoil-...</td>\n",
       "      <td>[C0031676, C0311458, C1959616]</td>\n",
       "      <td>[C0162448, C0311397, C0023779, C1979801]</td>\n",
       "    </tr>\n",
       "    <tr>\n",
       "      <th>1</th>\n",
       "      <td>C0000052</td>\n",
       "      <td>[enzima ramificadora 1,4-alfa-glucano (sustanc...</td>\n",
       "      <td>[C0014442, C0443499, C0017772, C0019495, C0040...</td>\n",
       "      <td>[C0014442, C0443485, C0201682, C0019495, C0040...</td>\n",
       "    </tr>\n",
       "    <tr>\n",
       "      <th>2</th>\n",
       "      <td>C0000084</td>\n",
       "      <td>[Carboxiglutamato-gamma, Ácido gamma-Carboxigl...</td>\n",
       "      <td>[C0017789, C0040887]</td>\n",
       "      <td>[C0815040, C0001129, C0002524]</td>\n",
       "    </tr>\n",
       "    <tr>\n",
       "      <th>3</th>\n",
       "      <td>C0000096</td>\n",
       "      <td>[3-Isobutil-1-metilxantina, Isobutilteofilina,...</td>\n",
       "      <td>[C0039771]</td>\n",
       "      <td>[C0043318]</td>\n",
       "    </tr>\n",
       "    <tr>\n",
       "      <th>4</th>\n",
       "      <td>C0000097</td>\n",
       "      <td>[metilfeniltetrahidropiridina (sustancia), 1-M...</td>\n",
       "      <td>[C0034255, C0242702, C0027934, C0576798]</td>\n",
       "      <td>[C0019398, C0019399, C0032346, C0040549, C0597...</td>\n",
       "    </tr>\n",
       "    <tr>\n",
       "      <th>5</th>\n",
       "      <td>C0000098</td>\n",
       "      <td>[1-Metil-4-fenilpiridinio, Ciperquat]</td>\n",
       "      <td>[C0034256]</td>\n",
       "      <td>[C0034255]</td>\n",
       "    </tr>\n",
       "    <tr>\n",
       "      <th>6</th>\n",
       "      <td>C0000102</td>\n",
       "      <td>[1-Aminonaftaleno, 1-naftilamina (sustancia), ...</td>\n",
       "      <td>[C0541489, C0027378, C0002508, C0007090]</td>\n",
       "      <td>[C0541487, C0303743, C0032346, C0032458, C0029...</td>\n",
       "    </tr>\n",
       "    <tr>\n",
       "      <th>7</th>\n",
       "      <td>C0000103</td>\n",
       "      <td>[1-Naftilisotiocianato, alfa-Naftilisotiocianato]</td>\n",
       "      <td>[C0206359, C0027378]</td>\n",
       "      <td>[C0032458, C0038776, C0162344]</td>\n",
       "    </tr>\n",
       "    <tr>\n",
       "      <th>8</th>\n",
       "      <td>C0000107</td>\n",
       "      <td>[1-Sar-8-Ile-Angiotensina II, 1-Sarcosina-8-Is...</td>\n",
       "      <td>[C0003009]</td>\n",
       "      <td>[C0003018]</td>\n",
       "    </tr>\n",
       "    <tr>\n",
       "      <th>9</th>\n",
       "      <td>C0000119</td>\n",
       "      <td>[11-Hidroxicorticoesteroides, 11-Hidroxicortic...</td>\n",
       "      <td>[C0020343]</td>\n",
       "      <td>[C0001617]</td>\n",
       "    </tr>\n",
       "    <tr>\n",
       "      <th>10</th>\n",
       "      <td>C0000139</td>\n",
       "      <td>[16,16-Dimetilprostaglandina E2]</td>\n",
       "      <td>[C0033560, C0033568]</td>\n",
       "      <td>[C1254351, C0033568]</td>\n",
       "    </tr>\n",
       "    <tr>\n",
       "      <th>11</th>\n",
       "      <td>C0000152</td>\n",
       "      <td>[17 beta-Hidroxiesteroide Deshidrogenasas]</td>\n",
       "      <td>NaN</td>\n",
       "      <td>NaN</td>\n",
       "    </tr>\n",
       "    <tr>\n",
       "      <th>12</th>\n",
       "      <td>C0000163</td>\n",
       "      <td>[17-hidroxicorticosteroide (sustancia), 17-hid...</td>\n",
       "      <td>[C0020343, C0312449, C0017710, C0582125, C0001...</td>\n",
       "      <td>[C0391835, C0301818, C0014136, C0312425, C0017...</td>\n",
       "    </tr>\n",
       "    <tr>\n",
       "      <th>13</th>\n",
       "      <td>C0000165</td>\n",
       "      <td>[17-Hidroxiesteroide Deshidrogenasas]</td>\n",
       "      <td>[C0020392]</td>\n",
       "      <td>[C0001954]</td>\n",
       "    </tr>\n",
       "    <tr>\n",
       "      <th>14</th>\n",
       "      <td>C0000167</td>\n",
       "      <td>[17-Cetosteroides, 17-Oxosteroides, 17-cetoest...</td>\n",
       "      <td>[C0022640, C0312449, C0582125, C1254351, C0038...</td>\n",
       "      <td>[C0391835, C0301818, C0019932, C0312425, C1254...</td>\n",
       "    </tr>\n",
       "    <tr>\n",
       "      <th>15</th>\n",
       "      <td>C0000172</td>\n",
       "      <td>[18-hidroxicorticosterona, 18-Hidrocorticoster...</td>\n",
       "      <td>[C0486267, C0443588, C0000119, C0312449, C0010...</td>\n",
       "      <td>[C0301818, C0312425, C0443485, C0020343, C0033...</td>\n",
       "    </tr>\n",
       "    <tr>\n",
       "      <th>16</th>\n",
       "      <td>C0000173</td>\n",
       "      <td>[18-Hidroxidesoxicorticosterona]</td>\n",
       "      <td>[C0011710]</td>\n",
       "      <td>[C0033013, C0020343]</td>\n",
       "    </tr>\n",
       "    <tr>\n",
       "      <th>17</th>\n",
       "      <td>C0000176</td>\n",
       "      <td>[19-Yodocolesterol]</td>\n",
       "      <td>[C0008377]</td>\n",
       "      <td>[C0008375, C0038323]</td>\n",
       "    </tr>\n",
       "    <tr>\n",
       "      <th>18</th>\n",
       "      <td>C0000184</td>\n",
       "      <td>[2',3'-Nucleótido Cíclico Fosfodiesterasas]</td>\n",
       "      <td>[C0031640]</td>\n",
       "      <td>[C0014894]</td>\n",
       "    </tr>\n",
       "    <tr>\n",
       "      <th>19</th>\n",
       "      <td>C0000189</td>\n",
       "      <td>[2',5'-Oligoadenilato Sintetasa, Polimerasa de...</td>\n",
       "      <td>[C0028632]</td>\n",
       "      <td>[C0031727]</td>\n",
       "    </tr>\n",
       "    <tr>\n",
       "      <th>20</th>\n",
       "      <td>C0000194</td>\n",
       "      <td>[alfa,alfa-Dipiridil, 2,2'-Dipiridil, 2,2-Bipi...</td>\n",
       "      <td>[C0034255]</td>\n",
       "      <td>[C0019399]</td>\n",
       "    </tr>\n",
       "    <tr>\n",
       "      <th>21</th>\n",
       "      <td>C0000204</td>\n",
       "      <td>[Ácido 2,3-Dicetogulónico]</td>\n",
       "      <td>[C0038651]</td>\n",
       "      <td>[C0007004, C0001129, C0020317]</td>\n",
       "    </tr>\n",
       "    <tr>\n",
       "      <th>22</th>\n",
       "      <td>C0000215</td>\n",
       "      <td>[2,4,5-tricloroacetofenol, 2,4,5-T, ácido 2,4,...</td>\n",
       "      <td>[C0031440, C0007066, C0589321, C0019236]</td>\n",
       "      <td>[C0017948, C0031253, C0595942, C0019236, C2316...</td>\n",
       "    </tr>\n",
       "    <tr>\n",
       "      <th>23</th>\n",
       "      <td>C0000220</td>\n",
       "      <td>[2,4-D, Ácido 2,4-Diclorofenoxiacético, ácido ...</td>\n",
       "      <td>[C0019236, C0031440, C0589321]</td>\n",
       "      <td>[C0017948, C0031253, C0595942, C0019236]</td>\n",
       "    </tr>\n",
       "    <tr>\n",
       "      <th>24</th>\n",
       "      <td>C0000232</td>\n",
       "      <td>[2,6-Dicloroindofenol, 2,6-Diclorofenolindofenol]</td>\n",
       "      <td>[C0021250]</td>\n",
       "      <td>[C0031428]</td>\n",
       "    </tr>\n",
       "  </tbody>\n",
       "</table>\n",
       "</div>"
      ],
      "text/plain": [
       "         CUI                                                STR  \\\n",
       "0   C0000039  [1,2-Dipalmitoilfosfatidilcolina, Dipalmitoil-...   \n",
       "1   C0000052  [enzima ramificadora 1,4-alfa-glucano (sustanc...   \n",
       "2   C0000084  [Carboxiglutamato-gamma, Ácido gamma-Carboxigl...   \n",
       "3   C0000096  [3-Isobutil-1-metilxantina, Isobutilteofilina,...   \n",
       "4   C0000097  [metilfeniltetrahidropiridina (sustancia), 1-M...   \n",
       "5   C0000098              [1-Metil-4-fenilpiridinio, Ciperquat]   \n",
       "6   C0000102  [1-Aminonaftaleno, 1-naftilamina (sustancia), ...   \n",
       "7   C0000103  [1-Naftilisotiocianato, alfa-Naftilisotiocianato]   \n",
       "8   C0000107  [1-Sar-8-Ile-Angiotensina II, 1-Sarcosina-8-Is...   \n",
       "9   C0000119  [11-Hidroxicorticoesteroides, 11-Hidroxicortic...   \n",
       "10  C0000139                   [16,16-Dimetilprostaglandina E2]   \n",
       "11  C0000152         [17 beta-Hidroxiesteroide Deshidrogenasas]   \n",
       "12  C0000163  [17-hidroxicorticosteroide (sustancia), 17-hid...   \n",
       "13  C0000165              [17-Hidroxiesteroide Deshidrogenasas]   \n",
       "14  C0000167  [17-Cetosteroides, 17-Oxosteroides, 17-cetoest...   \n",
       "15  C0000172  [18-hidroxicorticosterona, 18-Hidrocorticoster...   \n",
       "16  C0000173                   [18-Hidroxidesoxicorticosterona]   \n",
       "17  C0000176                                [19-Yodocolesterol]   \n",
       "18  C0000184        [2',3'-Nucleótido Cíclico Fosfodiesterasas]   \n",
       "19  C0000189  [2',5'-Oligoadenilato Sintetasa, Polimerasa de...   \n",
       "20  C0000194  [alfa,alfa-Dipiridil, 2,2'-Dipiridil, 2,2-Bipi...   \n",
       "21  C0000204                         [Ácido 2,3-Dicetogulónico]   \n",
       "22  C0000215  [2,4,5-tricloroacetofenol, 2,4,5-T, ácido 2,4,...   \n",
       "23  C0000220  [2,4-D, Ácido 2,4-Diclorofenoxiacético, ácido ...   \n",
       "24  C0000232  [2,6-Dicloroindofenol, 2,6-Diclorofenolindofenol]   \n",
       "\n",
       "                                                 PCUI  \\\n",
       "0                      [C0031676, C0311458, C1959616]   \n",
       "1   [C0014442, C0443499, C0017772, C0019495, C0040...   \n",
       "2                                [C0017789, C0040887]   \n",
       "3                                          [C0039771]   \n",
       "4            [C0034255, C0242702, C0027934, C0576798]   \n",
       "5                                          [C0034256]   \n",
       "6            [C0541489, C0027378, C0002508, C0007090]   \n",
       "7                                [C0206359, C0027378]   \n",
       "8                                          [C0003009]   \n",
       "9                                          [C0020343]   \n",
       "10                               [C0033560, C0033568]   \n",
       "11                                                NaN   \n",
       "12  [C0020343, C0312449, C0017710, C0582125, C0001...   \n",
       "13                                         [C0020392]   \n",
       "14  [C0022640, C0312449, C0582125, C1254351, C0038...   \n",
       "15  [C0486267, C0443588, C0000119, C0312449, C0010...   \n",
       "16                                         [C0011710]   \n",
       "17                                         [C0008377]   \n",
       "18                                         [C0031640]   \n",
       "19                                         [C0028632]   \n",
       "20                                         [C0034255]   \n",
       "21                                         [C0038651]   \n",
       "22           [C0031440, C0007066, C0589321, C0019236]   \n",
       "23                     [C0019236, C0031440, C0589321]   \n",
       "24                                         [C0021250]   \n",
       "\n",
       "                                                GPCUI  \n",
       "0            [C0162448, C0311397, C0023779, C1979801]  \n",
       "1   [C0014442, C0443485, C0201682, C0019495, C0040...  \n",
       "2                      [C0815040, C0001129, C0002524]  \n",
       "3                                          [C0043318]  \n",
       "4   [C0019398, C0019399, C0032346, C0040549, C0597...  \n",
       "5                                          [C0034255]  \n",
       "6   [C0541487, C0303743, C0032346, C0032458, C0029...  \n",
       "7                      [C0032458, C0038776, C0162344]  \n",
       "8                                          [C0003018]  \n",
       "9                                          [C0001617]  \n",
       "10                               [C1254351, C0033568]  \n",
       "11                                                NaN  \n",
       "12  [C0391835, C0301818, C0014136, C0312425, C0017...  \n",
       "13                                         [C0001954]  \n",
       "14  [C0391835, C0301818, C0019932, C0312425, C1254...  \n",
       "15  [C0301818, C0312425, C0443485, C0020343, C0033...  \n",
       "16                               [C0033013, C0020343]  \n",
       "17                               [C0008375, C0038323]  \n",
       "18                                         [C0014894]  \n",
       "19                                         [C0031727]  \n",
       "20                                         [C0019399]  \n",
       "21                     [C0007004, C0001129, C0020317]  \n",
       "22  [C0017948, C0031253, C0595942, C0019236, C2316...  \n",
       "23           [C0017948, C0031253, C0595942, C0019236]  \n",
       "24                                         [C0031428]  "
      ]
     },
     "execution_count": 33,
     "metadata": {},
     "output_type": "execute_result"
    }
   ],
   "source": [
    "grouped_conso_es_td_df = grouped_conso_es_td_df[[\"CUI\",\"STR\",\"PCUI\",\"GPCUI\"]]\n",
    "grouped_conso_es_td_df.head(25)"
   ]
  },
  {
   "cell_type": "code",
   "execution_count": null,
   "metadata": {},
   "outputs": [],
   "source": [
    "grouped_conso_es_td_df[\"PCUI\"] = grouped_conso_es_td_df[\"PCUI\"].astype(str).map(lambda x: eval(x) if isinstance(x, str) and x!=\"nan\" else [] )\n",
    "grouped_conso_es_td_df[\"GPCUI\"] = grouped_conso_es_td_df[\"GPCUI\"].astype(str).map(lambda x: eval(x) if isinstance(x, str) and x!=\"nan\" else [] )"
   ]
  },
  {
   "cell_type": "code",
   "execution_count": 34,
   "metadata": {},
   "outputs": [],
   "source": [
    "grouped_conso_es_td_df[\"STR\"] = grouped_conso_es_td_df[\"STR\"].map(lambda x: [item.lower() for item in x])"
   ]
  },
  {
   "cell_type": "code",
   "execution_count": 35,
   "metadata": {},
   "outputs": [],
   "source": [
    "CUI_STR = dict(zip(grouped_conso_es_td_df.CUI.to_list(), grouped_conso_es_td_df.STR.to_list()))"
   ]
  },
  {
   "cell_type": "markdown",
   "metadata": {},
   "source": [
    "## Generating Positive Pairs (noparents, parents, and grandparents)\n",
    "\n",
    "In this section, **positive pairs** are generated to form the triplets that will enrich Representation LLMs. Three types of relations are considered:\n",
    "\n",
    "- **Noparents**: Concepts without hierarchical relations.\n",
    "- **Parents**: Directly related concepts (parents).\n",
    "- **Grandparents**: Two-level related concepts (grandparents).\n",
    "\n",
    "To avoid **imbalances** in the dataset, the **number of positive pairs per concept is limited**, ensuring a controlled proportion of examples for each type of relation. This balance is crucial to ensure that the model properly learns the different semantic hierarchies.\n"
   ]
  },
  {
   "cell_type": "code",
   "execution_count": 36,
   "metadata": {},
   "outputs": [],
   "source": [
    "noparents_dict = {}\n",
    "for cui, str_list in zip(grouped_conso_es_td_df['CUI'], grouped_conso_es_td_df['STR']):\n",
    "    terms = list(set([term for term in str_list if isinstance(term, str)]))\n",
    "    noparents_dict[cui] = [(term1, term2) for term1, term2 in itertools.combinations(terms, 2)]"
   ]
  },
  {
   "cell_type": "code",
   "execution_count": 37,
   "metadata": {},
   "outputs": [],
   "source": [
    "noparents_dict_nmax = {}\n",
    "for key, value in noparents_dict.items():\n",
    "    random.shuffle(value)\n",
    "    noparents_dict_nmax[key] = value[:MAX_NOPARENTS]"
   ]
  },
  {
   "cell_type": "code",
   "execution_count": 38,
   "metadata": {},
   "outputs": [
    {
     "name": "stderr",
     "output_type": "stream",
     "text": [
      "100%|██████████| 517580/517580 [00:00<00:00, 818904.76it/s]\n"
     ]
    },
    {
     "data": {
      "text/plain": [
       "1357991"
      ]
     },
     "execution_count": 38,
     "metadata": {},
     "output_type": "execute_result"
    }
   ],
   "source": [
    "pos_pairs = []\n",
    "for k,v in tqdm(noparents_dict_nmax.items()):\n",
    "    for p in v:\n",
    "        line = str(k) + \"||\" + p[0] + \"||\" + p[1]\n",
    "        pos_pairs.append(line)\n",
    "len(pos_pairs)"
   ]
  },
  {
   "cell_type": "code",
   "execution_count": null,
   "metadata": {},
   "outputs": [],
   "source": [
    "with open(f'../data/triplets/training_file_umls{UMLS_VERSION.lower()}_es_uncased_no_dup_pairwise_pair_th{MAX_NOPARENTS}_noparents.txt', 'w') as f:\n",
    "    for line in pos_pairs:\n",
    "        f.write(\"%s\\n\" % line)"
   ]
  },
  {
   "cell_type": "code",
   "execution_count": null,
   "metadata": {},
   "outputs": [],
   "source": [
    "def map_codes(codes):\n",
    "    return [item for sublist in [CUI_STR.get(code) for code in codes] if sublist for item in sublist]\n",
    " \n",
    "grouped_conso_es_td_df['STR_Parent'] = grouped_conso_es_td_df['PCUI'].map(map_codes)\n",
    "grouped_conso_es_td_df['STR_Granparent'] = grouped_conso_es_td_df['GPCUI'].map(map_codes)"
   ]
  },
  {
   "cell_type": "code",
   "execution_count": 46,
   "metadata": {},
   "outputs": [
    {
     "data": {
      "text/plain": [
       "(517580, 6)"
      ]
     },
     "execution_count": 46,
     "metadata": {},
     "output_type": "execute_result"
    }
   ],
   "source": [
    "grouped_conso_es_td_df.shape"
   ]
  },
  {
   "cell_type": "code",
   "execution_count": 47,
   "metadata": {},
   "outputs": [
    {
     "data": {
      "application/vnd.microsoft.datawrangler.viewer.v0+json": {
       "columns": [
        {
         "name": "index",
         "rawType": "int64",
         "type": "integer"
        },
        {
         "name": "CUI",
         "rawType": "object",
         "type": "string"
        },
        {
         "name": "STR",
         "rawType": "object",
         "type": "unknown"
        },
        {
         "name": "PCUI",
         "rawType": "object",
         "type": "unknown"
        },
        {
         "name": "GPCUI",
         "rawType": "object",
         "type": "unknown"
        },
        {
         "name": "STR_Parent",
         "rawType": "object",
         "type": "unknown"
        },
        {
         "name": "STR_Granparent",
         "rawType": "object",
         "type": "unknown"
        }
       ],
       "conversionMethod": "pd.DataFrame",
       "ref": "2f46232a-bb74-4837-a76c-8aab8432e82a",
       "rows": [
        [
         "0",
         "C0000039",
         "['1,2-dipalmitoilfosfatidilcolina', 'dipalmitoil-lecitina']",
         "['C0031676', 'C0311458', 'C1959616']",
         "['C0162448', 'C0311397', 'C0023779', 'C1979801']",
         "['fosfolípido', 'producto que contiene fosfolípido', 'fosfatidos', 'fosfolípido (sustancia)', 'producto que contiene fosfolípido (producto)', 'fosfolípido', 'fosfolípidos', 'producto con fosfolípido', 'fosfatidil colina', 'fosfogliceridos de colina', 'fosfatidilcolinas', 'fosfoglicérido de colina', 'fosfatidilcolina', 'fosfatidilcolina']",
         "['fosfoglicérido', 'glicerofosfolípidos', 'fosfogliceridos', 'glicerofosfolípido', 'lípido (sustancia)', 'lípido', 'lípidos', 'lípido']"
        ],
        [
         "1",
         "C0000052",
         "['enzima ramificadora 1,4-alfa-glucano (sustancia)', 'enzima ramificadora 1,4-alfa-glucano', 'enzima ramificadora', 'enzima ramificadora', 'amilo-(1,4,6)-transglucosilasa', 'enzima ramificadora de 1,4-alfa-glucano']",
         "['C0014442', 'C0443499', 'C0017772', 'C0019495', 'C0040676']",
         "['C0014442', 'C0443485', 'C0201682', 'C0019495', 'C0040676', 'C0541515', 'C1315011', 'C0033684']",
         "['sustancia con mecanismo de acción enzimática (sustancia)', 'sustancia con mecanismo de acción enzimática', 'enzima', 'enzimas', 'enzima', 'biocatalizador', 'marcador de un trastorno del metabolismo de los hidratos de carbono', 'marcador de un trastorno del metabolismo de los hidratos de carbono (sustancia)', 'glucosiltransferasas', 'glucosiltransferasa', 'hexosiltransferasa', 'hexosiltransferasa (sustancia)', 'hexosiltransferasas', 'transferasas', 'sustancia con mecanismo de acción de transferasa (sustancia)', 'sustancia con mecanismo de acción de transferasa', 'transferasa']",
         "['sustancia con mecanismo de acción enzimática (sustancia)', 'sustancia con mecanismo de acción enzimática', 'enzima', 'enzimas', 'enzima', 'biocatalizador', 'marcador de metabolopatías congénitas (sustancia)', 'marcador de metabolopatías congénitas', 'bioquímica neom', 'hexosiltransferasa', 'hexosiltransferasa (sustancia)', 'hexosiltransferasas', 'transferasas', 'sustancia con mecanismo de acción de transferasa (sustancia)', 'sustancia con mecanismo de acción de transferasa', 'transferasa', 'producto que contiene proteína', 'proteínas', 'proteína', 'proteína (sustancia)', 'producto que contiene proteína (producto)', 'proteína']"
        ],
        [
         "2",
         "C0000084",
         "['carboxiglutamato-gamma', 'ácido gamma-carboxiglutámico', 'ácido gamma carboxiglutámico', 'ácido carboxiglutámico-gamma', 'ácido gammacarboxiglutámico', 'ácido carboxiglutámico gamma', 'carboxiglutamato gamma', 'ácido 1-carboxiglutámico', 'gamma carboxiglutamato', 'gammacarboxiglutamato']",
         "['C0017789', 'C0040887']",
         "['C0815040', 'C0001129', 'C0002524']",
         "['glutamatos', 'ácido tricarboxílico', 'ácidos tricarboxílicos']",
         "['aminoácidos acídicos', 'aminoácidos ácidos', 'ácidos acíclicos', 'aminoácido dicarboxílico (sustancia)', 'aminoácido dicarboxílico', 'aminoácidos dicarboxílicos']"
        ],
        [
         "3",
         "C0000096",
         "['3-isobutil-1-metilxantina', 'isobutilteofilina', '1-metil-3-isobutilxantina']",
         "['C0039771']",
         "['C0043318']",
         "['somophyllin-t', 'uniphyl', 'theobid duracap', 't-phyl', 'slo-phyllin', 'respbid', 'teofilina', 'producto que contiene teofilina (producto medicinal)', 'theochron', 'slo-bid', 'producto con teofilina', 'labid', 'elixophyllin', 'somophyllin-crt', 'teofilina (sustancia)', 'theo-24', 'constant-t', 'producto que contiene teofilina', 'teofilina']",
         "['xantinas']"
        ],
        [
         "4",
         "C0000097",
         "['metilfeniltetrahidropiridina (sustancia)', '1-metil-4-fenil-1,2,3,6-tetrahidropiridina', 'mptp', 'metilfeniltetrahidropiridina']",
         "['C0034255', 'C0242702', 'C0027934', 'C0576798']",
         "['C0019398', 'C0019399', 'C0032346', 'C0040549', 'C0597072', 'C0596280', 'C0576728']",
         "['piridinas', 'antagonista de receptor de dopamina', 'antagonista del receptor de dopamina', 'producto que contiene antagonista del receptor de dopamina', 'antagonistas de dopamina', 'producto que contiene antagonista del receptor de dopamina (producto)', 'sustancia con mecanismo de acción de antagonista de receptor de dopamina (sustancia)', 'antagonista de dopamina', 'sustancia con mecanismo de acción de antagonista de receptor de dopamina', 'antagonista dopaminérgico', 'antagonistas dopaminérgicos', 'producto con antagonista del receptor de dopamina', 'antagonistas de los receptores de dopamina', 'bloqueador de dopamina', 'neurotoxinas', 'neurotoxina', 'piridina y/o derivado de la piridina', 'piridina y/o derivado de la piridina (sustancia)']",
         "['compuesto heterocíclico', 'compuestos heterocíclicos', 'compuesto heterocíclico', 'compuesto heterocíclico (sustancia)', 'compuestos heterocíclicos con 1 anillo', 'compuestos heterocíclicos de 1 anillo', 'compuestos heterocíclicos con un anillo', 'venenos', 'sustancia tóxica (sustancia)', 'veneno', 'sustancia tóxica', 'toxina (sustancia)', 'toxina', 'toxinas biológicas', 'compuesto de nitrógeno orgánico (sustancia)', 'compuesto de nitrógeno orgánico']"
        ]
       ],
       "shape": {
        "columns": 6,
        "rows": 5
       }
      },
      "text/html": [
       "<div>\n",
       "<style scoped>\n",
       "    .dataframe tbody tr th:only-of-type {\n",
       "        vertical-align: middle;\n",
       "    }\n",
       "\n",
       "    .dataframe tbody tr th {\n",
       "        vertical-align: top;\n",
       "    }\n",
       "\n",
       "    .dataframe thead th {\n",
       "        text-align: right;\n",
       "    }\n",
       "</style>\n",
       "<table border=\"1\" class=\"dataframe\">\n",
       "  <thead>\n",
       "    <tr style=\"text-align: right;\">\n",
       "      <th></th>\n",
       "      <th>CUI</th>\n",
       "      <th>STR</th>\n",
       "      <th>PCUI</th>\n",
       "      <th>GPCUI</th>\n",
       "      <th>STR_Parent</th>\n",
       "      <th>STR_Granparent</th>\n",
       "    </tr>\n",
       "  </thead>\n",
       "  <tbody>\n",
       "    <tr>\n",
       "      <th>0</th>\n",
       "      <td>C0000039</td>\n",
       "      <td>[1,2-dipalmitoilfosfatidilcolina, dipalmitoil-...</td>\n",
       "      <td>[C0031676, C0311458, C1959616]</td>\n",
       "      <td>[C0162448, C0311397, C0023779, C1979801]</td>\n",
       "      <td>[fosfolípido, producto que contiene fosfolípid...</td>\n",
       "      <td>[fosfoglicérido, glicerofosfolípidos, fosfogli...</td>\n",
       "    </tr>\n",
       "    <tr>\n",
       "      <th>1</th>\n",
       "      <td>C0000052</td>\n",
       "      <td>[enzima ramificadora 1,4-alfa-glucano (sustanc...</td>\n",
       "      <td>[C0014442, C0443499, C0017772, C0019495, C0040...</td>\n",
       "      <td>[C0014442, C0443485, C0201682, C0019495, C0040...</td>\n",
       "      <td>[sustancia con mecanismo de acción enzimática ...</td>\n",
       "      <td>[sustancia con mecanismo de acción enzimática ...</td>\n",
       "    </tr>\n",
       "    <tr>\n",
       "      <th>2</th>\n",
       "      <td>C0000084</td>\n",
       "      <td>[carboxiglutamato-gamma, ácido gamma-carboxigl...</td>\n",
       "      <td>[C0017789, C0040887]</td>\n",
       "      <td>[C0815040, C0001129, C0002524]</td>\n",
       "      <td>[glutamatos, ácido tricarboxílico, ácidos tric...</td>\n",
       "      <td>[aminoácidos acídicos, aminoácidos ácidos, áci...</td>\n",
       "    </tr>\n",
       "    <tr>\n",
       "      <th>3</th>\n",
       "      <td>C0000096</td>\n",
       "      <td>[3-isobutil-1-metilxantina, isobutilteofilina,...</td>\n",
       "      <td>[C0039771]</td>\n",
       "      <td>[C0043318]</td>\n",
       "      <td>[somophyllin-t, uniphyl, theobid duracap, t-ph...</td>\n",
       "      <td>[xantinas]</td>\n",
       "    </tr>\n",
       "    <tr>\n",
       "      <th>4</th>\n",
       "      <td>C0000097</td>\n",
       "      <td>[metilfeniltetrahidropiridina (sustancia), 1-m...</td>\n",
       "      <td>[C0034255, C0242702, C0027934, C0576798]</td>\n",
       "      <td>[C0019398, C0019399, C0032346, C0040549, C0597...</td>\n",
       "      <td>[piridinas, antagonista de receptor de dopamin...</td>\n",
       "      <td>[compuesto heterocíclico, compuestos heterocíc...</td>\n",
       "    </tr>\n",
       "  </tbody>\n",
       "</table>\n",
       "</div>"
      ],
      "text/plain": [
       "        CUI                                                STR  \\\n",
       "0  C0000039  [1,2-dipalmitoilfosfatidilcolina, dipalmitoil-...   \n",
       "1  C0000052  [enzima ramificadora 1,4-alfa-glucano (sustanc...   \n",
       "2  C0000084  [carboxiglutamato-gamma, ácido gamma-carboxigl...   \n",
       "3  C0000096  [3-isobutil-1-metilxantina, isobutilteofilina,...   \n",
       "4  C0000097  [metilfeniltetrahidropiridina (sustancia), 1-m...   \n",
       "\n",
       "                                                PCUI  \\\n",
       "0                     [C0031676, C0311458, C1959616]   \n",
       "1  [C0014442, C0443499, C0017772, C0019495, C0040...   \n",
       "2                               [C0017789, C0040887]   \n",
       "3                                         [C0039771]   \n",
       "4           [C0034255, C0242702, C0027934, C0576798]   \n",
       "\n",
       "                                               GPCUI  \\\n",
       "0           [C0162448, C0311397, C0023779, C1979801]   \n",
       "1  [C0014442, C0443485, C0201682, C0019495, C0040...   \n",
       "2                     [C0815040, C0001129, C0002524]   \n",
       "3                                         [C0043318]   \n",
       "4  [C0019398, C0019399, C0032346, C0040549, C0597...   \n",
       "\n",
       "                                          STR_Parent  \\\n",
       "0  [fosfolípido, producto que contiene fosfolípid...   \n",
       "1  [sustancia con mecanismo de acción enzimática ...   \n",
       "2  [glutamatos, ácido tricarboxílico, ácidos tric...   \n",
       "3  [somophyllin-t, uniphyl, theobid duracap, t-ph...   \n",
       "4  [piridinas, antagonista de receptor de dopamin...   \n",
       "\n",
       "                                      STR_Granparent  \n",
       "0  [fosfoglicérido, glicerofosfolípidos, fosfogli...  \n",
       "1  [sustancia con mecanismo de acción enzimática ...  \n",
       "2  [aminoácidos acídicos, aminoácidos ácidos, áci...  \n",
       "3                                         [xantinas]  \n",
       "4  [compuesto heterocíclico, compuestos heterocíc...  "
      ]
     },
     "execution_count": 47,
     "metadata": {},
     "output_type": "execute_result"
    }
   ],
   "source": [
    "grouped_conso_es_td_df.head()"
   ]
  },
  {
   "cell_type": "code",
   "execution_count": 48,
   "metadata": {},
   "outputs": [
    {
     "name": "stdout",
     "output_type": "stream",
     "text": [
      "CPU times: user 13.7 s, sys: 75.4 ms, total: 13.8 s\n",
      "Wall time: 13.8 s\n"
     ]
    }
   ],
   "source": [
    "%%time\n",
    "parents_dict = {}\n",
    "for cui, str_list, str_parlist in zip(grouped_conso_es_td_df['CUI'], grouped_conso_es_td_df['STR'], grouped_conso_es_td_df['STR_Parent']):\n",
    "    terms = list(set([term for term in str_list if isinstance(term, str)] + str_parlist))\n",
    "    parents_dict[cui] = [(term1, term2) for term1, term2 in itertools.combinations(terms, 2)]\n",
    "parents_dict_nmax = {}\n",
    "for key, value in parents_dict.items():\n",
    "    random.shuffle(value)\n",
    "    parents_dict_nmax[key] = value[:MAX_PARENTS]"
   ]
  },
  {
   "cell_type": "code",
   "execution_count": 49,
   "metadata": {},
   "outputs": [
    {
     "name": "stderr",
     "output_type": "stream",
     "text": [
      "100%|██████████| 517580/517580 [00:02<00:00, 235220.40it/s]\n"
     ]
    },
    {
     "data": {
      "text/plain": [
       "5350647"
      ]
     },
     "execution_count": 49,
     "metadata": {},
     "output_type": "execute_result"
    }
   ],
   "source": [
    "pos_pairs_pcui = []\n",
    "for k,v in tqdm(parents_dict_nmax.items()):\n",
    "    for p in v:\n",
    "        line = str(k) + \"||\" + p[0] + \"||\" + p[1]\n",
    "        pos_pairs_pcui.append(line)\n",
    "len(pos_pairs_pcui)"
   ]
  },
  {
   "cell_type": "code",
   "execution_count": 50,
   "metadata": {},
   "outputs": [],
   "source": [
    "with open(f'../data/triplets/training_file_umls{UMLS_VERSION.lower()}_es_cased_no_dup_pairwise_pair_th{MAX_PARENTS}_parents.txt', 'w') as f:\n",
    "    for line in pos_pairs_pcui:\n",
    "        f.write(\"%s\\n\" % line)"
   ]
  },
  {
   "cell_type": "code",
   "execution_count": 51,
   "metadata": {},
   "outputs": [
    {
     "name": "stdout",
     "output_type": "stream",
     "text": [
      "CPU times: user 1min 2s, sys: 302 ms, total: 1min 2s\n",
      "Wall time: 1min 2s\n"
     ]
    }
   ],
   "source": [
    "%%time\n",
    "grandparents_dict = {}\n",
    "for cui, str_list, str_parlist, str_granparent in zip(grouped_conso_es_td_df['CUI'], grouped_conso_es_td_df['STR'], grouped_conso_es_td_df['STR_Parent'], grouped_conso_es_td_df['STR_Granparent']):\n",
    "    terms = list(set([term for term in str_list if isinstance(term, str)] + str_parlist + str_granparent))\n",
    "    grandparents_dict[cui] = [(term1, term2) for term1, term2 in itertools.combinations(terms, 2)]\n",
    "\n",
    "grandparents_dict_nmax = {}\n",
    "for key, value in grandparents_dict.items():\n",
    "    random.shuffle(value)\n",
    "    grandparents_dict_nmax[key] = value[:MAX_GRAND_PARENTS]"
   ]
  },
  {
   "cell_type": "code",
   "execution_count": 52,
   "metadata": {},
   "outputs": [
    {
     "name": "stderr",
     "output_type": "stream",
     "text": [
      "100%|██████████| 517580/517580 [00:06<00:00, 80992.48it/s] \n"
     ]
    }
   ],
   "source": [
    "pos_pairs_gpcui = []\n",
    "for k,v in tqdm(grandparents_dict_nmax.items()):\n",
    "    for p in v:\n",
    "        line = str(k) + \"||\" + p[0] + \"||\" + p[1]\n",
    "        pos_pairs_gpcui.append(line)"
   ]
  },
  {
   "cell_type": "code",
   "execution_count": 53,
   "metadata": {},
   "outputs": [],
   "source": [
    "with open(f'../data/triplets/training_file_umls{UMLS_VERSION.lower()}_es_uncased_no_dup_pairwise_pair_th{MAX_GRAND_PARENTS}_grandparents.txt', 'w') as f:\n",
    "    for line in pos_pairs_gpcui:\n",
    "        f.write(\"%s\\n\" % line)"
   ]
  }
 ],
 "metadata": {
  "kernelspec": {
   "display_name": "venv",
   "language": "python",
   "name": "python3"
  },
  "language_info": {
   "codemirror_mode": {
    "name": "ipython",
    "version": 3
   },
   "file_extension": ".py",
   "mimetype": "text/x-python",
   "name": "python",
   "nbconvert_exporter": "python",
   "pygments_lexer": "ipython3",
   "version": "3.10.9"
  }
 },
 "nbformat": 4,
 "nbformat_minor": 2
}
