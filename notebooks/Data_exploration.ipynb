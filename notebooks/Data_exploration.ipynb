{
 "cells": [
  {
   "cell_type": "markdown",
   "metadata": {},
   "source": [
    "Import required libraries and define constants:\n",
    "- `CORPORA`: List of corpora (`DisTEMIST`, `MedProcNER`, `SympTEMIST`).\n",
    "- `DATA_PATH` and `OUTPUT_PATH`: Paths for input and output data."
   ]
  },
  {
   "cell_type": "code",
   "execution_count": 1,
   "metadata": {},
   "outputs": [
    {
     "name": "stderr",
     "output_type": "stream",
     "text": [
      "/home/fernandogd/Documents/Investigacion/Transformers/Repositories/ClinLinker-KB/venv/lib/python3.10/site-packages/tqdm/auto.py:21: TqdmWarning: IProgress not found. Please update jupyter and ipywidgets. See https://ipywidgets.readthedocs.io/en/stable/user_install.html\n",
      "  from .autonotebook import tqdm as notebook_tqdm\n"
     ]
    }
   ],
   "source": [
    "import os\n",
    "import sys\n",
    "import pandas as pd\n",
    "\n",
    "sys.path.append(os.path.join(os.getcwd(), '../src'))\n",
    "from utils import load_corpus_data"
   ]
  },
  {
   "cell_type": "code",
   "execution_count": 2,
   "metadata": {},
   "outputs": [],
   "source": [
    "CORPORA = [\"DisTEMIST\", \"MedProcNER\", \"SympTEMIST\"]\n",
    "DATA_PATH = \"/scratch/data/\"\n",
    "OUTPUT_PATH = \"../data/\""
   ]
  },
  {
   "cell_type": "markdown",
   "metadata": {},
   "source": [
    "For each corpus:\n",
    "1. Load test, train, and gazetteer datasets.\n",
    "2. Identify unseen mentions (UM) and unseen codes (UC).\n",
    "3. Filter out composite codes (`+`) and `NO_CODE`.\n",
    "4. Save filtered subsets (`df_um.tsv` and `df_uc.tsv`) to the output directory."
   ]
  },
  {
   "cell_type": "code",
   "execution_count": 3,
   "metadata": {},
   "outputs": [
    {
     "name": "stdout",
     "output_type": "stream",
     "text": [
      "CORPUS: DisTEMIST\n",
      "Train + Gaz: 149305\n",
      "Gold standard:  2598\n",
      "Cleaned: 2507\n",
      "Unseen mentions (filtered): 1375\n",
      "Unseen codes (filtered): 1115\n",
      "==================================================\n",
      "CORPUS: MedProcNER\n",
      "Train + Gaz: 237565\n",
      "Gold standard:  3618\n",
      "Cleaned: 3512\n",
      "Unseen mentions (filtered): 1730\n",
      "Unseen codes (filtered): 878\n",
      "==================================================\n",
      "CORPUS: SympTEMIST\n",
      "Train + Gaz: 169814\n",
      "Gold standard:  2848\n",
      "Cleaned: 2741\n",
      "Unseen mentions (filtered): 1573\n",
      "Unseen codes (filtered): 763\n",
      "==================================================\n"
     ]
    }
   ],
   "source": [
    "for corpus in CORPORA:\n",
    "    test_df, train_df, gaz_df = load_corpus_data(DATA_PATH, corpus)\n",
    "    train_gaz_df = pd.concat([train_df[[\"term\", \"code\"]], gaz_df[[\"term\",\"code\"]]], ignore_index=True)\n",
    "    clean_df = test_df[\n",
    "        test_df['code'].notna() & \n",
    "        (test_df['code'] != \"NO_CODE\") & \n",
    "        (~test_df['code'].str.contains(\"\\+\", na=False))\n",
    "    ]\n",
    "    train_gaz_df.drop_duplicates(inplace=True)\n",
    "    aux_path = os.path.join(OUTPUT_PATH, corpus)\n",
    "    os.makedirs(aux_path, exist_ok=True)\n",
    "    \n",
    "    df_um = test_df[~test_df['term'].isin(train_df['term']) & ~test_df['term'].isin(gaz_df['term'])]\n",
    "    df_uc = test_df[~test_df['code'].isin(train_df['code'])]\n",
    "    df_um_filtered = df_um[~df_um['code'].str.contains(r'\\+|NO_CODE', na=False)]\n",
    "    df_uc_filtered = df_uc[~df_uc['code'].str.contains(r'\\+|NO_CODE', na=False)]\n",
    "    \n",
    "    df_um_filtered.to_csv(os.path.join(aux_path, \"df_um.tsv\"), sep=\"\\t\", index=False)\n",
    "    df_uc_filtered.to_csv(os.path.join(aux_path, \"df_uc.tsv\"), sep=\"\\t\", index=False)\n",
    "\n",
    "    print(f\"CORPUS: {corpus}\")\n",
    "    print(f\"Train + Gaz: {train_gaz_df.shape[0]}\")\n",
    "    print(f\"Gold standard:  {test_df.shape[0]}\")\n",
    "    print(f\"Cleaned: {clean_df.shape[0]}\")\n",
    "    print(f\"Unseen mentions (filtered): {df_um_filtered.shape[0]}\")\n",
    "    print(f\"Unseen codes (filtered): {df_uc_filtered.shape[0]}\")\n",
    "    print(\"=\"*50)\n"
   ]
  }
 ],
 "metadata": {
  "kernelspec": {
   "display_name": "venv",
   "language": "python",
   "name": "python3"
  },
  "language_info": {
   "codemirror_mode": {
    "name": "ipython",
    "version": 3
   },
   "file_extension": ".py",
   "mimetype": "text/x-python",
   "name": "python",
   "nbconvert_exporter": "python",
   "pygments_lexer": "ipython3",
   "version": "3.10.16"
  }
 },
 "nbformat": 4,
 "nbformat_minor": 2
}
